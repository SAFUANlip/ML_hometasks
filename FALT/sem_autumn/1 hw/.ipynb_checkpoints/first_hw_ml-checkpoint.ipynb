{
 "cells": [
  {
   "cell_type": "markdown",
   "metadata": {
    "id": "AGf_xvZiT0Ww"
   },
   "source": [
    "# Домашнее задание № 1\n",
    "\n",
    "Вам необходимо провести анализ и подготовить данные."
   ]
  },
  {
   "cell_type": "markdown",
   "metadata": {
    "_cell_guid": "d2034be1-8579-d4b9-9b18-b7bf2c6fc651",
    "id": "rWc3WRD0TtVq"
   },
   "source": [
    "# Исходные данные\n",
    "\n",
    "Ознакомьтесь с данными в [источнике](https://www.kaggle.com/uciml/student-alcohol-consumption?select=student-por.csv):\n",
    "\n",
    "Если вкратце, то у вас есть 29 параметров и одна целевая переменная G3."
   ]
  },
  {
   "cell_type": "code",
   "execution_count": 1,
   "metadata": {
    "_cell_guid": "87372d85-e9ac-b3b3-c25d-33dfb357ccd8",
    "id": "pQ5OrqpATtVl"
   },
   "outputs": [],
   "source": [
    "import pandas as pd\n",
    "import numpy as np\n",
    "\n",
    "import scipy.stats as st\n",
    "\n",
    "import seaborn as sns\n",
    "import matplotlib.pyplot as plt"
   ]
  },
  {
   "cell_type": "code",
   "execution_count": 2,
   "metadata": {
    "id": "cE9FdACVcBHd"
   },
   "outputs": [],
   "source": [
    "# Читаем данные\n",
    "\n",
    "X_initial = pd.read_csv('train_features_with_answers.csv')"
   ]
  },
  {
   "cell_type": "code",
   "execution_count": 3,
   "metadata": {
    "id": "i1j9Yn9Jhz-S"
   },
   "outputs": [
    {
     "data": {
      "text/html": [
       "<div>\n",
       "<style scoped>\n",
       "    .dataframe tbody tr th:only-of-type {\n",
       "        vertical-align: middle;\n",
       "    }\n",
       "\n",
       "    .dataframe tbody tr th {\n",
       "        vertical-align: top;\n",
       "    }\n",
       "\n",
       "    .dataframe thead th {\n",
       "        text-align: right;\n",
       "    }\n",
       "</style>\n",
       "<table border=\"1\" class=\"dataframe\">\n",
       "  <thead>\n",
       "    <tr style=\"text-align: right;\">\n",
       "      <th></th>\n",
       "      <th>school</th>\n",
       "      <th>sex</th>\n",
       "      <th>age</th>\n",
       "      <th>address</th>\n",
       "      <th>famsize</th>\n",
       "      <th>Pstatus</th>\n",
       "      <th>Medu</th>\n",
       "      <th>Fedu</th>\n",
       "      <th>Mjob</th>\n",
       "      <th>Fjob</th>\n",
       "      <th>...</th>\n",
       "      <th>internet</th>\n",
       "      <th>romantic</th>\n",
       "      <th>famrel</th>\n",
       "      <th>freetime</th>\n",
       "      <th>goout</th>\n",
       "      <th>Dalc</th>\n",
       "      <th>Walc</th>\n",
       "      <th>health</th>\n",
       "      <th>absences</th>\n",
       "      <th>G3</th>\n",
       "    </tr>\n",
       "  </thead>\n",
       "  <tbody>\n",
       "    <tr>\n",
       "      <th>0</th>\n",
       "      <td>MS</td>\n",
       "      <td>M</td>\n",
       "      <td>NaN</td>\n",
       "      <td>U</td>\n",
       "      <td>LE3</td>\n",
       "      <td>T</td>\n",
       "      <td>1</td>\n",
       "      <td>3</td>\n",
       "      <td>at_home</td>\n",
       "      <td>services</td>\n",
       "      <td>...</td>\n",
       "      <td>yes</td>\n",
       "      <td>yes</td>\n",
       "      <td>4</td>\n",
       "      <td>3</td>\n",
       "      <td>3</td>\n",
       "      <td>2</td>\n",
       "      <td>3</td>\n",
       "      <td>3</td>\n",
       "      <td>0</td>\n",
       "      <td>9</td>\n",
       "    </tr>\n",
       "    <tr>\n",
       "      <th>1</th>\n",
       "      <td>GP</td>\n",
       "      <td>M</td>\n",
       "      <td>NaN</td>\n",
       "      <td>R</td>\n",
       "      <td>LE3</td>\n",
       "      <td>T</td>\n",
       "      <td>3</td>\n",
       "      <td>3</td>\n",
       "      <td>teacher</td>\n",
       "      <td>other</td>\n",
       "      <td>...</td>\n",
       "      <td>yes</td>\n",
       "      <td>no</td>\n",
       "      <td>3</td>\n",
       "      <td>3</td>\n",
       "      <td>4</td>\n",
       "      <td>3</td>\n",
       "      <td>5</td>\n",
       "      <td>3</td>\n",
       "      <td>16</td>\n",
       "      <td>12</td>\n",
       "    </tr>\n",
       "    <tr>\n",
       "      <th>2</th>\n",
       "      <td>GP</td>\n",
       "      <td>M</td>\n",
       "      <td>15.0</td>\n",
       "      <td>NaN</td>\n",
       "      <td>GT3</td>\n",
       "      <td>T</td>\n",
       "      <td>3</td>\n",
       "      <td>4</td>\n",
       "      <td>other</td>\n",
       "      <td>other</td>\n",
       "      <td>...</td>\n",
       "      <td>yes</td>\n",
       "      <td>no</td>\n",
       "      <td>5</td>\n",
       "      <td>5</td>\n",
       "      <td>1</td>\n",
       "      <td>1</td>\n",
       "      <td>1</td>\n",
       "      <td>5</td>\n",
       "      <td>0</td>\n",
       "      <td>13</td>\n",
       "    </tr>\n",
       "    <tr>\n",
       "      <th>3</th>\n",
       "      <td>MS</td>\n",
       "      <td>M</td>\n",
       "      <td>17.0</td>\n",
       "      <td>R</td>\n",
       "      <td>GT3</td>\n",
       "      <td>T</td>\n",
       "      <td>4</td>\n",
       "      <td>3</td>\n",
       "      <td>services</td>\n",
       "      <td>other</td>\n",
       "      <td>...</td>\n",
       "      <td>yes</td>\n",
       "      <td>yes</td>\n",
       "      <td>4</td>\n",
       "      <td>5</td>\n",
       "      <td>5</td>\n",
       "      <td>1</td>\n",
       "      <td>3</td>\n",
       "      <td>2</td>\n",
       "      <td>4</td>\n",
       "      <td>11</td>\n",
       "    </tr>\n",
       "    <tr>\n",
       "      <th>4</th>\n",
       "      <td>GP</td>\n",
       "      <td>F</td>\n",
       "      <td>20.0</td>\n",
       "      <td>R</td>\n",
       "      <td>GT3</td>\n",
       "      <td>T</td>\n",
       "      <td>2</td>\n",
       "      <td>1</td>\n",
       "      <td>other</td>\n",
       "      <td>other</td>\n",
       "      <td>...</td>\n",
       "      <td>yes</td>\n",
       "      <td>yes</td>\n",
       "      <td>1</td>\n",
       "      <td>2</td>\n",
       "      <td>3</td>\n",
       "      <td>1</td>\n",
       "      <td>2</td>\n",
       "      <td>2</td>\n",
       "      <td>8</td>\n",
       "      <td>12</td>\n",
       "    </tr>\n",
       "  </tbody>\n",
       "</table>\n",
       "<p>5 rows × 31 columns</p>\n",
       "</div>"
      ],
      "text/plain": [
       "  school sex   age address famsize Pstatus  Medu  Fedu      Mjob      Fjob  \\\n",
       "0     MS   M   NaN       U     LE3       T     1     3   at_home  services   \n",
       "1     GP   M   NaN       R     LE3       T     3     3   teacher     other   \n",
       "2     GP   M  15.0     NaN     GT3       T     3     4     other     other   \n",
       "3     MS   M  17.0       R     GT3       T     4     3  services     other   \n",
       "4     GP   F  20.0       R     GT3       T     2     1     other     other   \n",
       "\n",
       "   ... internet romantic  famrel  freetime  goout Dalc Walc health absences  \\\n",
       "0  ...      yes      yes       4         3      3    2    3      3        0   \n",
       "1  ...      yes       no       3         3      4    3    5      3       16   \n",
       "2  ...      yes       no       5         5      1    1    1      5        0   \n",
       "3  ...      yes      yes       4         5      5    1    3      2        4   \n",
       "4  ...      yes      yes       1         2      3    1    2      2        8   \n",
       "\n",
       "   G3  \n",
       "0   9  \n",
       "1  12  \n",
       "2  13  \n",
       "3  11  \n",
       "4  12  \n",
       "\n",
       "[5 rows x 31 columns]"
      ]
     },
     "execution_count": 3,
     "metadata": {},
     "output_type": "execute_result"
    }
   ],
   "source": [
    "# Про характеристики прочитайте в источнике\n",
    "\n",
    "X_initial.head(5)"
   ]
  },
  {
   "cell_type": "markdown",
   "metadata": {
    "_cell_guid": "daf6f291-b7aa-d184-39f8-6278cc04f0ee",
    "id": "fxkflheLTtVv"
   },
   "source": [
    "# Часть 1. Визуальный анализ данных (Exploratory Data Analysis)\n",
    "\n",
    "Перед тем, как приступать к построению алгоритмов, необходимо понять данные, с которыми требуется работать. Для этого в подходах к построению алгоритмов машинного обучения выделят специальный этап - Разведочный анализ данных или Exploratory Data Analysis (EDA). EDA в себя включает все те, что касается описания данных: визуализацию, интерпретацию и анализ. \n",
    "\n",
    "Прежде всего сделаем визуализацию данных для того, чтобы оценить диапазоны значений и виды их распределений.\n",
    "\n",
    "Постройте для приведенных ниже характеристик следующие виды графиков:\n",
    "- Гистограммы;\n",
    "- Круговые диаграмм;\n",
    "- Графики;\n",
    "- Таблицы;\n",
    "- 3D диаграммы.\n",
    "\n",
    "Выберите наиболее подходящий тип графика для каждой характеристки. \n",
    "\n",
    "__Основной критерий оценивания__ - читаемость и интерпретируемость данных."
   ]
  },
  {
   "cell_type": "markdown",
   "metadata": {
    "id": "FA0btFcmmpAG"
   },
   "source": [
    "## Характеристика: \"Sex\""
   ]
  },
  {
   "cell_type": "code",
   "execution_count": 4,
   "metadata": {
    "_cell_guid": "74f8d40e-415f-9e29-03ca-aa1e75714c11",
    "id": "QElGbkh1TtVw"
   },
   "outputs": [
    {
     "data": {
      "text/plain": [
       "(array([189.,   0., 257.,   0.,   5.,   0.,   1.,   0.,   1.,   1.]),\n",
       " array([0. , 0.5, 1. , 1.5, 2. , 2.5, 3. , 3.5, 4. , 4.5, 5. ]),\n",
       " <BarContainer object of 10 artists>)"
      ]
     },
     "execution_count": 4,
     "metadata": {},
     "output_type": "execute_result"
    },
    {
     "data": {
      "image/png": "[encoded data removed]",
      "text/plain": [
       "<Figure size 640x480 with 1 Axes>"
      ]
     },
     "metadata": {},
     "output_type": "display_data"
    }
   ],
   "source": [
    "df = X_initial.copy()\n",
    "plt.hist(df['sex'])"
   ]
  },
  {
   "cell_type": "markdown",
   "metadata": {
    "_cell_guid": "fe453992-94f6-ae3b-b1fd-63027e71729f",
    "id": "eOkuFjVRTtVy"
   },
   "source": [
    "## Характеристика: \"Age\""
   ]
  },
  {
   "cell_type": "code",
   "execution_count": 5,
   "metadata": {
    "_cell_guid": "1051bfb6-f29e-0c40-1666-c97827578ad3",
    "id": "i9a_yujdTtVy"
   },
   "outputs": [
    {
     "data": {
      "text/plain": [
       "<AxesSubplot: xlabel='age'>"
      ]
     },
     "execution_count": 5,
     "metadata": {},
     "output_type": "execute_result"
    },
    {
     "data": {
      "image/png": "[encoded data removed]",
      "text/plain": [
       "<Figure size 640x480 with 1 Axes>"
      ]
     },
     "metadata": {},
     "output_type": "display_data"
    }
   ],
   "source": [
    "df = X_initial.copy()\n",
    "df['num'] = 1\n",
    "df = pd.pivot_table(df, index='age',  aggfunc='count')\n",
    "df.plot(y = 'num')"
   ]
  },
  {
   "cell_type": "markdown",
   "metadata": {
    "_cell_guid": "7febeef3-e6b0-a18a-5705-7ee3876c1965",
    "id": "vgfL_e8lTtV0"
   },
   "source": [
    "## Характеристика: \"Weekly study time\""
   ]
  },
  {
   "cell_type": "code",
   "execution_count": 6,
   "metadata": {
    "_cell_guid": "12f1d266-9efa-4bd9-a3c1-48ea880080be",
    "id": "e3UTlpoMTtV1"
   },
   "outputs": [
    {
     "data": {
      "text/plain": [
       "array([1, 2, 3, 4], dtype=int64)"
      ]
     },
     "execution_count": 6,
     "metadata": {},
     "output_type": "execute_result"
    }
   ],
   "source": [
    "df = X_initial.copy()\n",
    "df['studytime'].unique()"
   ]
  },
  {
   "cell_type": "code",
   "execution_count": 7,
   "metadata": {},
   "outputs": [],
   "source": [
    "def get_study_time(category):\n",
    "    return {\n",
    "         category == 1:  '<2 hours',\n",
    "         category == 2:  '2 - 2 to 5 hours',\n",
    "         category == 3:  '3 - 5 to 10 hours',\n",
    "         category == 4:  '4 - >10 hours',\n",
    "    }[True]"
   ]
  },
  {
   "cell_type": "code",
   "execution_count": 8,
   "metadata": {},
   "outputs": [
    {
     "data": {
      "text/plain": [
       "<AxesSubplot: ylabel='weekly study hours'>"
      ]
     },
     "execution_count": 8,
     "metadata": {},
     "output_type": "execute_result"
    },
    {
     "data": {
      "image/png": "[encoded data removed]",
      "text/plain": [
       "<Figure size 640x480 with 1 Axes>"
      ]
     },
     "metadata": {},
     "output_type": "display_data"
    }
   ],
   "source": [
    "df['weekly study hours'] = df['studytime'].fillna(0).apply(lambda x: get_study_time(x))\n",
    "df['weekly study hours'].value_counts().plot.pie()"
   ]
  },
  {
   "cell_type": "markdown",
   "metadata": {
    "_cell_guid": "a0732dfe-165e-3c44-319c-bb7bf890fe9b",
    "id": "QmcAzPipTtV3"
   },
   "source": [
    "## Характеристика: \"Romantic Relationship\""
   ]
  },
  {
   "cell_type": "code",
   "execution_count": 9,
   "metadata": {
    "_cell_guid": "048c1de0-e55c-6e2f-09db-1263e9fbac76",
    "id": "yICND3ynTtV3"
   },
   "outputs": [
    {
     "data": {
      "text/plain": [
       "(array([165.,   0.,   0.,   0.,   0.,   0.,   0.,   0.,   0., 289.]),\n",
       " array([0. , 0.1, 0.2, 0.3, 0.4, 0.5, 0.6, 0.7, 0.8, 0.9, 1. ]),\n",
       " <BarContainer object of 10 artists>)"
      ]
     },
     "execution_count": 9,
     "metadata": {},
     "output_type": "execute_result"
    },
    {
     "data": {
      "image/png": "[encoded data removed]",
      "text/plain": [
       "<Figure size 640x480 with 1 Axes>"
      ]
     },
     "metadata": {},
     "output_type": "display_data"
    }
   ],
   "source": [
    "df = X_initial.copy()\n",
    "plt.hist(df['romantic'])"
   ]
  },
  {
   "cell_type": "markdown",
   "metadata": {
    "_cell_guid": "21ae96ef-7925-4a81-1f1d-54d4ed018ec3",
    "id": "cJTillXMTtV5"
   },
   "source": [
    "## Характеристика: \"Alcohol Consumption\""
   ]
  },
  {
   "cell_type": "code",
   "execution_count": 10,
   "metadata": {
    "id": "e4KynL-GnIrc"
   },
   "outputs": [],
   "source": [
    "df = X_initial.copy()"
   ]
  },
  {
   "cell_type": "code",
   "execution_count": 11,
   "metadata": {},
   "outputs": [
    {
     "data": {
      "text/plain": [
       "array([[<AxesSubplot: title={'center': 'Dalc'}>]], dtype=object)"
      ]
     },
     "execution_count": 11,
     "metadata": {},
     "output_type": "execute_result"
    },
    {
     "data": {
      "image/png": "[encoded data removed]",
      "text/plain": [
       "<Figure size 640x480 with 1 Axes>"
      ]
     },
     "metadata": {},
     "output_type": "display_data"
    }
   ],
   "source": [
    "df.hist(column='Dalc')"
   ]
  },
  {
   "cell_type": "code",
   "execution_count": 12,
   "metadata": {},
   "outputs": [
    {
     "data": {
      "text/plain": [
       "array([[<AxesSubplot: title={'center': 'Walc'}>]], dtype=object)"
      ]
     },
     "execution_count": 12,
     "metadata": {},
     "output_type": "execute_result"
    },
    {
     "data": {
      "image/png": "[encoded data removed]",
      "text/plain": [
       "<Figure size 640x480 with 1 Axes>"
      ]
     },
     "metadata": {},
     "output_type": "display_data"
    }
   ],
   "source": [
    "df.hist(column='Walc')"
   ]
  },
  {
   "cell_type": "markdown",
   "metadata": {},
   "source": [
    "## prettier"
   ]
  },
  {
   "cell_type": "code",
   "execution_count": 13,
   "metadata": {},
   "outputs": [],
   "source": [
    "df = X_initial.copy()"
   ]
  },
  {
   "cell_type": "code",
   "execution_count": 14,
   "metadata": {},
   "outputs": [],
   "source": [
    "def get_alc_time(category):\n",
    "    return {\n",
    "         category == 1:  'easy',\n",
    "         category == 2:  'low',\n",
    "         category == 3:  'medium',\n",
    "         category == 4:  'hard',\n",
    "        category == 5:  'death',\n",
    "\n",
    "    }[True]"
   ]
  },
  {
   "cell_type": "code",
   "execution_count": 15,
   "metadata": {},
   "outputs": [
    {
     "data": {
      "text/plain": [
       "<AxesSubplot: ylabel='work day drunk hours'>"
      ]
     },
     "execution_count": 15,
     "metadata": {},
     "output_type": "execute_result"
    },
    {
     "data": {
      "image/png": "[encoded data removed]",
      "text/plain": [
       "<Figure size 640x480 with 1 Axes>"
      ]
     },
     "metadata": {},
     "output_type": "display_data"
    }
   ],
   "source": [
    "df['work day drunk hours'] = df['Dalc'].fillna(0).apply(lambda x: get_alc_time(x))\n",
    "df['work day drunk hours'].value_counts().plot.pie()"
   ]
  },
  {
   "cell_type": "code",
   "execution_count": 16,
   "metadata": {},
   "outputs": [
    {
     "data": {
      "text/plain": [
       "<AxesSubplot: ylabel='week day drunk hours'>"
      ]
     },
     "execution_count": 16,
     "metadata": {},
     "output_type": "execute_result"
    },
    {
     "data": {
      "image/png": "[encoded data removed]",
      "text/plain": [
       "<Figure size 640x480 with 1 Axes>"
      ]
     },
     "metadata": {},
     "output_type": "display_data"
    }
   ],
   "source": [
    "df['week day drunk hours'] = df['Walc'].fillna(0).apply(lambda x: get_alc_time(x))\n",
    "df['week day drunk hours'].value_counts().plot.pie()"
   ]
  },
  {
   "cell_type": "markdown",
   "metadata": {
    "_cell_guid": "21ae96ef-7925-4a81-1f1d-54d4ed018ec3",
    "id": "JL7MDeVBnDBw"
   },
   "source": [
    "## Целевая зависимость: \"G3\" (Final Grade)"
   ]
  },
  {
   "cell_type": "code",
   "execution_count": 17,
   "metadata": {
    "id": "Fshy5JYdTgyr"
   },
   "outputs": [
    {
     "data": {
      "text/plain": [
       "(array([11.,  0.,  0.,  0.,  1.,  2.,  8., 26., 96., 69., 47., 60., 47.,\n",
       "        36., 23., 21.,  7.]),\n",
       " array([ 0.        ,  1.11764706,  2.23529412,  3.35294118,  4.47058824,\n",
       "         5.58823529,  6.70588235,  7.82352941,  8.94117647, 10.05882353,\n",
       "        11.17647059, 12.29411765, 13.41176471, 14.52941176, 15.64705882,\n",
       "        16.76470588, 17.88235294, 19.        ]),\n",
       " <BarContainer object of 17 artists>)"
      ]
     },
     "execution_count": 17,
     "metadata": {},
     "output_type": "execute_result"
    },
    {
     "data": {
      "image/png": "[encoded data removed]",
      "text/plain": [
       "<Figure size 640x480 with 1 Axes>"
      ]
     },
     "metadata": {},
     "output_type": "display_data"
    }
   ],
   "source": [
    "df = X_initial.copy()\n",
    "df['G3'].unique()\n",
    "plt.hist(df['G3'],bins = len(df['G3'].unique()),edgecolor='black')"
   ]
  },
  {
   "cell_type": "markdown",
   "metadata": {
    "id": "HyR-ETD6Tgys"
   },
   "source": [
    "## Прочие характеристики\n",
    "\n",
    "Прочитайте описание данных на [сайте](https://www.kaggle.com/uciml/student-alcohol-consumption) и подумайте, какие еще характеристики было бы полезно проанализировать. Постройте соответсвующие графики для выбранных характеристик.\n",
    "\n",
    "Постройте графики еще для минимум 4 характеристик: числовая (2) и категориальная (2), применив хотя бы один раз:\n",
    "- pieplot\n",
    "- boxplot\n",
    "- violinplot"
   ]
  },
  {
   "cell_type": "code",
   "execution_count": 18,
   "metadata": {
    "id": "zYBWdQKjnDB1"
   },
   "outputs": [
    {
     "data": {
      "text/plain": [
       "<AxesSubplot: ylabel='school'>"
      ]
     },
     "execution_count": 18,
     "metadata": {},
     "output_type": "execute_result"
    },
    {
     "data": {
      "image/png": "[encoded data removed]",
      "text/plain": [
       "<Figure size 640x480 with 1 Axes>"
      ]
     },
     "metadata": {},
     "output_type": "display_data"
    }
   ],
   "source": [
    "df = X_initial.copy()\n",
    "df['school'].value_counts().plot.pie()"
   ]
  },
  {
   "cell_type": "code",
   "execution_count": 19,
   "metadata": {},
   "outputs": [
    {
     "data": {
      "text/plain": [
       "<AxesSubplot: xlabel='sex', ylabel='age'>"
      ]
     },
     "execution_count": 19,
     "metadata": {},
     "output_type": "execute_result"
    },
    {
     "data": {
      "image/png": "[encoded data removed]",
      "text/plain": [
       "<Figure size 640x480 with 1 Axes>"
      ]
     },
     "metadata": {},
     "output_type": "display_data"
    }
   ],
   "source": [
    "df = X_initial.copy()\n",
    "sns.violinplot(data=df[((df['sex']=='F') | (df['sex']=='M')) & (df['age']<100) & (df['age']>10)], x=\"sex\", y=\"age\")"
   ]
  },
  {
   "cell_type": "code",
   "execution_count": 20,
   "metadata": {},
   "outputs": [
    {
     "data": {
      "text/plain": [
       "<AxesSubplot: xlabel='G3'>"
      ]
     },
     "execution_count": 20,
     "metadata": {},
     "output_type": "execute_result"
    },
    {
     "data": {
      "image/png": "[encoded data removed]",
      "text/plain": [
       "<Figure size 640x480 with 1 Axes>"
      ]
     },
     "metadata": {},
     "output_type": "display_data"
    }
   ],
   "source": [
    "df = X_initial.copy()\n",
    "sns.boxplot(x=df[\"G3\"])"
   ]
  },
  {
   "cell_type": "code",
   "execution_count": 21,
   "metadata": {},
   "outputs": [
    {
     "data": {
      "text/plain": [
       "<AxesSubplot: ylabel='health'>"
      ]
     },
     "execution_count": 21,
     "metadata": {},
     "output_type": "execute_result"
    },
    {
     "data": {
      "image/png": "[encoded data removed]",
      "text/plain": [
       "<Figure size 640x480 with 1 Axes>"
      ]
     },
     "metadata": {},
     "output_type": "display_data"
    }
   ],
   "source": [
    "df = X_initial.copy()\n",
    "df['health'].value_counts().plot.pie()"
   ]
  },
  {
   "cell_type": "markdown",
   "metadata": {
    "_cell_guid": "21ae96ef-7925-4a81-1f1d-54d4ed018ec3",
    "id": "dDiTs21MnRYu"
   },
   "source": [
    "## Корреляция признаков\n",
    "\n",
    "Для того, чтобы быстро получить оценку о взаимосвязи признаков целесообразно построить матрицу их корреляции. Постройте матрицу корреляции."
   ]
  },
  {
   "cell_type": "code",
   "execution_count": 22,
   "metadata": {
    "id": "KagTTs4mnRYv"
   },
   "outputs": [
    {
     "data": {
      "text/html": [
       "<div>\n",
       "<style scoped>\n",
       "    .dataframe tbody tr th:only-of-type {\n",
       "        vertical-align: middle;\n",
       "    }\n",
       "\n",
       "    .dataframe tbody tr th {\n",
       "        vertical-align: top;\n",
       "    }\n",
       "\n",
       "    .dataframe thead th {\n",
       "        text-align: right;\n",
       "    }\n",
       "</style>\n",
       "<table border=\"1\" class=\"dataframe\">\n",
       "  <thead>\n",
       "    <tr style=\"text-align: right;\">\n",
       "      <th></th>\n",
       "      <th>age</th>\n",
       "      <th>Medu</th>\n",
       "      <th>Fedu</th>\n",
       "      <th>traveltime</th>\n",
       "      <th>studytime</th>\n",
       "      <th>failures</th>\n",
       "      <th>famrel</th>\n",
       "      <th>freetime</th>\n",
       "      <th>goout</th>\n",
       "      <th>Dalc</th>\n",
       "      <th>Walc</th>\n",
       "      <th>health</th>\n",
       "      <th>absences</th>\n",
       "      <th>G3</th>\n",
       "    </tr>\n",
       "  </thead>\n",
       "  <tbody>\n",
       "    <tr>\n",
       "      <th>age</th>\n",
       "      <td>1.000000</td>\n",
       "      <td>0.017118</td>\n",
       "      <td>0.015926</td>\n",
       "      <td>-0.045215</td>\n",
       "      <td>0.037509</td>\n",
       "      <td>-0.000269</td>\n",
       "      <td>0.050729</td>\n",
       "      <td>-0.048159</td>\n",
       "      <td>-0.019423</td>\n",
       "      <td>-0.033190</td>\n",
       "      <td>-0.038725</td>\n",
       "      <td>-0.105574</td>\n",
       "      <td>-0.026602</td>\n",
       "      <td>-0.031453</td>\n",
       "    </tr>\n",
       "    <tr>\n",
       "      <th>Medu</th>\n",
       "      <td>0.017118</td>\n",
       "      <td>1.000000</td>\n",
       "      <td>0.650052</td>\n",
       "      <td>-0.292153</td>\n",
       "      <td>0.088940</td>\n",
       "      <td>-0.172137</td>\n",
       "      <td>0.068827</td>\n",
       "      <td>0.029327</td>\n",
       "      <td>0.055263</td>\n",
       "      <td>-0.011133</td>\n",
       "      <td>-0.021110</td>\n",
       "      <td>0.045795</td>\n",
       "      <td>0.018881</td>\n",
       "      <td>0.207645</td>\n",
       "    </tr>\n",
       "    <tr>\n",
       "      <th>Fedu</th>\n",
       "      <td>0.015926</td>\n",
       "      <td>0.650052</td>\n",
       "      <td>1.000000</td>\n",
       "      <td>-0.211014</td>\n",
       "      <td>0.077986</td>\n",
       "      <td>-0.157411</td>\n",
       "      <td>0.086715</td>\n",
       "      <td>0.032968</td>\n",
       "      <td>0.062423</td>\n",
       "      <td>-0.002507</td>\n",
       "      <td>-0.001616</td>\n",
       "      <td>0.086325</td>\n",
       "      <td>0.047975</td>\n",
       "      <td>0.196666</td>\n",
       "    </tr>\n",
       "    <tr>\n",
       "      <th>traveltime</th>\n",
       "      <td>-0.045215</td>\n",
       "      <td>-0.292153</td>\n",
       "      <td>-0.211014</td>\n",
       "      <td>1.000000</td>\n",
       "      <td>-0.084222</td>\n",
       "      <td>0.079322</td>\n",
       "      <td>-0.025235</td>\n",
       "      <td>0.003360</td>\n",
       "      <td>0.008395</td>\n",
       "      <td>0.078637</td>\n",
       "      <td>0.048305</td>\n",
       "      <td>-0.047959</td>\n",
       "      <td>-0.041817</td>\n",
       "      <td>-0.150548</td>\n",
       "    </tr>\n",
       "    <tr>\n",
       "      <th>studytime</th>\n",
       "      <td>0.037509</td>\n",
       "      <td>0.088940</td>\n",
       "      <td>0.077986</td>\n",
       "      <td>-0.084222</td>\n",
       "      <td>1.000000</td>\n",
       "      <td>-0.125199</td>\n",
       "      <td>-0.024362</td>\n",
       "      <td>-0.075368</td>\n",
       "      <td>-0.098676</td>\n",
       "      <td>-0.152659</td>\n",
       "      <td>-0.243818</td>\n",
       "      <td>-0.052498</td>\n",
       "      <td>-0.099545</td>\n",
       "      <td>0.217938</td>\n",
       "    </tr>\n",
       "    <tr>\n",
       "      <th>failures</th>\n",
       "      <td>-0.000269</td>\n",
       "      <td>-0.172137</td>\n",
       "      <td>-0.157411</td>\n",
       "      <td>0.079322</td>\n",
       "      <td>-0.125199</td>\n",
       "      <td>1.000000</td>\n",
       "      <td>-0.064462</td>\n",
       "      <td>0.112960</td>\n",
       "      <td>0.052652</td>\n",
       "      <td>0.153152</td>\n",
       "      <td>0.135870</td>\n",
       "      <td>0.045039</td>\n",
       "      <td>0.121685</td>\n",
       "      <td>-0.407549</td>\n",
       "    </tr>\n",
       "    <tr>\n",
       "      <th>famrel</th>\n",
       "      <td>0.050729</td>\n",
       "      <td>0.068827</td>\n",
       "      <td>0.086715</td>\n",
       "      <td>-0.025235</td>\n",
       "      <td>-0.024362</td>\n",
       "      <td>-0.064462</td>\n",
       "      <td>1.000000</td>\n",
       "      <td>0.113157</td>\n",
       "      <td>0.070991</td>\n",
       "      <td>-0.052349</td>\n",
       "      <td>-0.075185</td>\n",
       "      <td>0.111193</td>\n",
       "      <td>-0.117433</td>\n",
       "      <td>0.087383</td>\n",
       "    </tr>\n",
       "    <tr>\n",
       "      <th>freetime</th>\n",
       "      <td>-0.048159</td>\n",
       "      <td>0.029327</td>\n",
       "      <td>0.032968</td>\n",
       "      <td>0.003360</td>\n",
       "      <td>-0.075368</td>\n",
       "      <td>0.112960</td>\n",
       "      <td>0.113157</td>\n",
       "      <td>1.000000</td>\n",
       "      <td>0.359857</td>\n",
       "      <td>0.110431</td>\n",
       "      <td>0.166500</td>\n",
       "      <td>0.109172</td>\n",
       "      <td>-0.000584</td>\n",
       "      <td>-0.093619</td>\n",
       "    </tr>\n",
       "    <tr>\n",
       "      <th>goout</th>\n",
       "      <td>-0.019423</td>\n",
       "      <td>0.055263</td>\n",
       "      <td>0.062423</td>\n",
       "      <td>0.008395</td>\n",
       "      <td>-0.098676</td>\n",
       "      <td>0.052652</td>\n",
       "      <td>0.070991</td>\n",
       "      <td>0.359857</td>\n",
       "      <td>1.000000</td>\n",
       "      <td>0.241739</td>\n",
       "      <td>0.421281</td>\n",
       "      <td>-0.008693</td>\n",
       "      <td>0.059189</td>\n",
       "      <td>-0.090558</td>\n",
       "    </tr>\n",
       "    <tr>\n",
       "      <th>Dalc</th>\n",
       "      <td>-0.033190</td>\n",
       "      <td>-0.011133</td>\n",
       "      <td>-0.002507</td>\n",
       "      <td>0.078637</td>\n",
       "      <td>-0.152659</td>\n",
       "      <td>0.153152</td>\n",
       "      <td>-0.052349</td>\n",
       "      <td>0.110431</td>\n",
       "      <td>0.241739</td>\n",
       "      <td>1.000000</td>\n",
       "      <td>0.613398</td>\n",
       "      <td>0.063682</td>\n",
       "      <td>0.217312</td>\n",
       "      <td>-0.233310</td>\n",
       "    </tr>\n",
       "    <tr>\n",
       "      <th>Walc</th>\n",
       "      <td>-0.038725</td>\n",
       "      <td>-0.021110</td>\n",
       "      <td>-0.001616</td>\n",
       "      <td>0.048305</td>\n",
       "      <td>-0.243818</td>\n",
       "      <td>0.135870</td>\n",
       "      <td>-0.075185</td>\n",
       "      <td>0.166500</td>\n",
       "      <td>0.421281</td>\n",
       "      <td>0.613398</td>\n",
       "      <td>1.000000</td>\n",
       "      <td>0.106020</td>\n",
       "      <td>0.178695</td>\n",
       "      <td>-0.192491</td>\n",
       "    </tr>\n",
       "    <tr>\n",
       "      <th>health</th>\n",
       "      <td>-0.105574</td>\n",
       "      <td>0.045795</td>\n",
       "      <td>0.086325</td>\n",
       "      <td>-0.047959</td>\n",
       "      <td>-0.052498</td>\n",
       "      <td>0.045039</td>\n",
       "      <td>0.111193</td>\n",
       "      <td>0.109172</td>\n",
       "      <td>-0.008693</td>\n",
       "      <td>0.063682</td>\n",
       "      <td>0.106020</td>\n",
       "      <td>1.000000</td>\n",
       "      <td>-0.050845</td>\n",
       "      <td>-0.097878</td>\n",
       "    </tr>\n",
       "    <tr>\n",
       "      <th>absences</th>\n",
       "      <td>-0.026602</td>\n",
       "      <td>0.018881</td>\n",
       "      <td>0.047975</td>\n",
       "      <td>-0.041817</td>\n",
       "      <td>-0.099545</td>\n",
       "      <td>0.121685</td>\n",
       "      <td>-0.117433</td>\n",
       "      <td>-0.000584</td>\n",
       "      <td>0.059189</td>\n",
       "      <td>0.217312</td>\n",
       "      <td>0.178695</td>\n",
       "      <td>-0.050845</td>\n",
       "      <td>1.000000</td>\n",
       "      <td>-0.076876</td>\n",
       "    </tr>\n",
       "    <tr>\n",
       "      <th>G3</th>\n",
       "      <td>-0.031453</td>\n",
       "      <td>0.207645</td>\n",
       "      <td>0.196666</td>\n",
       "      <td>-0.150548</td>\n",
       "      <td>0.217938</td>\n",
       "      <td>-0.407549</td>\n",
       "      <td>0.087383</td>\n",
       "      <td>-0.093619</td>\n",
       "      <td>-0.090558</td>\n",
       "      <td>-0.233310</td>\n",
       "      <td>-0.192491</td>\n",
       "      <td>-0.097878</td>\n",
       "      <td>-0.076876</td>\n",
       "      <td>1.000000</td>\n",
       "    </tr>\n",
       "  </tbody>\n",
       "</table>\n",
       "</div>"
      ],
      "text/plain": [
       "                 age      Medu      Fedu  traveltime  studytime  failures  \\\n",
       "age         1.000000  0.017118  0.015926   -0.045215   0.037509 -0.000269   \n",
       "Medu        0.017118  1.000000  0.650052   -0.292153   0.088940 -0.172137   \n",
       "Fedu        0.015926  0.650052  1.000000   -0.211014   0.077986 -0.157411   \n",
       "traveltime -0.045215 -0.292153 -0.211014    1.000000  -0.084222  0.079322   \n",
       "studytime   0.037509  0.088940  0.077986   -0.084222   1.000000 -0.125199   \n",
       "failures   -0.000269 -0.172137 -0.157411    0.079322  -0.125199  1.000000   \n",
       "famrel      0.050729  0.068827  0.086715   -0.025235  -0.024362 -0.064462   \n",
       "freetime   -0.048159  0.029327  0.032968    0.003360  -0.075368  0.112960   \n",
       "goout      -0.019423  0.055263  0.062423    0.008395  -0.098676  0.052652   \n",
       "Dalc       -0.033190 -0.011133 -0.002507    0.078637  -0.152659  0.153152   \n",
       "Walc       -0.038725 -0.021110 -0.001616    0.048305  -0.243818  0.135870   \n",
       "health     -0.105574  0.045795  0.086325   -0.047959  -0.052498  0.045039   \n",
       "absences   -0.026602  0.018881  0.047975   -0.041817  -0.099545  0.121685   \n",
       "G3         -0.031453  0.207645  0.196666   -0.150548   0.217938 -0.407549   \n",
       "\n",
       "              famrel  freetime     goout      Dalc      Walc    health  \\\n",
       "age         0.050729 -0.048159 -0.019423 -0.033190 -0.038725 -0.105574   \n",
       "Medu        0.068827  0.029327  0.055263 -0.011133 -0.021110  0.045795   \n",
       "Fedu        0.086715  0.032968  0.062423 -0.002507 -0.001616  0.086325   \n",
       "traveltime -0.025235  0.003360  0.008395  0.078637  0.048305 -0.047959   \n",
       "studytime  -0.024362 -0.075368 -0.098676 -0.152659 -0.243818 -0.052498   \n",
       "failures   -0.064462  0.112960  0.052652  0.153152  0.135870  0.045039   \n",
       "famrel      1.000000  0.113157  0.070991 -0.052349 -0.075185  0.111193   \n",
       "freetime    0.113157  1.000000  0.359857  0.110431  0.166500  0.109172   \n",
       "goout       0.070991  0.359857  1.000000  0.241739  0.421281 -0.008693   \n",
       "Dalc       -0.052349  0.110431  0.241739  1.000000  0.613398  0.063682   \n",
       "Walc       -0.075185  0.166500  0.421281  0.613398  1.000000  0.106020   \n",
       "health      0.111193  0.109172 -0.008693  0.063682  0.106020  1.000000   \n",
       "absences   -0.117433 -0.000584  0.059189  0.217312  0.178695 -0.050845   \n",
       "G3          0.087383 -0.093619 -0.090558 -0.233310 -0.192491 -0.097878   \n",
       "\n",
       "            absences        G3  \n",
       "age        -0.026602 -0.031453  \n",
       "Medu        0.018881  0.207645  \n",
       "Fedu        0.047975  0.196666  \n",
       "traveltime -0.041817 -0.150548  \n",
       "studytime  -0.099545  0.217938  \n",
       "failures    0.121685 -0.407549  \n",
       "famrel     -0.117433  0.087383  \n",
       "freetime   -0.000584 -0.093619  \n",
       "goout       0.059189 -0.090558  \n",
       "Dalc        0.217312 -0.233310  \n",
       "Walc        0.178695 -0.192491  \n",
       "health     -0.050845 -0.097878  \n",
       "absences    1.000000 -0.076876  \n",
       "G3         -0.076876  1.000000  "
      ]
     },
     "execution_count": 22,
     "metadata": {},
     "output_type": "execute_result"
    }
   ],
   "source": [
    "df = X_initial.copy()\n",
    "df.corr()"
   ]
  },
  {
   "cell_type": "markdown",
   "metadata": {
    "id": "Uamr3aOOSVo4"
   },
   "source": [
    "## Посчитайте корреляцию Спирмана и нарисуйте ее в виде тепловой карты"
   ]
  },
  {
   "cell_type": "code",
   "execution_count": 23,
   "metadata": {
    "id": "OA7BA80QSVo5"
   },
   "outputs": [
    {
     "data": {
      "text/plain": [
       "<AxesSubplot: >"
      ]
     },
     "execution_count": 23,
     "metadata": {},
     "output_type": "execute_result"
    },
    {
     "data": {
      "image/png": "[encoded data removed]",
      "text/plain": [
       "<Figure size 1500x1500 with 2 Axes>"
      ]
     },
     "metadata": {},
     "output_type": "display_data"
    }
   ],
   "source": [
    "df = X_initial.copy()\n",
    "fig, ax = plt.subplots(figsize=(15,15)) \n",
    "sns.heatmap(df.corr(method='spearman'), \n",
    "         vmin=-1, vmax=1,annot=True,cmap=\"YlGn\",ax=ax)"
   ]
  },
  {
   "cell_type": "code",
   "execution_count": 24,
   "metadata": {},
   "outputs": [
    {
     "data": {
      "text/plain": [
       "school        8\n",
       "sex           8\n",
       "age           8\n",
       "address       8\n",
       "famsize       8\n",
       "Pstatus       8\n",
       "Medu          8\n",
       "Fedu          8\n",
       "Mjob          8\n",
       "Fjob          8\n",
       "reason        8\n",
       "guardian      8\n",
       "traveltime    8\n",
       "studytime     8\n",
       "failures      8\n",
       "schoolsup     8\n",
       "famsup        8\n",
       "paid          8\n",
       "activities    8\n",
       "nursery       8\n",
       "higher        8\n",
       "internet      8\n",
       "romantic      8\n",
       "famrel        8\n",
       "freetime      8\n",
       "goout         8\n",
       "Dalc          8\n",
       "Walc          8\n",
       "health        8\n",
       "absences      8\n",
       "G3            8\n",
       "dtype: int64"
      ]
     },
     "execution_count": 24,
     "metadata": {},
     "output_type": "execute_result"
    }
   ],
   "source": [
    "df = X_initial.copy()\n",
    "df[(df['sex'] != 'M') & (df['sex'] != 'F')].count() "
   ]
  },
  {
   "cell_type": "markdown",
   "metadata": {
    "_cell_guid": "21ae96ef-7925-4a81-1f1d-54d4ed018ec3",
    "id": "HU8fL_6GtGWV"
   },
   "source": [
    "## Диапазон значений характеристик\n",
    "\n",
    "Посчитайте число уникальных значений для каждого признака и сравните их между собой."
   ]
  },
  {
   "cell_type": "code",
   "execution_count": 25,
   "metadata": {
    "id": "MnBcttm5tGWW"
   },
   "outputs": [
    {
     "data": {
      "text/html": [
       "<div>\n",
       "<style scoped>\n",
       "    .dataframe tbody tr th:only-of-type {\n",
       "        vertical-align: middle;\n",
       "    }\n",
       "\n",
       "    .dataframe tbody tr th {\n",
       "        vertical-align: top;\n",
       "    }\n",
       "\n",
       "    .dataframe thead th {\n",
       "        text-align: right;\n",
       "    }\n",
       "</style>\n",
       "<table border=\"1\" class=\"dataframe\">\n",
       "  <thead>\n",
       "    <tr style=\"text-align: right;\">\n",
       "      <th></th>\n",
       "      <th>count</th>\n",
       "    </tr>\n",
       "  </thead>\n",
       "  <tbody>\n",
       "    <tr>\n",
       "      <th>school</th>\n",
       "      <td>2</td>\n",
       "    </tr>\n",
       "    <tr>\n",
       "      <th>romantic</th>\n",
       "      <td>2</td>\n",
       "    </tr>\n",
       "    <tr>\n",
       "      <th>internet</th>\n",
       "      <td>2</td>\n",
       "    </tr>\n",
       "    <tr>\n",
       "      <th>higher</th>\n",
       "      <td>2</td>\n",
       "    </tr>\n",
       "    <tr>\n",
       "      <th>nursery</th>\n",
       "      <td>2</td>\n",
       "    </tr>\n",
       "    <tr>\n",
       "      <th>activities</th>\n",
       "      <td>2</td>\n",
       "    </tr>\n",
       "    <tr>\n",
       "      <th>paid</th>\n",
       "      <td>2</td>\n",
       "    </tr>\n",
       "    <tr>\n",
       "      <th>famsup</th>\n",
       "      <td>2</td>\n",
       "    </tr>\n",
       "    <tr>\n",
       "      <th>schoolsup</th>\n",
       "      <td>2</td>\n",
       "    </tr>\n",
       "    <tr>\n",
       "      <th>famsize</th>\n",
       "      <td>2</td>\n",
       "    </tr>\n",
       "    <tr>\n",
       "      <th>Pstatus</th>\n",
       "      <td>2</td>\n",
       "    </tr>\n",
       "    <tr>\n",
       "      <th>address</th>\n",
       "      <td>2</td>\n",
       "    </tr>\n",
       "    <tr>\n",
       "      <th>guardian</th>\n",
       "      <td>3</td>\n",
       "    </tr>\n",
       "    <tr>\n",
       "      <th>reason</th>\n",
       "      <td>4</td>\n",
       "    </tr>\n",
       "    <tr>\n",
       "      <th>traveltime</th>\n",
       "      <td>4</td>\n",
       "    </tr>\n",
       "    <tr>\n",
       "      <th>studytime</th>\n",
       "      <td>4</td>\n",
       "    </tr>\n",
       "    <tr>\n",
       "      <th>failures</th>\n",
       "      <td>4</td>\n",
       "    </tr>\n",
       "    <tr>\n",
       "      <th>health</th>\n",
       "      <td>5</td>\n",
       "    </tr>\n",
       "    <tr>\n",
       "      <th>Walc</th>\n",
       "      <td>5</td>\n",
       "    </tr>\n",
       "    <tr>\n",
       "      <th>Dalc</th>\n",
       "      <td>5</td>\n",
       "    </tr>\n",
       "    <tr>\n",
       "      <th>goout</th>\n",
       "      <td>5</td>\n",
       "    </tr>\n",
       "    <tr>\n",
       "      <th>freetime</th>\n",
       "      <td>5</td>\n",
       "    </tr>\n",
       "    <tr>\n",
       "      <th>famrel</th>\n",
       "      <td>5</td>\n",
       "    </tr>\n",
       "    <tr>\n",
       "      <th>Fjob</th>\n",
       "      <td>5</td>\n",
       "    </tr>\n",
       "    <tr>\n",
       "      <th>Mjob</th>\n",
       "      <td>5</td>\n",
       "    </tr>\n",
       "    <tr>\n",
       "      <th>Medu</th>\n",
       "      <td>5</td>\n",
       "    </tr>\n",
       "    <tr>\n",
       "      <th>Fedu</th>\n",
       "      <td>5</td>\n",
       "    </tr>\n",
       "    <tr>\n",
       "      <th>sex</th>\n",
       "      <td>6</td>\n",
       "    </tr>\n",
       "    <tr>\n",
       "      <th>age</th>\n",
       "      <td>16</td>\n",
       "    </tr>\n",
       "    <tr>\n",
       "      <th>G3</th>\n",
       "      <td>17</td>\n",
       "    </tr>\n",
       "    <tr>\n",
       "      <th>absences</th>\n",
       "      <td>22</td>\n",
       "    </tr>\n",
       "  </tbody>\n",
       "</table>\n",
       "</div>"
      ],
      "text/plain": [
       "            count\n",
       "school          2\n",
       "romantic        2\n",
       "internet        2\n",
       "higher          2\n",
       "nursery         2\n",
       "activities      2\n",
       "paid            2\n",
       "famsup          2\n",
       "schoolsup       2\n",
       "famsize         2\n",
       "Pstatus         2\n",
       "address         2\n",
       "guardian        3\n",
       "reason          4\n",
       "traveltime      4\n",
       "studytime       4\n",
       "failures        4\n",
       "health          5\n",
       "Walc            5\n",
       "Dalc            5\n",
       "goout           5\n",
       "freetime        5\n",
       "famrel          5\n",
       "Fjob            5\n",
       "Mjob            5\n",
       "Medu            5\n",
       "Fedu            5\n",
       "sex             6\n",
       "age            16\n",
       "G3             17\n",
       "absences       22"
      ]
     },
     "execution_count": 25,
     "metadata": {},
     "output_type": "execute_result"
    }
   ],
   "source": [
    "df = X_initial.copy()\n",
    "df_counts = pd.DataFrame(df.nunique(), columns ={'count'})\n",
    "df_counts.sort_values(by=df_counts.columns[0])"
   ]
  },
  {
   "cell_type": "markdown",
   "metadata": {
    "id": "p_mf61fgSVo5"
   },
   "source": [
    "## Найдите соотношение мужского и женского пола для самых выскоих оценок (G3) из датасета, у которых время на дорогу больше, чем 30 минут. Нарисуйте это соотношение на круговой диаграмме"
   ]
  },
  {
   "cell_type": "code",
   "execution_count": 26,
   "metadata": {
    "id": "Q_GM66scSVo5"
   },
   "outputs": [
    {
     "data": {
      "text/plain": [
       "<AxesSubplot: ylabel='sex'>"
      ]
     },
     "execution_count": 26,
     "metadata": {},
     "output_type": "execute_result"
    },
    {
     "data": {
      "image/png": "[encoded data removed]",
      "text/plain": [
       "<Figure size 640x480 with 1 Axes>"
      ]
     },
     "metadata": {},
     "output_type": "display_data"
    }
   ],
   "source": [
    "df = X_initial.copy()\n",
    "low_of_higher = 15\n",
    "df[((df['sex']=='F') | (df['sex']=='M')) & (df['G3']>low_of_higher) & (df['traveltime']>=3)]['sex'].value_counts().plot.pie()"
   ]
  },
  {
   "cell_type": "markdown",
   "metadata": {
    "id": "hw0rZvP0SVo5"
   },
   "source": [
    "## Построить boxplot для оценок по возрасту.  "
   ]
  },
  {
   "cell_type": "code",
   "execution_count": 27,
   "metadata": {
    "id": "2auancXdSVo5"
   },
   "outputs": [
    {
     "data": {
      "text/plain": [
       "<AxesSubplot: xlabel='age', ylabel='G3'>"
      ]
     },
     "execution_count": 27,
     "metadata": {},
     "output_type": "execute_result"
    },
    {
     "data": {
      "image/png": "[encoded data removed]",
      "text/plain": [
       "<Figure size 1000x1000 with 1 Axes>"
      ]
     },
     "metadata": {},
     "output_type": "display_data"
    }
   ],
   "source": [
    "df = X_initial.copy()\n",
    "fig, ax = plt.subplots(figsize=(10,10)) \n",
    "sns.boxplot(y=df[\"G3\"], x = df[\"age\"], ax=ax)"
   ]
  },
  {
   "cell_type": "markdown",
   "metadata": {
    "id": "wCL9MGy8SVo5"
   },
   "source": [
    "## Найти id топ-5 самых юных отличников. "
   ]
  },
  {
   "cell_type": "code",
   "execution_count": 28,
   "metadata": {
    "id": "TkhnGJ1iSVo5"
   },
   "outputs": [
    {
     "data": {
      "text/plain": [
       "Int64Index([109, 151, 294, 221, 74], dtype='int64')"
      ]
     },
     "execution_count": 28,
     "metadata": {},
     "output_type": "execute_result"
    }
   ],
   "source": [
    "df = X_initial.copy().sort_values(by =['age'])\n",
    "df[df['G3']>17].head().index"
   ]
  },
  {
   "cell_type": "markdown",
   "metadata": {
    "id": "9UPBcWBUSVo6"
   },
   "source": [
    "## Для каждого возраста найдите максимальную и минимальную оценку (G3)"
   ]
  },
  {
   "cell_type": "code",
   "execution_count": 29,
   "metadata": {
    "id": "FIJ5B35ySVo6"
   },
   "outputs": [
    {
     "data": {
      "text/html": [
       "<div>\n",
       "<style scoped>\n",
       "    .dataframe tbody tr th:only-of-type {\n",
       "        vertical-align: middle;\n",
       "    }\n",
       "\n",
       "    .dataframe tbody tr th {\n",
       "        vertical-align: top;\n",
       "    }\n",
       "\n",
       "    .dataframe thead th {\n",
       "        text-align: right;\n",
       "    }\n",
       "</style>\n",
       "<table border=\"1\" class=\"dataframe\">\n",
       "  <thead>\n",
       "    <tr style=\"text-align: right;\">\n",
       "      <th></th>\n",
       "      <th>age</th>\n",
       "      <th>min</th>\n",
       "      <th>maxG3</th>\n",
       "    </tr>\n",
       "  </thead>\n",
       "  <tbody>\n",
       "    <tr>\n",
       "      <th>0</th>\n",
       "      <td>15.0</td>\n",
       "      <td>8</td>\n",
       "      <td>18</td>\n",
       "    </tr>\n",
       "    <tr>\n",
       "      <th>1</th>\n",
       "      <td>17.0</td>\n",
       "      <td>0</td>\n",
       "      <td>19</td>\n",
       "    </tr>\n",
       "    <tr>\n",
       "      <th>2</th>\n",
       "      <td>20.0</td>\n",
       "      <td>10</td>\n",
       "      <td>15</td>\n",
       "    </tr>\n",
       "    <tr>\n",
       "      <th>3</th>\n",
       "      <td>18.0</td>\n",
       "      <td>0</td>\n",
       "      <td>17</td>\n",
       "    </tr>\n",
       "    <tr>\n",
       "      <th>4</th>\n",
       "      <td>16.0</td>\n",
       "      <td>1</td>\n",
       "      <td>18</td>\n",
       "    </tr>\n",
       "    <tr>\n",
       "      <th>5</th>\n",
       "      <td>19.0</td>\n",
       "      <td>0</td>\n",
       "      <td>13</td>\n",
       "    </tr>\n",
       "    <tr>\n",
       "      <th>6</th>\n",
       "      <td>161.0</td>\n",
       "      <td>13</td>\n",
       "      <td>13</td>\n",
       "    </tr>\n",
       "    <tr>\n",
       "      <th>7</th>\n",
       "      <td>181.0</td>\n",
       "      <td>17</td>\n",
       "      <td>17</td>\n",
       "    </tr>\n",
       "    <tr>\n",
       "      <th>8</th>\n",
       "      <td>151.0</td>\n",
       "      <td>11</td>\n",
       "      <td>11</td>\n",
       "    </tr>\n",
       "    <tr>\n",
       "      <th>9</th>\n",
       "      <td>116.0</td>\n",
       "      <td>0</td>\n",
       "      <td>0</td>\n",
       "    </tr>\n",
       "    <tr>\n",
       "      <th>10</th>\n",
       "      <td>21.0</td>\n",
       "      <td>10</td>\n",
       "      <td>12</td>\n",
       "    </tr>\n",
       "    <tr>\n",
       "      <th>11</th>\n",
       "      <td>22.0</td>\n",
       "      <td>5</td>\n",
       "      <td>5</td>\n",
       "    </tr>\n",
       "    <tr>\n",
       "      <th>12</th>\n",
       "      <td>-1.0</td>\n",
       "      <td>17</td>\n",
       "      <td>17</td>\n",
       "    </tr>\n",
       "    <tr>\n",
       "      <th>13</th>\n",
       "      <td>1.0</td>\n",
       "      <td>11</td>\n",
       "      <td>11</td>\n",
       "    </tr>\n",
       "    <tr>\n",
       "      <th>14</th>\n",
       "      <td>5.0</td>\n",
       "      <td>9</td>\n",
       "      <td>9</td>\n",
       "    </tr>\n",
       "    <tr>\n",
       "      <th>15</th>\n",
       "      <td>8.0</td>\n",
       "      <td>9</td>\n",
       "      <td>9</td>\n",
       "    </tr>\n",
       "  </tbody>\n",
       "</table>\n",
       "</div>"
      ],
      "text/plain": [
       "      age  min  maxG3\n",
       "0    15.0    8     18\n",
       "1    17.0    0     19\n",
       "2    20.0   10     15\n",
       "3    18.0    0     17\n",
       "4    16.0    1     18\n",
       "5    19.0    0     13\n",
       "6   161.0   13     13\n",
       "7   181.0   17     17\n",
       "8   151.0   11     11\n",
       "9   116.0    0      0\n",
       "10   21.0   10     12\n",
       "11   22.0    5      5\n",
       "12   -1.0   17     17\n",
       "13    1.0   11     11\n",
       "14    5.0    9      9\n",
       "15    8.0    9      9"
      ]
     },
     "execution_count": 29,
     "metadata": {},
     "output_type": "execute_result"
    }
   ],
   "source": [
    "df = X_initial.copy()\n",
    "ages=df['age'].unique()[1:]\n",
    "maxG = [df[df['age'] == age]['G3'].max() for age in ages]\n",
    "minG = [df[df['age'] == age]['G3'].min() for age in ages]\n",
    "max_min_G3 = list(zip(ages,minG,maxG))\n",
    "df = pd.DataFrame(max_min_G3,columns = ['age','min','maxG3'])\n",
    "df"
   ]
  },
  {
   "cell_type": "markdown",
   "metadata": {
    "_cell_guid": "0e9fb698-c819-074d-26ee-7a6afe00ad62",
    "id": "ZnrLrANOTtWC"
   },
   "source": [
    "# Часть 2. Предобработка данных\n",
    "\n",
    "Теперь перейдем к подготовке данных для моделей машинного обучения. Не все из описанного ниже нужно делать. Подумайте."
   ]
  },
  {
   "cell_type": "code",
   "execution_count": 30,
   "metadata": {
    "id": "q6-p0CoXeYeH",
    "scrolled": true
   },
   "outputs": [
    {
     "data": {
      "text/plain": [
       "school                                                 [MS, GP]\n",
       "sex                                          [M, F, D, C, B, A]\n",
       "age           [nan, 15.0, 17.0, 20.0, 18.0, 16.0, 19.0, 161....\n",
       "address                                             [U, R, nan]\n",
       "famsize                                              [LE3, GT3]\n",
       "Pstatus                                                  [T, A]\n",
       "Medu                                            [1, 3, 4, 2, 0]\n",
       "Fedu                                            [3, 4, 1, 2, 0]\n",
       "Mjob                [at_home, teacher, other, services, health]\n",
       "Fjob                [services, other, at_home, teacher, health]\n",
       "reason                        [course, home, reputation, other]\n",
       "guardian                                [mother, father, other]\n",
       "traveltime                                         [1, 3, 2, 4]\n",
       "studytime                                          [1, 2, 3, 4]\n",
       "failures                                           [0, 1, 2, 3]\n",
       "schoolsup                                             [no, yes]\n",
       "famsup                                                [no, yes]\n",
       "paid                                                  [no, yes]\n",
       "activities                                            [no, yes]\n",
       "nursery                                               [yes, no]\n",
       "higher                                                [no, yes]\n",
       "internet                                              [yes, no]\n",
       "romantic                                              [yes, no]\n",
       "famrel                                          [4, 3, 5, 1, 2]\n",
       "freetime                                        [3, 5, 2, 1, 4]\n",
       "goout                                           [3, 4, 1, 5, 2]\n",
       "Dalc                                            [2, 3, 1, 5, 4]\n",
       "Walc                                            [3, 5, 1, 2, 4]\n",
       "health                                          [3, 5, 2, 1, 4]\n",
       "absences      [0, 16, 4, 8, 2, 1, 9, 6, 5, 11, 3, 10, 12, 14...\n",
       "G3            [9, 12, 13, 11, 14, 16, 10, 17, 8, 15, 0, 6, 7...\n",
       "dtype: object"
      ]
     },
     "execution_count": 30,
     "metadata": {},
     "output_type": "execute_result"
    }
   ],
   "source": [
    "df = X_initial.copy()\n",
    "df.apply(lambda col: col.unique())"
   ]
  },
  {
   "cell_type": "markdown",
   "metadata": {
    "_cell_guid": "21ae96ef-7925-4a81-1f1d-54d4ed018ec3",
    "id": "lY0qoZnQ90NO"
   },
   "source": [
    "## Найдите и исправьте ошибки в данных"
   ]
  },
  {
   "cell_type": "markdown",
   "metadata": {
    "id": "qF81qsInnuf4"
   },
   "source": [
    "## Заполните пропуски в данных\n",
    "\n",
    "Заполнить пропуски в данных можно одним из следующи способов или разными для разных признаков:\n",
    "- Заполнить нулями\n",
    "- Выбросить данные с нулями (не рекомендуется)\n",
    "- Заполнить средним для данного параметра\n",
    "- Заполнить наиболее соответствующим данному прецеденту (рекомендуется)"
   ]
  },
  {
   "cell_type": "code",
   "execution_count": 31,
   "metadata": {},
   "outputs": [],
   "source": [
    "def is_correct(feat_name, feat_val):\n",
    "    if feat_name == 'sex':\n",
    "        return False if feat_val in \"ABCD\" else True\n",
    "            \n",
    "    elif feat_name == 'address':\n",
    "        return False if feat_val is None else True\n",
    "            \n",
    "    elif feat_name == 'age': # min student age is 7\n",
    "        return False if (feat_val < 7 or feat_val > 90 or feat_val is None) else True\n",
    "\n",
    "    return True\n"
   ]
  },
  {
   "cell_type": "code",
   "execution_count": 32,
   "metadata": {},
   "outputs": [],
   "source": [
    "def best_match(arg, feat_name,  df)->int:\n",
    "    index = 0\n",
    "    max_match = -1\n",
    "    for i in range(df.shape[0]):\n",
    "        if i != arg and (df.iloc[arg] == df.iloc[i]).values.sum() > max_match and df.iloc[i].notnull().all() and is_correct(feat_name, df.iloc[i][feat_name]):\n",
    "            max_match = (df.iloc[arg] == df.iloc[i]).values.sum()\n",
    "            index = i\n",
    "    return index"
   ]
  },
  {
   "cell_type": "code",
   "execution_count": 33,
   "metadata": {},
   "outputs": [],
   "source": [
    "def wrong_feats(i, df)->list:\n",
    "    wrong_feats_l = []\n",
    "    for col in df.columns:\n",
    "        if not is_correct(col, df.iloc[i][col]):\n",
    "            wrong_feats_l.append(col)\n",
    "                \n",
    "    return wrong_feats_l "
   ]
  },
  {
   "cell_type": "markdown",
   "metadata": {},
   "source": [
    "## NaN defeating"
   ]
  },
  {
   "cell_type": "code",
   "execution_count": 34,
   "metadata": {},
   "outputs": [],
   "source": [
    "for i in df[df.isna().any(1)].index: # any(1) any null in row\n",
    "    for feat_name in  df.columns[df.iloc[i].isna()].tolist():\n",
    "        df.loc[i, feat_name] = df.loc[best_match(i, feat_name, df), feat_name] #loc by reference, iloc by constant reference"
   ]
  },
  {
   "cell_type": "markdown",
   "metadata": {},
   "source": [
    "## wrong sex or age defeating"
   ]
  },
  {
   "cell_type": "code",
   "execution_count": 35,
   "metadata": {},
   "outputs": [],
   "source": [
    "for i in df[(df['age']>100) | (df['age'] < 10) | ((df['sex'] != 'F') & (df['sex'] != 'M')) ].index:\n",
    "    for feat_name in wrong_feats(i, df):\n",
    "        df.loc[i, feat_name] = df.loc[best_match(i, feat_name, df), feat_name]"
   ]
  },
  {
   "cell_type": "markdown",
   "metadata": {
    "_cell_guid": "21ae96ef-7925-4a81-1f1d-54d4ed018ec3",
    "id": "_p3_0Is6nuf6"
   },
   "source": [
    "## Закодируйте категориальные признаки"
   ]
  },
  {
   "cell_type": "code",
   "execution_count": 36,
   "metadata": {
    "id": "TTzs_qcqnuf6"
   },
   "outputs": [],
   "source": [
    "df = pd.get_dummies(df)"
   ]
  },
  {
   "cell_type": "code",
   "execution_count": 37,
   "metadata": {},
   "outputs": [],
   "source": [
    "#df = X_initial.copy()\n",
    "#fig, ax = plt.subplots(figsize=(15,15)) \n",
    "#sns.heatmap(df.corr(method='spearman'), \n",
    "#         vmin=-1, vmax=1,annot=True,cmap=\"YlGn\",ax=ax)"
   ]
  },
  {
   "cell_type": "markdown",
   "metadata": {
    "_cell_guid": "21ae96ef-7925-4a81-1f1d-54d4ed018ec3",
    "id": "TQGQtLdynuf8"
   },
   "source": [
    "## Придумайте сложные признаки\n",
    "\n",
    "Сложные признаки - это комбинации существующих (линейных или нелинейных).\n",
    "Это нужно для того, чтобы самостоятельно добавить нелинейность в алгоритм.\n",
    "\n",
    "Приведите не менее двух признаков."
   ]
  },
  {
   "cell_type": "code",
   "execution_count": 38,
   "metadata": {},
   "outputs": [],
   "source": [
    "df['DalcWalc'] = df['Dalc'] * df['Walc']\n",
    "df['HealthWalc'] = df['health'] * df['Walc']\n",
    "df['HealthDalc'] = df['Dalc'] * df['health']"
   ]
  },
  {
   "cell_type": "markdown",
   "metadata": {
    "_cell_guid": "21ae96ef-7925-4a81-1f1d-54d4ed018ec3",
    "id": "JCVXK7Wsnuf0"
   },
   "source": [
    "## Удалите скоррелированные данные"
   ]
  },
  {
   "cell_type": "code",
   "execution_count": 39,
   "metadata": {},
   "outputs": [
    {
     "name": "stderr",
     "output_type": "stream",
     "text": [
      "C:\\Users\\User!!!!!!!!\\AppData\\Local\\Temp\\ipykernel_2408\\768683541.py:2: DeprecationWarning: `np.bool` is a deprecated alias for the builtin `bool`. To silence this warning, use `bool` by itself. Doing this will not modify any behavior and is safe. If you specifically wanted the numpy scalar type, use `np.bool_` here.\n",
      "Deprecated in NumPy 1.20; for more details and guidance: https://numpy.org/devdocs/release/1.20.0-notes.html#deprecations\n",
      "  upper_tri = cor_matrix.where(np.triu(np.ones(cor_matrix.shape),k=1).astype(np.bool)) # for don't checking diagonal elements, and don't delete both of correlation rows\n"
     ]
    }
   ],
   "source": [
    "cor_matrix = df.corr().abs()\n",
    "upper_tri = cor_matrix.where(np.triu(np.ones(cor_matrix.shape),k=1).astype(np.bool)) # for don't checking diagonal elements, and don't delete both of correlation rows\n",
    "to_drop = [column for column in upper_tri.columns if any(upper_tri[column] > 0.95)]\n",
    "df = df.drop(df[to_drop], axis=1)"
   ]
  },
  {
   "cell_type": "code",
   "execution_count": 40,
   "metadata": {},
   "outputs": [
    {
     "data": {
      "text/plain": [
       "['school_MS',\n",
       " 'sex_M',\n",
       " 'address_U',\n",
       " 'famsize_LE3',\n",
       " 'Pstatus_T',\n",
       " 'schoolsup_yes',\n",
       " 'famsup_yes',\n",
       " 'paid_yes',\n",
       " 'activities_yes',\n",
       " 'nursery_yes',\n",
       " 'higher_yes',\n",
       " 'internet_yes',\n",
       " 'romantic_yes']"
      ]
     },
     "execution_count": 40,
     "metadata": {},
     "output_type": "execute_result"
    }
   ],
   "source": [
    "to_drop"
   ]
  },
  {
   "cell_type": "code",
   "execution_count": 41,
   "metadata": {},
   "outputs": [
    {
     "data": {
      "text/plain": [
       "age                  [18.0, 15.0, 17.0, 20.0, 16.0, 19.0, 21.0, 22....\n",
       "Medu                                                   [1, 3, 4, 2, 0]\n",
       "Fedu                                                   [3, 4, 1, 2, 0]\n",
       "traveltime                                                [1, 3, 2, 4]\n",
       "studytime                                                 [1, 2, 3, 4]\n",
       "failures                                                  [0, 1, 2, 3]\n",
       "famrel                                                 [4, 3, 5, 1, 2]\n",
       "freetime                                               [3, 5, 2, 1, 4]\n",
       "goout                                                  [3, 4, 1, 5, 2]\n",
       "Dalc                                                   [2, 3, 1, 5, 4]\n",
       "Walc                                                   [3, 5, 1, 2, 4]\n",
       "health                                                 [3, 5, 2, 1, 4]\n",
       "absences             [0, 16, 4, 8, 2, 1, 9, 6, 5, 11, 3, 10, 12, 14...\n",
       "G3                   [9, 12, 13, 11, 14, 16, 10, 17, 8, 15, 0, 6, 7...\n",
       "school_GP                                                       [0, 1]\n",
       "sex_F                                                           [0, 1]\n",
       "address_R                                                       [0, 1]\n",
       "famsize_GT3                                                     [0, 1]\n",
       "Pstatus_A                                                       [0, 1]\n",
       "Mjob_at_home                                                    [1, 0]\n",
       "Mjob_health                                                     [0, 1]\n",
       "Mjob_other                                                      [0, 1]\n",
       "Mjob_services                                                   [0, 1]\n",
       "Mjob_teacher                                                    [0, 1]\n",
       "Fjob_at_home                                                    [0, 1]\n",
       "Fjob_health                                                     [0, 1]\n",
       "Fjob_other                                                      [0, 1]\n",
       "Fjob_services                                                   [1, 0]\n",
       "Fjob_teacher                                                    [0, 1]\n",
       "reason_course                                                   [1, 0]\n",
       "reason_home                                                     [0, 1]\n",
       "reason_other                                                    [0, 1]\n",
       "reason_reputation                                               [0, 1]\n",
       "guardian_father                                                 [0, 1]\n",
       "guardian_mother                                                 [1, 0]\n",
       "guardian_other                                                  [0, 1]\n",
       "schoolsup_no                                                    [1, 0]\n",
       "famsup_no                                                       [1, 0]\n",
       "paid_no                                                         [1, 0]\n",
       "activities_no                                                   [1, 0]\n",
       "nursery_no                                                      [0, 1]\n",
       "higher_no                                                       [1, 0]\n",
       "internet_no                                                     [0, 1]\n",
       "romantic_no                                                     [0, 1]\n",
       "DalcWalc              [6, 15, 1, 3, 2, 5, 8, 4, 12, 9, 25, 10, 20, 16]\n",
       "HealthWalc            [9, 15, 5, 6, 4, 3, 2, 10, 12, 8, 1, 25, 20, 16]\n",
       "HealthDalc            [6, 9, 5, 2, 3, 1, 8, 4, 10, 15, 20, 12, 25, 16]\n",
       "dtype: object"
      ]
     },
     "execution_count": 41,
     "metadata": {},
     "output_type": "execute_result"
    }
   ],
   "source": [
    "df.apply(lambda col: col.unique())"
   ]
  },
  {
   "cell_type": "markdown",
   "metadata": {},
   "source": [
    "# Часть 3. Стратегия валидации\n",
    "\n",
    "Итак, у вас есть данные для обучения и данные, на которых необходимо сделать предсказание. Для оценки точности необходимо проводить валидацию (так как мало данных, можно проводить кросс валидацию).\n",
    "Валидацию проще всего реализовать методами sklearn, например:\n",
    "- KFold\n",
    "- ShuffleSplit\n",
    "- StratifiedKFold\n",
    "- StratifiedShuffleSplit\n",
    "- GroupKFold\n",
    "- GroupShuffleSplit"
   ]
  },
  {
   "cell_type": "code",
   "execution_count": 42,
   "metadata": {},
   "outputs": [],
   "source": [
    "from sklearn.model_selection import ShuffleSplit, KFold, GroupKFold, StratifiedKFold\n",
    "from sklearn import svm\n",
    "from sklearn.model_selection import cross_val_score\n",
    "from sklearn.neighbors import KNeighborsClassifier\n",
    "from sklearn import naive_bayes"
   ]
  },
  {
   "cell_type": "code",
   "execution_count": 43,
   "metadata": {},
   "outputs": [],
   "source": [
    "to_drop_name = 'G3'"
   ]
  },
  {
   "cell_type": "code",
   "execution_count": 44,
   "metadata": {},
   "outputs": [],
   "source": [
    "X = df.copy()\n",
    "y = X[to_drop_name]\n",
    "X = X.drop(to_drop_name, axis = 1)"
   ]
  },
  {
   "cell_type": "code",
   "execution_count": 45,
   "metadata": {},
   "outputs": [],
   "source": [
    "clf = KNeighborsClassifier(6) # По умочанию - 5 соседей и Евклидова метрика"
   ]
  },
  {
   "cell_type": "code",
   "execution_count": 46,
   "metadata": {},
   "outputs": [],
   "source": [
    "cv = StratifiedKFold(n_splits=5)  # https://ml-handbook.ru/chapters/cross_validation/intro?ysclid=l8vprbxb6o563455842"
   ]
  },
  {
   "cell_type": "code",
   "execution_count": 47,
   "metadata": {},
   "outputs": [
    {
     "name": "stderr",
     "output_type": "stream",
     "text": [
      "D:\\AnacondaGO\\lib\\site-packages\\sklearn\\model_selection\\_split.py:684: UserWarning: The least populated class in y has only 1 members, which is less than n_splits=5.\n",
      "  warnings.warn(\n"
     ]
    },
    {
     "data": {
      "text/plain": [
       "array([0.15384615, 0.1978022 , 0.15384615, 0.14285714, 0.07777778])"
      ]
     },
     "execution_count": 47,
     "metadata": {},
     "output_type": "execute_result"
    }
   ],
   "source": [
    "cross_val_score(clf, X, y, cv=cv)"
   ]
  },
  {
   "cell_type": "markdown",
   "metadata": {},
   "source": [
    "# Часть 4. Заполнение пропусков в данных "
   ]
  },
  {
   "cell_type": "markdown",
   "metadata": {},
   "source": [
    "## Фильтрация по диапазону значений \n",
    "\n",
    "Проверьте, что все характеристики принадлежат тому диапазону значений, который приведен в описании к исходным данным. Например, если в графе \"Пол\" есть значение FF, P или -1, то это явная ошибка заполнения.\n",
    "\n",
    "Приведите данные в соответствии с описанием данных. Если значение указано неверно - укажите ```NaN```."
   ]
  },
  {
   "cell_type": "markdown",
   "metadata": {},
   "source": [
    "## Адаптивное заполнения пропусков \n",
    "\n",
    "Реализуйте стратегию заполнения пропусков данных на основе схожих примеров. Обучите один из известных вам алгоритмов (knn, Naive Bayes, linear regression) для предсказания той характеристики, пропуски которой присутсвуют в данных. В качестве характеристики для обучения алгоритмов __нельзя__ использовать ```G3```."
   ]
  },
  {
   "cell_type": "markdown",
   "metadata": {},
   "source": [
    "#  knn "
   ]
  },
  {
   "cell_type": "code",
   "execution_count": 48,
   "metadata": {},
   "outputs": [],
   "source": [
    "pd.options.mode.chained_assignment = None  # default='warn'"
   ]
  },
  {
   "cell_type": "code",
   "execution_count": 49,
   "metadata": {},
   "outputs": [],
   "source": [
    "# нужно сделать так, чтобы в столбце исправлялись только ошибочные данные, а у меня исправления будут,\n",
    "# если в каком-то другом столбце будут ошибки а в том, который я хочу испраить всё правильно\n",
    "\n",
    "def divide_df(df):\n",
    "    dct = {'M': 1, 'F': 0, 'D': 2, 'C': 3, 'B': 4, 'A': 5}\n",
    "    df['sex'] = df['sex'].map(dct)\n",
    "\n",
    "    df_wrong = df[(df['age'] > 22) | (df['age'] < 15) | ((df['sex'] != 1) & (df['sex'] != 0)) | (df.isnull().any(1))]\n",
    "    #df_wrong['sex'] = df_wrong['sex'].astype('category').cat.codes\n",
    "    df_wrong['address'] = df_wrong['address'].astype('category').cat.codes\n",
    "    df_wrong = pd.get_dummies(df_wrong.fillna(0))\n",
    "    \n",
    "    df_right = df[~((df['age']>22) | (df['age'] < 15) | ((df['sex'] != 1) & (df['sex'] != 0)) | (df.isnull().any(1)))]\n",
    "    #df_right['sex'] = df_right['sex'].astype('category').cat.codes\n",
    "    df_right['address'] = df_right['address'].astype('category').cat.codes\n",
    "    df_right = pd.get_dummies(df_right.fillna(0))\n",
    "    return df_wrong, df_right"
   ]
  },
  {
   "cell_type": "code",
   "execution_count": 50,
   "metadata": {},
   "outputs": [],
   "source": [
    "def divide_df_wrong(df_wrong, feat):\n",
    "    if feat == 'sex':\n",
    "        df_wrong_c = df_wrong[(df_wrong['sex'] != 0) & (df_wrong['sex'] != 1)]\n",
    "    elif feat == 'age':\n",
    "        df_wrong_c = df_wrong[(df_wrong['age'] > 22) | (df_wrong['age'] < 15)]\n",
    "    elif feat == 'address':\n",
    "        df_wrong_c = df_wrong[(df_wrong['address'] != 0) & (df_wrong['address'] != 1)]\n",
    "    return df_wrong_c"
   ]
  },
  {
   "cell_type": "code",
   "execution_count": 51,
   "metadata": {},
   "outputs": [],
   "source": [
    "df = X_initial.copy()"
   ]
  },
  {
   "cell_type": "code",
   "execution_count": 52,
   "metadata": {},
   "outputs": [],
   "source": [
    "df_wrong, df_right = divide_df(df)"
   ]
  },
  {
   "cell_type": "code",
   "execution_count": 53,
   "metadata": {},
   "outputs": [],
   "source": [
    "def repair_df(algorythm, df_wrong, df_right, feats):\n",
    "    for feat in feats:\n",
    "        X = df_right.drop([feat],axis = 1)\n",
    "        y = df_right[feat]\n",
    "        algorythm.fit(X, y)\n",
    "        X_pred = divide_df_wrong(df_wrong, feat)\n",
    "        X_pred[feat] = algorythm.predict(X_pred[X.columns])\n",
    "        df_wrong[feat].update(X_pred[feat])"
   ]
  },
  {
   "cell_type": "code",
   "execution_count": 54,
   "metadata": {},
   "outputs": [],
   "source": [
    "repair_df(KNeighborsClassifier(), df_wrong, df_right, ['sex', 'age', 'address'])"
   ]
  },
  {
   "cell_type": "code",
   "execution_count": 55,
   "metadata": {},
   "outputs": [],
   "source": [
    "df = pd.concat([df_wrong, df_right]).sort_index()"
   ]
  },
  {
   "cell_type": "code",
   "execution_count": 56,
   "metadata": {},
   "outputs": [
    {
     "data": {
      "text/plain": [
       "array([1, 0], dtype=int8)"
      ]
     },
     "execution_count": 56,
     "metadata": {},
     "output_type": "execute_result"
    }
   ],
   "source": [
    "df['address'].unique()"
   ]
  },
  {
   "cell_type": "markdown",
   "metadata": {},
   "source": [
    "# Naive Bayes"
   ]
  },
  {
   "cell_type": "code",
   "execution_count": 57,
   "metadata": {},
   "outputs": [],
   "source": [
    "from sklearn import naive_bayes"
   ]
  },
  {
   "cell_type": "code",
   "execution_count": 58,
   "metadata": {},
   "outputs": [],
   "source": [
    "df = X_initial.copy()\n",
    "df_wrong, df_right = divide_df(df)"
   ]
  },
  {
   "cell_type": "code",
   "execution_count": 59,
   "metadata": {},
   "outputs": [
    {
     "data": {
      "text/html": [
       "<div>\n",
       "<style scoped>\n",
       "    .dataframe tbody tr th:only-of-type {\n",
       "        vertical-align: middle;\n",
       "    }\n",
       "\n",
       "    .dataframe tbody tr th {\n",
       "        vertical-align: top;\n",
       "    }\n",
       "\n",
       "    .dataframe thead th {\n",
       "        text-align: right;\n",
       "    }\n",
       "</style>\n",
       "<table border=\"1\" class=\"dataframe\">\n",
       "  <thead>\n",
       "    <tr style=\"text-align: right;\">\n",
       "      <th></th>\n",
       "      <th>sex</th>\n",
       "      <th>age</th>\n",
       "      <th>address</th>\n",
       "      <th>Medu</th>\n",
       "      <th>Fedu</th>\n",
       "      <th>traveltime</th>\n",
       "      <th>studytime</th>\n",
       "      <th>failures</th>\n",
       "      <th>famrel</th>\n",
       "      <th>freetime</th>\n",
       "      <th>...</th>\n",
       "      <th>activities_no</th>\n",
       "      <th>activities_yes</th>\n",
       "      <th>nursery_no</th>\n",
       "      <th>nursery_yes</th>\n",
       "      <th>higher_no</th>\n",
       "      <th>higher_yes</th>\n",
       "      <th>internet_no</th>\n",
       "      <th>internet_yes</th>\n",
       "      <th>romantic_no</th>\n",
       "      <th>romantic_yes</th>\n",
       "    </tr>\n",
       "  </thead>\n",
       "  <tbody>\n",
       "    <tr>\n",
       "      <th>0</th>\n",
       "      <td>1</td>\n",
       "      <td>19.0</td>\n",
       "      <td>1</td>\n",
       "      <td>1</td>\n",
       "      <td>3</td>\n",
       "      <td>1</td>\n",
       "      <td>1</td>\n",
       "      <td>0</td>\n",
       "      <td>4</td>\n",
       "      <td>3</td>\n",
       "      <td>...</td>\n",
       "      <td>1</td>\n",
       "      <td>0</td>\n",
       "      <td>0</td>\n",
       "      <td>1</td>\n",
       "      <td>1</td>\n",
       "      <td>0</td>\n",
       "      <td>0</td>\n",
       "      <td>1</td>\n",
       "      <td>0</td>\n",
       "      <td>1</td>\n",
       "    </tr>\n",
       "    <tr>\n",
       "      <th>1</th>\n",
       "      <td>1</td>\n",
       "      <td>19.0</td>\n",
       "      <td>0</td>\n",
       "      <td>3</td>\n",
       "      <td>3</td>\n",
       "      <td>3</td>\n",
       "      <td>1</td>\n",
       "      <td>0</td>\n",
       "      <td>3</td>\n",
       "      <td>3</td>\n",
       "      <td>...</td>\n",
       "      <td>0</td>\n",
       "      <td>1</td>\n",
       "      <td>0</td>\n",
       "      <td>1</td>\n",
       "      <td>0</td>\n",
       "      <td>1</td>\n",
       "      <td>0</td>\n",
       "      <td>1</td>\n",
       "      <td>1</td>\n",
       "      <td>0</td>\n",
       "    </tr>\n",
       "    <tr>\n",
       "      <th>2</th>\n",
       "      <td>1</td>\n",
       "      <td>15.0</td>\n",
       "      <td>1</td>\n",
       "      <td>3</td>\n",
       "      <td>4</td>\n",
       "      <td>1</td>\n",
       "      <td>2</td>\n",
       "      <td>0</td>\n",
       "      <td>5</td>\n",
       "      <td>5</td>\n",
       "      <td>...</td>\n",
       "      <td>0</td>\n",
       "      <td>1</td>\n",
       "      <td>0</td>\n",
       "      <td>1</td>\n",
       "      <td>0</td>\n",
       "      <td>1</td>\n",
       "      <td>0</td>\n",
       "      <td>1</td>\n",
       "      <td>1</td>\n",
       "      <td>0</td>\n",
       "    </tr>\n",
       "    <tr>\n",
       "      <th>3</th>\n",
       "      <td>1</td>\n",
       "      <td>17.0</td>\n",
       "      <td>0</td>\n",
       "      <td>4</td>\n",
       "      <td>3</td>\n",
       "      <td>2</td>\n",
       "      <td>2</td>\n",
       "      <td>1</td>\n",
       "      <td>4</td>\n",
       "      <td>5</td>\n",
       "      <td>...</td>\n",
       "      <td>0</td>\n",
       "      <td>1</td>\n",
       "      <td>1</td>\n",
       "      <td>0</td>\n",
       "      <td>0</td>\n",
       "      <td>1</td>\n",
       "      <td>0</td>\n",
       "      <td>1</td>\n",
       "      <td>0</td>\n",
       "      <td>1</td>\n",
       "    </tr>\n",
       "    <tr>\n",
       "      <th>4</th>\n",
       "      <td>0</td>\n",
       "      <td>20.0</td>\n",
       "      <td>0</td>\n",
       "      <td>2</td>\n",
       "      <td>1</td>\n",
       "      <td>2</td>\n",
       "      <td>2</td>\n",
       "      <td>0</td>\n",
       "      <td>1</td>\n",
       "      <td>2</td>\n",
       "      <td>...</td>\n",
       "      <td>0</td>\n",
       "      <td>1</td>\n",
       "      <td>0</td>\n",
       "      <td>1</td>\n",
       "      <td>1</td>\n",
       "      <td>0</td>\n",
       "      <td>0</td>\n",
       "      <td>1</td>\n",
       "      <td>0</td>\n",
       "      <td>1</td>\n",
       "    </tr>\n",
       "    <tr>\n",
       "      <th>...</th>\n",
       "      <td>...</td>\n",
       "      <td>...</td>\n",
       "      <td>...</td>\n",
       "      <td>...</td>\n",
       "      <td>...</td>\n",
       "      <td>...</td>\n",
       "      <td>...</td>\n",
       "      <td>...</td>\n",
       "      <td>...</td>\n",
       "      <td>...</td>\n",
       "      <td>...</td>\n",
       "      <td>...</td>\n",
       "      <td>...</td>\n",
       "      <td>...</td>\n",
       "      <td>...</td>\n",
       "      <td>...</td>\n",
       "      <td>...</td>\n",
       "      <td>...</td>\n",
       "      <td>...</td>\n",
       "      <td>...</td>\n",
       "      <td>...</td>\n",
       "    </tr>\n",
       "    <tr>\n",
       "      <th>449</th>\n",
       "      <td>1</td>\n",
       "      <td>15.0</td>\n",
       "      <td>1</td>\n",
       "      <td>4</td>\n",
       "      <td>2</td>\n",
       "      <td>1</td>\n",
       "      <td>4</td>\n",
       "      <td>0</td>\n",
       "      <td>3</td>\n",
       "      <td>3</td>\n",
       "      <td>...</td>\n",
       "      <td>1</td>\n",
       "      <td>0</td>\n",
       "      <td>0</td>\n",
       "      <td>1</td>\n",
       "      <td>0</td>\n",
       "      <td>1</td>\n",
       "      <td>0</td>\n",
       "      <td>1</td>\n",
       "      <td>1</td>\n",
       "      <td>0</td>\n",
       "    </tr>\n",
       "    <tr>\n",
       "      <th>450</th>\n",
       "      <td>0</td>\n",
       "      <td>15.0</td>\n",
       "      <td>1</td>\n",
       "      <td>2</td>\n",
       "      <td>2</td>\n",
       "      <td>1</td>\n",
       "      <td>4</td>\n",
       "      <td>0</td>\n",
       "      <td>5</td>\n",
       "      <td>1</td>\n",
       "      <td>...</td>\n",
       "      <td>1</td>\n",
       "      <td>0</td>\n",
       "      <td>0</td>\n",
       "      <td>1</td>\n",
       "      <td>0</td>\n",
       "      <td>1</td>\n",
       "      <td>0</td>\n",
       "      <td>1</td>\n",
       "      <td>1</td>\n",
       "      <td>0</td>\n",
       "    </tr>\n",
       "    <tr>\n",
       "      <th>451</th>\n",
       "      <td>1</td>\n",
       "      <td>16.0</td>\n",
       "      <td>1</td>\n",
       "      <td>4</td>\n",
       "      <td>4</td>\n",
       "      <td>1</td>\n",
       "      <td>1</td>\n",
       "      <td>0</td>\n",
       "      <td>5</td>\n",
       "      <td>3</td>\n",
       "      <td>...</td>\n",
       "      <td>0</td>\n",
       "      <td>1</td>\n",
       "      <td>0</td>\n",
       "      <td>1</td>\n",
       "      <td>0</td>\n",
       "      <td>1</td>\n",
       "      <td>0</td>\n",
       "      <td>1</td>\n",
       "      <td>1</td>\n",
       "      <td>0</td>\n",
       "    </tr>\n",
       "    <tr>\n",
       "      <th>452</th>\n",
       "      <td>0</td>\n",
       "      <td>15.0</td>\n",
       "      <td>0</td>\n",
       "      <td>1</td>\n",
       "      <td>1</td>\n",
       "      <td>2</td>\n",
       "      <td>2</td>\n",
       "      <td>0</td>\n",
       "      <td>5</td>\n",
       "      <td>4</td>\n",
       "      <td>...</td>\n",
       "      <td>1</td>\n",
       "      <td>0</td>\n",
       "      <td>0</td>\n",
       "      <td>1</td>\n",
       "      <td>0</td>\n",
       "      <td>1</td>\n",
       "      <td>0</td>\n",
       "      <td>1</td>\n",
       "      <td>1</td>\n",
       "      <td>0</td>\n",
       "    </tr>\n",
       "    <tr>\n",
       "      <th>453</th>\n",
       "      <td>1</td>\n",
       "      <td>15.0</td>\n",
       "      <td>1</td>\n",
       "      <td>4</td>\n",
       "      <td>4</td>\n",
       "      <td>1</td>\n",
       "      <td>1</td>\n",
       "      <td>0</td>\n",
       "      <td>5</td>\n",
       "      <td>3</td>\n",
       "      <td>...</td>\n",
       "      <td>0</td>\n",
       "      <td>1</td>\n",
       "      <td>1</td>\n",
       "      <td>0</td>\n",
       "      <td>0</td>\n",
       "      <td>1</td>\n",
       "      <td>0</td>\n",
       "      <td>1</td>\n",
       "      <td>1</td>\n",
       "      <td>0</td>\n",
       "    </tr>\n",
       "  </tbody>\n",
       "</table>\n",
       "<p>454 rows × 55 columns</p>\n",
       "</div>"
      ],
      "text/plain": [
       "     sex   age  address  Medu  Fedu  traveltime  studytime  failures  famrel  \\\n",
       "0      1  19.0        1     1     3           1          1         0       4   \n",
       "1      1  19.0        0     3     3           3          1         0       3   \n",
       "2      1  15.0        1     3     4           1          2         0       5   \n",
       "3      1  17.0        0     4     3           2          2         1       4   \n",
       "4      0  20.0        0     2     1           2          2         0       1   \n",
       "..   ...   ...      ...   ...   ...         ...        ...       ...     ...   \n",
       "449    1  15.0        1     4     2           1          4         0       3   \n",
       "450    0  15.0        1     2     2           1          4         0       5   \n",
       "451    1  16.0        1     4     4           1          1         0       5   \n",
       "452    0  15.0        0     1     1           2          2         0       5   \n",
       "453    1  15.0        1     4     4           1          1         0       5   \n",
       "\n",
       "     freetime  ...  activities_no  activities_yes  nursery_no  nursery_yes  \\\n",
       "0           3  ...              1               0           0            1   \n",
       "1           3  ...              0               1           0            1   \n",
       "2           5  ...              0               1           0            1   \n",
       "3           5  ...              0               1           1            0   \n",
       "4           2  ...              0               1           0            1   \n",
       "..        ...  ...            ...             ...         ...          ...   \n",
       "449         3  ...              1               0           0            1   \n",
       "450         1  ...              1               0           0            1   \n",
       "451         3  ...              0               1           0            1   \n",
       "452         4  ...              1               0           0            1   \n",
       "453         3  ...              0               1           1            0   \n",
       "\n",
       "     higher_no  higher_yes  internet_no  internet_yes  romantic_no  \\\n",
       "0            1           0            0             1            0   \n",
       "1            0           1            0             1            1   \n",
       "2            0           1            0             1            1   \n",
       "3            0           1            0             1            0   \n",
       "4            1           0            0             1            0   \n",
       "..         ...         ...          ...           ...          ...   \n",
       "449          0           1            0             1            1   \n",
       "450          0           1            0             1            1   \n",
       "451          0           1            0             1            1   \n",
       "452          0           1            0             1            1   \n",
       "453          0           1            0             1            1   \n",
       "\n",
       "     romantic_yes  \n",
       "0               1  \n",
       "1               0  \n",
       "2               0  \n",
       "3               1  \n",
       "4               1  \n",
       "..            ...  \n",
       "449             0  \n",
       "450             0  \n",
       "451             0  \n",
       "452             0  \n",
       "453             0  \n",
       "\n",
       "[454 rows x 55 columns]"
      ]
     },
     "execution_count": 59,
     "metadata": {},
     "output_type": "execute_result"
    }
   ],
   "source": [
    "repair_df(naive_bayes.GaussianNB(), df_wrong, df_right, ['sex', 'age', 'address'])\n",
    "df = pd.concat([df_wrong, df_right]).sort_index() #\n",
    "#df.isnull().any()\n",
    "df"
   ]
  },
  {
   "cell_type": "markdown",
   "metadata": {},
   "source": [
    "# Linear Regression"
   ]
  },
  {
   "cell_type": "code",
   "execution_count": 60,
   "metadata": {},
   "outputs": [],
   "source": [
    "from sklearn.linear_model import LinearRegression"
   ]
  },
  {
   "cell_type": "code",
   "execution_count": 61,
   "metadata": {},
   "outputs": [],
   "source": [
    "df = X_initial.copy()\n",
    "df_wrong, df_right = divide_df(df)"
   ]
  },
  {
   "cell_type": "code",
   "execution_count": 62,
   "metadata": {},
   "outputs": [],
   "source": [
    "repair_df(LinearRegression(), df_wrong, df_right, ['address', 'age', 'sex'])\n",
    "df = pd.concat([df_wrong, df_right]).sort_index()\n",
    "df = df.astype('int')"
   ]
  },
  {
   "cell_type": "markdown",
   "metadata": {},
   "source": [
    "# now let's assume that current df is best, so we have to drop correlated data"
   ]
  },
  {
   "cell_type": "code",
   "execution_count": 63,
   "metadata": {},
   "outputs": [
    {
     "name": "stderr",
     "output_type": "stream",
     "text": [
      "C:\\Users\\User!!!!!!!!\\AppData\\Local\\Temp\\ipykernel_2408\\4178155157.py:2: DeprecationWarning: `np.bool` is a deprecated alias for the builtin `bool`. To silence this warning, use `bool` by itself. Doing this will not modify any behavior and is safe. If you specifically wanted the numpy scalar type, use `np.bool_` here.\n",
      "Deprecated in NumPy 1.20; for more details and guidance: https://numpy.org/devdocs/release/1.20.0-notes.html#deprecations\n",
      "  upper_tri = cor_matrix.where(np.triu(np.ones(cor_matrix.shape),k=1).astype(np.bool))\n"
     ]
    }
   ],
   "source": [
    "cor_matrix = df.corr().abs()\n",
    "upper_tri = cor_matrix.where(np.triu(np.ones(cor_matrix.shape),k=1).astype(np.bool))\n",
    "to_drop = [column for column in upper_tri.columns if any(upper_tri[column] > 0.95)]\n",
    "df = df.drop(df[to_drop], axis=1)"
   ]
  },
  {
   "cell_type": "code",
   "execution_count": 64,
   "metadata": {},
   "outputs": [
    {
     "data": {
      "text/html": [
       "<div>\n",
       "<style scoped>\n",
       "    .dataframe tbody tr th:only-of-type {\n",
       "        vertical-align: middle;\n",
       "    }\n",
       "\n",
       "    .dataframe tbody tr th {\n",
       "        vertical-align: top;\n",
       "    }\n",
       "\n",
       "    .dataframe thead th {\n",
       "        text-align: right;\n",
       "    }\n",
       "</style>\n",
       "<table border=\"1\" class=\"dataframe\">\n",
       "  <thead>\n",
       "    <tr style=\"text-align: right;\">\n",
       "      <th></th>\n",
       "      <th>sex</th>\n",
       "      <th>age</th>\n",
       "      <th>address</th>\n",
       "      <th>Medu</th>\n",
       "      <th>Fedu</th>\n",
       "      <th>traveltime</th>\n",
       "      <th>studytime</th>\n",
       "      <th>failures</th>\n",
       "      <th>famrel</th>\n",
       "      <th>freetime</th>\n",
       "      <th>...</th>\n",
       "      <th>guardian_mother</th>\n",
       "      <th>guardian_other</th>\n",
       "      <th>schoolsup_no</th>\n",
       "      <th>famsup_no</th>\n",
       "      <th>paid_no</th>\n",
       "      <th>activities_no</th>\n",
       "      <th>nursery_no</th>\n",
       "      <th>higher_no</th>\n",
       "      <th>internet_no</th>\n",
       "      <th>romantic_no</th>\n",
       "    </tr>\n",
       "  </thead>\n",
       "  <tbody>\n",
       "    <tr>\n",
       "      <th>0</th>\n",
       "      <td>1</td>\n",
       "      <td>17</td>\n",
       "      <td>1</td>\n",
       "      <td>1</td>\n",
       "      <td>3</td>\n",
       "      <td>1</td>\n",
       "      <td>1</td>\n",
       "      <td>0</td>\n",
       "      <td>4</td>\n",
       "      <td>3</td>\n",
       "      <td>...</td>\n",
       "      <td>1</td>\n",
       "      <td>0</td>\n",
       "      <td>1</td>\n",
       "      <td>1</td>\n",
       "      <td>1</td>\n",
       "      <td>1</td>\n",
       "      <td>0</td>\n",
       "      <td>1</td>\n",
       "      <td>0</td>\n",
       "      <td>0</td>\n",
       "    </tr>\n",
       "    <tr>\n",
       "      <th>1</th>\n",
       "      <td>1</td>\n",
       "      <td>16</td>\n",
       "      <td>0</td>\n",
       "      <td>3</td>\n",
       "      <td>3</td>\n",
       "      <td>3</td>\n",
       "      <td>1</td>\n",
       "      <td>0</td>\n",
       "      <td>3</td>\n",
       "      <td>3</td>\n",
       "      <td>...</td>\n",
       "      <td>0</td>\n",
       "      <td>0</td>\n",
       "      <td>1</td>\n",
       "      <td>0</td>\n",
       "      <td>1</td>\n",
       "      <td>0</td>\n",
       "      <td>0</td>\n",
       "      <td>0</td>\n",
       "      <td>0</td>\n",
       "      <td>1</td>\n",
       "    </tr>\n",
       "    <tr>\n",
       "      <th>2</th>\n",
       "      <td>1</td>\n",
       "      <td>15</td>\n",
       "      <td>0</td>\n",
       "      <td>3</td>\n",
       "      <td>4</td>\n",
       "      <td>1</td>\n",
       "      <td>2</td>\n",
       "      <td>0</td>\n",
       "      <td>5</td>\n",
       "      <td>5</td>\n",
       "      <td>...</td>\n",
       "      <td>1</td>\n",
       "      <td>0</td>\n",
       "      <td>1</td>\n",
       "      <td>0</td>\n",
       "      <td>1</td>\n",
       "      <td>0</td>\n",
       "      <td>0</td>\n",
       "      <td>0</td>\n",
       "      <td>0</td>\n",
       "      <td>1</td>\n",
       "    </tr>\n",
       "    <tr>\n",
       "      <th>3</th>\n",
       "      <td>1</td>\n",
       "      <td>17</td>\n",
       "      <td>0</td>\n",
       "      <td>4</td>\n",
       "      <td>3</td>\n",
       "      <td>2</td>\n",
       "      <td>2</td>\n",
       "      <td>1</td>\n",
       "      <td>4</td>\n",
       "      <td>5</td>\n",
       "      <td>...</td>\n",
       "      <td>1</td>\n",
       "      <td>0</td>\n",
       "      <td>1</td>\n",
       "      <td>0</td>\n",
       "      <td>0</td>\n",
       "      <td>0</td>\n",
       "      <td>1</td>\n",
       "      <td>0</td>\n",
       "      <td>0</td>\n",
       "      <td>0</td>\n",
       "    </tr>\n",
       "    <tr>\n",
       "      <th>4</th>\n",
       "      <td>0</td>\n",
       "      <td>20</td>\n",
       "      <td>0</td>\n",
       "      <td>2</td>\n",
       "      <td>1</td>\n",
       "      <td>2</td>\n",
       "      <td>2</td>\n",
       "      <td>0</td>\n",
       "      <td>1</td>\n",
       "      <td>2</td>\n",
       "      <td>...</td>\n",
       "      <td>0</td>\n",
       "      <td>1</td>\n",
       "      <td>1</td>\n",
       "      <td>0</td>\n",
       "      <td>0</td>\n",
       "      <td>0</td>\n",
       "      <td>0</td>\n",
       "      <td>1</td>\n",
       "      <td>0</td>\n",
       "      <td>0</td>\n",
       "    </tr>\n",
       "    <tr>\n",
       "      <th>...</th>\n",
       "      <td>...</td>\n",
       "      <td>...</td>\n",
       "      <td>...</td>\n",
       "      <td>...</td>\n",
       "      <td>...</td>\n",
       "      <td>...</td>\n",
       "      <td>...</td>\n",
       "      <td>...</td>\n",
       "      <td>...</td>\n",
       "      <td>...</td>\n",
       "      <td>...</td>\n",
       "      <td>...</td>\n",
       "      <td>...</td>\n",
       "      <td>...</td>\n",
       "      <td>...</td>\n",
       "      <td>...</td>\n",
       "      <td>...</td>\n",
       "      <td>...</td>\n",
       "      <td>...</td>\n",
       "      <td>...</td>\n",
       "      <td>...</td>\n",
       "    </tr>\n",
       "    <tr>\n",
       "      <th>449</th>\n",
       "      <td>1</td>\n",
       "      <td>15</td>\n",
       "      <td>1</td>\n",
       "      <td>4</td>\n",
       "      <td>2</td>\n",
       "      <td>1</td>\n",
       "      <td>4</td>\n",
       "      <td>0</td>\n",
       "      <td>3</td>\n",
       "      <td>3</td>\n",
       "      <td>...</td>\n",
       "      <td>1</td>\n",
       "      <td>0</td>\n",
       "      <td>1</td>\n",
       "      <td>1</td>\n",
       "      <td>1</td>\n",
       "      <td>1</td>\n",
       "      <td>0</td>\n",
       "      <td>0</td>\n",
       "      <td>0</td>\n",
       "      <td>1</td>\n",
       "    </tr>\n",
       "    <tr>\n",
       "      <th>450</th>\n",
       "      <td>0</td>\n",
       "      <td>15</td>\n",
       "      <td>1</td>\n",
       "      <td>2</td>\n",
       "      <td>2</td>\n",
       "      <td>1</td>\n",
       "      <td>4</td>\n",
       "      <td>0</td>\n",
       "      <td>5</td>\n",
       "      <td>1</td>\n",
       "      <td>...</td>\n",
       "      <td>1</td>\n",
       "      <td>0</td>\n",
       "      <td>0</td>\n",
       "      <td>0</td>\n",
       "      <td>1</td>\n",
       "      <td>1</td>\n",
       "      <td>0</td>\n",
       "      <td>0</td>\n",
       "      <td>0</td>\n",
       "      <td>1</td>\n",
       "    </tr>\n",
       "    <tr>\n",
       "      <th>451</th>\n",
       "      <td>1</td>\n",
       "      <td>16</td>\n",
       "      <td>1</td>\n",
       "      <td>4</td>\n",
       "      <td>4</td>\n",
       "      <td>1</td>\n",
       "      <td>1</td>\n",
       "      <td>0</td>\n",
       "      <td>5</td>\n",
       "      <td>3</td>\n",
       "      <td>...</td>\n",
       "      <td>1</td>\n",
       "      <td>0</td>\n",
       "      <td>1</td>\n",
       "      <td>1</td>\n",
       "      <td>0</td>\n",
       "      <td>0</td>\n",
       "      <td>0</td>\n",
       "      <td>0</td>\n",
       "      <td>0</td>\n",
       "      <td>1</td>\n",
       "    </tr>\n",
       "    <tr>\n",
       "      <th>452</th>\n",
       "      <td>0</td>\n",
       "      <td>15</td>\n",
       "      <td>0</td>\n",
       "      <td>1</td>\n",
       "      <td>1</td>\n",
       "      <td>2</td>\n",
       "      <td>2</td>\n",
       "      <td>0</td>\n",
       "      <td>5</td>\n",
       "      <td>4</td>\n",
       "      <td>...</td>\n",
       "      <td>0</td>\n",
       "      <td>0</td>\n",
       "      <td>1</td>\n",
       "      <td>0</td>\n",
       "      <td>1</td>\n",
       "      <td>1</td>\n",
       "      <td>0</td>\n",
       "      <td>0</td>\n",
       "      <td>0</td>\n",
       "      <td>1</td>\n",
       "    </tr>\n",
       "    <tr>\n",
       "      <th>453</th>\n",
       "      <td>1</td>\n",
       "      <td>15</td>\n",
       "      <td>1</td>\n",
       "      <td>4</td>\n",
       "      <td>4</td>\n",
       "      <td>1</td>\n",
       "      <td>1</td>\n",
       "      <td>0</td>\n",
       "      <td>5</td>\n",
       "      <td>3</td>\n",
       "      <td>...</td>\n",
       "      <td>1</td>\n",
       "      <td>0</td>\n",
       "      <td>1</td>\n",
       "      <td>0</td>\n",
       "      <td>0</td>\n",
       "      <td>0</td>\n",
       "      <td>1</td>\n",
       "      <td>0</td>\n",
       "      <td>0</td>\n",
       "      <td>1</td>\n",
       "    </tr>\n",
       "  </tbody>\n",
       "</table>\n",
       "<p>454 rows × 44 columns</p>\n",
       "</div>"
      ],
      "text/plain": [
       "     sex  age  address  Medu  Fedu  traveltime  studytime  failures  famrel  \\\n",
       "0      1   17        1     1     3           1          1         0       4   \n",
       "1      1   16        0     3     3           3          1         0       3   \n",
       "2      1   15        0     3     4           1          2         0       5   \n",
       "3      1   17        0     4     3           2          2         1       4   \n",
       "4      0   20        0     2     1           2          2         0       1   \n",
       "..   ...  ...      ...   ...   ...         ...        ...       ...     ...   \n",
       "449    1   15        1     4     2           1          4         0       3   \n",
       "450    0   15        1     2     2           1          4         0       5   \n",
       "451    1   16        1     4     4           1          1         0       5   \n",
       "452    0   15        0     1     1           2          2         0       5   \n",
       "453    1   15        1     4     4           1          1         0       5   \n",
       "\n",
       "     freetime  ...  guardian_mother  guardian_other  schoolsup_no  famsup_no  \\\n",
       "0           3  ...                1               0             1          1   \n",
       "1           3  ...                0               0             1          0   \n",
       "2           5  ...                1               0             1          0   \n",
       "3           5  ...                1               0             1          0   \n",
       "4           2  ...                0               1             1          0   \n",
       "..        ...  ...              ...             ...           ...        ...   \n",
       "449         3  ...                1               0             1          1   \n",
       "450         1  ...                1               0             0          0   \n",
       "451         3  ...                1               0             1          1   \n",
       "452         4  ...                0               0             1          0   \n",
       "453         3  ...                1               0             1          0   \n",
       "\n",
       "     paid_no  activities_no  nursery_no  higher_no  internet_no  romantic_no  \n",
       "0          1              1           0          1            0            0  \n",
       "1          1              0           0          0            0            1  \n",
       "2          1              0           0          0            0            1  \n",
       "3          0              0           1          0            0            0  \n",
       "4          0              0           0          1            0            0  \n",
       "..       ...            ...         ...        ...          ...          ...  \n",
       "449        1              1           0          0            0            1  \n",
       "450        1              1           0          0            0            1  \n",
       "451        0              0           0          0            0            1  \n",
       "452        1              1           0          0            0            1  \n",
       "453        0              0           1          0            0            1  \n",
       "\n",
       "[454 rows x 44 columns]"
      ]
     },
     "execution_count": 64,
     "metadata": {},
     "output_type": "execute_result"
    }
   ],
   "source": [
    "df"
   ]
  },
  {
   "cell_type": "markdown",
   "metadata": {},
   "source": [
    "# Часть 5. Обучение алгоритма"
   ]
  },
  {
   "cell_type": "markdown",
   "metadata": {},
   "source": [
    "Целевая переменная принимает дискретные значения [0; 20], поэтому вы можете поставить как задачу классификации, так и задачу регрессии.\n",
    "\n",
    "!Не забудьте про оптимизацию параметров алгоритмов, у вас же уже есть данные для валидации."
   ]
  },
  {
   "cell_type": "code",
   "execution_count": 65,
   "metadata": {},
   "outputs": [],
   "source": [
    "from sklearn.metrics import mean_absolute_error as mae"
   ]
  },
  {
   "cell_type": "code",
   "execution_count": 66,
   "metadata": {},
   "outputs": [],
   "source": [
    "from sklearn.linear_model import SGDRegressor\n",
    "from sklearn.metrics import mean_squared_error, r2_score\n",
    "from sklearn.model_selection import GridSearchCV\n",
    "from sklearn import svm\n",
    "\n",
    "import warnings\n",
    "warnings.filterwarnings(\"ignore\")"
   ]
  },
  {
   "cell_type": "code",
   "execution_count": 67,
   "metadata": {},
   "outputs": [],
   "source": [
    "init_scores = {}"
   ]
  },
  {
   "cell_type": "markdown",
   "metadata": {},
   "source": [
    "## KNN"
   ]
  },
  {
   "cell_type": "code",
   "execution_count": 68,
   "metadata": {},
   "outputs": [],
   "source": [
    "to_drop_name = 'G3'\n",
    "X = df.copy()\n",
    "y = X[to_drop_name]\n",
    "X = X.drop(to_drop_name, axis = 1)"
   ]
  },
  {
   "cell_type": "code",
   "execution_count": 69,
   "metadata": {},
   "outputs": [
    {
     "data": {
      "text/html": [
       "<div>\n",
       "<style scoped>\n",
       "    .dataframe tbody tr th:only-of-type {\n",
       "        vertical-align: middle;\n",
       "    }\n",
       "\n",
       "    .dataframe tbody tr th {\n",
       "        vertical-align: top;\n",
       "    }\n",
       "\n",
       "    .dataframe thead th {\n",
       "        text-align: right;\n",
       "    }\n",
       "</style>\n",
       "<table border=\"1\" class=\"dataframe\">\n",
       "  <thead>\n",
       "    <tr style=\"text-align: right;\">\n",
       "      <th></th>\n",
       "      <th>mean_test_score</th>\n",
       "      <th>std_test_score</th>\n",
       "      <th>params</th>\n",
       "    </tr>\n",
       "  </thead>\n",
       "  <tbody>\n",
       "    <tr>\n",
       "      <th>31</th>\n",
       "      <td>0.212000</td>\n",
       "      <td>0.115145</td>\n",
       "      <td>{'n_neighbors': 32}</td>\n",
       "    </tr>\n",
       "    <tr>\n",
       "      <th>86</th>\n",
       "      <td>0.203333</td>\n",
       "      <td>0.100891</td>\n",
       "      <td>{'n_neighbors': 87}</td>\n",
       "    </tr>\n",
       "    <tr>\n",
       "      <th>85</th>\n",
       "      <td>0.203333</td>\n",
       "      <td>0.103309</td>\n",
       "      <td>{'n_neighbors': 86}</td>\n",
       "    </tr>\n",
       "    <tr>\n",
       "      <th>39</th>\n",
       "      <td>0.203111</td>\n",
       "      <td>0.107750</td>\n",
       "      <td>{'n_neighbors': 40}</td>\n",
       "    </tr>\n",
       "    <tr>\n",
       "      <th>30</th>\n",
       "      <td>0.201111</td>\n",
       "      <td>0.108281</td>\n",
       "      <td>{'n_neighbors': 31}</td>\n",
       "    </tr>\n",
       "    <tr>\n",
       "      <th>...</th>\n",
       "      <td>...</td>\n",
       "      <td>...</td>\n",
       "      <td>...</td>\n",
       "    </tr>\n",
       "    <tr>\n",
       "      <th>5</th>\n",
       "      <td>0.143778</td>\n",
       "      <td>0.115820</td>\n",
       "      <td>{'n_neighbors': 6}</td>\n",
       "    </tr>\n",
       "    <tr>\n",
       "      <th>4</th>\n",
       "      <td>0.143556</td>\n",
       "      <td>0.113743</td>\n",
       "      <td>{'n_neighbors': 5}</td>\n",
       "    </tr>\n",
       "    <tr>\n",
       "      <th>1</th>\n",
       "      <td>0.140667</td>\n",
       "      <td>0.098623</td>\n",
       "      <td>{'n_neighbors': 2}</td>\n",
       "    </tr>\n",
       "    <tr>\n",
       "      <th>2</th>\n",
       "      <td>0.140444</td>\n",
       "      <td>0.130237</td>\n",
       "      <td>{'n_neighbors': 3}</td>\n",
       "    </tr>\n",
       "    <tr>\n",
       "      <th>3</th>\n",
       "      <td>0.136444</td>\n",
       "      <td>0.099779</td>\n",
       "      <td>{'n_neighbors': 4}</td>\n",
       "    </tr>\n",
       "  </tbody>\n",
       "</table>\n",
       "<p>99 rows × 3 columns</p>\n",
       "</div>"
      ],
      "text/plain": [
       "    mean_test_score  std_test_score               params\n",
       "31         0.212000        0.115145  {'n_neighbors': 32}\n",
       "86         0.203333        0.100891  {'n_neighbors': 87}\n",
       "85         0.203333        0.103309  {'n_neighbors': 86}\n",
       "39         0.203111        0.107750  {'n_neighbors': 40}\n",
       "30         0.201111        0.108281  {'n_neighbors': 31}\n",
       "..              ...             ...                  ...\n",
       "5          0.143778        0.115820   {'n_neighbors': 6}\n",
       "4          0.143556        0.113743   {'n_neighbors': 5}\n",
       "1          0.140667        0.098623   {'n_neighbors': 2}\n",
       "2          0.140444        0.130237   {'n_neighbors': 3}\n",
       "3          0.136444        0.099779   {'n_neighbors': 4}\n",
       "\n",
       "[99 rows x 3 columns]"
      ]
     },
     "execution_count": 69,
     "metadata": {},
     "output_type": "execute_result"
    }
   ],
   "source": [
    "cv = StratifiedKFold(n_splits=50)\n",
    "\n",
    "parameters = {'n_neighbors':range(1, 100)}\n",
    "knn = KNeighborsClassifier()\n",
    "\n",
    "grid = GridSearchCV(estimator=knn,\n",
    "             param_grid=parameters, cv = cv)\n",
    "grid=grid.fit(X, y)\n",
    "grid.score(X, y)\n",
    "\n",
    "# grid_search.score\n",
    "pd.DataFrame(grid.cv_results_)[['mean_test_score', 'std_test_score', 'params']].sort_values(by='mean_test_score', ascending = False)"
   ]
  },
  {
   "cell_type": "code",
   "execution_count": 70,
   "metadata": {},
   "outputs": [
    {
     "name": "stdout",
     "output_type": "stream",
     "text": [
      "cross_val_score  -1.75\n"
     ]
    }
   ],
   "source": [
    "cv = StratifiedKFold(n_splits=20)\n",
    "knn = KNeighborsClassifier(87)\n",
    "\n",
    "score = np.mean(cross_val_score(knn, X, y, cv=cv, scoring ='neg_median_absolute_error'))\n",
    "print(f'cross_val_score ', score)\n",
    "\n",
    "init_scores['Knn'] = score"
   ]
  },
  {
   "cell_type": "markdown",
   "metadata": {},
   "source": [
    "## Bayes"
   ]
  },
  {
   "cell_type": "code",
   "execution_count": 71,
   "metadata": {},
   "outputs": [],
   "source": [
    "to_drop_name = 'G3'\n",
    "X = df.copy()\n",
    "y = X[to_drop_name]\n",
    "X = X.drop(to_drop_name, axis = 1)"
   ]
  },
  {
   "cell_type": "code",
   "execution_count": 72,
   "metadata": {},
   "outputs": [
    {
     "name": "stdout",
     "output_type": "stream",
     "text": [
      "cross_val_score  -3.825\n"
     ]
    }
   ],
   "source": [
    "cv = StratifiedKFold(n_splits=20)\n",
    "nb = naive_bayes.GaussianNB()\n",
    "\n",
    "score = np.mean(cross_val_score(nb, X, y, cv=cv, scoring ='neg_median_absolute_error'))\n",
    "print(f'cross_val_score ', score)\n",
    "\n",
    "init_scores['Nb'] = score"
   ]
  },
  {
   "cell_type": "markdown",
   "metadata": {},
   "source": [
    "## Регрессия"
   ]
  },
  {
   "cell_type": "code",
   "execution_count": 73,
   "metadata": {},
   "outputs": [],
   "source": [
    "to_drop_name = 'G3'\n",
    "X = df.copy()\n",
    "y = X[to_drop_name]\n",
    "X = X.drop(to_drop_name, axis = 1)"
   ]
  },
  {
   "cell_type": "code",
   "execution_count": 74,
   "metadata": {},
   "outputs": [
    {
     "name": "stdout",
     "output_type": "stream",
     "text": [
      "cross_val_score  -1.5790030479431152\n"
     ]
    }
   ],
   "source": [
    "cv = StratifiedKFold(n_splits=20)\n",
    "lreg = LinearRegression()\n",
    "\n",
    "score = np.mean(cross_val_score(lreg, X, y, cv=cv, scoring ='neg_median_absolute_error'))\n",
    "print(f'cross_val_score ', score)\n",
    "\n",
    "init_scores['Lr'] = score"
   ]
  },
  {
   "cell_type": "markdown",
   "metadata": {},
   "source": [
    "## SVM"
   ]
  },
  {
   "cell_type": "code",
   "execution_count": 75,
   "metadata": {},
   "outputs": [],
   "source": [
    "to_drop_name = 'G3'\n",
    "X = df.copy()\n",
    "y = X[to_drop_name]\n",
    "X = X.drop(to_drop_name, axis = 1)"
   ]
  },
  {
   "cell_type": "code",
   "execution_count": 76,
   "metadata": {},
   "outputs": [
    {
     "data": {
      "text/html": [
       "<div>\n",
       "<style scoped>\n",
       "    .dataframe tbody tr th:only-of-type {\n",
       "        vertical-align: middle;\n",
       "    }\n",
       "\n",
       "    .dataframe tbody tr th {\n",
       "        vertical-align: top;\n",
       "    }\n",
       "\n",
       "    .dataframe thead th {\n",
       "        text-align: right;\n",
       "    }\n",
       "</style>\n",
       "<table border=\"1\" class=\"dataframe\">\n",
       "  <thead>\n",
       "    <tr style=\"text-align: right;\">\n",
       "      <th></th>\n",
       "      <th>mean_test_score</th>\n",
       "      <th>std_test_score</th>\n",
       "      <th>params</th>\n",
       "    </tr>\n",
       "  </thead>\n",
       "  <tbody>\n",
       "    <tr>\n",
       "      <th>5</th>\n",
       "      <td>0.209486</td>\n",
       "      <td>0.076636</td>\n",
       "      <td>{'C': 3, 'kernel': 'rbf'}</td>\n",
       "    </tr>\n",
       "    <tr>\n",
       "      <th>9</th>\n",
       "      <td>0.206917</td>\n",
       "      <td>0.072293</td>\n",
       "      <td>{'C': 5, 'kernel': 'rbf'}</td>\n",
       "    </tr>\n",
       "    <tr>\n",
       "      <th>7</th>\n",
       "      <td>0.204941</td>\n",
       "      <td>0.069015</td>\n",
       "      <td>{'C': 4, 'kernel': 'rbf'}</td>\n",
       "    </tr>\n",
       "    <tr>\n",
       "      <th>11</th>\n",
       "      <td>0.200593</td>\n",
       "      <td>0.075613</td>\n",
       "      <td>{'C': 6, 'kernel': 'rbf'}</td>\n",
       "    </tr>\n",
       "    <tr>\n",
       "      <th>3</th>\n",
       "      <td>0.196245</td>\n",
       "      <td>0.073235</td>\n",
       "      <td>{'C': 2, 'kernel': 'rbf'}</td>\n",
       "    </tr>\n",
       "    <tr>\n",
       "      <th>15</th>\n",
       "      <td>0.191700</td>\n",
       "      <td>0.067034</td>\n",
       "      <td>{'C': 8, 'kernel': 'rbf'}</td>\n",
       "    </tr>\n",
       "    <tr>\n",
       "      <th>0</th>\n",
       "      <td>0.189921</td>\n",
       "      <td>0.092540</td>\n",
       "      <td>{'C': 1, 'kernel': 'linear'}</td>\n",
       "    </tr>\n",
       "    <tr>\n",
       "      <th>13</th>\n",
       "      <td>0.189526</td>\n",
       "      <td>0.069640</td>\n",
       "      <td>{'C': 7, 'kernel': 'rbf'}</td>\n",
       "    </tr>\n",
       "    <tr>\n",
       "      <th>17</th>\n",
       "      <td>0.189427</td>\n",
       "      <td>0.065122</td>\n",
       "      <td>{'C': 9, 'kernel': 'rbf'}</td>\n",
       "    </tr>\n",
       "    <tr>\n",
       "      <th>1</th>\n",
       "      <td>0.187747</td>\n",
       "      <td>0.070863</td>\n",
       "      <td>{'C': 1, 'kernel': 'rbf'}</td>\n",
       "    </tr>\n",
       "    <tr>\n",
       "      <th>4</th>\n",
       "      <td>0.172233</td>\n",
       "      <td>0.097155</td>\n",
       "      <td>{'C': 3, 'kernel': 'linear'}</td>\n",
       "    </tr>\n",
       "    <tr>\n",
       "      <th>16</th>\n",
       "      <td>0.169960</td>\n",
       "      <td>0.115461</td>\n",
       "      <td>{'C': 9, 'kernel': 'linear'}</td>\n",
       "    </tr>\n",
       "    <tr>\n",
       "      <th>6</th>\n",
       "      <td>0.167787</td>\n",
       "      <td>0.108077</td>\n",
       "      <td>{'C': 4, 'kernel': 'linear'}</td>\n",
       "    </tr>\n",
       "    <tr>\n",
       "      <th>8</th>\n",
       "      <td>0.167688</td>\n",
       "      <td>0.104469</td>\n",
       "      <td>{'C': 5, 'kernel': 'linear'}</td>\n",
       "    </tr>\n",
       "    <tr>\n",
       "      <th>10</th>\n",
       "      <td>0.167589</td>\n",
       "      <td>0.104165</td>\n",
       "      <td>{'C': 6, 'kernel': 'linear'}</td>\n",
       "    </tr>\n",
       "    <tr>\n",
       "      <th>2</th>\n",
       "      <td>0.165711</td>\n",
       "      <td>0.093249</td>\n",
       "      <td>{'C': 2, 'kernel': 'linear'}</td>\n",
       "    </tr>\n",
       "    <tr>\n",
       "      <th>14</th>\n",
       "      <td>0.163142</td>\n",
       "      <td>0.108455</td>\n",
       "      <td>{'C': 8, 'kernel': 'linear'}</td>\n",
       "    </tr>\n",
       "    <tr>\n",
       "      <th>12</th>\n",
       "      <td>0.160968</td>\n",
       "      <td>0.106012</td>\n",
       "      <td>{'C': 7, 'kernel': 'linear'}</td>\n",
       "    </tr>\n",
       "  </tbody>\n",
       "</table>\n",
       "</div>"
      ],
      "text/plain": [
       "    mean_test_score  std_test_score                        params\n",
       "5          0.209486        0.076636     {'C': 3, 'kernel': 'rbf'}\n",
       "9          0.206917        0.072293     {'C': 5, 'kernel': 'rbf'}\n",
       "7          0.204941        0.069015     {'C': 4, 'kernel': 'rbf'}\n",
       "11         0.200593        0.075613     {'C': 6, 'kernel': 'rbf'}\n",
       "3          0.196245        0.073235     {'C': 2, 'kernel': 'rbf'}\n",
       "15         0.191700        0.067034     {'C': 8, 'kernel': 'rbf'}\n",
       "0          0.189921        0.092540  {'C': 1, 'kernel': 'linear'}\n",
       "13         0.189526        0.069640     {'C': 7, 'kernel': 'rbf'}\n",
       "17         0.189427        0.065122     {'C': 9, 'kernel': 'rbf'}\n",
       "1          0.187747        0.070863     {'C': 1, 'kernel': 'rbf'}\n",
       "4          0.172233        0.097155  {'C': 3, 'kernel': 'linear'}\n",
       "16         0.169960        0.115461  {'C': 9, 'kernel': 'linear'}\n",
       "6          0.167787        0.108077  {'C': 4, 'kernel': 'linear'}\n",
       "8          0.167688        0.104469  {'C': 5, 'kernel': 'linear'}\n",
       "10         0.167589        0.104165  {'C': 6, 'kernel': 'linear'}\n",
       "2          0.165711        0.093249  {'C': 2, 'kernel': 'linear'}\n",
       "14         0.163142        0.108455  {'C': 8, 'kernel': 'linear'}\n",
       "12         0.160968        0.106012  {'C': 7, 'kernel': 'linear'}"
      ]
     },
     "execution_count": 76,
     "metadata": {},
     "output_type": "execute_result"
    }
   ],
   "source": [
    "cv = StratifiedKFold(n_splits=20)\n",
    "\n",
    "parameters = {'kernel':('linear', 'rbf'), 'C': range(1,10)}\n",
    "\n",
    "grid = GridSearchCV(estimator=svm.SVC(),\n",
    "             param_grid=parameters, cv = cv)\n",
    "grid=grid.fit(X, y)\n",
    "grid.score(X, y)\n",
    "\n",
    "pd.DataFrame(grid.cv_results_)[['mean_test_score', 'std_test_score', 'params']].sort_values(by='mean_test_score', ascending = False)"
   ]
  },
  {
   "cell_type": "code",
   "execution_count": 77,
   "metadata": {},
   "outputs": [
    {
     "name": "stdout",
     "output_type": "stream",
     "text": [
      "cross_val_score  -1.575\n"
     ]
    }
   ],
   "source": [
    "svc = svm.SVC(C = 5, kernel = 'rbf')\n",
    "\n",
    "score = np.mean(cross_val_score(svc, X, y, cv=cv, scoring ='neg_median_absolute_error'))\n",
    "print(f'cross_val_score ', score)\n",
    "\n",
    "init_scores['Svc'] = score"
   ]
  },
  {
   "cell_type": "markdown",
   "metadata": {},
   "source": [
    "## Постройте сложную модель на основе предыдущих четырех простых и оцените ее точность"
   ]
  },
  {
   "cell_type": "code",
   "execution_count": 78,
   "metadata": {},
   "outputs": [],
   "source": [
    "from sklearn.model_selection import train_test_split"
   ]
  },
  {
   "cell_type": "markdown",
   "metadata": {},
   "source": [
    "Вариант 1. Нужно взвесить предсказания простых моделей. Предложите метод взвешивания."
   ]
  },
  {
   "cell_type": "markdown",
   "metadata": {},
   "source": [
    "1) т к LR , SVM дают более точные предсказания(по MAE в 3 раза), чем Knn, Nb будем брать их результат с весом 3, а предсказания Knn,Nb с весом 1"
   ]
  },
  {
   "cell_type": "code",
   "execution_count": 79,
   "metadata": {},
   "outputs": [],
   "source": [
    "to_drop_name = 'G3'\n",
    "X = df.copy()\n",
    "y = X[to_drop_name]\n",
    "X = X.drop(to_drop_name, axis = 1)\n",
    "X_train, X_test, y_train, y_test = train_test_split(X, y, train_size=0.8, test_size=0.2,\n",
    "                                                    shuffle=True, random_state=42)"
   ]
  },
  {
   "cell_type": "code",
   "execution_count": 80,
   "metadata": {},
   "outputs": [],
   "source": [
    "classifiers = {'Knn': KNeighborsClassifier(87), 'Nb': naive_bayes.GaussianNB(), 'Lr': LinearRegression(),\n",
    "              'Svc' : svm.SVC(C = 5, kernel = 'rbf')}"
   ]
  },
  {
   "cell_type": "code",
   "execution_count": 81,
   "metadata": {},
   "outputs": [
    {
     "data": {
      "text/plain": [
       "{'Knn': -1.75, 'Nb': -3.825, 'Lr': -1.5790030479431152, 'Svc': -1.575}"
      ]
     },
     "execution_count": 81,
     "metadata": {},
     "output_type": "execute_result"
    }
   ],
   "source": [
    "predictions = {}\n",
    "scores = init_scores.copy()\n",
    "scores # По сути веса"
   ]
  },
  {
   "cell_type": "code",
   "execution_count": 82,
   "metadata": {},
   "outputs": [
    {
     "data": {
      "text/plain": [
       "{'Knn': 0.27196662891166207,\n",
       " 'Nb': 0.12442917662625062,\n",
       " 'Lr': 0.30141905122690726,\n",
       " 'Svc': 0.30218514323518003}"
      ]
     },
     "execution_count": 82,
     "metadata": {},
     "output_type": "execute_result"
    }
   ],
   "source": [
    "scores = {cls: 1 / w for cls, w in scores.items()}\n",
    "w_sum = sum(scores.values())\n",
    "scores = {cls: w / w_sum  for cls, w in scores.items()}\n",
    "scores"
   ]
  },
  {
   "cell_type": "code",
   "execution_count": 83,
   "metadata": {},
   "outputs": [],
   "source": [
    "for key in classifiers.keys():\n",
    "    cls = classifiers[key]\n",
    "    cls.fit(X_train,y_train)\n",
    "    predictions[key] = cls.predict(X_test).astype('int')"
   ]
  },
  {
   "cell_type": "code",
   "execution_count": 84,
   "metadata": {},
   "outputs": [],
   "source": [
    "pred = np.sum(scores[cls]*predictions[cls] for cls in classifiers.keys()).astype('int') # like linear regression, we got weights(scores)"
   ]
  },
  {
   "cell_type": "code",
   "execution_count": 85,
   "metadata": {},
   "outputs": [
    {
     "name": "stdout",
     "output_type": "stream",
     "text": [
      "2.1758241758241756\n"
     ]
    }
   ],
   "source": [
    "error = mae(pred, y_test)\n",
    "print(error)"
   ]
  },
  {
   "cell_type": "markdown",
   "metadata": {},
   "source": [
    "## Another prediction"
   ]
  },
  {
   "cell_type": "code",
   "execution_count": 86,
   "metadata": {},
   "outputs": [],
   "source": [
    "new_pred = np.array([], int)"
   ]
  },
  {
   "cell_type": "code",
   "execution_count": 87,
   "metadata": {},
   "outputs": [],
   "source": [
    "for i in range(len(predictions['Knn'])):\n",
    "    values = np.array([predictions['Knn'][i], predictions['Lr'][i], predictions['Svc'][i]])\n",
    "    if values[0] == values[1]:\n",
    "        new_pred = np.append(new_pred, values[0])\n",
    "    elif values[0] == values[1] == values[2]:\n",
    "        new_pred = np.append(new_pred, values[0])\n",
    "    elif values[0] == values[2]:\n",
    "        new_pred = np.append(new_pred, values[0])\n",
    "    elif values[1] == values[2]:\n",
    "        new_pred = np.append(new_pred, values[1])\n",
    "    else:\n",
    "        new_pred = np.append(new_pred, values[2])"
   ]
  },
  {
   "cell_type": "code",
   "execution_count": 88,
   "metadata": {},
   "outputs": [
    {
     "name": "stdout",
     "output_type": "stream",
     "text": [
      "2.208791208791209\n"
     ]
    }
   ],
   "source": [
    "error = mae(new_pred, y_test)\n",
    "print(error)"
   ]
  },
  {
   "cell_type": "markdown",
   "metadata": {},
   "source": [
    "# what if we drop Nb?"
   ]
  },
  {
   "cell_type": "code",
   "execution_count": 89,
   "metadata": {},
   "outputs": [],
   "source": [
    "scores_no_nb = init_scores.copy()\n",
    "scores_no_nb.pop('Nb', None)\n",
    "\n",
    "w_sum_no_nb = sum(scores_no_nb.values())\n",
    "scores_no_nb = {cls: w / w_sum_no_nb for cls, w in scores_no_nb.items()}"
   ]
  },
  {
   "cell_type": "code",
   "execution_count": 90,
   "metadata": {},
   "outputs": [
    {
     "data": {
      "text/plain": [
       "{'Knn': 0.35685132796440694,\n",
       " 'Lr': 0.3219824768676267,\n",
       " 'Svc': 0.32116619516796624}"
      ]
     },
     "execution_count": 90,
     "metadata": {},
     "output_type": "execute_result"
    }
   ],
   "source": [
    "scores_no_nb"
   ]
  },
  {
   "cell_type": "code",
   "execution_count": 91,
   "metadata": {},
   "outputs": [],
   "source": [
    "predictions_no_nb = {}"
   ]
  },
  {
   "cell_type": "code",
   "execution_count": 92,
   "metadata": {},
   "outputs": [],
   "source": [
    "for key in scores_no_nb.keys():\n",
    "    cls = classifiers[key]\n",
    "    cls.fit(X_train,y_train)\n",
    "    predictions_no_nb[key] = cls.predict(X_test).astype('int')"
   ]
  },
  {
   "cell_type": "code",
   "execution_count": 93,
   "metadata": {},
   "outputs": [
    {
     "data": {
      "text/plain": [
       "{'Knn': array([11, 10, 11, 11, 13, 13, 13, 10, 13, 10, 10, 10, 13, 13, 13, 10, 13,\n",
       "        10, 10, 13, 10, 11, 11, 13, 13, 10, 10, 13, 13, 13, 13, 10, 10, 13,\n",
       "        13, 10, 13, 11, 10, 10, 10, 11, 13, 10, 13, 11, 11, 13, 10, 10, 13,\n",
       "        11, 10, 11, 13, 10, 11, 10, 13, 13, 13, 10, 11, 11, 13, 11, 13, 10,\n",
       "        11, 13, 10, 10, 13, 11, 13, 13, 13, 13, 13, 13, 13, 11, 11, 13, 11,\n",
       "        13, 13, 10, 13, 11, 13]),\n",
       " 'Lr': array([10, 10,  8, 12, 12, 12, 12, 14,  9, 13,  9, 11, 11, 13, 11, 13, 13,\n",
       "        12,  7, 13,  9, 13, 10, 13, 10,  9, 10, 14, 12, 14, 10, 14, 11, 14,\n",
       "        14, 10, 13,  7, 11, 10, 10, 11, 11, 12, 13,  9, 11, 10, 13, 10, 13,\n",
       "        10,  4, 10, 11,  7, 12,  9, 10, 14, 11,  9, 11, 10, 12,  6, 13,  9,\n",
       "        13, 14, 10,  6, 13, 11, 12, 12, 10, 10,  9, 11, 10, 12, 12, 10, 10,\n",
       "        12, 13, 14, 14,  7, 14]),\n",
       " 'Svc': array([11, 12, 15, 11, 11, 13, 11, 13, 13, 13, 10, 13, 10, 11, 10, 11, 11,\n",
       "        10, 10, 13, 10, 12, 13, 12, 10, 10, 11, 13, 13, 13, 13, 10, 10, 13,\n",
       "        13, 10, 13, 10, 10,  8, 10, 10, 13, 10, 10, 11, 11, 11, 12, 10, 13,\n",
       "        11, 10, 11, 11, 10, 13, 10, 11, 13, 13, 10, 11, 11, 13, 10, 13, 10,\n",
       "        11, 13, 11, 10, 13, 11, 13, 13, 10, 12, 13, 13, 12, 13, 11, 11, 10,\n",
       "        13, 13, 14, 13, 10, 13])}"
      ]
     },
     "execution_count": 93,
     "metadata": {},
     "output_type": "execute_result"
    }
   ],
   "source": [
    "predictions_no_nb"
   ]
  },
  {
   "cell_type": "code",
   "execution_count": 94,
   "metadata": {},
   "outputs": [],
   "source": [
    "pred_no_nb = np.sum(scores_no_nb[cls]*predictions_no_nb[cls] for cls in scores_no_nb.keys()).astype('int')"
   ]
  },
  {
   "cell_type": "code",
   "execution_count": 95,
   "metadata": {},
   "outputs": [
    {
     "name": "stdout",
     "output_type": "stream",
     "text": [
      "2.1868131868131866\n"
     ]
    }
   ],
   "source": [
    "error_no_nb = mae(pred_no_nb, y_test)\n",
    "print(error_no_nb)"
   ]
  },
  {
   "cell_type": "code",
   "execution_count": 96,
   "metadata": {},
   "outputs": [
    {
     "data": {
      "text/plain": [
       "(73, 91)"
      ]
     },
     "execution_count": 96,
     "metadata": {},
     "output_type": "execute_result"
    }
   ],
   "source": [
    "np.sum(pred_no_nb != y_test), len(y_test)"
   ]
  },
  {
   "cell_type": "markdown",
   "metadata": {},
   "source": [
    "Вариант 2. Нужно оценить корреляцию предсказаний простых моделей."
   ]
  },
  {
   "cell_type": "code",
   "execution_count": 97,
   "metadata": {},
   "outputs": [],
   "source": [
    "predictions\n",
    "df_pred = pd.DataFrame(predictions)"
   ]
  },
  {
   "cell_type": "code",
   "execution_count": 98,
   "metadata": {},
   "outputs": [
    {
     "data": {
      "text/plain": [
       "<AxesSubplot: >"
      ]
     },
     "execution_count": 98,
     "metadata": {},
     "output_type": "execute_result"
    },
    {
     "data": {
      "image/png": "[encoded data removed]",
      "text/plain": [
       "<Figure size 1000x1000 with 2 Axes>"
      ]
     },
     "metadata": {},
     "output_type": "display_data"
    }
   ],
   "source": [
    "fig, ax = plt.subplots(figsize=(10,10)) \n",
    "sns.heatmap(df_pred.corr(method='spearman'), \n",
    "         vmin=-1, vmax=1,annot=True,cmap=\"YlGn\",ax=ax)"
   ]
  },
  {
   "cell_type": "markdown",
   "metadata": {},
   "source": [
    "## Сделайте итоговое предсказание"
   ]
  },
  {
   "cell_type": "markdown",
   "metadata": {},
   "source": [
    "Решением домашнего задания является данный ноутбук + .csv файл с предсказанием. Пример формата файла, который должен у вас получится приведен в ```data/sample_submission.csv```. Данные для предсказания - ```X_test.csv```.\n",
    "\n",
    "За лучшее предсказание 5 человек получат +10% к домашке.\n",
    "\n",
    "Значения предсказаний должны быть целочисленными. Проверка будет точности решения будет по MSE."
   ]
  },
  {
   "cell_type": "code",
   "execution_count": 99,
   "metadata": {},
   "outputs": [],
   "source": [
    "# Для jupyter notebook\n",
    "\n",
    "submission = pd.read_csv('sample_submission.csv', index_col='id')\n",
    "submission['G3'] = 1 # ваше предсказание\n",
    "submission.to_csv('submission.csv', index=False) "
   ]
  },
  {
   "cell_type": "code",
   "execution_count": 100,
   "metadata": {},
   "outputs": [
    {
     "data": {
      "text/html": [
       "<div>\n",
       "<style scoped>\n",
       "    .dataframe tbody tr th:only-of-type {\n",
       "        vertical-align: middle;\n",
       "    }\n",
       "\n",
       "    .dataframe tbody tr th {\n",
       "        vertical-align: top;\n",
       "    }\n",
       "\n",
       "    .dataframe thead th {\n",
       "        text-align: right;\n",
       "    }\n",
       "</style>\n",
       "<table border=\"1\" class=\"dataframe\">\n",
       "  <thead>\n",
       "    <tr style=\"text-align: right;\">\n",
       "      <th></th>\n",
       "      <th>G3</th>\n",
       "    </tr>\n",
       "    <tr>\n",
       "      <th>id</th>\n",
       "      <th></th>\n",
       "    </tr>\n",
       "  </thead>\n",
       "  <tbody>\n",
       "    <tr>\n",
       "      <th>0</th>\n",
       "      <td>1</td>\n",
       "    </tr>\n",
       "    <tr>\n",
       "      <th>1</th>\n",
       "      <td>1</td>\n",
       "    </tr>\n",
       "    <tr>\n",
       "      <th>2</th>\n",
       "      <td>1</td>\n",
       "    </tr>\n",
       "    <tr>\n",
       "      <th>3</th>\n",
       "      <td>1</td>\n",
       "    </tr>\n",
       "    <tr>\n",
       "      <th>4</th>\n",
       "      <td>1</td>\n",
       "    </tr>\n",
       "    <tr>\n",
       "      <th>...</th>\n",
       "      <td>...</td>\n",
       "    </tr>\n",
       "    <tr>\n",
       "      <th>190</th>\n",
       "      <td>1</td>\n",
       "    </tr>\n",
       "    <tr>\n",
       "      <th>191</th>\n",
       "      <td>1</td>\n",
       "    </tr>\n",
       "    <tr>\n",
       "      <th>192</th>\n",
       "      <td>1</td>\n",
       "    </tr>\n",
       "    <tr>\n",
       "      <th>193</th>\n",
       "      <td>1</td>\n",
       "    </tr>\n",
       "    <tr>\n",
       "      <th>194</th>\n",
       "      <td>1</td>\n",
       "    </tr>\n",
       "  </tbody>\n",
       "</table>\n",
       "<p>195 rows × 1 columns</p>\n",
       "</div>"
      ],
      "text/plain": [
       "     G3\n",
       "id     \n",
       "0     1\n",
       "1     1\n",
       "2     1\n",
       "3     1\n",
       "4     1\n",
       "..   ..\n",
       "190   1\n",
       "191   1\n",
       "192   1\n",
       "193   1\n",
       "194   1\n",
       "\n",
       "[195 rows x 1 columns]"
      ]
     },
     "execution_count": 100,
     "metadata": {},
     "output_type": "execute_result"
    }
   ],
   "source": [
    "submission"
   ]
  },
  {
   "cell_type": "code",
   "execution_count": 101,
   "metadata": {},
   "outputs": [
    {
     "data": {
      "text/html": [
       "<div>\n",
       "<style scoped>\n",
       "    .dataframe tbody tr th:only-of-type {\n",
       "        vertical-align: middle;\n",
       "    }\n",
       "\n",
       "    .dataframe tbody tr th {\n",
       "        vertical-align: top;\n",
       "    }\n",
       "\n",
       "    .dataframe thead th {\n",
       "        text-align: right;\n",
       "    }\n",
       "</style>\n",
       "<table border=\"1\" class=\"dataframe\">\n",
       "  <thead>\n",
       "    <tr style=\"text-align: right;\">\n",
       "      <th></th>\n",
       "      <th>school</th>\n",
       "      <th>sex</th>\n",
       "      <th>age</th>\n",
       "      <th>address</th>\n",
       "      <th>famsize</th>\n",
       "      <th>Pstatus</th>\n",
       "      <th>Medu</th>\n",
       "      <th>Fedu</th>\n",
       "      <th>Mjob</th>\n",
       "      <th>Fjob</th>\n",
       "      <th>...</th>\n",
       "      <th>higher</th>\n",
       "      <th>internet</th>\n",
       "      <th>romantic</th>\n",
       "      <th>famrel</th>\n",
       "      <th>freetime</th>\n",
       "      <th>goout</th>\n",
       "      <th>Dalc</th>\n",
       "      <th>Walc</th>\n",
       "      <th>health</th>\n",
       "      <th>absences</th>\n",
       "    </tr>\n",
       "  </thead>\n",
       "  <tbody>\n",
       "    <tr>\n",
       "      <th>0</th>\n",
       "      <td>MS</td>\n",
       "      <td>M</td>\n",
       "      <td>18</td>\n",
       "      <td>U</td>\n",
       "      <td>GT3</td>\n",
       "      <td>T</td>\n",
       "      <td>4</td>\n",
       "      <td>4</td>\n",
       "      <td>teacher</td>\n",
       "      <td>teacher</td>\n",
       "      <td>...</td>\n",
       "      <td>yes</td>\n",
       "      <td>yes</td>\n",
       "      <td>no</td>\n",
       "      <td>3</td>\n",
       "      <td>2</td>\n",
       "      <td>4</td>\n",
       "      <td>1</td>\n",
       "      <td>4</td>\n",
       "      <td>2</td>\n",
       "      <td>4</td>\n",
       "    </tr>\n",
       "    <tr>\n",
       "      <th>1</th>\n",
       "      <td>GP</td>\n",
       "      <td>F</td>\n",
       "      <td>16</td>\n",
       "      <td>U</td>\n",
       "      <td>GT3</td>\n",
       "      <td>A</td>\n",
       "      <td>3</td>\n",
       "      <td>1</td>\n",
       "      <td>services</td>\n",
       "      <td>other</td>\n",
       "      <td>...</td>\n",
       "      <td>yes</td>\n",
       "      <td>yes</td>\n",
       "      <td>no</td>\n",
       "      <td>2</td>\n",
       "      <td>3</td>\n",
       "      <td>3</td>\n",
       "      <td>2</td>\n",
       "      <td>2</td>\n",
       "      <td>4</td>\n",
       "      <td>2</td>\n",
       "    </tr>\n",
       "    <tr>\n",
       "      <th>2</th>\n",
       "      <td>MS</td>\n",
       "      <td>F</td>\n",
       "      <td>18</td>\n",
       "      <td>U</td>\n",
       "      <td>GT3</td>\n",
       "      <td>T</td>\n",
       "      <td>4</td>\n",
       "      <td>4</td>\n",
       "      <td>teacher</td>\n",
       "      <td>teacher</td>\n",
       "      <td>...</td>\n",
       "      <td>yes</td>\n",
       "      <td>yes</td>\n",
       "      <td>no</td>\n",
       "      <td>4</td>\n",
       "      <td>3</td>\n",
       "      <td>5</td>\n",
       "      <td>1</td>\n",
       "      <td>2</td>\n",
       "      <td>1</td>\n",
       "      <td>0</td>\n",
       "    </tr>\n",
       "    <tr>\n",
       "      <th>3</th>\n",
       "      <td>MS</td>\n",
       "      <td>M</td>\n",
       "      <td>16</td>\n",
       "      <td>R</td>\n",
       "      <td>LE3</td>\n",
       "      <td>A</td>\n",
       "      <td>4</td>\n",
       "      <td>4</td>\n",
       "      <td>at_home</td>\n",
       "      <td>other</td>\n",
       "      <td>...</td>\n",
       "      <td>yes</td>\n",
       "      <td>no</td>\n",
       "      <td>no</td>\n",
       "      <td>5</td>\n",
       "      <td>3</td>\n",
       "      <td>2</td>\n",
       "      <td>1</td>\n",
       "      <td>3</td>\n",
       "      <td>2</td>\n",
       "      <td>5</td>\n",
       "    </tr>\n",
       "    <tr>\n",
       "      <th>4</th>\n",
       "      <td>GP</td>\n",
       "      <td>F</td>\n",
       "      <td>15</td>\n",
       "      <td>R</td>\n",
       "      <td>GT3</td>\n",
       "      <td>T</td>\n",
       "      <td>1</td>\n",
       "      <td>1</td>\n",
       "      <td>other</td>\n",
       "      <td>other</td>\n",
       "      <td>...</td>\n",
       "      <td>yes</td>\n",
       "      <td>yes</td>\n",
       "      <td>yes</td>\n",
       "      <td>3</td>\n",
       "      <td>3</td>\n",
       "      <td>4</td>\n",
       "      <td>2</td>\n",
       "      <td>4</td>\n",
       "      <td>5</td>\n",
       "      <td>2</td>\n",
       "    </tr>\n",
       "    <tr>\n",
       "      <th>...</th>\n",
       "      <td>...</td>\n",
       "      <td>...</td>\n",
       "      <td>...</td>\n",
       "      <td>...</td>\n",
       "      <td>...</td>\n",
       "      <td>...</td>\n",
       "      <td>...</td>\n",
       "      <td>...</td>\n",
       "      <td>...</td>\n",
       "      <td>...</td>\n",
       "      <td>...</td>\n",
       "      <td>...</td>\n",
       "      <td>...</td>\n",
       "      <td>...</td>\n",
       "      <td>...</td>\n",
       "      <td>...</td>\n",
       "      <td>...</td>\n",
       "      <td>...</td>\n",
       "      <td>...</td>\n",
       "      <td>...</td>\n",
       "      <td>...</td>\n",
       "    </tr>\n",
       "    <tr>\n",
       "      <th>190</th>\n",
       "      <td>GP</td>\n",
       "      <td>F</td>\n",
       "      <td>18</td>\n",
       "      <td>R</td>\n",
       "      <td>GT3</td>\n",
       "      <td>T</td>\n",
       "      <td>2</td>\n",
       "      <td>1</td>\n",
       "      <td>other</td>\n",
       "      <td>other</td>\n",
       "      <td>...</td>\n",
       "      <td>no</td>\n",
       "      <td>yes</td>\n",
       "      <td>yes</td>\n",
       "      <td>4</td>\n",
       "      <td>3</td>\n",
       "      <td>5</td>\n",
       "      <td>1</td>\n",
       "      <td>2</td>\n",
       "      <td>3</td>\n",
       "      <td>12</td>\n",
       "    </tr>\n",
       "    <tr>\n",
       "      <th>191</th>\n",
       "      <td>GP</td>\n",
       "      <td>M</td>\n",
       "      <td>18</td>\n",
       "      <td>U</td>\n",
       "      <td>GT3</td>\n",
       "      <td>T</td>\n",
       "      <td>2</td>\n",
       "      <td>2</td>\n",
       "      <td>other</td>\n",
       "      <td>at_home</td>\n",
       "      <td>...</td>\n",
       "      <td>no</td>\n",
       "      <td>yes</td>\n",
       "      <td>yes</td>\n",
       "      <td>4</td>\n",
       "      <td>4</td>\n",
       "      <td>3</td>\n",
       "      <td>2</td>\n",
       "      <td>2</td>\n",
       "      <td>1</td>\n",
       "      <td>26</td>\n",
       "    </tr>\n",
       "    <tr>\n",
       "      <th>192</th>\n",
       "      <td>GP</td>\n",
       "      <td>F</td>\n",
       "      <td>16</td>\n",
       "      <td>U</td>\n",
       "      <td>GT3</td>\n",
       "      <td>A</td>\n",
       "      <td>2</td>\n",
       "      <td>2</td>\n",
       "      <td>other</td>\n",
       "      <td>other</td>\n",
       "      <td>...</td>\n",
       "      <td>yes</td>\n",
       "      <td>no</td>\n",
       "      <td>no</td>\n",
       "      <td>5</td>\n",
       "      <td>3</td>\n",
       "      <td>4</td>\n",
       "      <td>1</td>\n",
       "      <td>1</td>\n",
       "      <td>5</td>\n",
       "      <td>12</td>\n",
       "    </tr>\n",
       "    <tr>\n",
       "      <th>193</th>\n",
       "      <td>GP</td>\n",
       "      <td>F</td>\n",
       "      <td>17</td>\n",
       "      <td>U</td>\n",
       "      <td>GT3</td>\n",
       "      <td>T</td>\n",
       "      <td>1</td>\n",
       "      <td>1</td>\n",
       "      <td>at_home</td>\n",
       "      <td>other</td>\n",
       "      <td>...</td>\n",
       "      <td>yes</td>\n",
       "      <td>no</td>\n",
       "      <td>yes</td>\n",
       "      <td>4</td>\n",
       "      <td>3</td>\n",
       "      <td>2</td>\n",
       "      <td>1</td>\n",
       "      <td>1</td>\n",
       "      <td>4</td>\n",
       "      <td>10</td>\n",
       "    </tr>\n",
       "    <tr>\n",
       "      <th>194</th>\n",
       "      <td>GP</td>\n",
       "      <td>F</td>\n",
       "      <td>17</td>\n",
       "      <td>U</td>\n",
       "      <td>GT3</td>\n",
       "      <td>T</td>\n",
       "      <td>1</td>\n",
       "      <td>1</td>\n",
       "      <td>at_home</td>\n",
       "      <td>other</td>\n",
       "      <td>...</td>\n",
       "      <td>yes</td>\n",
       "      <td>no</td>\n",
       "      <td>yes</td>\n",
       "      <td>4</td>\n",
       "      <td>3</td>\n",
       "      <td>4</td>\n",
       "      <td>1</td>\n",
       "      <td>1</td>\n",
       "      <td>5</td>\n",
       "      <td>12</td>\n",
       "    </tr>\n",
       "  </tbody>\n",
       "</table>\n",
       "<p>195 rows × 30 columns</p>\n",
       "</div>"
      ],
      "text/plain": [
       "    school sex  age address famsize Pstatus  Medu  Fedu      Mjob     Fjob  \\\n",
       "0       MS   M   18       U     GT3       T     4     4   teacher  teacher   \n",
       "1       GP   F   16       U     GT3       A     3     1  services    other   \n",
       "2       MS   F   18       U     GT3       T     4     4   teacher  teacher   \n",
       "3       MS   M   16       R     LE3       A     4     4   at_home    other   \n",
       "4       GP   F   15       R     GT3       T     1     1     other    other   \n",
       "..     ...  ..  ...     ...     ...     ...   ...   ...       ...      ...   \n",
       "190     GP   F   18       R     GT3       T     2     1     other    other   \n",
       "191     GP   M   18       U     GT3       T     2     2     other  at_home   \n",
       "192     GP   F   16       U     GT3       A     2     2     other    other   \n",
       "193     GP   F   17       U     GT3       T     1     1   at_home    other   \n",
       "194     GP   F   17       U     GT3       T     1     1   at_home    other   \n",
       "\n",
       "     ... higher internet  romantic  famrel  freetime goout Dalc Walc health  \\\n",
       "0    ...    yes      yes        no       3         2     4    1    4      2   \n",
       "1    ...    yes      yes        no       2         3     3    2    2      4   \n",
       "2    ...    yes      yes        no       4         3     5    1    2      1   \n",
       "3    ...    yes       no        no       5         3     2    1    3      2   \n",
       "4    ...    yes      yes       yes       3         3     4    2    4      5   \n",
       "..   ...    ...      ...       ...     ...       ...   ...  ...  ...    ...   \n",
       "190  ...     no      yes       yes       4         3     5    1    2      3   \n",
       "191  ...     no      yes       yes       4         4     3    2    2      1   \n",
       "192  ...    yes       no        no       5         3     4    1    1      5   \n",
       "193  ...    yes       no       yes       4         3     2    1    1      4   \n",
       "194  ...    yes       no       yes       4         3     4    1    1      5   \n",
       "\n",
       "    absences  \n",
       "0          4  \n",
       "1          2  \n",
       "2          0  \n",
       "3          5  \n",
       "4          2  \n",
       "..       ...  \n",
       "190       12  \n",
       "191       26  \n",
       "192       12  \n",
       "193       10  \n",
       "194       12  \n",
       "\n",
       "[195 rows x 30 columns]"
      ]
     },
     "execution_count": 101,
     "metadata": {},
     "output_type": "execute_result"
    }
   ],
   "source": [
    "X_test_final = pd.read_csv('X_test.csv')\n",
    "X_test_final"
   ]
  },
  {
   "cell_type": "code",
   "execution_count": 102,
   "metadata": {},
   "outputs": [],
   "source": [
    "for feat in ['sex', 'address']:\n",
    "    for val in X_test_final[feat].unique():\n",
    "        X_test_final.loc[X_test_final[feat] == val, feat] = (df[X_initial[feat] == val][feat].value_counts().idxmax()).astype('int64')\n",
    "X_test_final['sex'] = X_test_final['sex'].astype('int')\n",
    "X_test_final['address'] = X_test_final['address'].astype('int')"
   ]
  },
  {
   "cell_type": "code",
   "execution_count": 103,
   "metadata": {},
   "outputs": [
    {
     "data": {
      "text/html": [
       "<div>\n",
       "<style scoped>\n",
       "    .dataframe tbody tr th:only-of-type {\n",
       "        vertical-align: middle;\n",
       "    }\n",
       "\n",
       "    .dataframe tbody tr th {\n",
       "        vertical-align: top;\n",
       "    }\n",
       "\n",
       "    .dataframe thead th {\n",
       "        text-align: right;\n",
       "    }\n",
       "</style>\n",
       "<table border=\"1\" class=\"dataframe\">\n",
       "  <thead>\n",
       "    <tr style=\"text-align: right;\">\n",
       "      <th></th>\n",
       "      <th>school</th>\n",
       "      <th>sex</th>\n",
       "      <th>age</th>\n",
       "      <th>address</th>\n",
       "      <th>famsize</th>\n",
       "      <th>Pstatus</th>\n",
       "      <th>Medu</th>\n",
       "      <th>Fedu</th>\n",
       "      <th>Mjob</th>\n",
       "      <th>Fjob</th>\n",
       "      <th>...</th>\n",
       "      <th>higher</th>\n",
       "      <th>internet</th>\n",
       "      <th>romantic</th>\n",
       "      <th>famrel</th>\n",
       "      <th>freetime</th>\n",
       "      <th>goout</th>\n",
       "      <th>Dalc</th>\n",
       "      <th>Walc</th>\n",
       "      <th>health</th>\n",
       "      <th>absences</th>\n",
       "    </tr>\n",
       "  </thead>\n",
       "  <tbody>\n",
       "    <tr>\n",
       "      <th>0</th>\n",
       "      <td>MS</td>\n",
       "      <td>1</td>\n",
       "      <td>18</td>\n",
       "      <td>1</td>\n",
       "      <td>GT3</td>\n",
       "      <td>T</td>\n",
       "      <td>4</td>\n",
       "      <td>4</td>\n",
       "      <td>teacher</td>\n",
       "      <td>teacher</td>\n",
       "      <td>...</td>\n",
       "      <td>yes</td>\n",
       "      <td>yes</td>\n",
       "      <td>no</td>\n",
       "      <td>3</td>\n",
       "      <td>2</td>\n",
       "      <td>4</td>\n",
       "      <td>1</td>\n",
       "      <td>4</td>\n",
       "      <td>2</td>\n",
       "      <td>4</td>\n",
       "    </tr>\n",
       "    <tr>\n",
       "      <th>1</th>\n",
       "      <td>GP</td>\n",
       "      <td>0</td>\n",
       "      <td>16</td>\n",
       "      <td>1</td>\n",
       "      <td>GT3</td>\n",
       "      <td>A</td>\n",
       "      <td>3</td>\n",
       "      <td>1</td>\n",
       "      <td>services</td>\n",
       "      <td>other</td>\n",
       "      <td>...</td>\n",
       "      <td>yes</td>\n",
       "      <td>yes</td>\n",
       "      <td>no</td>\n",
       "      <td>2</td>\n",
       "      <td>3</td>\n",
       "      <td>3</td>\n",
       "      <td>2</td>\n",
       "      <td>2</td>\n",
       "      <td>4</td>\n",
       "      <td>2</td>\n",
       "    </tr>\n",
       "    <tr>\n",
       "      <th>2</th>\n",
       "      <td>MS</td>\n",
       "      <td>0</td>\n",
       "      <td>18</td>\n",
       "      <td>1</td>\n",
       "      <td>GT3</td>\n",
       "      <td>T</td>\n",
       "      <td>4</td>\n",
       "      <td>4</td>\n",
       "      <td>teacher</td>\n",
       "      <td>teacher</td>\n",
       "      <td>...</td>\n",
       "      <td>yes</td>\n",
       "      <td>yes</td>\n",
       "      <td>no</td>\n",
       "      <td>4</td>\n",
       "      <td>3</td>\n",
       "      <td>5</td>\n",
       "      <td>1</td>\n",
       "      <td>2</td>\n",
       "      <td>1</td>\n",
       "      <td>0</td>\n",
       "    </tr>\n",
       "    <tr>\n",
       "      <th>3</th>\n",
       "      <td>MS</td>\n",
       "      <td>1</td>\n",
       "      <td>16</td>\n",
       "      <td>0</td>\n",
       "      <td>LE3</td>\n",
       "      <td>A</td>\n",
       "      <td>4</td>\n",
       "      <td>4</td>\n",
       "      <td>at_home</td>\n",
       "      <td>other</td>\n",
       "      <td>...</td>\n",
       "      <td>yes</td>\n",
       "      <td>no</td>\n",
       "      <td>no</td>\n",
       "      <td>5</td>\n",
       "      <td>3</td>\n",
       "      <td>2</td>\n",
       "      <td>1</td>\n",
       "      <td>3</td>\n",
       "      <td>2</td>\n",
       "      <td>5</td>\n",
       "    </tr>\n",
       "    <tr>\n",
       "      <th>4</th>\n",
       "      <td>GP</td>\n",
       "      <td>0</td>\n",
       "      <td>15</td>\n",
       "      <td>0</td>\n",
       "      <td>GT3</td>\n",
       "      <td>T</td>\n",
       "      <td>1</td>\n",
       "      <td>1</td>\n",
       "      <td>other</td>\n",
       "      <td>other</td>\n",
       "      <td>...</td>\n",
       "      <td>yes</td>\n",
       "      <td>yes</td>\n",
       "      <td>yes</td>\n",
       "      <td>3</td>\n",
       "      <td>3</td>\n",
       "      <td>4</td>\n",
       "      <td>2</td>\n",
       "      <td>4</td>\n",
       "      <td>5</td>\n",
       "      <td>2</td>\n",
       "    </tr>\n",
       "    <tr>\n",
       "      <th>...</th>\n",
       "      <td>...</td>\n",
       "      <td>...</td>\n",
       "      <td>...</td>\n",
       "      <td>...</td>\n",
       "      <td>...</td>\n",
       "      <td>...</td>\n",
       "      <td>...</td>\n",
       "      <td>...</td>\n",
       "      <td>...</td>\n",
       "      <td>...</td>\n",
       "      <td>...</td>\n",
       "      <td>...</td>\n",
       "      <td>...</td>\n",
       "      <td>...</td>\n",
       "      <td>...</td>\n",
       "      <td>...</td>\n",
       "      <td>...</td>\n",
       "      <td>...</td>\n",
       "      <td>...</td>\n",
       "      <td>...</td>\n",
       "      <td>...</td>\n",
       "    </tr>\n",
       "    <tr>\n",
       "      <th>190</th>\n",
       "      <td>GP</td>\n",
       "      <td>0</td>\n",
       "      <td>18</td>\n",
       "      <td>0</td>\n",
       "      <td>GT3</td>\n",
       "      <td>T</td>\n",
       "      <td>2</td>\n",
       "      <td>1</td>\n",
       "      <td>other</td>\n",
       "      <td>other</td>\n",
       "      <td>...</td>\n",
       "      <td>no</td>\n",
       "      <td>yes</td>\n",
       "      <td>yes</td>\n",
       "      <td>4</td>\n",
       "      <td>3</td>\n",
       "      <td>5</td>\n",
       "      <td>1</td>\n",
       "      <td>2</td>\n",
       "      <td>3</td>\n",
       "      <td>12</td>\n",
       "    </tr>\n",
       "    <tr>\n",
       "      <th>191</th>\n",
       "      <td>GP</td>\n",
       "      <td>1</td>\n",
       "      <td>18</td>\n",
       "      <td>1</td>\n",
       "      <td>GT3</td>\n",
       "      <td>T</td>\n",
       "      <td>2</td>\n",
       "      <td>2</td>\n",
       "      <td>other</td>\n",
       "      <td>at_home</td>\n",
       "      <td>...</td>\n",
       "      <td>no</td>\n",
       "      <td>yes</td>\n",
       "      <td>yes</td>\n",
       "      <td>4</td>\n",
       "      <td>4</td>\n",
       "      <td>3</td>\n",
       "      <td>2</td>\n",
       "      <td>2</td>\n",
       "      <td>1</td>\n",
       "      <td>26</td>\n",
       "    </tr>\n",
       "    <tr>\n",
       "      <th>192</th>\n",
       "      <td>GP</td>\n",
       "      <td>0</td>\n",
       "      <td>16</td>\n",
       "      <td>1</td>\n",
       "      <td>GT3</td>\n",
       "      <td>A</td>\n",
       "      <td>2</td>\n",
       "      <td>2</td>\n",
       "      <td>other</td>\n",
       "      <td>other</td>\n",
       "      <td>...</td>\n",
       "      <td>yes</td>\n",
       "      <td>no</td>\n",
       "      <td>no</td>\n",
       "      <td>5</td>\n",
       "      <td>3</td>\n",
       "      <td>4</td>\n",
       "      <td>1</td>\n",
       "      <td>1</td>\n",
       "      <td>5</td>\n",
       "      <td>12</td>\n",
       "    </tr>\n",
       "    <tr>\n",
       "      <th>193</th>\n",
       "      <td>GP</td>\n",
       "      <td>0</td>\n",
       "      <td>17</td>\n",
       "      <td>1</td>\n",
       "      <td>GT3</td>\n",
       "      <td>T</td>\n",
       "      <td>1</td>\n",
       "      <td>1</td>\n",
       "      <td>at_home</td>\n",
       "      <td>other</td>\n",
       "      <td>...</td>\n",
       "      <td>yes</td>\n",
       "      <td>no</td>\n",
       "      <td>yes</td>\n",
       "      <td>4</td>\n",
       "      <td>3</td>\n",
       "      <td>2</td>\n",
       "      <td>1</td>\n",
       "      <td>1</td>\n",
       "      <td>4</td>\n",
       "      <td>10</td>\n",
       "    </tr>\n",
       "    <tr>\n",
       "      <th>194</th>\n",
       "      <td>GP</td>\n",
       "      <td>0</td>\n",
       "      <td>17</td>\n",
       "      <td>1</td>\n",
       "      <td>GT3</td>\n",
       "      <td>T</td>\n",
       "      <td>1</td>\n",
       "      <td>1</td>\n",
       "      <td>at_home</td>\n",
       "      <td>other</td>\n",
       "      <td>...</td>\n",
       "      <td>yes</td>\n",
       "      <td>no</td>\n",
       "      <td>yes</td>\n",
       "      <td>4</td>\n",
       "      <td>3</td>\n",
       "      <td>4</td>\n",
       "      <td>1</td>\n",
       "      <td>1</td>\n",
       "      <td>5</td>\n",
       "      <td>12</td>\n",
       "    </tr>\n",
       "  </tbody>\n",
       "</table>\n",
       "<p>195 rows × 30 columns</p>\n",
       "</div>"
      ],
      "text/plain": [
       "    school  sex  age  address famsize Pstatus  Medu  Fedu      Mjob     Fjob  \\\n",
       "0       MS    1   18        1     GT3       T     4     4   teacher  teacher   \n",
       "1       GP    0   16        1     GT3       A     3     1  services    other   \n",
       "2       MS    0   18        1     GT3       T     4     4   teacher  teacher   \n",
       "3       MS    1   16        0     LE3       A     4     4   at_home    other   \n",
       "4       GP    0   15        0     GT3       T     1     1     other    other   \n",
       "..     ...  ...  ...      ...     ...     ...   ...   ...       ...      ...   \n",
       "190     GP    0   18        0     GT3       T     2     1     other    other   \n",
       "191     GP    1   18        1     GT3       T     2     2     other  at_home   \n",
       "192     GP    0   16        1     GT3       A     2     2     other    other   \n",
       "193     GP    0   17        1     GT3       T     1     1   at_home    other   \n",
       "194     GP    0   17        1     GT3       T     1     1   at_home    other   \n",
       "\n",
       "     ... higher internet  romantic  famrel  freetime goout Dalc Walc health  \\\n",
       "0    ...    yes      yes        no       3         2     4    1    4      2   \n",
       "1    ...    yes      yes        no       2         3     3    2    2      4   \n",
       "2    ...    yes      yes        no       4         3     5    1    2      1   \n",
       "3    ...    yes       no        no       5         3     2    1    3      2   \n",
       "4    ...    yes      yes       yes       3         3     4    2    4      5   \n",
       "..   ...    ...      ...       ...     ...       ...   ...  ...  ...    ...   \n",
       "190  ...     no      yes       yes       4         3     5    1    2      3   \n",
       "191  ...     no      yes       yes       4         4     3    2    2      1   \n",
       "192  ...    yes       no        no       5         3     4    1    1      5   \n",
       "193  ...    yes       no       yes       4         3     2    1    1      4   \n",
       "194  ...    yes       no       yes       4         3     4    1    1      5   \n",
       "\n",
       "    absences  \n",
       "0          4  \n",
       "1          2  \n",
       "2          0  \n",
       "3          5  \n",
       "4          2  \n",
       "..       ...  \n",
       "190       12  \n",
       "191       26  \n",
       "192       12  \n",
       "193       10  \n",
       "194       12  \n",
       "\n",
       "[195 rows x 30 columns]"
      ]
     },
     "execution_count": 103,
     "metadata": {},
     "output_type": "execute_result"
    }
   ],
   "source": [
    "X_test_final"
   ]
  },
  {
   "cell_type": "code",
   "execution_count": 104,
   "metadata": {},
   "outputs": [],
   "source": [
    "svc = svm.SVC(kernel='rbf', C=4)"
   ]
  },
  {
   "cell_type": "code",
   "execution_count": 105,
   "metadata": {},
   "outputs": [],
   "source": [
    "#columns = pd.get_dummies(df).columns\n",
    "columns = df.columns.drop('G3')\n",
    "X_test_final = pd.get_dummies(X_test_final)"
   ]
  },
  {
   "cell_type": "code",
   "execution_count": 106,
   "metadata": {},
   "outputs": [
    {
     "data": {
      "text/html": [
       "<div>\n",
       "<style scoped>\n",
       "    .dataframe tbody tr th:only-of-type {\n",
       "        vertical-align: middle;\n",
       "    }\n",
       "\n",
       "    .dataframe tbody tr th {\n",
       "        vertical-align: top;\n",
       "    }\n",
       "\n",
       "    .dataframe thead th {\n",
       "        text-align: right;\n",
       "    }\n",
       "</style>\n",
       "<table border=\"1\" class=\"dataframe\">\n",
       "  <thead>\n",
       "    <tr style=\"text-align: right;\">\n",
       "      <th></th>\n",
       "      <th>sex</th>\n",
       "      <th>age</th>\n",
       "      <th>address</th>\n",
       "      <th>Medu</th>\n",
       "      <th>Fedu</th>\n",
       "      <th>traveltime</th>\n",
       "      <th>studytime</th>\n",
       "      <th>failures</th>\n",
       "      <th>famrel</th>\n",
       "      <th>freetime</th>\n",
       "      <th>...</th>\n",
       "      <th>activities_no</th>\n",
       "      <th>activities_yes</th>\n",
       "      <th>nursery_no</th>\n",
       "      <th>nursery_yes</th>\n",
       "      <th>higher_no</th>\n",
       "      <th>higher_yes</th>\n",
       "      <th>internet_no</th>\n",
       "      <th>internet_yes</th>\n",
       "      <th>romantic_no</th>\n",
       "      <th>romantic_yes</th>\n",
       "    </tr>\n",
       "  </thead>\n",
       "  <tbody>\n",
       "    <tr>\n",
       "      <th>0</th>\n",
       "      <td>1</td>\n",
       "      <td>18</td>\n",
       "      <td>1</td>\n",
       "      <td>4</td>\n",
       "      <td>4</td>\n",
       "      <td>1</td>\n",
       "      <td>2</td>\n",
       "      <td>0</td>\n",
       "      <td>3</td>\n",
       "      <td>2</td>\n",
       "      <td>...</td>\n",
       "      <td>0</td>\n",
       "      <td>1</td>\n",
       "      <td>1</td>\n",
       "      <td>0</td>\n",
       "      <td>0</td>\n",
       "      <td>1</td>\n",
       "      <td>0</td>\n",
       "      <td>1</td>\n",
       "      <td>1</td>\n",
       "      <td>0</td>\n",
       "    </tr>\n",
       "    <tr>\n",
       "      <th>1</th>\n",
       "      <td>0</td>\n",
       "      <td>16</td>\n",
       "      <td>1</td>\n",
       "      <td>3</td>\n",
       "      <td>1</td>\n",
       "      <td>1</td>\n",
       "      <td>2</td>\n",
       "      <td>0</td>\n",
       "      <td>2</td>\n",
       "      <td>3</td>\n",
       "      <td>...</td>\n",
       "      <td>1</td>\n",
       "      <td>0</td>\n",
       "      <td>0</td>\n",
       "      <td>1</td>\n",
       "      <td>0</td>\n",
       "      <td>1</td>\n",
       "      <td>0</td>\n",
       "      <td>1</td>\n",
       "      <td>1</td>\n",
       "      <td>0</td>\n",
       "    </tr>\n",
       "    <tr>\n",
       "      <th>2</th>\n",
       "      <td>0</td>\n",
       "      <td>18</td>\n",
       "      <td>1</td>\n",
       "      <td>4</td>\n",
       "      <td>4</td>\n",
       "      <td>2</td>\n",
       "      <td>2</td>\n",
       "      <td>0</td>\n",
       "      <td>4</td>\n",
       "      <td>3</td>\n",
       "      <td>...</td>\n",
       "      <td>0</td>\n",
       "      <td>1</td>\n",
       "      <td>1</td>\n",
       "      <td>0</td>\n",
       "      <td>0</td>\n",
       "      <td>1</td>\n",
       "      <td>0</td>\n",
       "      <td>1</td>\n",
       "      <td>1</td>\n",
       "      <td>0</td>\n",
       "    </tr>\n",
       "    <tr>\n",
       "      <th>3</th>\n",
       "      <td>1</td>\n",
       "      <td>16</td>\n",
       "      <td>0</td>\n",
       "      <td>4</td>\n",
       "      <td>4</td>\n",
       "      <td>1</td>\n",
       "      <td>2</td>\n",
       "      <td>0</td>\n",
       "      <td>5</td>\n",
       "      <td>3</td>\n",
       "      <td>...</td>\n",
       "      <td>1</td>\n",
       "      <td>0</td>\n",
       "      <td>0</td>\n",
       "      <td>1</td>\n",
       "      <td>0</td>\n",
       "      <td>1</td>\n",
       "      <td>1</td>\n",
       "      <td>0</td>\n",
       "      <td>1</td>\n",
       "      <td>0</td>\n",
       "    </tr>\n",
       "    <tr>\n",
       "      <th>4</th>\n",
       "      <td>0</td>\n",
       "      <td>15</td>\n",
       "      <td>0</td>\n",
       "      <td>1</td>\n",
       "      <td>1</td>\n",
       "      <td>1</td>\n",
       "      <td>2</td>\n",
       "      <td>0</td>\n",
       "      <td>3</td>\n",
       "      <td>3</td>\n",
       "      <td>...</td>\n",
       "      <td>1</td>\n",
       "      <td>0</td>\n",
       "      <td>1</td>\n",
       "      <td>0</td>\n",
       "      <td>0</td>\n",
       "      <td>1</td>\n",
       "      <td>0</td>\n",
       "      <td>1</td>\n",
       "      <td>0</td>\n",
       "      <td>1</td>\n",
       "    </tr>\n",
       "    <tr>\n",
       "      <th>...</th>\n",
       "      <td>...</td>\n",
       "      <td>...</td>\n",
       "      <td>...</td>\n",
       "      <td>...</td>\n",
       "      <td>...</td>\n",
       "      <td>...</td>\n",
       "      <td>...</td>\n",
       "      <td>...</td>\n",
       "      <td>...</td>\n",
       "      <td>...</td>\n",
       "      <td>...</td>\n",
       "      <td>...</td>\n",
       "      <td>...</td>\n",
       "      <td>...</td>\n",
       "      <td>...</td>\n",
       "      <td>...</td>\n",
       "      <td>...</td>\n",
       "      <td>...</td>\n",
       "      <td>...</td>\n",
       "      <td>...</td>\n",
       "      <td>...</td>\n",
       "    </tr>\n",
       "    <tr>\n",
       "      <th>190</th>\n",
       "      <td>0</td>\n",
       "      <td>18</td>\n",
       "      <td>0</td>\n",
       "      <td>2</td>\n",
       "      <td>1</td>\n",
       "      <td>2</td>\n",
       "      <td>2</td>\n",
       "      <td>0</td>\n",
       "      <td>4</td>\n",
       "      <td>3</td>\n",
       "      <td>...</td>\n",
       "      <td>1</td>\n",
       "      <td>0</td>\n",
       "      <td>0</td>\n",
       "      <td>1</td>\n",
       "      <td>1</td>\n",
       "      <td>0</td>\n",
       "      <td>0</td>\n",
       "      <td>1</td>\n",
       "      <td>0</td>\n",
       "      <td>1</td>\n",
       "    </tr>\n",
       "    <tr>\n",
       "      <th>191</th>\n",
       "      <td>1</td>\n",
       "      <td>18</td>\n",
       "      <td>1</td>\n",
       "      <td>2</td>\n",
       "      <td>2</td>\n",
       "      <td>1</td>\n",
       "      <td>1</td>\n",
       "      <td>1</td>\n",
       "      <td>4</td>\n",
       "      <td>4</td>\n",
       "      <td>...</td>\n",
       "      <td>0</td>\n",
       "      <td>1</td>\n",
       "      <td>1</td>\n",
       "      <td>0</td>\n",
       "      <td>1</td>\n",
       "      <td>0</td>\n",
       "      <td>0</td>\n",
       "      <td>1</td>\n",
       "      <td>0</td>\n",
       "      <td>1</td>\n",
       "    </tr>\n",
       "    <tr>\n",
       "      <th>192</th>\n",
       "      <td>0</td>\n",
       "      <td>16</td>\n",
       "      <td>1</td>\n",
       "      <td>2</td>\n",
       "      <td>2</td>\n",
       "      <td>1</td>\n",
       "      <td>1</td>\n",
       "      <td>1</td>\n",
       "      <td>5</td>\n",
       "      <td>3</td>\n",
       "      <td>...</td>\n",
       "      <td>1</td>\n",
       "      <td>0</td>\n",
       "      <td>0</td>\n",
       "      <td>1</td>\n",
       "      <td>0</td>\n",
       "      <td>1</td>\n",
       "      <td>1</td>\n",
       "      <td>0</td>\n",
       "      <td>1</td>\n",
       "      <td>0</td>\n",
       "    </tr>\n",
       "    <tr>\n",
       "      <th>193</th>\n",
       "      <td>0</td>\n",
       "      <td>17</td>\n",
       "      <td>1</td>\n",
       "      <td>1</td>\n",
       "      <td>1</td>\n",
       "      <td>1</td>\n",
       "      <td>2</td>\n",
       "      <td>0</td>\n",
       "      <td>4</td>\n",
       "      <td>3</td>\n",
       "      <td>...</td>\n",
       "      <td>1</td>\n",
       "      <td>0</td>\n",
       "      <td>1</td>\n",
       "      <td>0</td>\n",
       "      <td>0</td>\n",
       "      <td>1</td>\n",
       "      <td>1</td>\n",
       "      <td>0</td>\n",
       "      <td>0</td>\n",
       "      <td>1</td>\n",
       "    </tr>\n",
       "    <tr>\n",
       "      <th>194</th>\n",
       "      <td>0</td>\n",
       "      <td>17</td>\n",
       "      <td>1</td>\n",
       "      <td>1</td>\n",
       "      <td>1</td>\n",
       "      <td>1</td>\n",
       "      <td>3</td>\n",
       "      <td>0</td>\n",
       "      <td>4</td>\n",
       "      <td>3</td>\n",
       "      <td>...</td>\n",
       "      <td>0</td>\n",
       "      <td>1</td>\n",
       "      <td>0</td>\n",
       "      <td>1</td>\n",
       "      <td>0</td>\n",
       "      <td>1</td>\n",
       "      <td>1</td>\n",
       "      <td>0</td>\n",
       "      <td>0</td>\n",
       "      <td>1</td>\n",
       "    </tr>\n",
       "  </tbody>\n",
       "</table>\n",
       "<p>195 rows × 54 columns</p>\n",
       "</div>"
      ],
      "text/plain": [
       "     sex  age  address  Medu  Fedu  traveltime  studytime  failures  famrel  \\\n",
       "0      1   18        1     4     4           1          2         0       3   \n",
       "1      0   16        1     3     1           1          2         0       2   \n",
       "2      0   18        1     4     4           2          2         0       4   \n",
       "3      1   16        0     4     4           1          2         0       5   \n",
       "4      0   15        0     1     1           1          2         0       3   \n",
       "..   ...  ...      ...   ...   ...         ...        ...       ...     ...   \n",
       "190    0   18        0     2     1           2          2         0       4   \n",
       "191    1   18        1     2     2           1          1         1       4   \n",
       "192    0   16        1     2     2           1          1         1       5   \n",
       "193    0   17        1     1     1           1          2         0       4   \n",
       "194    0   17        1     1     1           1          3         0       4   \n",
       "\n",
       "     freetime  ...  activities_no  activities_yes  nursery_no  nursery_yes  \\\n",
       "0           2  ...              0               1           1            0   \n",
       "1           3  ...              1               0           0            1   \n",
       "2           3  ...              0               1           1            0   \n",
       "3           3  ...              1               0           0            1   \n",
       "4           3  ...              1               0           1            0   \n",
       "..        ...  ...            ...             ...         ...          ...   \n",
       "190         3  ...              1               0           0            1   \n",
       "191         4  ...              0               1           1            0   \n",
       "192         3  ...              1               0           0            1   \n",
       "193         3  ...              1               0           1            0   \n",
       "194         3  ...              0               1           0            1   \n",
       "\n",
       "     higher_no  higher_yes  internet_no  internet_yes  romantic_no  \\\n",
       "0            0           1            0             1            1   \n",
       "1            0           1            0             1            1   \n",
       "2            0           1            0             1            1   \n",
       "3            0           1            1             0            1   \n",
       "4            0           1            0             1            0   \n",
       "..         ...         ...          ...           ...          ...   \n",
       "190          1           0            0             1            0   \n",
       "191          1           0            0             1            0   \n",
       "192          0           1            1             0            1   \n",
       "193          0           1            1             0            0   \n",
       "194          0           1            1             0            0   \n",
       "\n",
       "     romantic_yes  \n",
       "0               0  \n",
       "1               0  \n",
       "2               0  \n",
       "3               0  \n",
       "4               1  \n",
       "..            ...  \n",
       "190             1  \n",
       "191             1  \n",
       "192             0  \n",
       "193             1  \n",
       "194             1  \n",
       "\n",
       "[195 rows x 54 columns]"
      ]
     },
     "execution_count": 106,
     "metadata": {},
     "output_type": "execute_result"
    }
   ],
   "source": [
    "X_test_final"
   ]
  },
  {
   "cell_type": "code",
   "execution_count": 107,
   "metadata": {},
   "outputs": [],
   "source": [
    "X_test_final = X_test_final[columns]"
   ]
  },
  {
   "cell_type": "code",
   "execution_count": 108,
   "metadata": {},
   "outputs": [],
   "source": [
    "train_y = df.G3\n",
    "train_x = df.drop('G3', axis = 1)"
   ]
  },
  {
   "cell_type": "code",
   "execution_count": 109,
   "metadata": {},
   "outputs": [
    {
     "data": {
      "text/html": [
       "<style>#sk-container-id-1 {color: black;background-color: white;}#sk-container-id-1 pre{padding: 0;}#sk-container-id-1 div.sk-toggleable {background-color: white;}#sk-container-id-1 label.sk-toggleable__label {cursor: pointer;display: block;width: 100%;margin-bottom: 0;padding: 0.3em;box-sizing: border-box;text-align: center;}#sk-container-id-1 label.sk-toggleable__label-arrow:before {content: \"▸\";float: left;margin-right: 0.25em;color: #696969;}#sk-container-id-1 label.sk-toggleable__label-arrow:hover:before {color: black;}#sk-container-id-1 div.sk-estimator:hover label.sk-toggleable__label-arrow:before {color: black;}#sk-container-id-1 div.sk-toggleable__content {max-height: 0;max-width: 0;overflow: hidden;text-align: left;background-color: #f0f8ff;}#sk-container-id-1 div.sk-toggleable__content pre {margin: 0.2em;color: black;border-radius: 0.25em;background-color: #f0f8ff;}#sk-container-id-1 input.sk-toggleable__control:checked~div.sk-toggleable__content {max-height: 200px;max-width: 100%;overflow: auto;}#sk-container-id-1 input.sk-toggleable__control:checked~label.sk-toggleable__label-arrow:before {content: \"▾\";}#sk-container-id-1 div.sk-estimator input.sk-toggleable__control:checked~label.sk-toggleable__label {background-color: #d4ebff;}#sk-container-id-1 div.sk-label input.sk-toggleable__control:checked~label.sk-toggleable__label {background-color: #d4ebff;}#sk-container-id-1 input.sk-hidden--visually {border: 0;clip: rect(1px 1px 1px 1px);clip: rect(1px, 1px, 1px, 1px);height: 1px;margin: -1px;overflow: hidden;padding: 0;position: absolute;width: 1px;}#sk-container-id-1 div.sk-estimator {font-family: monospace;background-color: #f0f8ff;border: 1px dotted black;border-radius: 0.25em;box-sizing: border-box;margin-bottom: 0.5em;}#sk-container-id-1 div.sk-estimator:hover {background-color: #d4ebff;}#sk-container-id-1 div.sk-parallel-item::after {content: \"\";width: 100%;border-bottom: 1px solid gray;flex-grow: 1;}#sk-container-id-1 div.sk-label:hover label.sk-toggleable__label {background-color: #d4ebff;}#sk-container-id-1 div.sk-serial::before {content: \"\";position: absolute;border-left: 1px solid gray;box-sizing: border-box;top: 0;bottom: 0;left: 50%;z-index: 0;}#sk-container-id-1 div.sk-serial {display: flex;flex-direction: column;align-items: center;background-color: white;padding-right: 0.2em;padding-left: 0.2em;position: relative;}#sk-container-id-1 div.sk-item {position: relative;z-index: 1;}#sk-container-id-1 div.sk-parallel {display: flex;align-items: stretch;justify-content: center;background-color: white;position: relative;}#sk-container-id-1 div.sk-item::before, #sk-container-id-1 div.sk-parallel-item::before {content: \"\";position: absolute;border-left: 1px solid gray;box-sizing: border-box;top: 0;bottom: 0;left: 50%;z-index: -1;}#sk-container-id-1 div.sk-parallel-item {display: flex;flex-direction: column;z-index: 1;position: relative;background-color: white;}#sk-container-id-1 div.sk-parallel-item:first-child::after {align-self: flex-end;width: 50%;}#sk-container-id-1 div.sk-parallel-item:last-child::after {align-self: flex-start;width: 50%;}#sk-container-id-1 div.sk-parallel-item:only-child::after {width: 0;}#sk-container-id-1 div.sk-dashed-wrapped {border: 1px dashed gray;margin: 0 0.4em 0.5em 0.4em;box-sizing: border-box;padding-bottom: 0.4em;background-color: white;}#sk-container-id-1 div.sk-label label {font-family: monospace;font-weight: bold;display: inline-block;line-height: 1.2em;}#sk-container-id-1 div.sk-label-container {text-align: center;}#sk-container-id-1 div.sk-container {/* jupyter's `normalize.less` sets `[hidden] { display: none; }` but bootstrap.min.css set `[hidden] { display: none !important; }` so we also need the `!important` here to be able to override the default hidden behavior on the sphinx rendered scikit-learn.org. See: https://github.com/scikit-learn/scikit-learn/issues/21755 */display: inline-block !important;position: relative;}#sk-container-id-1 div.sk-text-repr-fallback {display: none;}</style><div id=\"sk-container-id-1\" class=\"sk-top-container\"><div class=\"sk-text-repr-fallback\"><pre>SVC(C=4)</pre><b>In a Jupyter environment, please rerun this cell to show the HTML representation or trust the notebook. <br />On GitHub, the HTML representation is unable to render, please try loading this page with nbviewer.org.</b></div><div class=\"sk-container\" hidden><div class=\"sk-item\"><div class=\"sk-estimator sk-toggleable\"><input class=\"sk-toggleable__control sk-hidden--visually\" id=\"sk-estimator-id-1\" type=\"checkbox\" checked><label for=\"sk-estimator-id-1\" class=\"sk-toggleable__label sk-toggleable__label-arrow\">SVC</label><div class=\"sk-toggleable__content\"><pre>SVC(C=4)</pre></div></div></div></div></div>"
      ],
      "text/plain": [
       "SVC(C=4)"
      ]
     },
     "execution_count": 109,
     "metadata": {},
     "output_type": "execute_result"
    }
   ],
   "source": [
    "svc.fit(train_x, train_y)"
   ]
  },
  {
   "cell_type": "code",
   "execution_count": 110,
   "metadata": {},
   "outputs": [
    {
     "data": {
      "text/html": [
       "<div>\n",
       "<style scoped>\n",
       "    .dataframe tbody tr th:only-of-type {\n",
       "        vertical-align: middle;\n",
       "    }\n",
       "\n",
       "    .dataframe tbody tr th {\n",
       "        vertical-align: top;\n",
       "    }\n",
       "\n",
       "    .dataframe thead th {\n",
       "        text-align: right;\n",
       "    }\n",
       "</style>\n",
       "<table border=\"1\" class=\"dataframe\">\n",
       "  <thead>\n",
       "    <tr style=\"text-align: right;\">\n",
       "      <th></th>\n",
       "      <th>G3</th>\n",
       "    </tr>\n",
       "  </thead>\n",
       "  <tbody>\n",
       "    <tr>\n",
       "      <th>0</th>\n",
       "      <td>11</td>\n",
       "    </tr>\n",
       "    <tr>\n",
       "      <th>1</th>\n",
       "      <td>11</td>\n",
       "    </tr>\n",
       "    <tr>\n",
       "      <th>2</th>\n",
       "      <td>13</td>\n",
       "    </tr>\n",
       "    <tr>\n",
       "      <th>3</th>\n",
       "      <td>13</td>\n",
       "    </tr>\n",
       "    <tr>\n",
       "      <th>4</th>\n",
       "      <td>11</td>\n",
       "    </tr>\n",
       "    <tr>\n",
       "      <th>...</th>\n",
       "      <td>...</td>\n",
       "    </tr>\n",
       "    <tr>\n",
       "      <th>190</th>\n",
       "      <td>10</td>\n",
       "    </tr>\n",
       "    <tr>\n",
       "      <th>191</th>\n",
       "      <td>10</td>\n",
       "    </tr>\n",
       "    <tr>\n",
       "      <th>192</th>\n",
       "      <td>11</td>\n",
       "    </tr>\n",
       "    <tr>\n",
       "      <th>193</th>\n",
       "      <td>11</td>\n",
       "    </tr>\n",
       "    <tr>\n",
       "      <th>194</th>\n",
       "      <td>10</td>\n",
       "    </tr>\n",
       "  </tbody>\n",
       "</table>\n",
       "<p>195 rows × 1 columns</p>\n",
       "</div>"
      ],
      "text/plain": [
       "     G3\n",
       "0    11\n",
       "1    11\n",
       "2    13\n",
       "3    13\n",
       "4    11\n",
       "..   ..\n",
       "190  10\n",
       "191  10\n",
       "192  11\n",
       "193  11\n",
       "194  10\n",
       "\n",
       "[195 rows x 1 columns]"
      ]
     },
     "execution_count": 110,
     "metadata": {},
     "output_type": "execute_result"
    }
   ],
   "source": [
    "prediction_result = pd.DataFrame(svc.predict(X_test_final), columns = ['G3'])\n",
    "prediction_result"
   ]
  },
  {
   "cell_type": "code",
   "execution_count": 111,
   "metadata": {},
   "outputs": [],
   "source": [
    "prediction_result.to_csv('prediction_result.csv') "
   ]
  },
  {
   "cell_type": "markdown",
   "metadata": {
    "id": "Fq3f92ANsvZ3"
   },
   "source": [
    "# Часть 6. Состязательная валидация (Adversarial Validation)"
   ]
  },
  {
   "cell_type": "markdown",
   "metadata": {
    "id": "IPvFGp92s4Fv"
   },
   "source": [
    "Данная стратегия часто применяется в соревнованиях по машинному обучению. Так как проверить свой алгоритм возможно только на заданном тренировочном наборе данных, а результат требуется к набору, для которого нет ответов, то выбирают следующий подход:\n",
    "- оценить степень схожести тренировочных и тестовых данных;\n",
    "- составить валидацию из тех тренировочных данных, которые больше похожи на тестовые.\n",
    "\n",
    "Алгоритм реализации AV:\n",
    "1. Удаляем ответы из тренировочных данных.\n",
    "2. Добавляем специальные метки (```is_test```) для классов: тренировочные данные и тестовые.\n",
    "То есть у тестовых данных будет значение ```is_test = 1```, а у тренировочных ```is_test = 0```.\n",
    "4. Учим алгоритм классификации предсказывать заданную метку ```is_test```.\n",
    "5. Делим тренировочные данные на N частей и проводим кросс-валидацию.\n",
    "\n",
    "Обучаем N алгоритмов классификации: каждый обучается на всех тестовых данных и на N-1 наборах тренировочных. Предсказываем на 1 тренировочном наборе.\n",
    "\n",
    "6. Для каждого элемента в выборке предсказываем вероятность принадлежности класса и сортируем тренировочные данные по вероятности принадлежности тестовой выборке.\n",
    "7. Выделяем заданное число данных в валидацию.\n",
    "8. Обучаемся для итогового предсказания на всех данных."
   ]
  },
  {
   "cell_type": "code",
   "execution_count": 112,
   "metadata": {},
   "outputs": [],
   "source": [
    "from sklearn.model_selection import StratifiedKFold\n",
    "from sklearn.metrics import mean_absolute_error as mse\n",
    "import operator"
   ]
  },
  {
   "cell_type": "code",
   "execution_count": 113,
   "metadata": {},
   "outputs": [],
   "source": [
    "def cross_val(df, df_basic, num_folds, neighbors, predict_key):\n",
    "    skf = StratifiedKFold(n_splits = num_folds)\n",
    "    y = df[predict_key]\n",
    "    X = df.drop(predict_key, axis = 1)\n",
    "    res = {x:np.array([]) for x in range(1, neighbors)}\n",
    "    for k in range(1,neighbors): \n",
    "        knn = KNeighborsClassifier(k)\n",
    "        for train_index, test_index in skf.split(X, y):\n",
    "            #print(\"TRAIN:\", train_index, \"TEST:\", test_index)\n",
    "            X_train, X_test = X.loc[train_index], X.loc[test_index]\n",
    "            y_train, y_test = y[train_index], y[test_index]\n",
    "    \n",
    "            X_train = X_train.append(df_basic.loc[:, df.columns != predict_key], ignore_index=True)\n",
    "            y_train = y_train.append(df_basic[predict_key], ignore_index=True)\n",
    "            knn.fit(X_train, y_train)\n",
    "            predict = knn.predict(X_test)\n",
    "            #print(sum(predict == y_test), len(y_test))\n",
    "            res[k] = np.append(res[k], mse(predict, y_test))\n",
    "    not_mean_res = res.copy()\n",
    "    for i in res:\n",
    "        res[i] = np.mean(res[i])\n",
    "    return pd.DataFrame(sorted(res.items(), key=operator.itemgetter(1)), columns= ['k', 'mean_mse']), not_mean_res"
   ]
  },
  {
   "cell_type": "code",
   "execution_count": 114,
   "metadata": {},
   "outputs": [],
   "source": [
    "X_test_final['is_test'] = 1\n",
    "train_x['is_test'] = 0\n",
    "\n",
    "result, not_mean = cross_val(train_x, X_test_final, 10, 50, 'is_test')"
   ]
  },
  {
   "cell_type": "code",
   "execution_count": 115,
   "metadata": {},
   "outputs": [
    {
     "data": {
      "text/html": [
       "<div>\n",
       "<style scoped>\n",
       "    .dataframe tbody tr th:only-of-type {\n",
       "        vertical-align: middle;\n",
       "    }\n",
       "\n",
       "    .dataframe tbody tr th {\n",
       "        vertical-align: top;\n",
       "    }\n",
       "\n",
       "    .dataframe thead th {\n",
       "        text-align: right;\n",
       "    }\n",
       "</style>\n",
       "<table border=\"1\" class=\"dataframe\">\n",
       "  <thead>\n",
       "    <tr style=\"text-align: right;\">\n",
       "      <th></th>\n",
       "      <th>k</th>\n",
       "      <th>mean_mse</th>\n",
       "    </tr>\n",
       "  </thead>\n",
       "  <tbody>\n",
       "    <tr>\n",
       "      <th>0</th>\n",
       "      <td>36</td>\n",
       "      <td>0.0</td>\n",
       "    </tr>\n",
       "    <tr>\n",
       "      <th>1</th>\n",
       "      <td>38</td>\n",
       "      <td>0.0</td>\n",
       "    </tr>\n",
       "    <tr>\n",
       "      <th>2</th>\n",
       "      <td>40</td>\n",
       "      <td>0.0</td>\n",
       "    </tr>\n",
       "    <tr>\n",
       "      <th>3</th>\n",
       "      <td>42</td>\n",
       "      <td>0.0</td>\n",
       "    </tr>\n",
       "    <tr>\n",
       "      <th>4</th>\n",
       "      <td>43</td>\n",
       "      <td>0.0</td>\n",
       "    </tr>\n",
       "  </tbody>\n",
       "</table>\n",
       "</div>"
      ],
      "text/plain": [
       "    k  mean_mse\n",
       "0  36       0.0\n",
       "1  38       0.0\n",
       "2  40       0.0\n",
       "3  42       0.0\n",
       "4  43       0.0"
      ]
     },
     "execution_count": 115,
     "metadata": {},
     "output_type": "execute_result"
    }
   ],
   "source": [
    "result.head(5)"
   ]
  },
  {
   "cell_type": "code",
   "execution_count": 116,
   "metadata": {},
   "outputs": [],
   "source": [
    "df_6 = train_x.append(X_test_final,ignore_index=True)\n",
    "y_6 = df_6['is_test']\n",
    "df_6 = df_6.drop('is_test', axis = 1)\n",
    "train_x = train_x.drop('is_test', axis = 1)\n",
    "X_test_final = X_test_final.drop('is_test', axis = 1)"
   ]
  },
  {
   "cell_type": "code",
   "execution_count": 117,
   "metadata": {},
   "outputs": [
    {
     "data": {
      "text/html": [
       "<style>#sk-container-id-2 {color: black;background-color: white;}#sk-container-id-2 pre{padding: 0;}#sk-container-id-2 div.sk-toggleable {background-color: white;}#sk-container-id-2 label.sk-toggleable__label {cursor: pointer;display: block;width: 100%;margin-bottom: 0;padding: 0.3em;box-sizing: border-box;text-align: center;}#sk-container-id-2 label.sk-toggleable__label-arrow:before {content: \"▸\";float: left;margin-right: 0.25em;color: #696969;}#sk-container-id-2 label.sk-toggleable__label-arrow:hover:before {color: black;}#sk-container-id-2 div.sk-estimator:hover label.sk-toggleable__label-arrow:before {color: black;}#sk-container-id-2 div.sk-toggleable__content {max-height: 0;max-width: 0;overflow: hidden;text-align: left;background-color: #f0f8ff;}#sk-container-id-2 div.sk-toggleable__content pre {margin: 0.2em;color: black;border-radius: 0.25em;background-color: #f0f8ff;}#sk-container-id-2 input.sk-toggleable__control:checked~div.sk-toggleable__content {max-height: 200px;max-width: 100%;overflow: auto;}#sk-container-id-2 input.sk-toggleable__control:checked~label.sk-toggleable__label-arrow:before {content: \"▾\";}#sk-container-id-2 div.sk-estimator input.sk-toggleable__control:checked~label.sk-toggleable__label {background-color: #d4ebff;}#sk-container-id-2 div.sk-label input.sk-toggleable__control:checked~label.sk-toggleable__label {background-color: #d4ebff;}#sk-container-id-2 input.sk-hidden--visually {border: 0;clip: rect(1px 1px 1px 1px);clip: rect(1px, 1px, 1px, 1px);height: 1px;margin: -1px;overflow: hidden;padding: 0;position: absolute;width: 1px;}#sk-container-id-2 div.sk-estimator {font-family: monospace;background-color: #f0f8ff;border: 1px dotted black;border-radius: 0.25em;box-sizing: border-box;margin-bottom: 0.5em;}#sk-container-id-2 div.sk-estimator:hover {background-color: #d4ebff;}#sk-container-id-2 div.sk-parallel-item::after {content: \"\";width: 100%;border-bottom: 1px solid gray;flex-grow: 1;}#sk-container-id-2 div.sk-label:hover label.sk-toggleable__label {background-color: #d4ebff;}#sk-container-id-2 div.sk-serial::before {content: \"\";position: absolute;border-left: 1px solid gray;box-sizing: border-box;top: 0;bottom: 0;left: 50%;z-index: 0;}#sk-container-id-2 div.sk-serial {display: flex;flex-direction: column;align-items: center;background-color: white;padding-right: 0.2em;padding-left: 0.2em;position: relative;}#sk-container-id-2 div.sk-item {position: relative;z-index: 1;}#sk-container-id-2 div.sk-parallel {display: flex;align-items: stretch;justify-content: center;background-color: white;position: relative;}#sk-container-id-2 div.sk-item::before, #sk-container-id-2 div.sk-parallel-item::before {content: \"\";position: absolute;border-left: 1px solid gray;box-sizing: border-box;top: 0;bottom: 0;left: 50%;z-index: -1;}#sk-container-id-2 div.sk-parallel-item {display: flex;flex-direction: column;z-index: 1;position: relative;background-color: white;}#sk-container-id-2 div.sk-parallel-item:first-child::after {align-self: flex-end;width: 50%;}#sk-container-id-2 div.sk-parallel-item:last-child::after {align-self: flex-start;width: 50%;}#sk-container-id-2 div.sk-parallel-item:only-child::after {width: 0;}#sk-container-id-2 div.sk-dashed-wrapped {border: 1px dashed gray;margin: 0 0.4em 0.5em 0.4em;box-sizing: border-box;padding-bottom: 0.4em;background-color: white;}#sk-container-id-2 div.sk-label label {font-family: monospace;font-weight: bold;display: inline-block;line-height: 1.2em;}#sk-container-id-2 div.sk-label-container {text-align: center;}#sk-container-id-2 div.sk-container {/* jupyter's `normalize.less` sets `[hidden] { display: none; }` but bootstrap.min.css set `[hidden] { display: none !important; }` so we also need the `!important` here to be able to override the default hidden behavior on the sphinx rendered scikit-learn.org. See: https://github.com/scikit-learn/scikit-learn/issues/21755 */display: inline-block !important;position: relative;}#sk-container-id-2 div.sk-text-repr-fallback {display: none;}</style><div id=\"sk-container-id-2\" class=\"sk-top-container\"><div class=\"sk-text-repr-fallback\"><pre>KNeighborsClassifier(n_neighbors=42)</pre><b>In a Jupyter environment, please rerun this cell to show the HTML representation or trust the notebook. <br />On GitHub, the HTML representation is unable to render, please try loading this page with nbviewer.org.</b></div><div class=\"sk-container\" hidden><div class=\"sk-item\"><div class=\"sk-estimator sk-toggleable\"><input class=\"sk-toggleable__control sk-hidden--visually\" id=\"sk-estimator-id-2\" type=\"checkbox\" checked><label for=\"sk-estimator-id-2\" class=\"sk-toggleable__label sk-toggleable__label-arrow\">KNeighborsClassifier</label><div class=\"sk-toggleable__content\"><pre>KNeighborsClassifier(n_neighbors=42)</pre></div></div></div></div></div>"
      ],
      "text/plain": [
       "KNeighborsClassifier(n_neighbors=42)"
      ]
     },
     "execution_count": 117,
     "metadata": {},
     "output_type": "execute_result"
    }
   ],
   "source": [
    "knn = KNeighborsClassifier(42)\n",
    "knn.fit(df_6, y_6)"
   ]
  },
  {
   "cell_type": "code",
   "execution_count": 118,
   "metadata": {},
   "outputs": [
    {
     "data": {
      "text/html": [
       "<div>\n",
       "<style scoped>\n",
       "    .dataframe tbody tr th:only-of-type {\n",
       "        vertical-align: middle;\n",
       "    }\n",
       "\n",
       "    .dataframe tbody tr th {\n",
       "        vertical-align: top;\n",
       "    }\n",
       "\n",
       "    .dataframe thead th {\n",
       "        text-align: right;\n",
       "    }\n",
       "</style>\n",
       "<table border=\"1\" class=\"dataframe\">\n",
       "  <thead>\n",
       "    <tr style=\"text-align: right;\">\n",
       "      <th></th>\n",
       "      <th>is_test_probability</th>\n",
       "    </tr>\n",
       "  </thead>\n",
       "  <tbody>\n",
       "    <tr>\n",
       "      <th>0</th>\n",
       "      <td>0.333333</td>\n",
       "    </tr>\n",
       "    <tr>\n",
       "      <th>1</th>\n",
       "      <td>0.285714</td>\n",
       "    </tr>\n",
       "    <tr>\n",
       "      <th>2</th>\n",
       "      <td>0.238095</td>\n",
       "    </tr>\n",
       "    <tr>\n",
       "      <th>3</th>\n",
       "      <td>0.285714</td>\n",
       "    </tr>\n",
       "    <tr>\n",
       "      <th>4</th>\n",
       "      <td>0.285714</td>\n",
       "    </tr>\n",
       "    <tr>\n",
       "      <th>...</th>\n",
       "      <td>...</td>\n",
       "    </tr>\n",
       "    <tr>\n",
       "      <th>449</th>\n",
       "      <td>0.285714</td>\n",
       "    </tr>\n",
       "    <tr>\n",
       "      <th>450</th>\n",
       "      <td>0.309524</td>\n",
       "    </tr>\n",
       "    <tr>\n",
       "      <th>451</th>\n",
       "      <td>0.309524</td>\n",
       "    </tr>\n",
       "    <tr>\n",
       "      <th>452</th>\n",
       "      <td>0.333333</td>\n",
       "    </tr>\n",
       "    <tr>\n",
       "      <th>453</th>\n",
       "      <td>0.309524</td>\n",
       "    </tr>\n",
       "  </tbody>\n",
       "</table>\n",
       "<p>454 rows × 1 columns</p>\n",
       "</div>"
      ],
      "text/plain": [
       "     is_test_probability\n",
       "0               0.333333\n",
       "1               0.285714\n",
       "2               0.238095\n",
       "3               0.285714\n",
       "4               0.285714\n",
       "..                   ...\n",
       "449             0.285714\n",
       "450             0.309524\n",
       "451             0.309524\n",
       "452             0.333333\n",
       "453             0.309524\n",
       "\n",
       "[454 rows x 1 columns]"
      ]
     },
     "execution_count": 118,
     "metadata": {},
     "output_type": "execute_result"
    }
   ],
   "source": [
    "probability_is_test = pd.DataFrame(knn.predict_proba(train_x)[:,1], columns = [\"is_test_probability\"])\n",
    "probability_is_test"
   ]
  },
  {
   "cell_type": "code",
   "execution_count": 119,
   "metadata": {},
   "outputs": [],
   "source": [
    "id_prob_is_test = probability_is_test.sort_values(by = \"is_test_probability\").index[-int(train_x.shape[0]*0.2):]\n",
    "id_train = train_x.index.drop(id_prob_is_test)"
   ]
  },
  {
   "cell_type": "code",
   "execution_count": 120,
   "metadata": {},
   "outputs": [],
   "source": [
    "validation_6 = train_x.loc[id_prob_is_test]\n",
    "validation_6_y = train_y.loc[id_prob_is_test]\n",
    "final_train_6 = train_x.loc[id_train]\n",
    "final_train_6_y = train_y.loc[id_train]"
   ]
  },
  {
   "cell_type": "code",
   "execution_count": 121,
   "metadata": {},
   "outputs": [
    {
     "data": {
      "text/plain": [
       "((364, 43), (364,), (90, 43), (90,))"
      ]
     },
     "execution_count": 121,
     "metadata": {},
     "output_type": "execute_result"
    }
   ],
   "source": [
    "final_train_6.shape, final_train_6_y.shape, validation_6.shape, validation_6_y.shape"
   ]
  },
  {
   "cell_type": "code",
   "execution_count": 122,
   "metadata": {},
   "outputs": [],
   "source": [
    "def validation(df_train, df_val, train_y, val_y, neighbors):\n",
    "    res = {x: None for x in range(1, neighbors)}\n",
    "    for k in range(1,neighbors): \n",
    "        knn = KNeighborsClassifier(k)\n",
    "        knn.fit(df_train, train_y)\n",
    "        predict = knn.predict(df_val)\n",
    "        res[k] = mse(predict, val_y)\n",
    "    return pd.DataFrame(sorted(res.items(), key=operator.itemgetter(1)), columns= ['k', 'mse'])"
   ]
  },
  {
   "cell_type": "code",
   "execution_count": 123,
   "metadata": {},
   "outputs": [
    {
     "data": {
      "text/html": [
       "<div>\n",
       "<style scoped>\n",
       "    .dataframe tbody tr th:only-of-type {\n",
       "        vertical-align: middle;\n",
       "    }\n",
       "\n",
       "    .dataframe tbody tr th {\n",
       "        vertical-align: top;\n",
       "    }\n",
       "\n",
       "    .dataframe thead th {\n",
       "        text-align: right;\n",
       "    }\n",
       "</style>\n",
       "<table border=\"1\" class=\"dataframe\">\n",
       "  <thead>\n",
       "    <tr style=\"text-align: right;\">\n",
       "      <th></th>\n",
       "      <th>k</th>\n",
       "      <th>mse</th>\n",
       "    </tr>\n",
       "  </thead>\n",
       "  <tbody>\n",
       "    <tr>\n",
       "      <th>0</th>\n",
       "      <td>20</td>\n",
       "      <td>2.311111</td>\n",
       "    </tr>\n",
       "    <tr>\n",
       "      <th>1</th>\n",
       "      <td>21</td>\n",
       "      <td>2.322222</td>\n",
       "    </tr>\n",
       "    <tr>\n",
       "      <th>2</th>\n",
       "      <td>23</td>\n",
       "      <td>2.322222</td>\n",
       "    </tr>\n",
       "    <tr>\n",
       "      <th>3</th>\n",
       "      <td>19</td>\n",
       "      <td>2.333333</td>\n",
       "    </tr>\n",
       "    <tr>\n",
       "      <th>4</th>\n",
       "      <td>22</td>\n",
       "      <td>2.344444</td>\n",
       "    </tr>\n",
       "  </tbody>\n",
       "</table>\n",
       "</div>"
      ],
      "text/plain": [
       "    k       mse\n",
       "0  20  2.311111\n",
       "1  21  2.322222\n",
       "2  23  2.322222\n",
       "3  19  2.333333\n",
       "4  22  2.344444"
      ]
     },
     "execution_count": 123,
     "metadata": {},
     "output_type": "execute_result"
    }
   ],
   "source": [
    "validation(final_train_6, validation_6, final_train_6_y, validation_6_y, 50).head(5)"
   ]
  },
  {
   "cell_type": "code",
   "execution_count": 124,
   "metadata": {},
   "outputs": [],
   "source": [
    "# X_train_6, X_test_6, y_train_6, y_test_6 = train_test_split(df_6, y_6, train_size=0.8, test_size=0.2,\n",
    "#                                                     shuffle=True, random_state=42)"
   ]
  },
  {
   "cell_type": "code",
   "execution_count": 125,
   "metadata": {},
   "outputs": [],
   "source": [
    "# cv = StratifiedKFold(n_splits=30)\n",
    "\n",
    "# parameters = {'n_neighbors':range(1, 50)}\n",
    "# knn = KNeighborsClassifier()\n",
    "\n",
    "# grid = GridSearchCV(estimator=knn,\n",
    "#              param_grid=parameters, cv = cv)\n",
    "# grid=grid.fit(final_train_6, final_train_6)\n",
    "# print(grid.score(X_train_6, y_train_6))\n",
    "\n",
    "# # grid_search.score\n",
    "# pd.DataFrame(grid.cv_results_)[['mean_test_score', 'std_test_score', 'params']].sort_values(by='mean_test_score', ascending = False)"
   ]
  },
  {
   "cell_type": "code",
   "execution_count": 126,
   "metadata": {},
   "outputs": [],
   "source": [
    "# knn.predict(train_x.loc[:, train_x.columns != 'is_test'])#[85:95]"
   ]
  },
  {
   "cell_type": "code",
   "execution_count": 127,
   "metadata": {},
   "outputs": [
    {
     "data": {
      "text/plain": [
       "0       9\n",
       "1      12\n",
       "2      13\n",
       "3      11\n",
       "4      12\n",
       "       ..\n",
       "449    10\n",
       "450    10\n",
       "451    15\n",
       "452    10\n",
       "453    12\n",
       "Name: G3, Length: 364, dtype: int32"
      ]
     },
     "execution_count": 127,
     "metadata": {},
     "output_type": "execute_result"
    }
   ],
   "source": [
    "final_train_6_y"
   ]
  }
 ],
 "metadata": {
  "_change_revision": 0,
  "_is_fork": false,
  "colab": {
   "provenance": [],
   "toc_visible": true
  },
  "kernelspec": {
   "display_name": "Python 3 (ipykernel)",
   "language": "python",
   "name": "python3"
  },
  "language_info": {
   "codemirror_mode": {
    "name": "ipython",
    "version": 3
   },
   "file_extension": ".py",
   "mimetype": "text/x-python",
   "name": "python",
   "nbconvert_exporter": "python",
   "pygments_lexer": "ipython3",
   "version": "3.8.3"
  }
 },
 "nbformat": 4,
 "nbformat_minor": 1
}
