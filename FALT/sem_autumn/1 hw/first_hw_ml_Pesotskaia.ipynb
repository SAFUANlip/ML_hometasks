{
 "cells": [
  {
   "cell_type": "markdown",
   "metadata": {
    "id": "AGf_xvZiT0Ww"
   },
   "source": [
    "# Домашнее задание № 1\n",
    "\n",
    "Вам необходимо провести анализ и подготовить данные."
   ]
  },
  {
   "cell_type": "markdown",
   "metadata": {
    "_cell_guid": "d2034be1-8579-d4b9-9b18-b7bf2c6fc651",
    "id": "rWc3WRD0TtVq"
   },
   "source": [
    "# Исходные данные\n",
    "\n",
    "Ознакомьтесь с данными в [источнике](https://www.kaggle.com/uciml/student-alcohol-consumption?select=student-por.csv):\n",
    "\n",
    "Если вкратце, то у вас есть 29 параметров и одна целевая переменная G3."
   ]
  },
  {
   "cell_type": "code",
   "execution_count": 107,
   "metadata": {
    "_cell_guid": "87372d85-e9ac-b3b3-c25d-33dfb357ccd8",
    "id": "pQ5OrqpATtVl"
   },
   "outputs": [],
   "source": [
    "import pandas as pd\n",
    "import numpy as np\n",
    "\n",
    "import scipy.stats as st\n",
    "\n",
    "import seaborn as sns\n",
    "import matplotlib.pyplot as plt"
   ]
  },
  {
   "cell_type": "code",
   "execution_count": null,
   "metadata": {},
   "outputs": [],
   "source": []
  },
  {
   "cell_type": "code",
   "execution_count": 108,
   "metadata": {
    "id": "cE9FdACVcBHd"
   },
   "outputs": [],
   "source": [
    "# Читаем данные\n",
    "\n",
    "X_initial = pd.read_csv('train_features_with_answers.csv')"
   ]
  },
  {
   "cell_type": "code",
   "execution_count": 109,
   "metadata": {
    "id": "i1j9Yn9Jhz-S"
   },
   "outputs": [
    {
     "data": {
      "text/html": [
       "<div>\n",
       "<style scoped>\n",
       "    .dataframe tbody tr th:only-of-type {\n",
       "        vertical-align: middle;\n",
       "    }\n",
       "\n",
       "    .dataframe tbody tr th {\n",
       "        vertical-align: top;\n",
       "    }\n",
       "\n",
       "    .dataframe thead th {\n",
       "        text-align: right;\n",
       "    }\n",
       "</style>\n",
       "<table border=\"1\" class=\"dataframe\">\n",
       "  <thead>\n",
       "    <tr style=\"text-align: right;\">\n",
       "      <th></th>\n",
       "      <th>school</th>\n",
       "      <th>sex</th>\n",
       "      <th>age</th>\n",
       "      <th>address</th>\n",
       "      <th>famsize</th>\n",
       "      <th>Pstatus</th>\n",
       "      <th>Medu</th>\n",
       "      <th>Fedu</th>\n",
       "      <th>Mjob</th>\n",
       "      <th>Fjob</th>\n",
       "      <th>...</th>\n",
       "      <th>internet</th>\n",
       "      <th>romantic</th>\n",
       "      <th>famrel</th>\n",
       "      <th>freetime</th>\n",
       "      <th>goout</th>\n",
       "      <th>Dalc</th>\n",
       "      <th>Walc</th>\n",
       "      <th>health</th>\n",
       "      <th>absences</th>\n",
       "      <th>G3</th>\n",
       "    </tr>\n",
       "  </thead>\n",
       "  <tbody>\n",
       "    <tr>\n",
       "      <th>0</th>\n",
       "      <td>MS</td>\n",
       "      <td>M</td>\n",
       "      <td>NaN</td>\n",
       "      <td>U</td>\n",
       "      <td>LE3</td>\n",
       "      <td>T</td>\n",
       "      <td>1</td>\n",
       "      <td>3</td>\n",
       "      <td>at_home</td>\n",
       "      <td>services</td>\n",
       "      <td>...</td>\n",
       "      <td>yes</td>\n",
       "      <td>yes</td>\n",
       "      <td>4</td>\n",
       "      <td>3</td>\n",
       "      <td>3</td>\n",
       "      <td>2</td>\n",
       "      <td>3</td>\n",
       "      <td>3</td>\n",
       "      <td>0</td>\n",
       "      <td>9</td>\n",
       "    </tr>\n",
       "    <tr>\n",
       "      <th>1</th>\n",
       "      <td>GP</td>\n",
       "      <td>M</td>\n",
       "      <td>NaN</td>\n",
       "      <td>R</td>\n",
       "      <td>LE3</td>\n",
       "      <td>T</td>\n",
       "      <td>3</td>\n",
       "      <td>3</td>\n",
       "      <td>teacher</td>\n",
       "      <td>other</td>\n",
       "      <td>...</td>\n",
       "      <td>yes</td>\n",
       "      <td>no</td>\n",
       "      <td>3</td>\n",
       "      <td>3</td>\n",
       "      <td>4</td>\n",
       "      <td>3</td>\n",
       "      <td>5</td>\n",
       "      <td>3</td>\n",
       "      <td>16</td>\n",
       "      <td>12</td>\n",
       "    </tr>\n",
       "    <tr>\n",
       "      <th>2</th>\n",
       "      <td>GP</td>\n",
       "      <td>M</td>\n",
       "      <td>15.0</td>\n",
       "      <td>NaN</td>\n",
       "      <td>GT3</td>\n",
       "      <td>T</td>\n",
       "      <td>3</td>\n",
       "      <td>4</td>\n",
       "      <td>other</td>\n",
       "      <td>other</td>\n",
       "      <td>...</td>\n",
       "      <td>yes</td>\n",
       "      <td>no</td>\n",
       "      <td>5</td>\n",
       "      <td>5</td>\n",
       "      <td>1</td>\n",
       "      <td>1</td>\n",
       "      <td>1</td>\n",
       "      <td>5</td>\n",
       "      <td>0</td>\n",
       "      <td>13</td>\n",
       "    </tr>\n",
       "    <tr>\n",
       "      <th>3</th>\n",
       "      <td>MS</td>\n",
       "      <td>M</td>\n",
       "      <td>17.0</td>\n",
       "      <td>R</td>\n",
       "      <td>GT3</td>\n",
       "      <td>T</td>\n",
       "      <td>4</td>\n",
       "      <td>3</td>\n",
       "      <td>services</td>\n",
       "      <td>other</td>\n",
       "      <td>...</td>\n",
       "      <td>yes</td>\n",
       "      <td>yes</td>\n",
       "      <td>4</td>\n",
       "      <td>5</td>\n",
       "      <td>5</td>\n",
       "      <td>1</td>\n",
       "      <td>3</td>\n",
       "      <td>2</td>\n",
       "      <td>4</td>\n",
       "      <td>11</td>\n",
       "    </tr>\n",
       "    <tr>\n",
       "      <th>4</th>\n",
       "      <td>GP</td>\n",
       "      <td>F</td>\n",
       "      <td>20.0</td>\n",
       "      <td>R</td>\n",
       "      <td>GT3</td>\n",
       "      <td>T</td>\n",
       "      <td>2</td>\n",
       "      <td>1</td>\n",
       "      <td>other</td>\n",
       "      <td>other</td>\n",
       "      <td>...</td>\n",
       "      <td>yes</td>\n",
       "      <td>yes</td>\n",
       "      <td>1</td>\n",
       "      <td>2</td>\n",
       "      <td>3</td>\n",
       "      <td>1</td>\n",
       "      <td>2</td>\n",
       "      <td>2</td>\n",
       "      <td>8</td>\n",
       "      <td>12</td>\n",
       "    </tr>\n",
       "  </tbody>\n",
       "</table>\n",
       "<p>5 rows × 31 columns</p>\n",
       "</div>"
      ],
      "text/plain": [
       "  school sex   age address famsize Pstatus  Medu  Fedu      Mjob      Fjob  \\\n",
       "0     MS   M   NaN       U     LE3       T     1     3   at_home  services   \n",
       "1     GP   M   NaN       R     LE3       T     3     3   teacher     other   \n",
       "2     GP   M  15.0     NaN     GT3       T     3     4     other     other   \n",
       "3     MS   M  17.0       R     GT3       T     4     3  services     other   \n",
       "4     GP   F  20.0       R     GT3       T     2     1     other     other   \n",
       "\n",
       "   ... internet romantic  famrel  freetime  goout Dalc Walc health absences  \\\n",
       "0  ...      yes      yes       4         3      3    2    3      3        0   \n",
       "1  ...      yes       no       3         3      4    3    5      3       16   \n",
       "2  ...      yes       no       5         5      1    1    1      5        0   \n",
       "3  ...      yes      yes       4         5      5    1    3      2        4   \n",
       "4  ...      yes      yes       1         2      3    1    2      2        8   \n",
       "\n",
       "   G3  \n",
       "0   9  \n",
       "1  12  \n",
       "2  13  \n",
       "3  11  \n",
       "4  12  \n",
       "\n",
       "[5 rows x 31 columns]"
      ]
     },
     "execution_count": 109,
     "metadata": {},
     "output_type": "execute_result"
    }
   ],
   "source": [
    "# Про характеристики прочитайте в источнике\n",
    "\n",
    "X_initial.head(5)"
   ]
  },
  {
   "cell_type": "markdown",
   "metadata": {
    "_cell_guid": "daf6f291-b7aa-d184-39f8-6278cc04f0ee",
    "id": "fxkflheLTtVv"
   },
   "source": [
    "# Часть 1. Визуальный анализ данных (Exploratory Data Analysis)\n",
    "\n",
    "Перед тем, как приступать к построению алгоритмов, необходимо понять данные, с которыми требуется работать. Для этого в подходах к построению алгоритмов машинного обучения выделят специальный этап - Разведочный анализ данных или Exploratory Data Analysis (EDA). EDA в себя включает все те, что касается описания данных: визуализацию, интерпретацию и анализ. \n",
    "\n",
    "Прежде всего сделаем визуализацию данных для того, чтобы оценить диапазоны значений и виды их распределений.\n",
    "\n",
    "Постройте для приведенных ниже характеристик следующие виды графиков:\n",
    "- Гистограммы;\n",
    "- Круговые диаграмм;\n",
    "- Графики;\n",
    "- Таблицы;\n",
    "- 3D диаграммы.\n",
    "\n",
    "Выберите наиболее подходящий тип графика для каждой характеристки. \n",
    "\n",
    "__Основной критерий оценивания__ - читаемость и интерпретируемость данных."
   ]
  },
  {
   "cell_type": "markdown",
   "metadata": {
    "id": "FA0btFcmmpAG"
   },
   "source": [
    "## Характеристика: \"Sex\""
   ]
  },
  {
   "cell_type": "code",
   "execution_count": 123,
   "metadata": {
    "_cell_guid": "74f8d40e-415f-9e29-03ca-aa1e75714c11",
    "id": "QElGbkh1TtVw"
   },
   "outputs": [
    {
     "data": {
      "image/png": "[encoded data removed]",
      "text/plain": [
       "<Figure size 432x288 with 1 Axes>"
      ]
     },
     "metadata": {
      "needs_background": "light"
     },
     "output_type": "display_data"
    }
   ],
   "source": [
    "df = X_initial.copy()\n",
    "plt.hist(df['sex'])\n",
    "None"
   ]
  },
  {
   "cell_type": "markdown",
   "metadata": {
    "_cell_guid": "fe453992-94f6-ae3b-b1fd-63027e71729f",
    "id": "eOkuFjVRTtVy"
   },
   "source": [
    "## Характеристика: \"Age\""
   ]
  },
  {
   "cell_type": "code",
   "execution_count": 124,
   "metadata": {
    "_cell_guid": "1051bfb6-f29e-0c40-1666-c97827578ad3",
    "id": "i9a_yujdTtVy"
   },
   "outputs": [
    {
     "data": {
      "image/png": "[encoded data removed]",
      "text/plain": [
       "<Figure size 432x288 with 1 Axes>"
      ]
     },
     "metadata": {
      "needs_background": "light"
     },
     "output_type": "display_data"
    }
   ],
   "source": [
    "df = X_initial.copy()\n",
    "df['num'] = 1\n",
    "df = pd.pivot_table(df, index='age',  aggfunc='count')\n",
    "df.plot(y = 'num')\n",
    "None"
   ]
  },
  {
   "cell_type": "markdown",
   "metadata": {
    "_cell_guid": "7febeef3-e6b0-a18a-5705-7ee3876c1965",
    "id": "vgfL_e8lTtV0"
   },
   "source": [
    "## Характеристика: \"Weekly study time\""
   ]
  },
  {
   "cell_type": "code",
   "execution_count": 125,
   "metadata": {
    "_cell_guid": "12f1d266-9efa-4bd9-a3c1-48ea880080be",
    "id": "e3UTlpoMTtV1"
   },
   "outputs": [],
   "source": [
    "df = X_initial.copy()\n",
    "df['studytime'].unique()\n",
    "None"
   ]
  },
  {
   "cell_type": "code",
   "execution_count": 113,
   "metadata": {},
   "outputs": [],
   "source": [
    "def get_study_time(category):\n",
    "    return {\n",
    "         category == 1:  '<2 hours',\n",
    "         category == 2:  '2 - 2 to 5 hours',\n",
    "         category == 3:  '3 - 5 to 10 hours',\n",
    "         category == 4:  '4 - >10 hours',\n",
    "    }[True]"
   ]
  },
  {
   "cell_type": "code",
   "execution_count": 126,
   "metadata": {},
   "outputs": [
    {
     "data": {
      "image/png": "[encoded data removed]",
      "text/plain": [
       "<Figure size 432x288 with 1 Axes>"
      ]
     },
     "metadata": {},
     "output_type": "display_data"
    }
   ],
   "source": [
    "df['weekly study hours'] = df['studytime'].fillna(0).apply(lambda x: get_study_time(x))\n",
    "df['weekly study hours'].value_counts().plot.pie()\n",
    "None"
   ]
  },
  {
   "cell_type": "markdown",
   "metadata": {
    "_cell_guid": "a0732dfe-165e-3c44-319c-bb7bf890fe9b",
    "id": "QmcAzPipTtV3"
   },
   "source": [
    "## Характеристика: \"Romantic Relationship\""
   ]
  },
  {
   "cell_type": "code",
   "execution_count": 127,
   "metadata": {
    "_cell_guid": "048c1de0-e55c-6e2f-09db-1263e9fbac76",
    "id": "yICND3ynTtV3"
   },
   "outputs": [
    {
     "data": {
      "image/png": "[encoded data removed]",
      "text/plain": [
       "<Figure size 432x288 with 1 Axes>"
      ]
     },
     "metadata": {
      "needs_background": "light"
     },
     "output_type": "display_data"
    }
   ],
   "source": [
    "df = X_initial.copy()\n",
    "plt.hist(df['romantic'])\n",
    "None"
   ]
  },
  {
   "cell_type": "markdown",
   "metadata": {
    "_cell_guid": "21ae96ef-7925-4a81-1f1d-54d4ed018ec3",
    "id": "cJTillXMTtV5"
   },
   "source": [
    "## Характеристика: \"Alcohol Consumption\""
   ]
  },
  {
   "cell_type": "code",
   "execution_count": 116,
   "metadata": {
    "id": "e4KynL-GnIrc"
   },
   "outputs": [],
   "source": [
    "df = X_initial.copy()"
   ]
  },
  {
   "cell_type": "code",
   "execution_count": 128,
   "metadata": {},
   "outputs": [
    {
     "data": {
      "image/png": "[encoded data removed]",
      "text/plain": [
       "<Figure size 432x288 with 1 Axes>"
      ]
     },
     "metadata": {
      "needs_background": "light"
     },
     "output_type": "display_data"
    }
   ],
   "source": [
    "df.hist(column='Dalc')\n",
    "None"
   ]
  },
  {
   "cell_type": "code",
   "execution_count": 129,
   "metadata": {},
   "outputs": [
    {
     "data": {
      "image/png": "[encoded data removed]",
      "text/plain": [
       "<Figure size 432x288 with 1 Axes>"
      ]
     },
     "metadata": {
      "needs_background": "light"
     },
     "output_type": "display_data"
    }
   ],
   "source": [
    "df.hist(column='Walc')\n",
    "None"
   ]
  },
  {
   "cell_type": "markdown",
   "metadata": {},
   "source": [
    "## prettier"
   ]
  },
  {
   "cell_type": "code",
   "execution_count": 119,
   "metadata": {},
   "outputs": [],
   "source": [
    "df = X_initial.copy()"
   ]
  },
  {
   "cell_type": "code",
   "execution_count": 120,
   "metadata": {},
   "outputs": [],
   "source": [
    "def get_alc_time(category):\n",
    "    return {\n",
    "         category == 1:  'easy',\n",
    "         category == 2:  'low',\n",
    "         category == 3:  'medium',\n",
    "         category == 4:  'hard',\n",
    "        category == 5:  'death',\n",
    "\n",
    "    }[True]"
   ]
  },
  {
   "cell_type": "code",
   "execution_count": 130,
   "metadata": {},
   "outputs": [
    {
     "data": {
      "image/png": "[encoded data removed]",
      "text/plain": [
       "<Figure size 432x288 with 1 Axes>"
      ]
     },
     "metadata": {},
     "output_type": "display_data"
    }
   ],
   "source": [
    "df['work day drunk hours'] = df['Dalc'].fillna(0).apply(lambda x: get_alc_time(x))\n",
    "df['work day drunk hours'].value_counts().plot.pie()\n",
    "None"
   ]
  },
  {
   "cell_type": "code",
   "execution_count": 131,
   "metadata": {},
   "outputs": [
    {
     "data": {
      "image/png": "[encoded data removed]",
      "text/plain": [
       "<Figure size 432x288 with 1 Axes>"
      ]
     },
     "metadata": {},
     "output_type": "display_data"
    }
   ],
   "source": [
    "df['week day drunk hours'] = df['Walc'].fillna(0).apply(lambda x: get_alc_time(x))\n",
    "df['week day drunk hours'].value_counts().plot.pie()\n",
    "None"
   ]
  },
  {
   "cell_type": "markdown",
   "metadata": {
    "_cell_guid": "21ae96ef-7925-4a81-1f1d-54d4ed018ec3",
    "id": "JL7MDeVBnDBw"
   },
   "source": [
    "## Целевая зависимость: \"G3\" (Final Grade)"
   ]
  },
  {
   "cell_type": "code",
   "execution_count": 132,
   "metadata": {
    "id": "Fshy5JYdTgyr"
   },
   "outputs": [
    {
     "data": {
      "image/png": "[encoded data removed]",
      "text/plain": [
       "<Figure size 432x288 with 1 Axes>"
      ]
     },
     "metadata": {
      "needs_background": "light"
     },
     "output_type": "display_data"
    }
   ],
   "source": [
    "df = X_initial.copy()\n",
    "df['G3'].unique()\n",
    "plt.hist(df['G3'],bins = len(df['G3'].unique()),edgecolor='black')\n",
    "None"
   ]
  },
  {
   "cell_type": "markdown",
   "metadata": {
    "id": "HyR-ETD6Tgys"
   },
   "source": [
    "## Прочие характеристики\n",
    "\n",
    "Прочитайте описание данных на [сайте](https://www.kaggle.com/uciml/student-alcohol-consumption) и подумайте, какие еще характеристики было бы полезно проанализировать. Постройте соответсвующие графики для выбранных характеристик.\n",
    "\n",
    "Постройте графики еще для минимум 4 характеристик: числовая (2) и категориальная (2), применив хотя бы один раз:\n",
    "- pieplot\n",
    "- boxplot\n",
    "- violinplot"
   ]
  },
  {
   "cell_type": "code",
   "execution_count": 133,
   "metadata": {
    "id": "zYBWdQKjnDB1"
   },
   "outputs": [
    {
     "data": {
      "image/png": "[encoded data removed]",
      "text/plain": [
       "<Figure size 432x288 with 1 Axes>"
      ]
     },
     "metadata": {},
     "output_type": "display_data"
    }
   ],
   "source": [
    "df = X_initial.copy()\n",
    "df['school'].value_counts().plot.pie()\n",
    "None"
   ]
  },
  {
   "cell_type": "code",
   "execution_count": 134,
   "metadata": {},
   "outputs": [
    {
     "data": {
      "image/png": "[encoded data removed]",
      "text/plain": [
       "<Figure size 432x288 with 1 Axes>"
      ]
     },
     "metadata": {
      "needs_background": "light"
     },
     "output_type": "display_data"
    }
   ],
   "source": [
    "df = X_initial.copy()\n",
    "sns.violinplot(data=df[((df['sex']=='F') | (df['sex']=='M')) & (df['age']<100) & (df['age']>10)], x=\"sex\", y=\"age\")\n",
    "None"
   ]
  },
  {
   "cell_type": "code",
   "execution_count": 135,
   "metadata": {},
   "outputs": [
    {
     "data": {
      "image/png": "[encoded data removed]",
      "text/plain": [
       "<Figure size 432x288 with 1 Axes>"
      ]
     },
     "metadata": {
      "needs_background": "light"
     },
     "output_type": "display_data"
    }
   ],
   "source": [
    "df = X_initial.copy()\n",
    "sns.boxplot(x=df[\"G3\"])\n",
    "None"
   ]
  },
  {
   "cell_type": "code",
   "execution_count": 136,
   "metadata": {},
   "outputs": [
    {
     "data": {
      "image/png": "[encoded data removed]",
      "text/plain": [
       "<Figure size 432x288 with 1 Axes>"
      ]
     },
     "metadata": {},
     "output_type": "display_data"
    }
   ],
   "source": [
    "df = X_initial.copy()\n",
    "df['health'].value_counts().plot.pie()\n",
    "None"
   ]
  },
  {
   "cell_type": "markdown",
   "metadata": {
    "_cell_guid": "21ae96ef-7925-4a81-1f1d-54d4ed018ec3",
    "id": "dDiTs21MnRYu"
   },
   "source": [
    "## Корреляция признаков\n",
    "\n",
    "Для того, чтобы быстро получить оценку о взаимосвязи признаков целесообразно построить матрицу их корреляции. Постройте матрицу корреляции."
   ]
  },
  {
   "cell_type": "code",
   "execution_count": 137,
   "metadata": {
    "id": "KagTTs4mnRYv"
   },
   "outputs": [
    {
     "data": {
      "text/html": [
       "<div>\n",
       "<style scoped>\n",
       "    .dataframe tbody tr th:only-of-type {\n",
       "        vertical-align: middle;\n",
       "    }\n",
       "\n",
       "    .dataframe tbody tr th {\n",
       "        vertical-align: top;\n",
       "    }\n",
       "\n",
       "    .dataframe thead th {\n",
       "        text-align: right;\n",
       "    }\n",
       "</style>\n",
       "<table border=\"1\" class=\"dataframe\">\n",
       "  <thead>\n",
       "    <tr style=\"text-align: right;\">\n",
       "      <th></th>\n",
       "      <th>age</th>\n",
       "      <th>Medu</th>\n",
       "      <th>Fedu</th>\n",
       "      <th>traveltime</th>\n",
       "      <th>studytime</th>\n",
       "      <th>failures</th>\n",
       "      <th>famrel</th>\n",
       "      <th>freetime</th>\n",
       "      <th>goout</th>\n",
       "      <th>Dalc</th>\n",
       "      <th>Walc</th>\n",
       "      <th>health</th>\n",
       "      <th>absences</th>\n",
       "      <th>G3</th>\n",
       "    </tr>\n",
       "  </thead>\n",
       "  <tbody>\n",
       "    <tr>\n",
       "      <th>age</th>\n",
       "      <td>1.000000</td>\n",
       "      <td>0.017118</td>\n",
       "      <td>0.015926</td>\n",
       "      <td>-0.045215</td>\n",
       "      <td>0.037509</td>\n",
       "      <td>-0.000269</td>\n",
       "      <td>0.050729</td>\n",
       "      <td>-0.048159</td>\n",
       "      <td>-0.019423</td>\n",
       "      <td>-0.033190</td>\n",
       "      <td>-0.038725</td>\n",
       "      <td>-0.105574</td>\n",
       "      <td>-0.026602</td>\n",
       "      <td>-0.031453</td>\n",
       "    </tr>\n",
       "    <tr>\n",
       "      <th>Medu</th>\n",
       "      <td>0.017118</td>\n",
       "      <td>1.000000</td>\n",
       "      <td>0.650052</td>\n",
       "      <td>-0.292153</td>\n",
       "      <td>0.088940</td>\n",
       "      <td>-0.172137</td>\n",
       "      <td>0.068827</td>\n",
       "      <td>0.029327</td>\n",
       "      <td>0.055263</td>\n",
       "      <td>-0.011133</td>\n",
       "      <td>-0.021110</td>\n",
       "      <td>0.045795</td>\n",
       "      <td>0.018881</td>\n",
       "      <td>0.207645</td>\n",
       "    </tr>\n",
       "    <tr>\n",
       "      <th>Fedu</th>\n",
       "      <td>0.015926</td>\n",
       "      <td>0.650052</td>\n",
       "      <td>1.000000</td>\n",
       "      <td>-0.211014</td>\n",
       "      <td>0.077986</td>\n",
       "      <td>-0.157411</td>\n",
       "      <td>0.086715</td>\n",
       "      <td>0.032968</td>\n",
       "      <td>0.062423</td>\n",
       "      <td>-0.002507</td>\n",
       "      <td>-0.001616</td>\n",
       "      <td>0.086325</td>\n",
       "      <td>0.047975</td>\n",
       "      <td>0.196666</td>\n",
       "    </tr>\n",
       "    <tr>\n",
       "      <th>traveltime</th>\n",
       "      <td>-0.045215</td>\n",
       "      <td>-0.292153</td>\n",
       "      <td>-0.211014</td>\n",
       "      <td>1.000000</td>\n",
       "      <td>-0.084222</td>\n",
       "      <td>0.079322</td>\n",
       "      <td>-0.025235</td>\n",
       "      <td>0.003360</td>\n",
       "      <td>0.008395</td>\n",
       "      <td>0.078637</td>\n",
       "      <td>0.048305</td>\n",
       "      <td>-0.047959</td>\n",
       "      <td>-0.041817</td>\n",
       "      <td>-0.150548</td>\n",
       "    </tr>\n",
       "    <tr>\n",
       "      <th>studytime</th>\n",
       "      <td>0.037509</td>\n",
       "      <td>0.088940</td>\n",
       "      <td>0.077986</td>\n",
       "      <td>-0.084222</td>\n",
       "      <td>1.000000</td>\n",
       "      <td>-0.125199</td>\n",
       "      <td>-0.024362</td>\n",
       "      <td>-0.075368</td>\n",
       "      <td>-0.098676</td>\n",
       "      <td>-0.152659</td>\n",
       "      <td>-0.243818</td>\n",
       "      <td>-0.052498</td>\n",
       "      <td>-0.099545</td>\n",
       "      <td>0.217938</td>\n",
       "    </tr>\n",
       "    <tr>\n",
       "      <th>failures</th>\n",
       "      <td>-0.000269</td>\n",
       "      <td>-0.172137</td>\n",
       "      <td>-0.157411</td>\n",
       "      <td>0.079322</td>\n",
       "      <td>-0.125199</td>\n",
       "      <td>1.000000</td>\n",
       "      <td>-0.064462</td>\n",
       "      <td>0.112960</td>\n",
       "      <td>0.052652</td>\n",
       "      <td>0.153152</td>\n",
       "      <td>0.135870</td>\n",
       "      <td>0.045039</td>\n",
       "      <td>0.121685</td>\n",
       "      <td>-0.407549</td>\n",
       "    </tr>\n",
       "    <tr>\n",
       "      <th>famrel</th>\n",
       "      <td>0.050729</td>\n",
       "      <td>0.068827</td>\n",
       "      <td>0.086715</td>\n",
       "      <td>-0.025235</td>\n",
       "      <td>-0.024362</td>\n",
       "      <td>-0.064462</td>\n",
       "      <td>1.000000</td>\n",
       "      <td>0.113157</td>\n",
       "      <td>0.070991</td>\n",
       "      <td>-0.052349</td>\n",
       "      <td>-0.075185</td>\n",
       "      <td>0.111193</td>\n",
       "      <td>-0.117433</td>\n",
       "      <td>0.087383</td>\n",
       "    </tr>\n",
       "    <tr>\n",
       "      <th>freetime</th>\n",
       "      <td>-0.048159</td>\n",
       "      <td>0.029327</td>\n",
       "      <td>0.032968</td>\n",
       "      <td>0.003360</td>\n",
       "      <td>-0.075368</td>\n",
       "      <td>0.112960</td>\n",
       "      <td>0.113157</td>\n",
       "      <td>1.000000</td>\n",
       "      <td>0.359857</td>\n",
       "      <td>0.110431</td>\n",
       "      <td>0.166500</td>\n",
       "      <td>0.109172</td>\n",
       "      <td>-0.000584</td>\n",
       "      <td>-0.093619</td>\n",
       "    </tr>\n",
       "    <tr>\n",
       "      <th>goout</th>\n",
       "      <td>-0.019423</td>\n",
       "      <td>0.055263</td>\n",
       "      <td>0.062423</td>\n",
       "      <td>0.008395</td>\n",
       "      <td>-0.098676</td>\n",
       "      <td>0.052652</td>\n",
       "      <td>0.070991</td>\n",
       "      <td>0.359857</td>\n",
       "      <td>1.000000</td>\n",
       "      <td>0.241739</td>\n",
       "      <td>0.421281</td>\n",
       "      <td>-0.008693</td>\n",
       "      <td>0.059189</td>\n",
       "      <td>-0.090558</td>\n",
       "    </tr>\n",
       "    <tr>\n",
       "      <th>Dalc</th>\n",
       "      <td>-0.033190</td>\n",
       "      <td>-0.011133</td>\n",
       "      <td>-0.002507</td>\n",
       "      <td>0.078637</td>\n",
       "      <td>-0.152659</td>\n",
       "      <td>0.153152</td>\n",
       "      <td>-0.052349</td>\n",
       "      <td>0.110431</td>\n",
       "      <td>0.241739</td>\n",
       "      <td>1.000000</td>\n",
       "      <td>0.613398</td>\n",
       "      <td>0.063682</td>\n",
       "      <td>0.217312</td>\n",
       "      <td>-0.233310</td>\n",
       "    </tr>\n",
       "    <tr>\n",
       "      <th>Walc</th>\n",
       "      <td>-0.038725</td>\n",
       "      <td>-0.021110</td>\n",
       "      <td>-0.001616</td>\n",
       "      <td>0.048305</td>\n",
       "      <td>-0.243818</td>\n",
       "      <td>0.135870</td>\n",
       "      <td>-0.075185</td>\n",
       "      <td>0.166500</td>\n",
       "      <td>0.421281</td>\n",
       "      <td>0.613398</td>\n",
       "      <td>1.000000</td>\n",
       "      <td>0.106020</td>\n",
       "      <td>0.178695</td>\n",
       "      <td>-0.192491</td>\n",
       "    </tr>\n",
       "    <tr>\n",
       "      <th>health</th>\n",
       "      <td>-0.105574</td>\n",
       "      <td>0.045795</td>\n",
       "      <td>0.086325</td>\n",
       "      <td>-0.047959</td>\n",
       "      <td>-0.052498</td>\n",
       "      <td>0.045039</td>\n",
       "      <td>0.111193</td>\n",
       "      <td>0.109172</td>\n",
       "      <td>-0.008693</td>\n",
       "      <td>0.063682</td>\n",
       "      <td>0.106020</td>\n",
       "      <td>1.000000</td>\n",
       "      <td>-0.050845</td>\n",
       "      <td>-0.097878</td>\n",
       "    </tr>\n",
       "    <tr>\n",
       "      <th>absences</th>\n",
       "      <td>-0.026602</td>\n",
       "      <td>0.018881</td>\n",
       "      <td>0.047975</td>\n",
       "      <td>-0.041817</td>\n",
       "      <td>-0.099545</td>\n",
       "      <td>0.121685</td>\n",
       "      <td>-0.117433</td>\n",
       "      <td>-0.000584</td>\n",
       "      <td>0.059189</td>\n",
       "      <td>0.217312</td>\n",
       "      <td>0.178695</td>\n",
       "      <td>-0.050845</td>\n",
       "      <td>1.000000</td>\n",
       "      <td>-0.076876</td>\n",
       "    </tr>\n",
       "    <tr>\n",
       "      <th>G3</th>\n",
       "      <td>-0.031453</td>\n",
       "      <td>0.207645</td>\n",
       "      <td>0.196666</td>\n",
       "      <td>-0.150548</td>\n",
       "      <td>0.217938</td>\n",
       "      <td>-0.407549</td>\n",
       "      <td>0.087383</td>\n",
       "      <td>-0.093619</td>\n",
       "      <td>-0.090558</td>\n",
       "      <td>-0.233310</td>\n",
       "      <td>-0.192491</td>\n",
       "      <td>-0.097878</td>\n",
       "      <td>-0.076876</td>\n",
       "      <td>1.000000</td>\n",
       "    </tr>\n",
       "  </tbody>\n",
       "</table>\n",
       "</div>"
      ],
      "text/plain": [
       "                 age      Medu      Fedu  traveltime  studytime  failures  \\\n",
       "age         1.000000  0.017118  0.015926   -0.045215   0.037509 -0.000269   \n",
       "Medu        0.017118  1.000000  0.650052   -0.292153   0.088940 -0.172137   \n",
       "Fedu        0.015926  0.650052  1.000000   -0.211014   0.077986 -0.157411   \n",
       "traveltime -0.045215 -0.292153 -0.211014    1.000000  -0.084222  0.079322   \n",
       "studytime   0.037509  0.088940  0.077986   -0.084222   1.000000 -0.125199   \n",
       "failures   -0.000269 -0.172137 -0.157411    0.079322  -0.125199  1.000000   \n",
       "famrel      0.050729  0.068827  0.086715   -0.025235  -0.024362 -0.064462   \n",
       "freetime   -0.048159  0.029327  0.032968    0.003360  -0.075368  0.112960   \n",
       "goout      -0.019423  0.055263  0.062423    0.008395  -0.098676  0.052652   \n",
       "Dalc       -0.033190 -0.011133 -0.002507    0.078637  -0.152659  0.153152   \n",
       "Walc       -0.038725 -0.021110 -0.001616    0.048305  -0.243818  0.135870   \n",
       "health     -0.105574  0.045795  0.086325   -0.047959  -0.052498  0.045039   \n",
       "absences   -0.026602  0.018881  0.047975   -0.041817  -0.099545  0.121685   \n",
       "G3         -0.031453  0.207645  0.196666   -0.150548   0.217938 -0.407549   \n",
       "\n",
       "              famrel  freetime     goout      Dalc      Walc    health  \\\n",
       "age         0.050729 -0.048159 -0.019423 -0.033190 -0.038725 -0.105574   \n",
       "Medu        0.068827  0.029327  0.055263 -0.011133 -0.021110  0.045795   \n",
       "Fedu        0.086715  0.032968  0.062423 -0.002507 -0.001616  0.086325   \n",
       "traveltime -0.025235  0.003360  0.008395  0.078637  0.048305 -0.047959   \n",
       "studytime  -0.024362 -0.075368 -0.098676 -0.152659 -0.243818 -0.052498   \n",
       "failures   -0.064462  0.112960  0.052652  0.153152  0.135870  0.045039   \n",
       "famrel      1.000000  0.113157  0.070991 -0.052349 -0.075185  0.111193   \n",
       "freetime    0.113157  1.000000  0.359857  0.110431  0.166500  0.109172   \n",
       "goout       0.070991  0.359857  1.000000  0.241739  0.421281 -0.008693   \n",
       "Dalc       -0.052349  0.110431  0.241739  1.000000  0.613398  0.063682   \n",
       "Walc       -0.075185  0.166500  0.421281  0.613398  1.000000  0.106020   \n",
       "health      0.111193  0.109172 -0.008693  0.063682  0.106020  1.000000   \n",
       "absences   -0.117433 -0.000584  0.059189  0.217312  0.178695 -0.050845   \n",
       "G3          0.087383 -0.093619 -0.090558 -0.233310 -0.192491 -0.097878   \n",
       "\n",
       "            absences        G3  \n",
       "age        -0.026602 -0.031453  \n",
       "Medu        0.018881  0.207645  \n",
       "Fedu        0.047975  0.196666  \n",
       "traveltime -0.041817 -0.150548  \n",
       "studytime  -0.099545  0.217938  \n",
       "failures    0.121685 -0.407549  \n",
       "famrel     -0.117433  0.087383  \n",
       "freetime   -0.000584 -0.093619  \n",
       "goout       0.059189 -0.090558  \n",
       "Dalc        0.217312 -0.233310  \n",
       "Walc        0.178695 -0.192491  \n",
       "health     -0.050845 -0.097878  \n",
       "absences    1.000000 -0.076876  \n",
       "G3         -0.076876  1.000000  "
      ]
     },
     "execution_count": 137,
     "metadata": {},
     "output_type": "execute_result"
    }
   ],
   "source": [
    "df = X_initial.copy()\n",
    "df.corr()"
   ]
  },
  {
   "cell_type": "markdown",
   "metadata": {
    "id": "Uamr3aOOSVo4"
   },
   "source": [
    "## Посчитайте корреляцию Спирмана и нарисуйте ее в виде тепловой карты"
   ]
  },
  {
   "cell_type": "code",
   "execution_count": 138,
   "metadata": {
    "id": "OA7BA80QSVo5"
   },
   "outputs": [
    {
     "data": {
      "text/plain": [
       "<AxesSubplot:>"
      ]
     },
     "execution_count": 138,
     "metadata": {},
     "output_type": "execute_result"
    },
    {
     "data": {
      "image/png": "[encoded data removed]",
      "text/plain": [
       "<Figure size 1080x1080 with 2 Axes>"
      ]
     },
     "metadata": {
      "needs_background": "light"
     },
     "output_type": "display_data"
    }
   ],
   "source": [
    "df = X_initial.copy()\n",
    "fig, ax = plt.subplots(figsize=(15,15)) \n",
    "sns.heatmap(df.corr(method='spearman'), \n",
    "         vmin=-1, vmax=1,annot=True,cmap=\"YlGn\",ax=ax)"
   ]
  },
  {
   "cell_type": "markdown",
   "metadata": {
    "_cell_guid": "21ae96ef-7925-4a81-1f1d-54d4ed018ec3",
    "id": "HU8fL_6GtGWV"
   },
   "source": [
    "## Диапазон значений характеристик\n",
    "\n",
    "Посчитайте число уникальных значений для каждого признака и сравните их между собой."
   ]
  },
  {
   "cell_type": "code",
   "execution_count": 140,
   "metadata": {
    "id": "MnBcttm5tGWW"
   },
   "outputs": [
    {
     "data": {
      "text/html": [
       "<div>\n",
       "<style scoped>\n",
       "    .dataframe tbody tr th:only-of-type {\n",
       "        vertical-align: middle;\n",
       "    }\n",
       "\n",
       "    .dataframe tbody tr th {\n",
       "        vertical-align: top;\n",
       "    }\n",
       "\n",
       "    .dataframe thead th {\n",
       "        text-align: right;\n",
       "    }\n",
       "</style>\n",
       "<table border=\"1\" class=\"dataframe\">\n",
       "  <thead>\n",
       "    <tr style=\"text-align: right;\">\n",
       "      <th></th>\n",
       "      <th>count</th>\n",
       "    </tr>\n",
       "  </thead>\n",
       "  <tbody>\n",
       "    <tr>\n",
       "      <th>school</th>\n",
       "      <td>2</td>\n",
       "    </tr>\n",
       "    <tr>\n",
       "      <th>romantic</th>\n",
       "      <td>2</td>\n",
       "    </tr>\n",
       "    <tr>\n",
       "      <th>internet</th>\n",
       "      <td>2</td>\n",
       "    </tr>\n",
       "    <tr>\n",
       "      <th>higher</th>\n",
       "      <td>2</td>\n",
       "    </tr>\n",
       "    <tr>\n",
       "      <th>nursery</th>\n",
       "      <td>2</td>\n",
       "    </tr>\n",
       "    <tr>\n",
       "      <th>activities</th>\n",
       "      <td>2</td>\n",
       "    </tr>\n",
       "    <tr>\n",
       "      <th>paid</th>\n",
       "      <td>2</td>\n",
       "    </tr>\n",
       "    <tr>\n",
       "      <th>famsup</th>\n",
       "      <td>2</td>\n",
       "    </tr>\n",
       "    <tr>\n",
       "      <th>schoolsup</th>\n",
       "      <td>2</td>\n",
       "    </tr>\n",
       "    <tr>\n",
       "      <th>famsize</th>\n",
       "      <td>2</td>\n",
       "    </tr>\n",
       "    <tr>\n",
       "      <th>Pstatus</th>\n",
       "      <td>2</td>\n",
       "    </tr>\n",
       "    <tr>\n",
       "      <th>address</th>\n",
       "      <td>2</td>\n",
       "    </tr>\n",
       "    <tr>\n",
       "      <th>guardian</th>\n",
       "      <td>3</td>\n",
       "    </tr>\n",
       "    <tr>\n",
       "      <th>reason</th>\n",
       "      <td>4</td>\n",
       "    </tr>\n",
       "    <tr>\n",
       "      <th>traveltime</th>\n",
       "      <td>4</td>\n",
       "    </tr>\n",
       "    <tr>\n",
       "      <th>studytime</th>\n",
       "      <td>4</td>\n",
       "    </tr>\n",
       "    <tr>\n",
       "      <th>failures</th>\n",
       "      <td>4</td>\n",
       "    </tr>\n",
       "    <tr>\n",
       "      <th>health</th>\n",
       "      <td>5</td>\n",
       "    </tr>\n",
       "    <tr>\n",
       "      <th>Walc</th>\n",
       "      <td>5</td>\n",
       "    </tr>\n",
       "    <tr>\n",
       "      <th>Dalc</th>\n",
       "      <td>5</td>\n",
       "    </tr>\n",
       "    <tr>\n",
       "      <th>goout</th>\n",
       "      <td>5</td>\n",
       "    </tr>\n",
       "    <tr>\n",
       "      <th>freetime</th>\n",
       "      <td>5</td>\n",
       "    </tr>\n",
       "    <tr>\n",
       "      <th>famrel</th>\n",
       "      <td>5</td>\n",
       "    </tr>\n",
       "    <tr>\n",
       "      <th>Fjob</th>\n",
       "      <td>5</td>\n",
       "    </tr>\n",
       "    <tr>\n",
       "      <th>Mjob</th>\n",
       "      <td>5</td>\n",
       "    </tr>\n",
       "    <tr>\n",
       "      <th>Medu</th>\n",
       "      <td>5</td>\n",
       "    </tr>\n",
       "    <tr>\n",
       "      <th>Fedu</th>\n",
       "      <td>5</td>\n",
       "    </tr>\n",
       "    <tr>\n",
       "      <th>sex</th>\n",
       "      <td>6</td>\n",
       "    </tr>\n",
       "    <tr>\n",
       "      <th>age</th>\n",
       "      <td>16</td>\n",
       "    </tr>\n",
       "    <tr>\n",
       "      <th>G3</th>\n",
       "      <td>17</td>\n",
       "    </tr>\n",
       "    <tr>\n",
       "      <th>absences</th>\n",
       "      <td>22</td>\n",
       "    </tr>\n",
       "  </tbody>\n",
       "</table>\n",
       "</div>"
      ],
      "text/plain": [
       "            count\n",
       "school          2\n",
       "romantic        2\n",
       "internet        2\n",
       "higher          2\n",
       "nursery         2\n",
       "activities      2\n",
       "paid            2\n",
       "famsup          2\n",
       "schoolsup       2\n",
       "famsize         2\n",
       "Pstatus         2\n",
       "address         2\n",
       "guardian        3\n",
       "reason          4\n",
       "traveltime      4\n",
       "studytime       4\n",
       "failures        4\n",
       "health          5\n",
       "Walc            5\n",
       "Dalc            5\n",
       "goout           5\n",
       "freetime        5\n",
       "famrel          5\n",
       "Fjob            5\n",
       "Mjob            5\n",
       "Medu            5\n",
       "Fedu            5\n",
       "sex             6\n",
       "age            16\n",
       "G3             17\n",
       "absences       22"
      ]
     },
     "execution_count": 140,
     "metadata": {},
     "output_type": "execute_result"
    }
   ],
   "source": [
    "df = X_initial.copy()\n",
    "df_counts = pd.DataFrame(df.nunique(), columns ={'count'})\n",
    "df_counts.sort_values(by=df_counts.columns[0])"
   ]
  },
  {
   "cell_type": "markdown",
   "metadata": {
    "id": "p_mf61fgSVo5"
   },
   "source": [
    "## Найдите соотношение мужского и женского пола для самых выскоих оценок (G3) из датасета, у которых время на дорогу больше, чем 30 минут. Нарисуйте это соотношение на круговой диаграмме"
   ]
  },
  {
   "cell_type": "code",
   "execution_count": 141,
   "metadata": {
    "id": "Q_GM66scSVo5"
   },
   "outputs": [
    {
     "data": {
      "image/png": "[encoded data removed]",
      "text/plain": [
       "<Figure size 432x288 with 1 Axes>"
      ]
     },
     "metadata": {},
     "output_type": "display_data"
    }
   ],
   "source": [
    "df = X_initial.copy()\n",
    "low_of_higher = 15\n",
    "df[((df['sex']=='F') | (df['sex']=='M')) & (df['G3']>low_of_higher) & (df['traveltime']>=3)]['sex'].value_counts().plot.pie()\n",
    "None"
   ]
  },
  {
   "cell_type": "markdown",
   "metadata": {
    "id": "hw0rZvP0SVo5"
   },
   "source": [
    "## Построить boxplot для оценок по возрасту.  "
   ]
  },
  {
   "cell_type": "code",
   "execution_count": 142,
   "metadata": {
    "id": "2auancXdSVo5"
   },
   "outputs": [
    {
     "data": {
      "image/png": "[encoded data removed]",
      "text/plain": [
       "<Figure size 720x720 with 1 Axes>"
      ]
     },
     "metadata": {
      "needs_background": "light"
     },
     "output_type": "display_data"
    }
   ],
   "source": [
    "df = X_initial.copy()\n",
    "fig, ax = plt.subplots(figsize=(10,10)) \n",
    "sns.boxplot(y=df[\"G3\"], x = df[\"age\"], ax=ax)\n",
    "None"
   ]
  },
  {
   "cell_type": "markdown",
   "metadata": {
    "id": "wCL9MGy8SVo5"
   },
   "source": [
    "## Найти id топ-5 самых юных отличников. "
   ]
  },
  {
   "cell_type": "code",
   "execution_count": 27,
   "metadata": {
    "id": "TkhnGJ1iSVo5"
   },
   "outputs": [
    {
     "data": {
      "text/plain": [
       "Int64Index([109, 151, 294, 221, 74], dtype='int64')"
      ]
     },
     "execution_count": 27,
     "metadata": {},
     "output_type": "execute_result"
    }
   ],
   "source": [
    "df = X_initial.copy().sort_values(by =['age'])\n",
    "df[df['G3']>17].head().index"
   ]
  },
  {
   "cell_type": "markdown",
   "metadata": {
    "id": "9UPBcWBUSVo6"
   },
   "source": [
    "## Для каждого возраста найдите максимальную и минимальную оценку (G3)"
   ]
  },
  {
   "cell_type": "code",
   "execution_count": 28,
   "metadata": {
    "id": "FIJ5B35ySVo6"
   },
   "outputs": [
    {
     "data": {
      "text/html": [
       "<div>\n",
       "<style scoped>\n",
       "    .dataframe tbody tr th:only-of-type {\n",
       "        vertical-align: middle;\n",
       "    }\n",
       "\n",
       "    .dataframe tbody tr th {\n",
       "        vertical-align: top;\n",
       "    }\n",
       "\n",
       "    .dataframe thead th {\n",
       "        text-align: right;\n",
       "    }\n",
       "</style>\n",
       "<table border=\"1\" class=\"dataframe\">\n",
       "  <thead>\n",
       "    <tr style=\"text-align: right;\">\n",
       "      <th></th>\n",
       "      <th>age</th>\n",
       "      <th>min</th>\n",
       "      <th>maxG3</th>\n",
       "    </tr>\n",
       "  </thead>\n",
       "  <tbody>\n",
       "    <tr>\n",
       "      <th>0</th>\n",
       "      <td>NaN</td>\n",
       "      <td>NaN</td>\n",
       "      <td>NaN</td>\n",
       "    </tr>\n",
       "    <tr>\n",
       "      <th>1</th>\n",
       "      <td>15.0</td>\n",
       "      <td>8.0</td>\n",
       "      <td>18.0</td>\n",
       "    </tr>\n",
       "    <tr>\n",
       "      <th>2</th>\n",
       "      <td>17.0</td>\n",
       "      <td>0.0</td>\n",
       "      <td>19.0</td>\n",
       "    </tr>\n",
       "    <tr>\n",
       "      <th>3</th>\n",
       "      <td>20.0</td>\n",
       "      <td>10.0</td>\n",
       "      <td>15.0</td>\n",
       "    </tr>\n",
       "    <tr>\n",
       "      <th>4</th>\n",
       "      <td>18.0</td>\n",
       "      <td>0.0</td>\n",
       "      <td>17.0</td>\n",
       "    </tr>\n",
       "    <tr>\n",
       "      <th>5</th>\n",
       "      <td>16.0</td>\n",
       "      <td>1.0</td>\n",
       "      <td>18.0</td>\n",
       "    </tr>\n",
       "    <tr>\n",
       "      <th>6</th>\n",
       "      <td>19.0</td>\n",
       "      <td>0.0</td>\n",
       "      <td>13.0</td>\n",
       "    </tr>\n",
       "    <tr>\n",
       "      <th>7</th>\n",
       "      <td>161.0</td>\n",
       "      <td>13.0</td>\n",
       "      <td>13.0</td>\n",
       "    </tr>\n",
       "    <tr>\n",
       "      <th>8</th>\n",
       "      <td>181.0</td>\n",
       "      <td>17.0</td>\n",
       "      <td>17.0</td>\n",
       "    </tr>\n",
       "    <tr>\n",
       "      <th>9</th>\n",
       "      <td>151.0</td>\n",
       "      <td>11.0</td>\n",
       "      <td>11.0</td>\n",
       "    </tr>\n",
       "    <tr>\n",
       "      <th>10</th>\n",
       "      <td>116.0</td>\n",
       "      <td>0.0</td>\n",
       "      <td>0.0</td>\n",
       "    </tr>\n",
       "    <tr>\n",
       "      <th>11</th>\n",
       "      <td>21.0</td>\n",
       "      <td>10.0</td>\n",
       "      <td>12.0</td>\n",
       "    </tr>\n",
       "    <tr>\n",
       "      <th>12</th>\n",
       "      <td>22.0</td>\n",
       "      <td>5.0</td>\n",
       "      <td>5.0</td>\n",
       "    </tr>\n",
       "    <tr>\n",
       "      <th>13</th>\n",
       "      <td>-1.0</td>\n",
       "      <td>17.0</td>\n",
       "      <td>17.0</td>\n",
       "    </tr>\n",
       "    <tr>\n",
       "      <th>14</th>\n",
       "      <td>1.0</td>\n",
       "      <td>11.0</td>\n",
       "      <td>11.0</td>\n",
       "    </tr>\n",
       "    <tr>\n",
       "      <th>15</th>\n",
       "      <td>5.0</td>\n",
       "      <td>9.0</td>\n",
       "      <td>9.0</td>\n",
       "    </tr>\n",
       "    <tr>\n",
       "      <th>16</th>\n",
       "      <td>8.0</td>\n",
       "      <td>9.0</td>\n",
       "      <td>9.0</td>\n",
       "    </tr>\n",
       "  </tbody>\n",
       "</table>\n",
       "</div>"
      ],
      "text/plain": [
       "      age   min  maxG3\n",
       "0     NaN   NaN    NaN\n",
       "1    15.0   8.0   18.0\n",
       "2    17.0   0.0   19.0\n",
       "3    20.0  10.0   15.0\n",
       "4    18.0   0.0   17.0\n",
       "5    16.0   1.0   18.0\n",
       "6    19.0   0.0   13.0\n",
       "7   161.0  13.0   13.0\n",
       "8   181.0  17.0   17.0\n",
       "9   151.0  11.0   11.0\n",
       "10  116.0   0.0    0.0\n",
       "11   21.0  10.0   12.0\n",
       "12   22.0   5.0    5.0\n",
       "13   -1.0  17.0   17.0\n",
       "14    1.0  11.0   11.0\n",
       "15    5.0   9.0    9.0\n",
       "16    8.0   9.0    9.0"
      ]
     },
     "execution_count": 28,
     "metadata": {},
     "output_type": "execute_result"
    }
   ],
   "source": [
    "df = X_initial.copy()\n",
    "ages=df['age'].unique()\n",
    "maxG = [df[df['age'] == age]['G3'].max() for age in ages]\n",
    "minG = [df[df['age'] == age]['G3'].min() for age in ages]\n",
    "max_min_G3 = list(zip(ages,minG,maxG))\n",
    "df = pd.DataFrame(max_min_G3,columns = ['age','min','maxG3'])\n",
    "df"
   ]
  },
  {
   "cell_type": "markdown",
   "metadata": {
    "_cell_guid": "0e9fb698-c819-074d-26ee-7a6afe00ad62",
    "id": "ZnrLrANOTtWC"
   },
   "source": [
    "# Часть 2. Предобработка данных\n",
    "\n",
    "Теперь перейдем к подготовке данных для моделей машинного обучения. Не все из описанного ниже нужно делать. Подумайте."
   ]
  },
  {
   "cell_type": "code",
   "execution_count": 164,
   "metadata": {
    "id": "q6-p0CoXeYeH",
    "scrolled": true
   },
   "outputs": [
    {
     "data": {
      "text/html": [
       "<div>\n",
       "<style scoped>\n",
       "    .dataframe tbody tr th:only-of-type {\n",
       "        vertical-align: middle;\n",
       "    }\n",
       "\n",
       "    .dataframe tbody tr th {\n",
       "        vertical-align: top;\n",
       "    }\n",
       "\n",
       "    .dataframe thead th {\n",
       "        text-align: right;\n",
       "    }\n",
       "</style>\n",
       "<table border=\"1\" class=\"dataframe\">\n",
       "  <thead>\n",
       "    <tr style=\"text-align: right;\">\n",
       "      <th></th>\n",
       "      <th>unique</th>\n",
       "    </tr>\n",
       "  </thead>\n",
       "  <tbody>\n",
       "    <tr>\n",
       "      <th>school</th>\n",
       "      <td>[MS, GP]</td>\n",
       "    </tr>\n",
       "    <tr>\n",
       "      <th>sex</th>\n",
       "      <td>[M, F, D, C, B, A]</td>\n",
       "    </tr>\n",
       "    <tr>\n",
       "      <th>age</th>\n",
       "      <td>[nan, 15.0, 17.0, 20.0, 18.0, 16.0, 19.0, 161....</td>\n",
       "    </tr>\n",
       "    <tr>\n",
       "      <th>address</th>\n",
       "      <td>[U, R, nan]</td>\n",
       "    </tr>\n",
       "    <tr>\n",
       "      <th>famsize</th>\n",
       "      <td>[LE3, GT3]</td>\n",
       "    </tr>\n",
       "    <tr>\n",
       "      <th>Pstatus</th>\n",
       "      <td>[T, A]</td>\n",
       "    </tr>\n",
       "    <tr>\n",
       "      <th>Medu</th>\n",
       "      <td>[1, 3, 4, 2, 0]</td>\n",
       "    </tr>\n",
       "    <tr>\n",
       "      <th>Fedu</th>\n",
       "      <td>[3, 4, 1, 2, 0]</td>\n",
       "    </tr>\n",
       "    <tr>\n",
       "      <th>Mjob</th>\n",
       "      <td>[at_home, teacher, other, services, health]</td>\n",
       "    </tr>\n",
       "    <tr>\n",
       "      <th>Fjob</th>\n",
       "      <td>[services, other, at_home, teacher, health]</td>\n",
       "    </tr>\n",
       "    <tr>\n",
       "      <th>reason</th>\n",
       "      <td>[course, home, reputation, other]</td>\n",
       "    </tr>\n",
       "    <tr>\n",
       "      <th>guardian</th>\n",
       "      <td>[mother, father, other]</td>\n",
       "    </tr>\n",
       "    <tr>\n",
       "      <th>traveltime</th>\n",
       "      <td>[1, 3, 2, 4]</td>\n",
       "    </tr>\n",
       "    <tr>\n",
       "      <th>studytime</th>\n",
       "      <td>[1, 2, 3, 4]</td>\n",
       "    </tr>\n",
       "    <tr>\n",
       "      <th>failures</th>\n",
       "      <td>[0, 1, 2, 3]</td>\n",
       "    </tr>\n",
       "    <tr>\n",
       "      <th>schoolsup</th>\n",
       "      <td>[no, yes]</td>\n",
       "    </tr>\n",
       "    <tr>\n",
       "      <th>famsup</th>\n",
       "      <td>[no, yes]</td>\n",
       "    </tr>\n",
       "    <tr>\n",
       "      <th>paid</th>\n",
       "      <td>[no, yes]</td>\n",
       "    </tr>\n",
       "    <tr>\n",
       "      <th>activities</th>\n",
       "      <td>[no, yes]</td>\n",
       "    </tr>\n",
       "    <tr>\n",
       "      <th>nursery</th>\n",
       "      <td>[yes, no]</td>\n",
       "    </tr>\n",
       "    <tr>\n",
       "      <th>higher</th>\n",
       "      <td>[no, yes]</td>\n",
       "    </tr>\n",
       "    <tr>\n",
       "      <th>internet</th>\n",
       "      <td>[yes, no]</td>\n",
       "    </tr>\n",
       "    <tr>\n",
       "      <th>romantic</th>\n",
       "      <td>[yes, no]</td>\n",
       "    </tr>\n",
       "    <tr>\n",
       "      <th>famrel</th>\n",
       "      <td>[4, 3, 5, 1, 2]</td>\n",
       "    </tr>\n",
       "    <tr>\n",
       "      <th>freetime</th>\n",
       "      <td>[3, 5, 2, 1, 4]</td>\n",
       "    </tr>\n",
       "    <tr>\n",
       "      <th>goout</th>\n",
       "      <td>[3, 4, 1, 5, 2]</td>\n",
       "    </tr>\n",
       "    <tr>\n",
       "      <th>Dalc</th>\n",
       "      <td>[2, 3, 1, 5, 4]</td>\n",
       "    </tr>\n",
       "    <tr>\n",
       "      <th>Walc</th>\n",
       "      <td>[3, 5, 1, 2, 4]</td>\n",
       "    </tr>\n",
       "    <tr>\n",
       "      <th>health</th>\n",
       "      <td>[3, 5, 2, 1, 4]</td>\n",
       "    </tr>\n",
       "    <tr>\n",
       "      <th>absences</th>\n",
       "      <td>[0, 16, 4, 8, 2, 1, 9, 6, 5, 11, 3, 10, 12, 14...</td>\n",
       "    </tr>\n",
       "    <tr>\n",
       "      <th>G3</th>\n",
       "      <td>[9, 12, 13, 11, 14, 16, 10, 17, 8, 15, 0, 6, 7...</td>\n",
       "    </tr>\n",
       "  </tbody>\n",
       "</table>\n",
       "</div>"
      ],
      "text/plain": [
       "                                                       unique\n",
       "school                                               [MS, GP]\n",
       "sex                                        [M, F, D, C, B, A]\n",
       "age         [nan, 15.0, 17.0, 20.0, 18.0, 16.0, 19.0, 161....\n",
       "address                                           [U, R, nan]\n",
       "famsize                                            [LE3, GT3]\n",
       "Pstatus                                                [T, A]\n",
       "Medu                                          [1, 3, 4, 2, 0]\n",
       "Fedu                                          [3, 4, 1, 2, 0]\n",
       "Mjob              [at_home, teacher, other, services, health]\n",
       "Fjob              [services, other, at_home, teacher, health]\n",
       "reason                      [course, home, reputation, other]\n",
       "guardian                              [mother, father, other]\n",
       "traveltime                                       [1, 3, 2, 4]\n",
       "studytime                                        [1, 2, 3, 4]\n",
       "failures                                         [0, 1, 2, 3]\n",
       "schoolsup                                           [no, yes]\n",
       "famsup                                              [no, yes]\n",
       "paid                                                [no, yes]\n",
       "activities                                          [no, yes]\n",
       "nursery                                             [yes, no]\n",
       "higher                                              [no, yes]\n",
       "internet                                            [yes, no]\n",
       "romantic                                            [yes, no]\n",
       "famrel                                        [4, 3, 5, 1, 2]\n",
       "freetime                                      [3, 5, 2, 1, 4]\n",
       "goout                                         [3, 4, 1, 5, 2]\n",
       "Dalc                                          [2, 3, 1, 5, 4]\n",
       "Walc                                          [3, 5, 1, 2, 4]\n",
       "health                                        [3, 5, 2, 1, 4]\n",
       "absences    [0, 16, 4, 8, 2, 1, 9, 6, 5, 11, 3, 10, 12, 14...\n",
       "G3          [9, 12, 13, 11, 14, 16, 10, 17, 8, 15, 0, 6, 7..."
      ]
     },
     "execution_count": 164,
     "metadata": {},
     "output_type": "execute_result"
    }
   ],
   "source": [
    "df = X_initial.copy()\n",
    "pd.DataFrame(df.apply(lambda col: col.unique()), columns = ['unique'])"
   ]
  },
  {
   "cell_type": "markdown",
   "metadata": {
    "_cell_guid": "21ae96ef-7925-4a81-1f1d-54d4ed018ec3",
    "id": "lY0qoZnQ90NO"
   },
   "source": [
    "## Найдите и исправьте ошибки в данных"
   ]
  },
  {
   "cell_type": "markdown",
   "metadata": {
    "id": "qF81qsInnuf4"
   },
   "source": [
    "## Заполните пропуски в данных\n",
    "\n",
    "Заполнить пропуски в данных можно одним из следующи способов или разными для разных признаков:\n",
    "- Заполнить нулями\n",
    "- Выбросить данные с нулями (не рекомендуется)\n",
    "- Заполнить средним для данного параметра\n",
    "- Заполнить наиболее соответствующим данному прецеденту (рекомендуется)"
   ]
  },
  {
   "cell_type": "code",
   "execution_count": 147,
   "metadata": {},
   "outputs": [],
   "source": [
    "def is_correct(feat_name, feat_val):\n",
    "    if feat_name == 'sex':\n",
    "        return False if feat_val in \"ABCD\" else True\n",
    "            \n",
    "    elif feat_name == 'address':\n",
    "        return False if feat_val is None else True\n",
    "            \n",
    "    elif feat_name == 'age': # min student age is 7\n",
    "        return False if (feat_val < 7 or feat_val > 90 or feat_val is None) else True\n",
    "\n",
    "    return True\n"
   ]
  },
  {
   "cell_type": "code",
   "execution_count": 148,
   "metadata": {},
   "outputs": [],
   "source": [
    "def best_match(arg, feat_name,  df)->int:\n",
    "    \n",
    "    index = 0\n",
    "    max_match = -1\n",
    "    for i in range(df.shape[0]):\n",
    "        if i != arg and (df.iloc[arg] == df.iloc[i]).values.sum() > max_match and df.iloc[i].notnull().all() and is_correct(feat_name, df.iloc[i][feat_name]):\n",
    "            max_match = (df.iloc[arg] == df.iloc[i]).values.sum()\n",
    "            index = i\n",
    "    return index"
   ]
  },
  {
   "cell_type": "code",
   "execution_count": 149,
   "metadata": {},
   "outputs": [],
   "source": [
    "def wrong_feats(i, df)->list:\n",
    "    wrong_feats_l = []\n",
    "    for col in df.columns:\n",
    "        if not is_correct(col, df.iloc[i][col]):\n",
    "            wrong_feats_l.append(col)\n",
    "                \n",
    "    return wrong_feats_l "
   ]
  },
  {
   "cell_type": "markdown",
   "metadata": {},
   "source": [
    "## NaN defeating"
   ]
  },
  {
   "cell_type": "code",
   "execution_count": 150,
   "metadata": {},
   "outputs": [],
   "source": [
    "for i in df[df.isnull().any(1)].index:\n",
    "    for feat_name in  df.columns[df.iloc[i].isna()].tolist():\n",
    "        df.loc[i, feat_name] = df.loc[best_match(i, feat_name, df), feat_name]"
   ]
  },
  {
   "cell_type": "markdown",
   "metadata": {},
   "source": [
    "## wrong sex or age defeating"
   ]
  },
  {
   "cell_type": "code",
   "execution_count": 151,
   "metadata": {},
   "outputs": [],
   "source": [
    "for i in df[(df['age']>100) | (df['age'] < 10) | ((df['sex'] != 'F') & (df['sex'] != 'M')) ].index:\n",
    "    for feat_name in wrong_feats(i, df):\n",
    "        df.loc[i, feat_name] = df.loc[best_match(i, feat_name, df), feat_name]"
   ]
  },
  {
   "cell_type": "markdown",
   "metadata": {
    "_cell_guid": "21ae96ef-7925-4a81-1f1d-54d4ed018ec3",
    "id": "_p3_0Is6nuf6"
   },
   "source": [
    "## Закодируйте категориальные признаки"
   ]
  },
  {
   "cell_type": "code",
   "execution_count": 152,
   "metadata": {
    "id": "TTzs_qcqnuf6"
   },
   "outputs": [],
   "source": [
    "df = pd.get_dummies(df)"
   ]
  },
  {
   "cell_type": "markdown",
   "metadata": {
    "_cell_guid": "21ae96ef-7925-4a81-1f1d-54d4ed018ec3",
    "id": "TQGQtLdynuf8"
   },
   "source": [
    "## Придумайте сложные признаки\n",
    "\n",
    "Сложные признаки - это комбинации существующих (линейных или нелинейных).\n",
    "Это нужно для того, чтобы самостоятельно добавить нелинейность в алгоритм.\n",
    "\n",
    "Приведите не менее двух признаков."
   ]
  },
  {
   "cell_type": "code",
   "execution_count": 153,
   "metadata": {},
   "outputs": [],
   "source": [
    "df['DalcWalc'] = df['Dalc'] * df['Walc']\n",
    "df['HealthWalc'] = df['health'] * df['Walc']\n",
    "df['HealthDalc'] = df['Dalc'] * df['health']"
   ]
  },
  {
   "cell_type": "markdown",
   "metadata": {
    "_cell_guid": "21ae96ef-7925-4a81-1f1d-54d4ed018ec3",
    "id": "JCVXK7Wsnuf0"
   },
   "source": [
    "## Удалите скоррелированные данные"
   ]
  },
  {
   "cell_type": "code",
   "execution_count": 154,
   "metadata": {},
   "outputs": [],
   "source": [
    "cor_matrix = df.corr().abs()\n",
    "upper_tri = cor_matrix.where(np.triu(np.ones(cor_matrix.shape),k=1).astype(np.bool))\n",
    "to_drop = [column for column in upper_tri.columns if any(upper_tri[column] > 0.95)]\n",
    "df = df.drop(df[to_drop], axis=1)"
   ]
  },
  {
   "cell_type": "code",
   "execution_count": 163,
   "metadata": {},
   "outputs": [
    {
     "data": {
      "text/html": [
       "<div>\n",
       "<style scoped>\n",
       "    .dataframe tbody tr th:only-of-type {\n",
       "        vertical-align: middle;\n",
       "    }\n",
       "\n",
       "    .dataframe tbody tr th {\n",
       "        vertical-align: top;\n",
       "    }\n",
       "\n",
       "    .dataframe thead th {\n",
       "        text-align: right;\n",
       "    }\n",
       "</style>\n",
       "<table border=\"1\" class=\"dataframe\">\n",
       "  <thead>\n",
       "    <tr style=\"text-align: right;\">\n",
       "      <th></th>\n",
       "      <th>unique</th>\n",
       "    </tr>\n",
       "  </thead>\n",
       "  <tbody>\n",
       "    <tr>\n",
       "      <th>age</th>\n",
       "      <td>[18.0, 15.0, 17.0, 20.0, 16.0, 19.0, 21.0, 22....</td>\n",
       "    </tr>\n",
       "    <tr>\n",
       "      <th>Medu</th>\n",
       "      <td>[1, 3, 4, 2, 0]</td>\n",
       "    </tr>\n",
       "    <tr>\n",
       "      <th>Fedu</th>\n",
       "      <td>[3, 4, 1, 2, 0]</td>\n",
       "    </tr>\n",
       "    <tr>\n",
       "      <th>traveltime</th>\n",
       "      <td>[1, 3, 2, 4]</td>\n",
       "    </tr>\n",
       "    <tr>\n",
       "      <th>studytime</th>\n",
       "      <td>[1, 2, 3, 4]</td>\n",
       "    </tr>\n",
       "    <tr>\n",
       "      <th>failures</th>\n",
       "      <td>[0, 1, 2, 3]</td>\n",
       "    </tr>\n",
       "    <tr>\n",
       "      <th>famrel</th>\n",
       "      <td>[4, 3, 5, 1, 2]</td>\n",
       "    </tr>\n",
       "    <tr>\n",
       "      <th>freetime</th>\n",
       "      <td>[3, 5, 2, 1, 4]</td>\n",
       "    </tr>\n",
       "    <tr>\n",
       "      <th>goout</th>\n",
       "      <td>[3, 4, 1, 5, 2]</td>\n",
       "    </tr>\n",
       "    <tr>\n",
       "      <th>Dalc</th>\n",
       "      <td>[2, 3, 1, 5, 4]</td>\n",
       "    </tr>\n",
       "    <tr>\n",
       "      <th>Walc</th>\n",
       "      <td>[3, 5, 1, 2, 4]</td>\n",
       "    </tr>\n",
       "    <tr>\n",
       "      <th>health</th>\n",
       "      <td>[3, 5, 2, 1, 4]</td>\n",
       "    </tr>\n",
       "    <tr>\n",
       "      <th>absences</th>\n",
       "      <td>[0, 16, 4, 8, 2, 1, 9, 6, 5, 11, 3, 10, 12, 14...</td>\n",
       "    </tr>\n",
       "    <tr>\n",
       "      <th>G3</th>\n",
       "      <td>[9, 12, 13, 11, 14, 16, 10, 17, 8, 15, 0, 6, 7...</td>\n",
       "    </tr>\n",
       "    <tr>\n",
       "      <th>school_GP</th>\n",
       "      <td>[0, 1]</td>\n",
       "    </tr>\n",
       "    <tr>\n",
       "      <th>sex_F</th>\n",
       "      <td>[0, 1]</td>\n",
       "    </tr>\n",
       "    <tr>\n",
       "      <th>address_R</th>\n",
       "      <td>[0, 1]</td>\n",
       "    </tr>\n",
       "    <tr>\n",
       "      <th>famsize_GT3</th>\n",
       "      <td>[0, 1]</td>\n",
       "    </tr>\n",
       "    <tr>\n",
       "      <th>Pstatus_A</th>\n",
       "      <td>[0, 1]</td>\n",
       "    </tr>\n",
       "    <tr>\n",
       "      <th>Mjob_at_home</th>\n",
       "      <td>[1, 0]</td>\n",
       "    </tr>\n",
       "    <tr>\n",
       "      <th>Mjob_health</th>\n",
       "      <td>[0, 1]</td>\n",
       "    </tr>\n",
       "    <tr>\n",
       "      <th>Mjob_other</th>\n",
       "      <td>[0, 1]</td>\n",
       "    </tr>\n",
       "    <tr>\n",
       "      <th>Mjob_services</th>\n",
       "      <td>[0, 1]</td>\n",
       "    </tr>\n",
       "    <tr>\n",
       "      <th>Mjob_teacher</th>\n",
       "      <td>[0, 1]</td>\n",
       "    </tr>\n",
       "    <tr>\n",
       "      <th>Fjob_at_home</th>\n",
       "      <td>[0, 1]</td>\n",
       "    </tr>\n",
       "    <tr>\n",
       "      <th>Fjob_health</th>\n",
       "      <td>[0, 1]</td>\n",
       "    </tr>\n",
       "    <tr>\n",
       "      <th>Fjob_other</th>\n",
       "      <td>[0, 1]</td>\n",
       "    </tr>\n",
       "    <tr>\n",
       "      <th>Fjob_services</th>\n",
       "      <td>[1, 0]</td>\n",
       "    </tr>\n",
       "    <tr>\n",
       "      <th>Fjob_teacher</th>\n",
       "      <td>[0, 1]</td>\n",
       "    </tr>\n",
       "    <tr>\n",
       "      <th>reason_course</th>\n",
       "      <td>[1, 0]</td>\n",
       "    </tr>\n",
       "    <tr>\n",
       "      <th>reason_home</th>\n",
       "      <td>[0, 1]</td>\n",
       "    </tr>\n",
       "    <tr>\n",
       "      <th>reason_other</th>\n",
       "      <td>[0, 1]</td>\n",
       "    </tr>\n",
       "    <tr>\n",
       "      <th>reason_reputation</th>\n",
       "      <td>[0, 1]</td>\n",
       "    </tr>\n",
       "    <tr>\n",
       "      <th>guardian_father</th>\n",
       "      <td>[0, 1]</td>\n",
       "    </tr>\n",
       "    <tr>\n",
       "      <th>guardian_mother</th>\n",
       "      <td>[1, 0]</td>\n",
       "    </tr>\n",
       "    <tr>\n",
       "      <th>guardian_other</th>\n",
       "      <td>[0, 1]</td>\n",
       "    </tr>\n",
       "    <tr>\n",
       "      <th>schoolsup_no</th>\n",
       "      <td>[1, 0]</td>\n",
       "    </tr>\n",
       "    <tr>\n",
       "      <th>famsup_no</th>\n",
       "      <td>[1, 0]</td>\n",
       "    </tr>\n",
       "    <tr>\n",
       "      <th>paid_no</th>\n",
       "      <td>[1, 0]</td>\n",
       "    </tr>\n",
       "    <tr>\n",
       "      <th>activities_no</th>\n",
       "      <td>[1, 0]</td>\n",
       "    </tr>\n",
       "    <tr>\n",
       "      <th>nursery_no</th>\n",
       "      <td>[0, 1]</td>\n",
       "    </tr>\n",
       "    <tr>\n",
       "      <th>higher_no</th>\n",
       "      <td>[1, 0]</td>\n",
       "    </tr>\n",
       "    <tr>\n",
       "      <th>internet_no</th>\n",
       "      <td>[0, 1]</td>\n",
       "    </tr>\n",
       "    <tr>\n",
       "      <th>romantic_no</th>\n",
       "      <td>[0, 1]</td>\n",
       "    </tr>\n",
       "    <tr>\n",
       "      <th>DalcWalc</th>\n",
       "      <td>[6, 15, 1, 3, 2, 5, 8, 4, 12, 9, 25, 10, 20, 16]</td>\n",
       "    </tr>\n",
       "    <tr>\n",
       "      <th>HealthWalc</th>\n",
       "      <td>[9, 15, 5, 6, 4, 3, 2, 10, 12, 8, 1, 25, 20, 16]</td>\n",
       "    </tr>\n",
       "    <tr>\n",
       "      <th>HealthDalc</th>\n",
       "      <td>[6, 9, 5, 2, 3, 1, 8, 4, 10, 15, 20, 12, 25, 16]</td>\n",
       "    </tr>\n",
       "  </tbody>\n",
       "</table>\n",
       "</div>"
      ],
      "text/plain": [
       "                                                              unique\n",
       "age                [18.0, 15.0, 17.0, 20.0, 16.0, 19.0, 21.0, 22....\n",
       "Medu                                                 [1, 3, 4, 2, 0]\n",
       "Fedu                                                 [3, 4, 1, 2, 0]\n",
       "traveltime                                              [1, 3, 2, 4]\n",
       "studytime                                               [1, 2, 3, 4]\n",
       "failures                                                [0, 1, 2, 3]\n",
       "famrel                                               [4, 3, 5, 1, 2]\n",
       "freetime                                             [3, 5, 2, 1, 4]\n",
       "goout                                                [3, 4, 1, 5, 2]\n",
       "Dalc                                                 [2, 3, 1, 5, 4]\n",
       "Walc                                                 [3, 5, 1, 2, 4]\n",
       "health                                               [3, 5, 2, 1, 4]\n",
       "absences           [0, 16, 4, 8, 2, 1, 9, 6, 5, 11, 3, 10, 12, 14...\n",
       "G3                 [9, 12, 13, 11, 14, 16, 10, 17, 8, 15, 0, 6, 7...\n",
       "school_GP                                                     [0, 1]\n",
       "sex_F                                                         [0, 1]\n",
       "address_R                                                     [0, 1]\n",
       "famsize_GT3                                                   [0, 1]\n",
       "Pstatus_A                                                     [0, 1]\n",
       "Mjob_at_home                                                  [1, 0]\n",
       "Mjob_health                                                   [0, 1]\n",
       "Mjob_other                                                    [0, 1]\n",
       "Mjob_services                                                 [0, 1]\n",
       "Mjob_teacher                                                  [0, 1]\n",
       "Fjob_at_home                                                  [0, 1]\n",
       "Fjob_health                                                   [0, 1]\n",
       "Fjob_other                                                    [0, 1]\n",
       "Fjob_services                                                 [1, 0]\n",
       "Fjob_teacher                                                  [0, 1]\n",
       "reason_course                                                 [1, 0]\n",
       "reason_home                                                   [0, 1]\n",
       "reason_other                                                  [0, 1]\n",
       "reason_reputation                                             [0, 1]\n",
       "guardian_father                                               [0, 1]\n",
       "guardian_mother                                               [1, 0]\n",
       "guardian_other                                                [0, 1]\n",
       "schoolsup_no                                                  [1, 0]\n",
       "famsup_no                                                     [1, 0]\n",
       "paid_no                                                       [1, 0]\n",
       "activities_no                                                 [1, 0]\n",
       "nursery_no                                                    [0, 1]\n",
       "higher_no                                                     [1, 0]\n",
       "internet_no                                                   [0, 1]\n",
       "romantic_no                                                   [0, 1]\n",
       "DalcWalc            [6, 15, 1, 3, 2, 5, 8, 4, 12, 9, 25, 10, 20, 16]\n",
       "HealthWalc          [9, 15, 5, 6, 4, 3, 2, 10, 12, 8, 1, 25, 20, 16]\n",
       "HealthDalc          [6, 9, 5, 2, 3, 1, 8, 4, 10, 15, 20, 12, 25, 16]"
      ]
     },
     "execution_count": 163,
     "metadata": {},
     "output_type": "execute_result"
    }
   ],
   "source": [
    "pd.DataFrame(df.apply(lambda col: col.unique()), columns = ['unique'])"
   ]
  },
  {
   "cell_type": "markdown",
   "metadata": {},
   "source": [
    "# Часть 3. Стратегия валидации\n",
    "\n",
    "Итак, у вас есть данные для обучения и данные, на которых необходимо сделать предсказание. Для оценки точности необходимо проводить валидацию (так как мало данных, можно проводить кросс валидацию).\n",
    "Валидацию проще всего реализовать методами sklearn, например:\n",
    "- KFold\n",
    "- ShuffleSplit\n",
    "- StratifiedKFold\n",
    "- StratifiedShuffleSplit\n",
    "- GroupKFold\n",
    "- GroupShuffleSplit"
   ]
  },
  {
   "cell_type": "code",
   "execution_count": 165,
   "metadata": {},
   "outputs": [],
   "source": [
    "from sklearn.model_selection import ShuffleSplit, KFold, GroupKFold, StratifiedKFold\n",
    "from sklearn import svm\n",
    "from sklearn.model_selection import cross_val_score\n",
    "from sklearn.neighbors import KNeighborsClassifier\n",
    "from sklearn import naive_bayes"
   ]
  },
  {
   "cell_type": "code",
   "execution_count": 166,
   "metadata": {},
   "outputs": [],
   "source": [
    "to_drop_name = 'G3'"
   ]
  },
  {
   "cell_type": "code",
   "execution_count": 167,
   "metadata": {},
   "outputs": [],
   "source": [
    "X = df.copy()\n",
    "y = X[to_drop_name]\n",
    "X = X.drop(to_drop_name, axis = 1)"
   ]
  },
  {
   "cell_type": "code",
   "execution_count": 168,
   "metadata": {},
   "outputs": [],
   "source": [
    "clf = KNeighborsClassifier(6) # По умочанию - 5 соседей и Евклидова метрика"
   ]
  },
  {
   "cell_type": "code",
   "execution_count": 169,
   "metadata": {},
   "outputs": [],
   "source": [
    "cv = StratifiedKFold(n_splits=5)"
   ]
  },
  {
   "cell_type": "code",
   "execution_count": 170,
   "metadata": {},
   "outputs": [
    {
     "data": {
      "text/plain": [
       "array([nan, nan, nan, nan, nan])"
      ]
     },
     "execution_count": 170,
     "metadata": {},
     "output_type": "execute_result"
    }
   ],
   "source": [
    "cross_val_score(clf, X, y, cv=cv)"
   ]
  },
  {
   "cell_type": "markdown",
   "metadata": {},
   "source": [
    "# Часть 4. Заполнение пропусков в данных "
   ]
  },
  {
   "cell_type": "markdown",
   "metadata": {},
   "source": [
    "## Фильтрация по диапазону значений \n",
    "\n",
    "Проверьте, что все характеристики принадлежат тому диапазону значений, который приведен в описании к исходным данным. Например, если в графе \"Пол\" есть значение FF, P или -1, то это явная ошибка заполнения.\n",
    "\n",
    "Приведите данные в соответствии с описанием данных. Если значение указано неверно - укажите ```NaN```."
   ]
  },
  {
   "cell_type": "markdown",
   "metadata": {},
   "source": [
    "## Адаптивное заполнения пропусков \n",
    "\n",
    "Реализуйте стратегию заполнения пропусков данных на основе схожих примеров. Обучите один из известных вам алгоритмов (knn, Naive Bayes, linear regression) для предсказания той характеристики, пропуски которой присутсвуют в данных. В качестве характеристики для обучения алгоритмов __нельзя__ использовать ```G3```."
   ]
  },
  {
   "cell_type": "markdown",
   "metadata": {},
   "source": [
    "#  knn "
   ]
  },
  {
   "cell_type": "code",
   "execution_count": 171,
   "metadata": {},
   "outputs": [],
   "source": [
    "pd.options.mode.chained_assignment = None  # default='warn'"
   ]
  },
  {
   "cell_type": "code",
   "execution_count": 172,
   "metadata": {},
   "outputs": [],
   "source": [
    "df = X_initial.copy()\n",
    "\n",
    "def divide_df(df):\n",
    "    df_wrong = df[(df['age']>100) | (df['age'] < 10) | ((df['sex'] != 'F') & (df['sex'] != 'M')) | (df.isnull().any(1))]\n",
    "    df_wrong['sex'] = df_wrong['sex'].astype('category').cat.codes\n",
    "    df_wrong['address'] = df_wrong['address'].astype('category').cat.codes\n",
    "    df_wrong = pd.get_dummies(df_wrong.fillna(0))\n",
    "\n",
    "    df_right = df[~((df['age']>100) | (df['age'] < 10) | ((df['sex'] != 'F') & (df['sex'] != 'M')) | (df.isnull().any(1)))]\n",
    "    df_right['sex'] = df_right['sex'].astype('category').cat.codes\n",
    "    df_right['address'] = df_right['address'].astype('category').cat.codes\n",
    "    df_right = pd.get_dummies(df_right.fillna(0))\n",
    "    return df_wrong, df_right"
   ]
  },
  {
   "cell_type": "code",
   "execution_count": 173,
   "metadata": {},
   "outputs": [
    {
     "data": {
      "text/html": [
       "<div>\n",
       "<style scoped>\n",
       "    .dataframe tbody tr th:only-of-type {\n",
       "        vertical-align: middle;\n",
       "    }\n",
       "\n",
       "    .dataframe tbody tr th {\n",
       "        vertical-align: top;\n",
       "    }\n",
       "\n",
       "    .dataframe thead th {\n",
       "        text-align: right;\n",
       "    }\n",
       "</style>\n",
       "<table border=\"1\" class=\"dataframe\">\n",
       "  <thead>\n",
       "    <tr style=\"text-align: right;\">\n",
       "      <th></th>\n",
       "      <th>sex</th>\n",
       "      <th>age</th>\n",
       "      <th>address</th>\n",
       "      <th>Medu</th>\n",
       "      <th>Fedu</th>\n",
       "      <th>traveltime</th>\n",
       "      <th>studytime</th>\n",
       "      <th>failures</th>\n",
       "      <th>famrel</th>\n",
       "      <th>freetime</th>\n",
       "      <th>...</th>\n",
       "      <th>activities_no</th>\n",
       "      <th>activities_yes</th>\n",
       "      <th>nursery_no</th>\n",
       "      <th>nursery_yes</th>\n",
       "      <th>higher_no</th>\n",
       "      <th>higher_yes</th>\n",
       "      <th>internet_no</th>\n",
       "      <th>internet_yes</th>\n",
       "      <th>romantic_no</th>\n",
       "      <th>romantic_yes</th>\n",
       "    </tr>\n",
       "  </thead>\n",
       "  <tbody>\n",
       "    <tr>\n",
       "      <th>0</th>\n",
       "      <td>5</td>\n",
       "      <td>0.0</td>\n",
       "      <td>1</td>\n",
       "      <td>1</td>\n",
       "      <td>3</td>\n",
       "      <td>1</td>\n",
       "      <td>1</td>\n",
       "      <td>0</td>\n",
       "      <td>4</td>\n",
       "      <td>3</td>\n",
       "      <td>...</td>\n",
       "      <td>1</td>\n",
       "      <td>0</td>\n",
       "      <td>0</td>\n",
       "      <td>1</td>\n",
       "      <td>1</td>\n",
       "      <td>0</td>\n",
       "      <td>0</td>\n",
       "      <td>1</td>\n",
       "      <td>0</td>\n",
       "      <td>1</td>\n",
       "    </tr>\n",
       "    <tr>\n",
       "      <th>1</th>\n",
       "      <td>5</td>\n",
       "      <td>0.0</td>\n",
       "      <td>0</td>\n",
       "      <td>3</td>\n",
       "      <td>3</td>\n",
       "      <td>3</td>\n",
       "      <td>1</td>\n",
       "      <td>0</td>\n",
       "      <td>3</td>\n",
       "      <td>3</td>\n",
       "      <td>...</td>\n",
       "      <td>0</td>\n",
       "      <td>1</td>\n",
       "      <td>0</td>\n",
       "      <td>1</td>\n",
       "      <td>0</td>\n",
       "      <td>1</td>\n",
       "      <td>0</td>\n",
       "      <td>1</td>\n",
       "      <td>1</td>\n",
       "      <td>0</td>\n",
       "    </tr>\n",
       "    <tr>\n",
       "      <th>2</th>\n",
       "      <td>5</td>\n",
       "      <td>15.0</td>\n",
       "      <td>-1</td>\n",
       "      <td>3</td>\n",
       "      <td>4</td>\n",
       "      <td>1</td>\n",
       "      <td>2</td>\n",
       "      <td>0</td>\n",
       "      <td>5</td>\n",
       "      <td>5</td>\n",
       "      <td>...</td>\n",
       "      <td>0</td>\n",
       "      <td>1</td>\n",
       "      <td>0</td>\n",
       "      <td>1</td>\n",
       "      <td>0</td>\n",
       "      <td>1</td>\n",
       "      <td>0</td>\n",
       "      <td>1</td>\n",
       "      <td>1</td>\n",
       "      <td>0</td>\n",
       "    </tr>\n",
       "    <tr>\n",
       "      <th>10</th>\n",
       "      <td>5</td>\n",
       "      <td>15.0</td>\n",
       "      <td>-1</td>\n",
       "      <td>4</td>\n",
       "      <td>1</td>\n",
       "      <td>1</td>\n",
       "      <td>2</td>\n",
       "      <td>0</td>\n",
       "      <td>5</td>\n",
       "      <td>3</td>\n",
       "      <td>...</td>\n",
       "      <td>0</td>\n",
       "      <td>1</td>\n",
       "      <td>0</td>\n",
       "      <td>1</td>\n",
       "      <td>0</td>\n",
       "      <td>1</td>\n",
       "      <td>0</td>\n",
       "      <td>1</td>\n",
       "      <td>1</td>\n",
       "      <td>0</td>\n",
       "    </tr>\n",
       "    <tr>\n",
       "      <th>20</th>\n",
       "      <td>4</td>\n",
       "      <td>0.0</td>\n",
       "      <td>0</td>\n",
       "      <td>2</td>\n",
       "      <td>3</td>\n",
       "      <td>2</td>\n",
       "      <td>2</td>\n",
       "      <td>0</td>\n",
       "      <td>3</td>\n",
       "      <td>3</td>\n",
       "      <td>...</td>\n",
       "      <td>0</td>\n",
       "      <td>1</td>\n",
       "      <td>0</td>\n",
       "      <td>1</td>\n",
       "      <td>0</td>\n",
       "      <td>1</td>\n",
       "      <td>0</td>\n",
       "      <td>1</td>\n",
       "      <td>1</td>\n",
       "      <td>0</td>\n",
       "    </tr>\n",
       "  </tbody>\n",
       "</table>\n",
       "<p>5 rows × 55 columns</p>\n",
       "</div>"
      ],
      "text/plain": [
       "    sex   age  address  Medu  Fedu  traveltime  studytime  failures  famrel  \\\n",
       "0     5   0.0        1     1     3           1          1         0       4   \n",
       "1     5   0.0        0     3     3           3          1         0       3   \n",
       "2     5  15.0       -1     3     4           1          2         0       5   \n",
       "10    5  15.0       -1     4     1           1          2         0       5   \n",
       "20    4   0.0        0     2     3           2          2         0       3   \n",
       "\n",
       "    freetime  ...  activities_no  activities_yes  nursery_no  nursery_yes  \\\n",
       "0          3  ...              1               0           0            1   \n",
       "1          3  ...              0               1           0            1   \n",
       "2          5  ...              0               1           0            1   \n",
       "10         3  ...              0               1           0            1   \n",
       "20         3  ...              0               1           0            1   \n",
       "\n",
       "    higher_no  higher_yes  internet_no  internet_yes  romantic_no  \\\n",
       "0           1           0            0             1            0   \n",
       "1           0           1            0             1            1   \n",
       "2           0           1            0             1            1   \n",
       "10          0           1            0             1            1   \n",
       "20          0           1            0             1            1   \n",
       "\n",
       "    romantic_yes  \n",
       "0              1  \n",
       "1              0  \n",
       "2              0  \n",
       "10             0  \n",
       "20             0  \n",
       "\n",
       "[5 rows x 55 columns]"
      ]
     },
     "execution_count": 173,
     "metadata": {},
     "output_type": "execute_result"
    }
   ],
   "source": [
    "df_wrong, df_right = divide_df(df)\n",
    "df_wrong.head()"
   ]
  },
  {
   "cell_type": "code",
   "execution_count": 174,
   "metadata": {},
   "outputs": [],
   "source": [
    "def repair_df(algorythm, df_wrong, df_right, feats):\n",
    "    for feat in feats:\n",
    "        X = df_right.drop([feat],axis = 1)\n",
    "        y = df_right[feat]\n",
    "        algorythm.fit(X, y)\n",
    "        prediction = algorythm.predict(df_wrong[X.columns])\n",
    "        df_wrong[feat] =prediction"
   ]
  },
  {
   "cell_type": "code",
   "execution_count": 175,
   "metadata": {},
   "outputs": [],
   "source": [
    "repair_df(KNeighborsClassifier(), df_wrong, df_right, ['address', 'age', 'sex'])"
   ]
  },
  {
   "cell_type": "code",
   "execution_count": 176,
   "metadata": {},
   "outputs": [
    {
     "data": {
      "text/html": [
       "<div>\n",
       "<style scoped>\n",
       "    .dataframe tbody tr th:only-of-type {\n",
       "        vertical-align: middle;\n",
       "    }\n",
       "\n",
       "    .dataframe tbody tr th {\n",
       "        vertical-align: top;\n",
       "    }\n",
       "\n",
       "    .dataframe thead th {\n",
       "        text-align: right;\n",
       "    }\n",
       "</style>\n",
       "<table border=\"1\" class=\"dataframe\">\n",
       "  <thead>\n",
       "    <tr style=\"text-align: right;\">\n",
       "      <th></th>\n",
       "      <th>sex</th>\n",
       "      <th>age</th>\n",
       "      <th>address</th>\n",
       "      <th>Medu</th>\n",
       "      <th>Fedu</th>\n",
       "      <th>traveltime</th>\n",
       "      <th>studytime</th>\n",
       "      <th>failures</th>\n",
       "      <th>famrel</th>\n",
       "      <th>freetime</th>\n",
       "      <th>...</th>\n",
       "      <th>activities_no</th>\n",
       "      <th>activities_yes</th>\n",
       "      <th>nursery_no</th>\n",
       "      <th>nursery_yes</th>\n",
       "      <th>higher_no</th>\n",
       "      <th>higher_yes</th>\n",
       "      <th>internet_no</th>\n",
       "      <th>internet_yes</th>\n",
       "      <th>romantic_no</th>\n",
       "      <th>romantic_yes</th>\n",
       "    </tr>\n",
       "  </thead>\n",
       "  <tbody>\n",
       "    <tr>\n",
       "      <th>0</th>\n",
       "      <td>0</td>\n",
       "      <td>18.0</td>\n",
       "      <td>0</td>\n",
       "      <td>1</td>\n",
       "      <td>3</td>\n",
       "      <td>1</td>\n",
       "      <td>1</td>\n",
       "      <td>0</td>\n",
       "      <td>4</td>\n",
       "      <td>3</td>\n",
       "      <td>...</td>\n",
       "      <td>1</td>\n",
       "      <td>0</td>\n",
       "      <td>0</td>\n",
       "      <td>1</td>\n",
       "      <td>1</td>\n",
       "      <td>0</td>\n",
       "      <td>0</td>\n",
       "      <td>1</td>\n",
       "      <td>0</td>\n",
       "      <td>1</td>\n",
       "    </tr>\n",
       "    <tr>\n",
       "      <th>1</th>\n",
       "      <td>1</td>\n",
       "      <td>17.0</td>\n",
       "      <td>1</td>\n",
       "      <td>3</td>\n",
       "      <td>3</td>\n",
       "      <td>3</td>\n",
       "      <td>1</td>\n",
       "      <td>0</td>\n",
       "      <td>3</td>\n",
       "      <td>3</td>\n",
       "      <td>...</td>\n",
       "      <td>0</td>\n",
       "      <td>1</td>\n",
       "      <td>0</td>\n",
       "      <td>1</td>\n",
       "      <td>0</td>\n",
       "      <td>1</td>\n",
       "      <td>0</td>\n",
       "      <td>1</td>\n",
       "      <td>1</td>\n",
       "      <td>0</td>\n",
       "    </tr>\n",
       "    <tr>\n",
       "      <th>2</th>\n",
       "      <td>1</td>\n",
       "      <td>15.0</td>\n",
       "      <td>1</td>\n",
       "      <td>3</td>\n",
       "      <td>4</td>\n",
       "      <td>1</td>\n",
       "      <td>2</td>\n",
       "      <td>0</td>\n",
       "      <td>5</td>\n",
       "      <td>5</td>\n",
       "      <td>...</td>\n",
       "      <td>0</td>\n",
       "      <td>1</td>\n",
       "      <td>0</td>\n",
       "      <td>1</td>\n",
       "      <td>0</td>\n",
       "      <td>1</td>\n",
       "      <td>0</td>\n",
       "      <td>1</td>\n",
       "      <td>1</td>\n",
       "      <td>0</td>\n",
       "    </tr>\n",
       "    <tr>\n",
       "      <th>10</th>\n",
       "      <td>0</td>\n",
       "      <td>15.0</td>\n",
       "      <td>1</td>\n",
       "      <td>4</td>\n",
       "      <td>1</td>\n",
       "      <td>1</td>\n",
       "      <td>2</td>\n",
       "      <td>0</td>\n",
       "      <td>5</td>\n",
       "      <td>3</td>\n",
       "      <td>...</td>\n",
       "      <td>0</td>\n",
       "      <td>1</td>\n",
       "      <td>0</td>\n",
       "      <td>1</td>\n",
       "      <td>0</td>\n",
       "      <td>1</td>\n",
       "      <td>0</td>\n",
       "      <td>1</td>\n",
       "      <td>1</td>\n",
       "      <td>0</td>\n",
       "    </tr>\n",
       "    <tr>\n",
       "      <th>20</th>\n",
       "      <td>0</td>\n",
       "      <td>15.0</td>\n",
       "      <td>1</td>\n",
       "      <td>2</td>\n",
       "      <td>3</td>\n",
       "      <td>2</td>\n",
       "      <td>2</td>\n",
       "      <td>0</td>\n",
       "      <td>3</td>\n",
       "      <td>3</td>\n",
       "      <td>...</td>\n",
       "      <td>0</td>\n",
       "      <td>1</td>\n",
       "      <td>0</td>\n",
       "      <td>1</td>\n",
       "      <td>0</td>\n",
       "      <td>1</td>\n",
       "      <td>0</td>\n",
       "      <td>1</td>\n",
       "      <td>1</td>\n",
       "      <td>0</td>\n",
       "    </tr>\n",
       "  </tbody>\n",
       "</table>\n",
       "<p>5 rows × 55 columns</p>\n",
       "</div>"
      ],
      "text/plain": [
       "    sex   age  address  Medu  Fedu  traveltime  studytime  failures  famrel  \\\n",
       "0     0  18.0        0     1     3           1          1         0       4   \n",
       "1     1  17.0        1     3     3           3          1         0       3   \n",
       "2     1  15.0        1     3     4           1          2         0       5   \n",
       "10    0  15.0        1     4     1           1          2         0       5   \n",
       "20    0  15.0        1     2     3           2          2         0       3   \n",
       "\n",
       "    freetime  ...  activities_no  activities_yes  nursery_no  nursery_yes  \\\n",
       "0          3  ...              1               0           0            1   \n",
       "1          3  ...              0               1           0            1   \n",
       "2          5  ...              0               1           0            1   \n",
       "10         3  ...              0               1           0            1   \n",
       "20         3  ...              0               1           0            1   \n",
       "\n",
       "    higher_no  higher_yes  internet_no  internet_yes  romantic_no  \\\n",
       "0           1           0            0             1            0   \n",
       "1           0           1            0             1            1   \n",
       "2           0           1            0             1            1   \n",
       "10          0           1            0             1            1   \n",
       "20          0           1            0             1            1   \n",
       "\n",
       "    romantic_yes  \n",
       "0              1  \n",
       "1              0  \n",
       "2              0  \n",
       "10             0  \n",
       "20             0  \n",
       "\n",
       "[5 rows x 55 columns]"
      ]
     },
     "execution_count": 176,
     "metadata": {},
     "output_type": "execute_result"
    }
   ],
   "source": [
    "df_wrong.head()"
   ]
  },
  {
   "cell_type": "code",
   "execution_count": 177,
   "metadata": {},
   "outputs": [],
   "source": [
    "repair_df(KNeighborsClassifier(), df_wrong, df_right, ['address', 'age', 'sex'])"
   ]
  },
  {
   "cell_type": "code",
   "execution_count": 178,
   "metadata": {},
   "outputs": [
    {
     "data": {
      "text/html": [
       "<div>\n",
       "<style scoped>\n",
       "    .dataframe tbody tr th:only-of-type {\n",
       "        vertical-align: middle;\n",
       "    }\n",
       "\n",
       "    .dataframe tbody tr th {\n",
       "        vertical-align: top;\n",
       "    }\n",
       "\n",
       "    .dataframe thead th {\n",
       "        text-align: right;\n",
       "    }\n",
       "</style>\n",
       "<table border=\"1\" class=\"dataframe\">\n",
       "  <thead>\n",
       "    <tr style=\"text-align: right;\">\n",
       "      <th></th>\n",
       "      <th>sex</th>\n",
       "      <th>age</th>\n",
       "      <th>address</th>\n",
       "      <th>Medu</th>\n",
       "      <th>Fedu</th>\n",
       "      <th>traveltime</th>\n",
       "      <th>studytime</th>\n",
       "      <th>failures</th>\n",
       "      <th>famrel</th>\n",
       "      <th>freetime</th>\n",
       "      <th>...</th>\n",
       "      <th>activities_no</th>\n",
       "      <th>activities_yes</th>\n",
       "      <th>nursery_no</th>\n",
       "      <th>nursery_yes</th>\n",
       "      <th>higher_no</th>\n",
       "      <th>higher_yes</th>\n",
       "      <th>internet_no</th>\n",
       "      <th>internet_yes</th>\n",
       "      <th>romantic_no</th>\n",
       "      <th>romantic_yes</th>\n",
       "    </tr>\n",
       "  </thead>\n",
       "  <tbody>\n",
       "    <tr>\n",
       "      <th>0</th>\n",
       "      <td>0</td>\n",
       "      <td>18.0</td>\n",
       "      <td>0</td>\n",
       "      <td>1</td>\n",
       "      <td>3</td>\n",
       "      <td>1</td>\n",
       "      <td>1</td>\n",
       "      <td>0</td>\n",
       "      <td>4</td>\n",
       "      <td>3</td>\n",
       "      <td>...</td>\n",
       "      <td>1</td>\n",
       "      <td>0</td>\n",
       "      <td>0</td>\n",
       "      <td>1</td>\n",
       "      <td>1</td>\n",
       "      <td>0</td>\n",
       "      <td>0</td>\n",
       "      <td>1</td>\n",
       "      <td>0</td>\n",
       "      <td>1</td>\n",
       "    </tr>\n",
       "    <tr>\n",
       "      <th>1</th>\n",
       "      <td>1</td>\n",
       "      <td>17.0</td>\n",
       "      <td>1</td>\n",
       "      <td>3</td>\n",
       "      <td>3</td>\n",
       "      <td>3</td>\n",
       "      <td>1</td>\n",
       "      <td>0</td>\n",
       "      <td>3</td>\n",
       "      <td>3</td>\n",
       "      <td>...</td>\n",
       "      <td>0</td>\n",
       "      <td>1</td>\n",
       "      <td>0</td>\n",
       "      <td>1</td>\n",
       "      <td>0</td>\n",
       "      <td>1</td>\n",
       "      <td>0</td>\n",
       "      <td>1</td>\n",
       "      <td>1</td>\n",
       "      <td>0</td>\n",
       "    </tr>\n",
       "    <tr>\n",
       "      <th>2</th>\n",
       "      <td>1</td>\n",
       "      <td>15.0</td>\n",
       "      <td>1</td>\n",
       "      <td>3</td>\n",
       "      <td>4</td>\n",
       "      <td>1</td>\n",
       "      <td>2</td>\n",
       "      <td>0</td>\n",
       "      <td>5</td>\n",
       "      <td>5</td>\n",
       "      <td>...</td>\n",
       "      <td>0</td>\n",
       "      <td>1</td>\n",
       "      <td>0</td>\n",
       "      <td>1</td>\n",
       "      <td>0</td>\n",
       "      <td>1</td>\n",
       "      <td>0</td>\n",
       "      <td>1</td>\n",
       "      <td>1</td>\n",
       "      <td>0</td>\n",
       "    </tr>\n",
       "    <tr>\n",
       "      <th>10</th>\n",
       "      <td>1</td>\n",
       "      <td>16.0</td>\n",
       "      <td>1</td>\n",
       "      <td>4</td>\n",
       "      <td>1</td>\n",
       "      <td>1</td>\n",
       "      <td>2</td>\n",
       "      <td>0</td>\n",
       "      <td>5</td>\n",
       "      <td>3</td>\n",
       "      <td>...</td>\n",
       "      <td>0</td>\n",
       "      <td>1</td>\n",
       "      <td>0</td>\n",
       "      <td>1</td>\n",
       "      <td>0</td>\n",
       "      <td>1</td>\n",
       "      <td>0</td>\n",
       "      <td>1</td>\n",
       "      <td>1</td>\n",
       "      <td>0</td>\n",
       "    </tr>\n",
       "    <tr>\n",
       "      <th>20</th>\n",
       "      <td>0</td>\n",
       "      <td>17.0</td>\n",
       "      <td>0</td>\n",
       "      <td>2</td>\n",
       "      <td>3</td>\n",
       "      <td>2</td>\n",
       "      <td>2</td>\n",
       "      <td>0</td>\n",
       "      <td>3</td>\n",
       "      <td>3</td>\n",
       "      <td>...</td>\n",
       "      <td>0</td>\n",
       "      <td>1</td>\n",
       "      <td>0</td>\n",
       "      <td>1</td>\n",
       "      <td>0</td>\n",
       "      <td>1</td>\n",
       "      <td>0</td>\n",
       "      <td>1</td>\n",
       "      <td>1</td>\n",
       "      <td>0</td>\n",
       "    </tr>\n",
       "  </tbody>\n",
       "</table>\n",
       "<p>5 rows × 55 columns</p>\n",
       "</div>"
      ],
      "text/plain": [
       "    sex   age  address  Medu  Fedu  traveltime  studytime  failures  famrel  \\\n",
       "0     0  18.0        0     1     3           1          1         0       4   \n",
       "1     1  17.0        1     3     3           3          1         0       3   \n",
       "2     1  15.0        1     3     4           1          2         0       5   \n",
       "10    1  16.0        1     4     1           1          2         0       5   \n",
       "20    0  17.0        0     2     3           2          2         0       3   \n",
       "\n",
       "    freetime  ...  activities_no  activities_yes  nursery_no  nursery_yes  \\\n",
       "0          3  ...              1               0           0            1   \n",
       "1          3  ...              0               1           0            1   \n",
       "2          5  ...              0               1           0            1   \n",
       "10         3  ...              0               1           0            1   \n",
       "20         3  ...              0               1           0            1   \n",
       "\n",
       "    higher_no  higher_yes  internet_no  internet_yes  romantic_no  \\\n",
       "0           1           0            0             1            0   \n",
       "1           0           1            0             1            1   \n",
       "2           0           1            0             1            1   \n",
       "10          0           1            0             1            1   \n",
       "20          0           1            0             1            1   \n",
       "\n",
       "    romantic_yes  \n",
       "0              1  \n",
       "1              0  \n",
       "2              0  \n",
       "10             0  \n",
       "20             0  \n",
       "\n",
       "[5 rows x 55 columns]"
      ]
     },
     "execution_count": 178,
     "metadata": {},
     "output_type": "execute_result"
    }
   ],
   "source": [
    "df_wrong.head()"
   ]
  },
  {
   "cell_type": "code",
   "execution_count": 179,
   "metadata": {},
   "outputs": [],
   "source": [
    "df = pd.concat([df_wrong, df_right]).sort_index()"
   ]
  },
  {
   "cell_type": "markdown",
   "metadata": {},
   "source": [
    "# Naive Bayes"
   ]
  },
  {
   "cell_type": "code",
   "execution_count": 180,
   "metadata": {},
   "outputs": [],
   "source": [
    "from sklearn import naive_bayes"
   ]
  },
  {
   "cell_type": "code",
   "execution_count": 181,
   "metadata": {},
   "outputs": [],
   "source": [
    "df = X_initial.copy()\n",
    "df_wrong, df_right = divide_df(df)"
   ]
  },
  {
   "cell_type": "code",
   "execution_count": 182,
   "metadata": {},
   "outputs": [],
   "source": [
    "repair_df(naive_bayes.GaussianNB(), df_wrong, df_right, ['address', 'age', 'sex'])\n",
    "df = pd.concat([df_wrong, df_right]).sort_index()\n"
   ]
  },
  {
   "cell_type": "markdown",
   "metadata": {},
   "source": [
    "# Linear Regression"
   ]
  },
  {
   "cell_type": "code",
   "execution_count": 183,
   "metadata": {},
   "outputs": [],
   "source": [
    "from sklearn.linear_model import LinearRegression"
   ]
  },
  {
   "cell_type": "code",
   "execution_count": 184,
   "metadata": {},
   "outputs": [],
   "source": [
    "df = X_initial.copy()\n",
    "df_wrong, df_right = divide_df(df)"
   ]
  },
  {
   "cell_type": "code",
   "execution_count": 185,
   "metadata": {},
   "outputs": [],
   "source": [
    "repair_df(LinearRegression(), df_wrong, df_right, ['address', 'age', 'sex'])\n",
    "df = pd.concat([df_wrong, df_right]).sort_index()\n",
    "df = df.astype('int')"
   ]
  },
  {
   "cell_type": "markdown",
   "metadata": {},
   "source": [
    "# now let's assume that current df is best, so we have to drop correlated data"
   ]
  },
  {
   "cell_type": "code",
   "execution_count": 186,
   "metadata": {},
   "outputs": [],
   "source": [
    "cor_matrix = df.corr().abs()\n",
    "upper_tri = cor_matrix.where(np.triu(np.ones(cor_matrix.shape),k=1).astype(np.bool))\n",
    "to_drop = [column for column in upper_tri.columns if any(upper_tri[column] > 0.95)]\n",
    "df = df.drop(df[to_drop], axis=1)"
   ]
  },
  {
   "cell_type": "code",
   "execution_count": 188,
   "metadata": {},
   "outputs": [
    {
     "data": {
      "text/html": [
       "<div>\n",
       "<style scoped>\n",
       "    .dataframe tbody tr th:only-of-type {\n",
       "        vertical-align: middle;\n",
       "    }\n",
       "\n",
       "    .dataframe tbody tr th {\n",
       "        vertical-align: top;\n",
       "    }\n",
       "\n",
       "    .dataframe thead th {\n",
       "        text-align: right;\n",
       "    }\n",
       "</style>\n",
       "<table border=\"1\" class=\"dataframe\">\n",
       "  <thead>\n",
       "    <tr style=\"text-align: right;\">\n",
       "      <th></th>\n",
       "      <th>sex</th>\n",
       "      <th>age</th>\n",
       "      <th>address</th>\n",
       "      <th>Medu</th>\n",
       "      <th>Fedu</th>\n",
       "      <th>traveltime</th>\n",
       "      <th>studytime</th>\n",
       "      <th>failures</th>\n",
       "      <th>famrel</th>\n",
       "      <th>freetime</th>\n",
       "      <th>...</th>\n",
       "      <th>guardian_mother</th>\n",
       "      <th>guardian_other</th>\n",
       "      <th>schoolsup_no</th>\n",
       "      <th>famsup_no</th>\n",
       "      <th>paid_no</th>\n",
       "      <th>activities_no</th>\n",
       "      <th>nursery_no</th>\n",
       "      <th>higher_no</th>\n",
       "      <th>internet_no</th>\n",
       "      <th>romantic_no</th>\n",
       "    </tr>\n",
       "  </thead>\n",
       "  <tbody>\n",
       "    <tr>\n",
       "      <th>0</th>\n",
       "      <td>0</td>\n",
       "      <td>16</td>\n",
       "      <td>0</td>\n",
       "      <td>1</td>\n",
       "      <td>3</td>\n",
       "      <td>1</td>\n",
       "      <td>1</td>\n",
       "      <td>0</td>\n",
       "      <td>4</td>\n",
       "      <td>3</td>\n",
       "      <td>...</td>\n",
       "      <td>1</td>\n",
       "      <td>0</td>\n",
       "      <td>1</td>\n",
       "      <td>1</td>\n",
       "      <td>1</td>\n",
       "      <td>1</td>\n",
       "      <td>0</td>\n",
       "      <td>1</td>\n",
       "      <td>0</td>\n",
       "      <td>0</td>\n",
       "    </tr>\n",
       "    <tr>\n",
       "      <th>1</th>\n",
       "      <td>1</td>\n",
       "      <td>14</td>\n",
       "      <td>0</td>\n",
       "      <td>3</td>\n",
       "      <td>3</td>\n",
       "      <td>3</td>\n",
       "      <td>1</td>\n",
       "      <td>0</td>\n",
       "      <td>3</td>\n",
       "      <td>3</td>\n",
       "      <td>...</td>\n",
       "      <td>0</td>\n",
       "      <td>0</td>\n",
       "      <td>1</td>\n",
       "      <td>0</td>\n",
       "      <td>1</td>\n",
       "      <td>0</td>\n",
       "      <td>0</td>\n",
       "      <td>0</td>\n",
       "      <td>0</td>\n",
       "      <td>1</td>\n",
       "    </tr>\n",
       "    <tr>\n",
       "      <th>2</th>\n",
       "      <td>0</td>\n",
       "      <td>14</td>\n",
       "      <td>0</td>\n",
       "      <td>3</td>\n",
       "      <td>4</td>\n",
       "      <td>1</td>\n",
       "      <td>2</td>\n",
       "      <td>0</td>\n",
       "      <td>5</td>\n",
       "      <td>5</td>\n",
       "      <td>...</td>\n",
       "      <td>1</td>\n",
       "      <td>0</td>\n",
       "      <td>1</td>\n",
       "      <td>0</td>\n",
       "      <td>1</td>\n",
       "      <td>0</td>\n",
       "      <td>0</td>\n",
       "      <td>0</td>\n",
       "      <td>0</td>\n",
       "      <td>1</td>\n",
       "    </tr>\n",
       "    <tr>\n",
       "      <th>3</th>\n",
       "      <td>1</td>\n",
       "      <td>17</td>\n",
       "      <td>0</td>\n",
       "      <td>4</td>\n",
       "      <td>3</td>\n",
       "      <td>2</td>\n",
       "      <td>2</td>\n",
       "      <td>1</td>\n",
       "      <td>4</td>\n",
       "      <td>5</td>\n",
       "      <td>...</td>\n",
       "      <td>1</td>\n",
       "      <td>0</td>\n",
       "      <td>1</td>\n",
       "      <td>0</td>\n",
       "      <td>0</td>\n",
       "      <td>0</td>\n",
       "      <td>1</td>\n",
       "      <td>0</td>\n",
       "      <td>0</td>\n",
       "      <td>0</td>\n",
       "    </tr>\n",
       "    <tr>\n",
       "      <th>4</th>\n",
       "      <td>0</td>\n",
       "      <td>20</td>\n",
       "      <td>0</td>\n",
       "      <td>2</td>\n",
       "      <td>1</td>\n",
       "      <td>2</td>\n",
       "      <td>2</td>\n",
       "      <td>0</td>\n",
       "      <td>1</td>\n",
       "      <td>2</td>\n",
       "      <td>...</td>\n",
       "      <td>0</td>\n",
       "      <td>1</td>\n",
       "      <td>1</td>\n",
       "      <td>0</td>\n",
       "      <td>0</td>\n",
       "      <td>0</td>\n",
       "      <td>0</td>\n",
       "      <td>1</td>\n",
       "      <td>0</td>\n",
       "      <td>0</td>\n",
       "    </tr>\n",
       "  </tbody>\n",
       "</table>\n",
       "<p>5 rows × 44 columns</p>\n",
       "</div>"
      ],
      "text/plain": [
       "   sex  age  address  Medu  Fedu  traveltime  studytime  failures  famrel  \\\n",
       "0    0   16        0     1     3           1          1         0       4   \n",
       "1    1   14        0     3     3           3          1         0       3   \n",
       "2    0   14        0     3     4           1          2         0       5   \n",
       "3    1   17        0     4     3           2          2         1       4   \n",
       "4    0   20        0     2     1           2          2         0       1   \n",
       "\n",
       "   freetime  ...  guardian_mother  guardian_other  schoolsup_no  famsup_no  \\\n",
       "0         3  ...                1               0             1          1   \n",
       "1         3  ...                0               0             1          0   \n",
       "2         5  ...                1               0             1          0   \n",
       "3         5  ...                1               0             1          0   \n",
       "4         2  ...                0               1             1          0   \n",
       "\n",
       "   paid_no  activities_no  nursery_no  higher_no  internet_no  romantic_no  \n",
       "0        1              1           0          1            0            0  \n",
       "1        1              0           0          0            0            1  \n",
       "2        1              0           0          0            0            1  \n",
       "3        0              0           1          0            0            0  \n",
       "4        0              0           0          1            0            0  \n",
       "\n",
       "[5 rows x 44 columns]"
      ]
     },
     "execution_count": 188,
     "metadata": {},
     "output_type": "execute_result"
    }
   ],
   "source": [
    "df.head()"
   ]
  },
  {
   "cell_type": "markdown",
   "metadata": {},
   "source": [
    "# Часть 5. Обучение алгоритма"
   ]
  },
  {
   "cell_type": "markdown",
   "metadata": {},
   "source": [
    "Целевая переменная принимает дискретные значения [0; 20], поэтому вы можете поставить как задачу классификации, так и задачу регрессии.\n",
    "\n",
    "!Не забудьте про оптимизацию параметров алгоритмов, у вас же уже есть данные для валидации."
   ]
  },
  {
   "cell_type": "code",
   "execution_count": 189,
   "metadata": {},
   "outputs": [],
   "source": [
    "from sklearn.metrics import mean_absolute_error as mae"
   ]
  },
  {
   "cell_type": "code",
   "execution_count": 190,
   "metadata": {},
   "outputs": [],
   "source": [
    "from sklearn.linear_model import SGDRegressor\n",
    "from sklearn.metrics import mean_squared_error, r2_score\n",
    "from sklearn.model_selection import GridSearchCV\n",
    "from sklearn import svm\n",
    "\n",
    "import warnings\n",
    "warnings.filterwarnings(\"ignore\")"
   ]
  },
  {
   "cell_type": "code",
   "execution_count": 191,
   "metadata": {},
   "outputs": [],
   "source": [
    "init_scores = {}"
   ]
  },
  {
   "cell_type": "markdown",
   "metadata": {},
   "source": [
    "## KNN"
   ]
  },
  {
   "cell_type": "code",
   "execution_count": 192,
   "metadata": {},
   "outputs": [],
   "source": [
    "to_drop_name = 'G3'\n",
    "X = df.copy()\n",
    "y = X[to_drop_name]\n",
    "X = X.drop(to_drop_name, axis = 1)"
   ]
  },
  {
   "cell_type": "code",
   "execution_count": 193,
   "metadata": {},
   "outputs": [
    {
     "data": {
      "text/html": [
       "<div>\n",
       "<style scoped>\n",
       "    .dataframe tbody tr th:only-of-type {\n",
       "        vertical-align: middle;\n",
       "    }\n",
       "\n",
       "    .dataframe tbody tr th {\n",
       "        vertical-align: top;\n",
       "    }\n",
       "\n",
       "    .dataframe thead th {\n",
       "        text-align: right;\n",
       "    }\n",
       "</style>\n",
       "<table border=\"1\" class=\"dataframe\">\n",
       "  <thead>\n",
       "    <tr style=\"text-align: right;\">\n",
       "      <th></th>\n",
       "      <th>mean_test_score</th>\n",
       "      <th>std_test_score</th>\n",
       "      <th>params</th>\n",
       "    </tr>\n",
       "  </thead>\n",
       "  <tbody>\n",
       "    <tr>\n",
       "      <th>88</th>\n",
       "      <td>0.209778</td>\n",
       "      <td>0.099991</td>\n",
       "      <td>{'n_neighbors': 89}</td>\n",
       "    </tr>\n",
       "    <tr>\n",
       "      <th>77</th>\n",
       "      <td>0.207778</td>\n",
       "      <td>0.099163</td>\n",
       "      <td>{'n_neighbors': 78}</td>\n",
       "    </tr>\n",
       "    <tr>\n",
       "      <th>37</th>\n",
       "      <td>0.207111</td>\n",
       "      <td>0.105240</td>\n",
       "      <td>{'n_neighbors': 38}</td>\n",
       "    </tr>\n",
       "    <tr>\n",
       "      <th>87</th>\n",
       "      <td>0.205556</td>\n",
       "      <td>0.083953</td>\n",
       "      <td>{'n_neighbors': 88}</td>\n",
       "    </tr>\n",
       "    <tr>\n",
       "      <th>61</th>\n",
       "      <td>0.205333</td>\n",
       "      <td>0.099808</td>\n",
       "      <td>{'n_neighbors': 62}</td>\n",
       "    </tr>\n",
       "    <tr>\n",
       "      <th>...</th>\n",
       "      <td>...</td>\n",
       "      <td>...</td>\n",
       "      <td>...</td>\n",
       "    </tr>\n",
       "    <tr>\n",
       "      <th>4</th>\n",
       "      <td>0.141333</td>\n",
       "      <td>0.106087</td>\n",
       "      <td>{'n_neighbors': 5}</td>\n",
       "    </tr>\n",
       "    <tr>\n",
       "      <th>9</th>\n",
       "      <td>0.141333</td>\n",
       "      <td>0.115428</td>\n",
       "      <td>{'n_neighbors': 10}</td>\n",
       "    </tr>\n",
       "    <tr>\n",
       "      <th>2</th>\n",
       "      <td>0.132000</td>\n",
       "      <td>0.114969</td>\n",
       "      <td>{'n_neighbors': 3}</td>\n",
       "    </tr>\n",
       "    <tr>\n",
       "      <th>3</th>\n",
       "      <td>0.129778</td>\n",
       "      <td>0.102907</td>\n",
       "      <td>{'n_neighbors': 4}</td>\n",
       "    </tr>\n",
       "    <tr>\n",
       "      <th>0</th>\n",
       "      <td>0.125333</td>\n",
       "      <td>0.105527</td>\n",
       "      <td>{'n_neighbors': 1}</td>\n",
       "    </tr>\n",
       "  </tbody>\n",
       "</table>\n",
       "<p>99 rows × 3 columns</p>\n",
       "</div>"
      ],
      "text/plain": [
       "    mean_test_score  std_test_score               params\n",
       "88         0.209778        0.099991  {'n_neighbors': 89}\n",
       "77         0.207778        0.099163  {'n_neighbors': 78}\n",
       "37         0.207111        0.105240  {'n_neighbors': 38}\n",
       "87         0.205556        0.083953  {'n_neighbors': 88}\n",
       "61         0.205333        0.099808  {'n_neighbors': 62}\n",
       "..              ...             ...                  ...\n",
       "4          0.141333        0.106087   {'n_neighbors': 5}\n",
       "9          0.141333        0.115428  {'n_neighbors': 10}\n",
       "2          0.132000        0.114969   {'n_neighbors': 3}\n",
       "3          0.129778        0.102907   {'n_neighbors': 4}\n",
       "0          0.125333        0.105527   {'n_neighbors': 1}\n",
       "\n",
       "[99 rows x 3 columns]"
      ]
     },
     "execution_count": 193,
     "metadata": {},
     "output_type": "execute_result"
    }
   ],
   "source": [
    "cv = StratifiedKFold(n_splits=50)\n",
    "\n",
    "parameters = {'n_neighbors':range(1, 100)}\n",
    "knn = KNeighborsClassifier()\n",
    "\n",
    "grid = GridSearchCV(estimator=knn,\n",
    "             param_grid=parameters, cv = cv)\n",
    "grid=grid.fit(X, y)\n",
    "grid.score(X, y)\n",
    "\n",
    "# grid_search.score\n",
    "pd.DataFrame(grid.cv_results_)[['mean_test_score', 'std_test_score', 'params']].sort_values(by='mean_test_score', ascending = False)"
   ]
  },
  {
   "cell_type": "code",
   "execution_count": 194,
   "metadata": {},
   "outputs": [
    {
     "name": "stdout",
     "output_type": "stream",
     "text": [
      "cross_val_score  -1.675\n"
     ]
    }
   ],
   "source": [
    "cv = StratifiedKFold(n_splits=20)\n",
    "knn = KNeighborsClassifier(88)\n",
    "\n",
    "score = np.mean(cross_val_score(knn, X, y, cv=cv, scoring ='neg_median_absolute_error'))\n",
    "print(f'cross_val_score ', score)\n",
    "\n",
    "init_scores['Knn'] = score"
   ]
  },
  {
   "cell_type": "markdown",
   "metadata": {},
   "source": [
    "## Bayes"
   ]
  },
  {
   "cell_type": "code",
   "execution_count": 195,
   "metadata": {},
   "outputs": [],
   "source": [
    "to_drop_name = 'G3'\n",
    "X = df.copy()\n",
    "y = X[to_drop_name]\n",
    "X = X.drop(to_drop_name, axis = 1)"
   ]
  },
  {
   "cell_type": "code",
   "execution_count": 196,
   "metadata": {},
   "outputs": [
    {
     "name": "stdout",
     "output_type": "stream",
     "text": [
      "cross_val_score  -3.825\n"
     ]
    }
   ],
   "source": [
    "cv = StratifiedKFold(n_splits=20)\n",
    "nb = naive_bayes.GaussianNB()\n",
    "\n",
    "score = np.mean(cross_val_score(nb, X, y, cv=cv, scoring ='neg_median_absolute_error'))\n",
    "print(f'cross_val_score ', score)\n",
    "\n",
    "init_scores['Nb'] = score"
   ]
  },
  {
   "cell_type": "markdown",
   "metadata": {},
   "source": [
    "## Регрессия"
   ]
  },
  {
   "cell_type": "code",
   "execution_count": 197,
   "metadata": {},
   "outputs": [],
   "source": [
    "to_drop_name = 'G3'\n",
    "X = df.copy()\n",
    "y = X[to_drop_name]\n",
    "X = X.drop(to_drop_name, axis = 1)"
   ]
  },
  {
   "cell_type": "code",
   "execution_count": 198,
   "metadata": {},
   "outputs": [
    {
     "name": "stdout",
     "output_type": "stream",
     "text": [
      "cross_val_score  -1.554549217224121\n"
     ]
    }
   ],
   "source": [
    "cv = StratifiedKFold(n_splits=20)\n",
    "lreg = LinearRegression()\n",
    "\n",
    "score = np.mean(cross_val_score(lreg, X, y, cv=cv, scoring ='neg_median_absolute_error'))\n",
    "print(f'cross_val_score ', score)\n",
    "\n",
    "init_scores['Lr'] = score"
   ]
  },
  {
   "cell_type": "markdown",
   "metadata": {},
   "source": [
    "## SVM"
   ]
  },
  {
   "cell_type": "code",
   "execution_count": 199,
   "metadata": {},
   "outputs": [],
   "source": [
    "to_drop_name = 'G3'\n",
    "X = df.copy()\n",
    "y = X[to_drop_name]\n",
    "X = X.drop(to_drop_name, axis = 1)"
   ]
  },
  {
   "cell_type": "code",
   "execution_count": 202,
   "metadata": {},
   "outputs": [
    {
     "data": {
      "text/html": [
       "<div>\n",
       "<style scoped>\n",
       "    .dataframe tbody tr th:only-of-type {\n",
       "        vertical-align: middle;\n",
       "    }\n",
       "\n",
       "    .dataframe tbody tr th {\n",
       "        vertical-align: top;\n",
       "    }\n",
       "\n",
       "    .dataframe thead th {\n",
       "        text-align: right;\n",
       "    }\n",
       "</style>\n",
       "<table border=\"1\" class=\"dataframe\">\n",
       "  <thead>\n",
       "    <tr style=\"text-align: right;\">\n",
       "      <th></th>\n",
       "      <th>mean_test_score</th>\n",
       "      <th>std_test_score</th>\n",
       "      <th>params</th>\n",
       "    </tr>\n",
       "  </thead>\n",
       "  <tbody>\n",
       "    <tr>\n",
       "      <th>15</th>\n",
       "      <td>0.198518</td>\n",
       "      <td>0.077448</td>\n",
       "      <td>{'C': 1.7000000000000006, 'kernel': 'rbf'}</td>\n",
       "    </tr>\n",
       "    <tr>\n",
       "      <th>13</th>\n",
       "      <td>0.194269</td>\n",
       "      <td>0.077862</td>\n",
       "      <td>{'C': 1.6000000000000005, 'kernel': 'rbf'}</td>\n",
       "    </tr>\n",
       "    <tr>\n",
       "      <th>17</th>\n",
       "      <td>0.193972</td>\n",
       "      <td>0.072821</td>\n",
       "      <td>{'C': 1.8000000000000007, 'kernel': 'rbf'}</td>\n",
       "    </tr>\n",
       "    <tr>\n",
       "      <th>19</th>\n",
       "      <td>0.191798</td>\n",
       "      <td>0.072738</td>\n",
       "      <td>{'C': 1.9000000000000008, 'kernel': 'rbf'}</td>\n",
       "    </tr>\n",
       "    <tr>\n",
       "      <th>11</th>\n",
       "      <td>0.189822</td>\n",
       "      <td>0.070903</td>\n",
       "      <td>{'C': 1.5000000000000004, 'kernel': 'rbf'}</td>\n",
       "    </tr>\n",
       "    <tr>\n",
       "      <th>9</th>\n",
       "      <td>0.185474</td>\n",
       "      <td>0.067672</td>\n",
       "      <td>{'C': 1.4000000000000004, 'kernel': 'rbf'}</td>\n",
       "    </tr>\n",
       "    <tr>\n",
       "      <th>7</th>\n",
       "      <td>0.183202</td>\n",
       "      <td>0.065295</td>\n",
       "      <td>{'C': 1.3000000000000003, 'kernel': 'rbf'}</td>\n",
       "    </tr>\n",
       "    <tr>\n",
       "      <th>0</th>\n",
       "      <td>0.183202</td>\n",
       "      <td>0.075795</td>\n",
       "      <td>{'C': 1.0, 'kernel': 'linear'}</td>\n",
       "    </tr>\n",
       "    <tr>\n",
       "      <th>1</th>\n",
       "      <td>0.183103</td>\n",
       "      <td>0.064831</td>\n",
       "      <td>{'C': 1.0, 'kernel': 'rbf'}</td>\n",
       "    </tr>\n",
       "    <tr>\n",
       "      <th>5</th>\n",
       "      <td>0.183103</td>\n",
       "      <td>0.066273</td>\n",
       "      <td>{'C': 1.2000000000000002, 'kernel': 'rbf'}</td>\n",
       "    </tr>\n",
       "    <tr>\n",
       "      <th>3</th>\n",
       "      <td>0.183103</td>\n",
       "      <td>0.064831</td>\n",
       "      <td>{'C': 1.1, 'kernel': 'rbf'}</td>\n",
       "    </tr>\n",
       "    <tr>\n",
       "      <th>4</th>\n",
       "      <td>0.178755</td>\n",
       "      <td>0.085296</td>\n",
       "      <td>{'C': 1.2000000000000002, 'kernel': 'linear'}</td>\n",
       "    </tr>\n",
       "    <tr>\n",
       "      <th>2</th>\n",
       "      <td>0.178755</td>\n",
       "      <td>0.077150</td>\n",
       "      <td>{'C': 1.1, 'kernel': 'linear'}</td>\n",
       "    </tr>\n",
       "    <tr>\n",
       "      <th>6</th>\n",
       "      <td>0.174506</td>\n",
       "      <td>0.088940</td>\n",
       "      <td>{'C': 1.3000000000000003, 'kernel': 'linear'}</td>\n",
       "    </tr>\n",
       "    <tr>\n",
       "      <th>14</th>\n",
       "      <td>0.174506</td>\n",
       "      <td>0.093564</td>\n",
       "      <td>{'C': 1.7000000000000006, 'kernel': 'linear'}</td>\n",
       "    </tr>\n",
       "    <tr>\n",
       "      <th>18</th>\n",
       "      <td>0.174506</td>\n",
       "      <td>0.094662</td>\n",
       "      <td>{'C': 1.9000000000000008, 'kernel': 'linear'}</td>\n",
       "    </tr>\n",
       "    <tr>\n",
       "      <th>8</th>\n",
       "      <td>0.172431</td>\n",
       "      <td>0.087877</td>\n",
       "      <td>{'C': 1.4000000000000004, 'kernel': 'linear'}</td>\n",
       "    </tr>\n",
       "    <tr>\n",
       "      <th>12</th>\n",
       "      <td>0.172332</td>\n",
       "      <td>0.094057</td>\n",
       "      <td>{'C': 1.6000000000000005, 'kernel': 'linear'}</td>\n",
       "    </tr>\n",
       "    <tr>\n",
       "      <th>16</th>\n",
       "      <td>0.172233</td>\n",
       "      <td>0.089402</td>\n",
       "      <td>{'C': 1.8000000000000007, 'kernel': 'linear'}</td>\n",
       "    </tr>\n",
       "    <tr>\n",
       "      <th>10</th>\n",
       "      <td>0.170257</td>\n",
       "      <td>0.087273</td>\n",
       "      <td>{'C': 1.5000000000000004, 'kernel': 'linear'}</td>\n",
       "    </tr>\n",
       "  </tbody>\n",
       "</table>\n",
       "</div>"
      ],
      "text/plain": [
       "    mean_test_score  std_test_score  \\\n",
       "15         0.198518        0.077448   \n",
       "13         0.194269        0.077862   \n",
       "17         0.193972        0.072821   \n",
       "19         0.191798        0.072738   \n",
       "11         0.189822        0.070903   \n",
       "9          0.185474        0.067672   \n",
       "7          0.183202        0.065295   \n",
       "0          0.183202        0.075795   \n",
       "1          0.183103        0.064831   \n",
       "5          0.183103        0.066273   \n",
       "3          0.183103        0.064831   \n",
       "4          0.178755        0.085296   \n",
       "2          0.178755        0.077150   \n",
       "6          0.174506        0.088940   \n",
       "14         0.174506        0.093564   \n",
       "18         0.174506        0.094662   \n",
       "8          0.172431        0.087877   \n",
       "12         0.172332        0.094057   \n",
       "16         0.172233        0.089402   \n",
       "10         0.170257        0.087273   \n",
       "\n",
       "                                           params  \n",
       "15     {'C': 1.7000000000000006, 'kernel': 'rbf'}  \n",
       "13     {'C': 1.6000000000000005, 'kernel': 'rbf'}  \n",
       "17     {'C': 1.8000000000000007, 'kernel': 'rbf'}  \n",
       "19     {'C': 1.9000000000000008, 'kernel': 'rbf'}  \n",
       "11     {'C': 1.5000000000000004, 'kernel': 'rbf'}  \n",
       "9      {'C': 1.4000000000000004, 'kernel': 'rbf'}  \n",
       "7      {'C': 1.3000000000000003, 'kernel': 'rbf'}  \n",
       "0                  {'C': 1.0, 'kernel': 'linear'}  \n",
       "1                     {'C': 1.0, 'kernel': 'rbf'}  \n",
       "5      {'C': 1.2000000000000002, 'kernel': 'rbf'}  \n",
       "3                     {'C': 1.1, 'kernel': 'rbf'}  \n",
       "4   {'C': 1.2000000000000002, 'kernel': 'linear'}  \n",
       "2                  {'C': 1.1, 'kernel': 'linear'}  \n",
       "6   {'C': 1.3000000000000003, 'kernel': 'linear'}  \n",
       "14  {'C': 1.7000000000000006, 'kernel': 'linear'}  \n",
       "18  {'C': 1.9000000000000008, 'kernel': 'linear'}  \n",
       "8   {'C': 1.4000000000000004, 'kernel': 'linear'}  \n",
       "12  {'C': 1.6000000000000005, 'kernel': 'linear'}  \n",
       "16  {'C': 1.8000000000000007, 'kernel': 'linear'}  \n",
       "10  {'C': 1.5000000000000004, 'kernel': 'linear'}  "
      ]
     },
     "execution_count": 202,
     "metadata": {},
     "output_type": "execute_result"
    }
   ],
   "source": [
    "cv = StratifiedKFold(n_splits=20)\n",
    "\n",
    "parameters = {'kernel':('linear', 'rbf'), 'C': np.arange(1, 2, 0.1)}\n",
    "\n",
    "grid = GridSearchCV(estimator=svm.SVC(),\n",
    "             param_grid=parameters, cv = cv)\n",
    "grid=grid.fit(X, y)\n",
    "grid.score(X, y)\n",
    "\n",
    "pd.DataFrame(grid.cv_results_)[['mean_test_score', 'std_test_score', 'params']].sort_values(by='mean_test_score', ascending = False)"
   ]
  },
  {
   "cell_type": "code",
   "execution_count": 204,
   "metadata": {},
   "outputs": [
    {
     "name": "stdout",
     "output_type": "stream",
     "text": [
      "cross_val_score  -1.675\n"
     ]
    }
   ],
   "source": [
    "svc = svm.SVC(C = 1.7, kernel = 'rbf')\n",
    "\n",
    "score = np.mean(cross_val_score(svc, X, y, cv=cv, scoring ='neg_median_absolute_error'))\n",
    "print(f'cross_val_score ', score)\n",
    "\n",
    "init_scores['Svc'] = score"
   ]
  },
  {
   "cell_type": "markdown",
   "metadata": {},
   "source": [
    "## Постройте сложную модель на основе предыдущих четырех простых и оцените ее точность"
   ]
  },
  {
   "cell_type": "code",
   "execution_count": 205,
   "metadata": {},
   "outputs": [],
   "source": [
    "from sklearn.model_selection import train_test_split"
   ]
  },
  {
   "cell_type": "markdown",
   "metadata": {},
   "source": [
    "Вариант 1. Нужно взвесить предсказания простых моделей. Предложите метод взвешивания."
   ]
  },
  {
   "cell_type": "markdown",
   "metadata": {},
   "source": [
    "1) т к LR , SVM дают более точные предсказания(по MAE в 3 раза), чем Knn, Nb будем брать их результат с весом 3, а предсказания Knn,Nb с весом 1"
   ]
  },
  {
   "cell_type": "code",
   "execution_count": 206,
   "metadata": {},
   "outputs": [],
   "source": [
    "to_drop_name = 'G3'\n",
    "X = df.copy()\n",
    "y = X[to_drop_name]\n",
    "X = X.drop(to_drop_name, axis = 1)\n",
    "X_train, X_test, y_train, y_test = train_test_split(X, y, train_size=0.8, test_size=0.2,\n",
    "                                                    shuffle=True, random_state=42)"
   ]
  },
  {
   "cell_type": "code",
   "execution_count": 207,
   "metadata": {},
   "outputs": [],
   "source": [
    "classifiers = {'Knn': KNeighborsClassifier(93), 'Nb': naive_bayes.GaussianNB(), 'Lr': LinearRegression(),\n",
    "              'Svc' : svm.SVC(C = 4, kernel = 'rbf')}"
   ]
  },
  {
   "cell_type": "code",
   "execution_count": 208,
   "metadata": {},
   "outputs": [
    {
     "data": {
      "text/plain": [
       "{'Knn': -1.675, 'Nb': -3.825, 'Lr': -1.554549217224121, 'Svc': -1.675}"
      ]
     },
     "execution_count": 208,
     "metadata": {},
     "output_type": "execute_result"
    }
   ],
   "source": [
    "predictions = {}\n",
    "scores = init_scores.copy()\n",
    "scores"
   ]
  },
  {
   "cell_type": "code",
   "execution_count": 209,
   "metadata": {},
   "outputs": [
    {
     "data": {
      "text/plain": [
       "{'Knn': 0.2844633565700821,\n",
       " 'Nb': 0.12456892085095099,\n",
       " 'Lr': 0.30650436600888487,\n",
       " 'Svc': 0.2844633565700821}"
      ]
     },
     "execution_count": 209,
     "metadata": {},
     "output_type": "execute_result"
    }
   ],
   "source": [
    "scores = {cls: 1 / w for cls, w in scores.items()}\n",
    "w_sum = sum(scores.values())\n",
    "scores = {cls: w / w_sum  for cls, w in scores.items()}\n",
    "scores"
   ]
  },
  {
   "cell_type": "code",
   "execution_count": 210,
   "metadata": {},
   "outputs": [],
   "source": [
    "for key in classifiers.keys():\n",
    "    cls = classifiers[key]\n",
    "    cls.fit(X_train,y_train)\n",
    "    predictions[key] = cls.predict(X_test).astype('int')"
   ]
  },
  {
   "cell_type": "code",
   "execution_count": 211,
   "metadata": {},
   "outputs": [],
   "source": [
    "pred = np.sum(scores[cls]*predictions[cls] for cls in classifiers.keys()).astype('int')"
   ]
  },
  {
   "cell_type": "code",
   "execution_count": 212,
   "metadata": {},
   "outputs": [
    {
     "name": "stdout",
     "output_type": "stream",
     "text": [
      "2.1758241758241756\n"
     ]
    }
   ],
   "source": [
    "error = mae(pred, y_test)\n",
    "print(error)"
   ]
  },
  {
   "cell_type": "code",
   "execution_count": 213,
   "metadata": {},
   "outputs": [
    {
     "data": {
      "text/plain": [
       "(77, 91)"
      ]
     },
     "execution_count": 213,
     "metadata": {},
     "output_type": "execute_result"
    }
   ],
   "source": [
    "np.sum(pred != y_test), len(y_test)"
   ]
  },
  {
   "cell_type": "markdown",
   "metadata": {},
   "source": [
    "# what if we drop Nb?"
   ]
  },
  {
   "cell_type": "code",
   "execution_count": 214,
   "metadata": {},
   "outputs": [],
   "source": [
    "scores_no_nb = init_scores.copy()\n",
    "scores_no_nb.pop('Nb', None)\n",
    "\n",
    "w_sum_no_nb = sum(scores_no_nb.values())\n",
    "scores_no_nb = {cls: w / w_sum_no_nb for cls, w in scores_no_nb.items()}"
   ]
  },
  {
   "cell_type": "code",
   "execution_count": 215,
   "metadata": {},
   "outputs": [
    {
     "data": {
      "text/plain": [
       "{'Knn': 0.3415196638495591,\n",
       " 'Lr': 0.3169606723008818,\n",
       " 'Svc': 0.3415196638495591}"
      ]
     },
     "execution_count": 215,
     "metadata": {},
     "output_type": "execute_result"
    }
   ],
   "source": [
    "scores_no_nb"
   ]
  },
  {
   "cell_type": "code",
   "execution_count": 216,
   "metadata": {},
   "outputs": [],
   "source": [
    "predictions_no_nb = {}"
   ]
  },
  {
   "cell_type": "code",
   "execution_count": 217,
   "metadata": {},
   "outputs": [],
   "source": [
    "for key in scores_no_nb.keys():\n",
    "    cls = classifiers[key]\n",
    "    cls.fit(X_train,y_train)\n",
    "    predictions_no_nb[key] = cls.predict(X_test).astype('int')"
   ]
  },
  {
   "cell_type": "code",
   "execution_count": 218,
   "metadata": {},
   "outputs": [
    {
     "data": {
      "text/plain": [
       "{'Knn': array([11, 10, 11, 13, 13, 13, 10, 13, 13, 10, 10, 10, 13, 11, 13, 10, 13,\n",
       "        10, 10, 13, 10, 11, 13, 13, 12, 10, 10, 13, 13, 13, 13, 11, 13, 13,\n",
       "        13, 13, 13, 11, 10, 10, 10, 11, 13, 10, 12, 11, 11, 11, 10, 10, 13,\n",
       "        11, 10, 11, 12, 10, 13, 10, 13, 13, 13, 10, 11, 11, 13, 11, 13, 10,\n",
       "        11, 13, 12, 10, 13, 11, 13, 13, 13, 13, 13, 13, 13, 13, 11, 13, 11,\n",
       "        13, 13, 10, 13, 11, 13]),\n",
       " 'Lr': array([10,  9,  8, 12, 12, 12, 12, 14,  9, 13,  9, 11, 11, 13, 12, 13, 12,\n",
       "        12,  7, 13,  9, 13, 11, 12, 10,  9, 10, 14, 13, 14,  9, 13, 11, 13,\n",
       "        14, 10, 13,  7, 11, 10, 10, 11, 11, 12, 13,  9, 11, 11, 13, 10, 13,\n",
       "        10,  4, 10, 11,  7, 12,  9, 10, 14, 11,  9, 11, 10, 12,  6, 13,  9,\n",
       "        13, 14, 10,  6, 13, 11, 12, 12, 10, 10, 10, 11, 10, 12, 12, 10, 10,\n",
       "        12, 13, 13, 14,  7, 14]),\n",
       " 'Svc': array([11, 10, 11, 11, 12, 13, 10, 13, 13, 13, 10, 13, 10, 11, 12, 10, 11,\n",
       "        10, 10, 13, 10, 12, 11, 12, 10, 10, 11, 13, 13, 13, 11, 10, 10, 13,\n",
       "        13, 10, 13, 10, 10,  8, 10, 10, 13, 10, 10, 11, 11, 11, 12, 10, 13,\n",
       "        11, 10, 11, 11, 10, 13, 11, 11, 13, 13, 10, 11, 11, 13, 10, 10, 10,\n",
       "        11, 13, 11, 10, 13, 11, 13, 13, 10, 12, 13, 13, 12, 13, 11, 11, 11,\n",
       "        13, 13, 14, 12, 10, 13])}"
      ]
     },
     "execution_count": 218,
     "metadata": {},
     "output_type": "execute_result"
    }
   ],
   "source": [
    "predictions_no_nb"
   ]
  },
  {
   "cell_type": "code",
   "execution_count": 219,
   "metadata": {},
   "outputs": [],
   "source": [
    "pred_no_nb = np.sum(scores_no_nb[cls]*predictions_no_nb[cls] for cls in scores_no_nb.keys()).astype('int')"
   ]
  },
  {
   "cell_type": "code",
   "execution_count": 220,
   "metadata": {},
   "outputs": [
    {
     "name": "stdout",
     "output_type": "stream",
     "text": [
      "2.241758241758242\n"
     ]
    }
   ],
   "source": [
    "error_no_nb = mae(pred_no_nb, y_test)\n",
    "print(error_no_nb)"
   ]
  },
  {
   "cell_type": "code",
   "execution_count": 221,
   "metadata": {},
   "outputs": [
    {
     "data": {
      "text/plain": [
       "(78, 91)"
      ]
     },
     "execution_count": 221,
     "metadata": {},
     "output_type": "execute_result"
    }
   ],
   "source": [
    "np.sum(pred_no_nb != y_test), len(y_test)"
   ]
  },
  {
   "cell_type": "markdown",
   "metadata": {},
   "source": [
    "Вариант 2. Нужно оценить корреляцию предсказаний простых моделей."
   ]
  },
  {
   "cell_type": "code",
   "execution_count": 222,
   "metadata": {},
   "outputs": [],
   "source": [
    "predictions\n",
    "df_pred = pd.DataFrame(predictions)"
   ]
  },
  {
   "cell_type": "code",
   "execution_count": 223,
   "metadata": {},
   "outputs": [
    {
     "data": {
      "text/plain": [
       "<AxesSubplot:>"
      ]
     },
     "execution_count": 223,
     "metadata": {},
     "output_type": "execute_result"
    },
    {
     "data": {
      "image/png": "[encoded data removed]",
      "text/plain": [
       "<Figure size 720x720 with 2 Axes>"
      ]
     },
     "metadata": {
      "needs_background": "light"
     },
     "output_type": "display_data"
    }
   ],
   "source": [
    "fig, ax = plt.subplots(figsize=(10,10)) \n",
    "sns.heatmap(df_pred.corr(method='spearman'), \n",
    "         vmin=-1, vmax=1,annot=True,cmap=\"YlGn\",ax=ax)"
   ]
  },
  {
   "cell_type": "markdown",
   "metadata": {},
   "source": [
    "## Сделайте итоговое предсказание"
   ]
  },
  {
   "cell_type": "markdown",
   "metadata": {},
   "source": [
    "Решением домашнего задания является данный ноутбук + .csv файл с предсказанием. Пример формата файла, который должен у вас получится приведен в ```data/sample_submission.csv```. Данные для предсказания - ```X_test.csv```.\n",
    "\n",
    "За лучшее предсказание 5 человек получат +10% к домашке.\n",
    "\n",
    "Значения предсказаний должны быть целочисленными. Проверка будет точности решения будет по MSE."
   ]
  },
  {
   "cell_type": "code",
   "execution_count": 224,
   "metadata": {},
   "outputs": [],
   "source": [
    "# Для jupyter notebook\n",
    "\n",
    "submission = pd.read_csv('sample_submission.csv', index_col='id')\n",
    "submission['G3'] = 1 # ваше предсказание\n",
    "submission.to_csv('submission.csv', index=False) "
   ]
  },
  {
   "cell_type": "code",
   "execution_count": 225,
   "metadata": {},
   "outputs": [
    {
     "data": {
      "text/html": [
       "<div>\n",
       "<style scoped>\n",
       "    .dataframe tbody tr th:only-of-type {\n",
       "        vertical-align: middle;\n",
       "    }\n",
       "\n",
       "    .dataframe tbody tr th {\n",
       "        vertical-align: top;\n",
       "    }\n",
       "\n",
       "    .dataframe thead th {\n",
       "        text-align: right;\n",
       "    }\n",
       "</style>\n",
       "<table border=\"1\" class=\"dataframe\">\n",
       "  <thead>\n",
       "    <tr style=\"text-align: right;\">\n",
       "      <th></th>\n",
       "      <th>school</th>\n",
       "      <th>sex</th>\n",
       "      <th>age</th>\n",
       "      <th>address</th>\n",
       "      <th>famsize</th>\n",
       "      <th>Pstatus</th>\n",
       "      <th>Medu</th>\n",
       "      <th>Fedu</th>\n",
       "      <th>Mjob</th>\n",
       "      <th>Fjob</th>\n",
       "      <th>...</th>\n",
       "      <th>higher</th>\n",
       "      <th>internet</th>\n",
       "      <th>romantic</th>\n",
       "      <th>famrel</th>\n",
       "      <th>freetime</th>\n",
       "      <th>goout</th>\n",
       "      <th>Dalc</th>\n",
       "      <th>Walc</th>\n",
       "      <th>health</th>\n",
       "      <th>absences</th>\n",
       "    </tr>\n",
       "  </thead>\n",
       "  <tbody>\n",
       "    <tr>\n",
       "      <th>0</th>\n",
       "      <td>MS</td>\n",
       "      <td>M</td>\n",
       "      <td>18</td>\n",
       "      <td>U</td>\n",
       "      <td>GT3</td>\n",
       "      <td>T</td>\n",
       "      <td>4</td>\n",
       "      <td>4</td>\n",
       "      <td>teacher</td>\n",
       "      <td>teacher</td>\n",
       "      <td>...</td>\n",
       "      <td>yes</td>\n",
       "      <td>yes</td>\n",
       "      <td>no</td>\n",
       "      <td>3</td>\n",
       "      <td>2</td>\n",
       "      <td>4</td>\n",
       "      <td>1</td>\n",
       "      <td>4</td>\n",
       "      <td>2</td>\n",
       "      <td>4</td>\n",
       "    </tr>\n",
       "    <tr>\n",
       "      <th>1</th>\n",
       "      <td>GP</td>\n",
       "      <td>F</td>\n",
       "      <td>16</td>\n",
       "      <td>U</td>\n",
       "      <td>GT3</td>\n",
       "      <td>A</td>\n",
       "      <td>3</td>\n",
       "      <td>1</td>\n",
       "      <td>services</td>\n",
       "      <td>other</td>\n",
       "      <td>...</td>\n",
       "      <td>yes</td>\n",
       "      <td>yes</td>\n",
       "      <td>no</td>\n",
       "      <td>2</td>\n",
       "      <td>3</td>\n",
       "      <td>3</td>\n",
       "      <td>2</td>\n",
       "      <td>2</td>\n",
       "      <td>4</td>\n",
       "      <td>2</td>\n",
       "    </tr>\n",
       "    <tr>\n",
       "      <th>2</th>\n",
       "      <td>MS</td>\n",
       "      <td>F</td>\n",
       "      <td>18</td>\n",
       "      <td>U</td>\n",
       "      <td>GT3</td>\n",
       "      <td>T</td>\n",
       "      <td>4</td>\n",
       "      <td>4</td>\n",
       "      <td>teacher</td>\n",
       "      <td>teacher</td>\n",
       "      <td>...</td>\n",
       "      <td>yes</td>\n",
       "      <td>yes</td>\n",
       "      <td>no</td>\n",
       "      <td>4</td>\n",
       "      <td>3</td>\n",
       "      <td>5</td>\n",
       "      <td>1</td>\n",
       "      <td>2</td>\n",
       "      <td>1</td>\n",
       "      <td>0</td>\n",
       "    </tr>\n",
       "    <tr>\n",
       "      <th>3</th>\n",
       "      <td>MS</td>\n",
       "      <td>M</td>\n",
       "      <td>16</td>\n",
       "      <td>R</td>\n",
       "      <td>LE3</td>\n",
       "      <td>A</td>\n",
       "      <td>4</td>\n",
       "      <td>4</td>\n",
       "      <td>at_home</td>\n",
       "      <td>other</td>\n",
       "      <td>...</td>\n",
       "      <td>yes</td>\n",
       "      <td>no</td>\n",
       "      <td>no</td>\n",
       "      <td>5</td>\n",
       "      <td>3</td>\n",
       "      <td>2</td>\n",
       "      <td>1</td>\n",
       "      <td>3</td>\n",
       "      <td>2</td>\n",
       "      <td>5</td>\n",
       "    </tr>\n",
       "    <tr>\n",
       "      <th>4</th>\n",
       "      <td>GP</td>\n",
       "      <td>F</td>\n",
       "      <td>15</td>\n",
       "      <td>R</td>\n",
       "      <td>GT3</td>\n",
       "      <td>T</td>\n",
       "      <td>1</td>\n",
       "      <td>1</td>\n",
       "      <td>other</td>\n",
       "      <td>other</td>\n",
       "      <td>...</td>\n",
       "      <td>yes</td>\n",
       "      <td>yes</td>\n",
       "      <td>yes</td>\n",
       "      <td>3</td>\n",
       "      <td>3</td>\n",
       "      <td>4</td>\n",
       "      <td>2</td>\n",
       "      <td>4</td>\n",
       "      <td>5</td>\n",
       "      <td>2</td>\n",
       "    </tr>\n",
       "    <tr>\n",
       "      <th>...</th>\n",
       "      <td>...</td>\n",
       "      <td>...</td>\n",
       "      <td>...</td>\n",
       "      <td>...</td>\n",
       "      <td>...</td>\n",
       "      <td>...</td>\n",
       "      <td>...</td>\n",
       "      <td>...</td>\n",
       "      <td>...</td>\n",
       "      <td>...</td>\n",
       "      <td>...</td>\n",
       "      <td>...</td>\n",
       "      <td>...</td>\n",
       "      <td>...</td>\n",
       "      <td>...</td>\n",
       "      <td>...</td>\n",
       "      <td>...</td>\n",
       "      <td>...</td>\n",
       "      <td>...</td>\n",
       "      <td>...</td>\n",
       "      <td>...</td>\n",
       "    </tr>\n",
       "    <tr>\n",
       "      <th>190</th>\n",
       "      <td>GP</td>\n",
       "      <td>F</td>\n",
       "      <td>18</td>\n",
       "      <td>R</td>\n",
       "      <td>GT3</td>\n",
       "      <td>T</td>\n",
       "      <td>2</td>\n",
       "      <td>1</td>\n",
       "      <td>other</td>\n",
       "      <td>other</td>\n",
       "      <td>...</td>\n",
       "      <td>no</td>\n",
       "      <td>yes</td>\n",
       "      <td>yes</td>\n",
       "      <td>4</td>\n",
       "      <td>3</td>\n",
       "      <td>5</td>\n",
       "      <td>1</td>\n",
       "      <td>2</td>\n",
       "      <td>3</td>\n",
       "      <td>12</td>\n",
       "    </tr>\n",
       "    <tr>\n",
       "      <th>191</th>\n",
       "      <td>GP</td>\n",
       "      <td>M</td>\n",
       "      <td>18</td>\n",
       "      <td>U</td>\n",
       "      <td>GT3</td>\n",
       "      <td>T</td>\n",
       "      <td>2</td>\n",
       "      <td>2</td>\n",
       "      <td>other</td>\n",
       "      <td>at_home</td>\n",
       "      <td>...</td>\n",
       "      <td>no</td>\n",
       "      <td>yes</td>\n",
       "      <td>yes</td>\n",
       "      <td>4</td>\n",
       "      <td>4</td>\n",
       "      <td>3</td>\n",
       "      <td>2</td>\n",
       "      <td>2</td>\n",
       "      <td>1</td>\n",
       "      <td>26</td>\n",
       "    </tr>\n",
       "    <tr>\n",
       "      <th>192</th>\n",
       "      <td>GP</td>\n",
       "      <td>F</td>\n",
       "      <td>16</td>\n",
       "      <td>U</td>\n",
       "      <td>GT3</td>\n",
       "      <td>A</td>\n",
       "      <td>2</td>\n",
       "      <td>2</td>\n",
       "      <td>other</td>\n",
       "      <td>other</td>\n",
       "      <td>...</td>\n",
       "      <td>yes</td>\n",
       "      <td>no</td>\n",
       "      <td>no</td>\n",
       "      <td>5</td>\n",
       "      <td>3</td>\n",
       "      <td>4</td>\n",
       "      <td>1</td>\n",
       "      <td>1</td>\n",
       "      <td>5</td>\n",
       "      <td>12</td>\n",
       "    </tr>\n",
       "    <tr>\n",
       "      <th>193</th>\n",
       "      <td>GP</td>\n",
       "      <td>F</td>\n",
       "      <td>17</td>\n",
       "      <td>U</td>\n",
       "      <td>GT3</td>\n",
       "      <td>T</td>\n",
       "      <td>1</td>\n",
       "      <td>1</td>\n",
       "      <td>at_home</td>\n",
       "      <td>other</td>\n",
       "      <td>...</td>\n",
       "      <td>yes</td>\n",
       "      <td>no</td>\n",
       "      <td>yes</td>\n",
       "      <td>4</td>\n",
       "      <td>3</td>\n",
       "      <td>2</td>\n",
       "      <td>1</td>\n",
       "      <td>1</td>\n",
       "      <td>4</td>\n",
       "      <td>10</td>\n",
       "    </tr>\n",
       "    <tr>\n",
       "      <th>194</th>\n",
       "      <td>GP</td>\n",
       "      <td>F</td>\n",
       "      <td>17</td>\n",
       "      <td>U</td>\n",
       "      <td>GT3</td>\n",
       "      <td>T</td>\n",
       "      <td>1</td>\n",
       "      <td>1</td>\n",
       "      <td>at_home</td>\n",
       "      <td>other</td>\n",
       "      <td>...</td>\n",
       "      <td>yes</td>\n",
       "      <td>no</td>\n",
       "      <td>yes</td>\n",
       "      <td>4</td>\n",
       "      <td>3</td>\n",
       "      <td>4</td>\n",
       "      <td>1</td>\n",
       "      <td>1</td>\n",
       "      <td>5</td>\n",
       "      <td>12</td>\n",
       "    </tr>\n",
       "  </tbody>\n",
       "</table>\n",
       "<p>195 rows × 30 columns</p>\n",
       "</div>"
      ],
      "text/plain": [
       "    school sex  age address famsize Pstatus  Medu  Fedu      Mjob     Fjob  \\\n",
       "0       MS   M   18       U     GT3       T     4     4   teacher  teacher   \n",
       "1       GP   F   16       U     GT3       A     3     1  services    other   \n",
       "2       MS   F   18       U     GT3       T     4     4   teacher  teacher   \n",
       "3       MS   M   16       R     LE3       A     4     4   at_home    other   \n",
       "4       GP   F   15       R     GT3       T     1     1     other    other   \n",
       "..     ...  ..  ...     ...     ...     ...   ...   ...       ...      ...   \n",
       "190     GP   F   18       R     GT3       T     2     1     other    other   \n",
       "191     GP   M   18       U     GT3       T     2     2     other  at_home   \n",
       "192     GP   F   16       U     GT3       A     2     2     other    other   \n",
       "193     GP   F   17       U     GT3       T     1     1   at_home    other   \n",
       "194     GP   F   17       U     GT3       T     1     1   at_home    other   \n",
       "\n",
       "     ... higher internet  romantic  famrel  freetime goout Dalc Walc health  \\\n",
       "0    ...    yes      yes        no       3         2     4    1    4      2   \n",
       "1    ...    yes      yes        no       2         3     3    2    2      4   \n",
       "2    ...    yes      yes        no       4         3     5    1    2      1   \n",
       "3    ...    yes       no        no       5         3     2    1    3      2   \n",
       "4    ...    yes      yes       yes       3         3     4    2    4      5   \n",
       "..   ...    ...      ...       ...     ...       ...   ...  ...  ...    ...   \n",
       "190  ...     no      yes       yes       4         3     5    1    2      3   \n",
       "191  ...     no      yes       yes       4         4     3    2    2      1   \n",
       "192  ...    yes       no        no       5         3     4    1    1      5   \n",
       "193  ...    yes       no       yes       4         3     2    1    1      4   \n",
       "194  ...    yes       no       yes       4         3     4    1    1      5   \n",
       "\n",
       "    absences  \n",
       "0          4  \n",
       "1          2  \n",
       "2          0  \n",
       "3          5  \n",
       "4          2  \n",
       "..       ...  \n",
       "190       12  \n",
       "191       26  \n",
       "192       12  \n",
       "193       10  \n",
       "194       12  \n",
       "\n",
       "[195 rows x 30 columns]"
      ]
     },
     "execution_count": 225,
     "metadata": {},
     "output_type": "execute_result"
    }
   ],
   "source": [
    "X_test_final = pd.read_csv('X_test.csv')\n",
    "X_test_final"
   ]
  },
  {
   "cell_type": "code",
   "execution_count": 226,
   "metadata": {},
   "outputs": [],
   "source": [
    "X_test_final = pd.read_csv('X_test.csv')\n",
    "\n",
    "for feat in ['sex', 'address']:\n",
    "    for val in X_test_final[feat].unique():\n",
    "        X_test_final.loc[X_test_final[feat] == val, feat] = (df[X_initial[feat] == val][feat].value_counts().idxmax()).astype('int64')\n",
    "X_test_final['sex'] = X_test_final['sex'].astype('int')\n",
    "X_test_final['address'] = X_test_final['address'].astype('int')"
   ]
  },
  {
   "cell_type": "code",
   "execution_count": 227,
   "metadata": {},
   "outputs": [],
   "source": [
    "svc = svm.SVC(kernel='rbf', C=4)"
   ]
  },
  {
   "cell_type": "code",
   "execution_count": 228,
   "metadata": {},
   "outputs": [],
   "source": [
    "columns = pd.get_dummies(df).columns\n",
    "columns = columns.drop('G3')\n",
    "X_test_final = pd.get_dummies(X_test_final)"
   ]
  },
  {
   "cell_type": "code",
   "execution_count": 229,
   "metadata": {},
   "outputs": [],
   "source": [
    "X_test_final = X_test_final[columns]"
   ]
  },
  {
   "cell_type": "code",
   "execution_count": 230,
   "metadata": {},
   "outputs": [],
   "source": [
    "train_y = df.G3\n",
    "train_x = df.drop('G3', axis = 1)"
   ]
  },
  {
   "cell_type": "code",
   "execution_count": 231,
   "metadata": {},
   "outputs": [
    {
     "data": {
      "text/plain": [
       "SVC(C=4)"
      ]
     },
     "execution_count": 231,
     "metadata": {},
     "output_type": "execute_result"
    }
   ],
   "source": [
    "svc.fit(train_x, train_y)"
   ]
  },
  {
   "cell_type": "code",
   "execution_count": 232,
   "metadata": {},
   "outputs": [
    {
     "data": {
      "text/html": [
       "<div>\n",
       "<style scoped>\n",
       "    .dataframe tbody tr th:only-of-type {\n",
       "        vertical-align: middle;\n",
       "    }\n",
       "\n",
       "    .dataframe tbody tr th {\n",
       "        vertical-align: top;\n",
       "    }\n",
       "\n",
       "    .dataframe thead th {\n",
       "        text-align: right;\n",
       "    }\n",
       "</style>\n",
       "<table border=\"1\" class=\"dataframe\">\n",
       "  <thead>\n",
       "    <tr style=\"text-align: right;\">\n",
       "      <th></th>\n",
       "      <th>G3</th>\n",
       "    </tr>\n",
       "  </thead>\n",
       "  <tbody>\n",
       "    <tr>\n",
       "      <th>0</th>\n",
       "      <td>11</td>\n",
       "    </tr>\n",
       "    <tr>\n",
       "      <th>1</th>\n",
       "      <td>11</td>\n",
       "    </tr>\n",
       "    <tr>\n",
       "      <th>2</th>\n",
       "      <td>13</td>\n",
       "    </tr>\n",
       "    <tr>\n",
       "      <th>3</th>\n",
       "      <td>13</td>\n",
       "    </tr>\n",
       "    <tr>\n",
       "      <th>4</th>\n",
       "      <td>11</td>\n",
       "    </tr>\n",
       "    <tr>\n",
       "      <th>...</th>\n",
       "      <td>...</td>\n",
       "    </tr>\n",
       "    <tr>\n",
       "      <th>190</th>\n",
       "      <td>10</td>\n",
       "    </tr>\n",
       "    <tr>\n",
       "      <th>191</th>\n",
       "      <td>10</td>\n",
       "    </tr>\n",
       "    <tr>\n",
       "      <th>192</th>\n",
       "      <td>11</td>\n",
       "    </tr>\n",
       "    <tr>\n",
       "      <th>193</th>\n",
       "      <td>11</td>\n",
       "    </tr>\n",
       "    <tr>\n",
       "      <th>194</th>\n",
       "      <td>10</td>\n",
       "    </tr>\n",
       "  </tbody>\n",
       "</table>\n",
       "<p>195 rows × 1 columns</p>\n",
       "</div>"
      ],
      "text/plain": [
       "     G3\n",
       "0    11\n",
       "1    11\n",
       "2    13\n",
       "3    13\n",
       "4    11\n",
       "..   ..\n",
       "190  10\n",
       "191  10\n",
       "192  11\n",
       "193  11\n",
       "194  10\n",
       "\n",
       "[195 rows x 1 columns]"
      ]
     },
     "execution_count": 232,
     "metadata": {},
     "output_type": "execute_result"
    }
   ],
   "source": [
    "prediction_result = pd.DataFrame(svc.predict(X_test_final), columns = ['G3'])\n",
    "prediction_result"
   ]
  },
  {
   "cell_type": "code",
   "execution_count": 233,
   "metadata": {},
   "outputs": [],
   "source": [
    "prediction_result.to_csv('prediction_result.csv') "
   ]
  },
  {
   "cell_type": "code",
   "execution_count": 234,
   "metadata": {},
   "outputs": [
    {
     "data": {
      "text/plain": [
       "(195, 43)"
      ]
     },
     "execution_count": 234,
     "metadata": {},
     "output_type": "execute_result"
    }
   ],
   "source": [
    "X_test_final.shape"
   ]
  }
 ],
 "metadata": {
  "_change_revision": 0,
  "_is_fork": false,
  "colab": {
   "provenance": [],
   "toc_visible": true
  },
  "kernelspec": {
   "display_name": "Python 3 (ipykernel)",
   "language": "python",
   "name": "python3"
  },
  "language_info": {
   "codemirror_mode": {
    "name": "ipython",
    "version": 3
   },
   "file_extension": ".py",
   "mimetype": "text/x-python",
   "name": "python",
   "nbconvert_exporter": "python",
   "pygments_lexer": "ipython3",
   "version": "3.8.13"
  }
 },
 "nbformat": 4,
 "nbformat_minor": 1
}
