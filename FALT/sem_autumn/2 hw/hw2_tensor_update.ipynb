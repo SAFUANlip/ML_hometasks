{
 "cells": [
  {
   "cell_type": "markdown",
   "metadata": {
    "id": "Qjl6x6og3uXH"
   },
   "source": [
    "# HW 2 - Разложение матриц градиентным методом"
   ]
  },
  {
   "cell_type": "markdown",
   "metadata": {
    "id": "Sv79QFb_-oNZ"
   },
   "source": [
    "Цель задания: В ходе реализации [разложения Таккера](https://proceedings.neurips.cc/paper/2018/file/45a766fa266ea2ebeb6680fa139d2a3d-Paper.pdf) градиентным методом освоить pyTorch и реализовать подходы оптимизации параметров модели (в отсутствии готовых решений)."
   ]
  },
  {
   "cell_type": "markdown",
   "metadata": {
    "id": "1HUSrylpBwYn"
   },
   "source": [
    "[Более-менее внятное описание алгоритма канонического разложения](https://www.alexejgossmann.com/tensor_decomposition_tucker/)"
   ]
  },
  {
   "cell_type": "code",
   "execution_count": 44,
   "metadata": {
    "colab": {
     "base_uri": "https://localhost:8080/"
    },
    "id": "P1PuoBtG7iw7",
    "outputId": "b48e0653-3168-430e-d445-ce69f593a817"
   },
   "outputs": [
    {
     "data": {
      "text/plain": [
       "<torch._C.Generator at 0x7fa3d223c270>"
      ]
     },
     "execution_count": 44,
     "metadata": {},
     "output_type": "execute_result"
    }
   ],
   "source": [
    "import random\n",
    "import time\n",
    "import torch\n",
    "import pandas as pd\n",
    "import numpy as np\n",
    "import tensorly\n",
    "import statistics\n",
    "\n",
    "\n",
    "import scipy.sparse as sparse\n",
    "from scipy.sparse.linalg import spsolve\n",
    "from sklearn.preprocessing import MinMaxScaler\n",
    "from matplotlib import pyplot as plt\n",
    "from numpy.linalg import svd, matrix_rank, pinv, inv\n",
    "from scipy.linalg import eigh, eig\n",
    "from sklearn.metrics import mean_squared_error\n",
    "from tqdm.notebook import tqdm\n",
    "from torch import nn\n",
    "\n",
    "from tensorly import decomposition\n",
    "from torch.nn.functional import mse_loss\n",
    "from torch.optim import Adam, SGD\n",
    "torch.manual_seed(0)"
   ]
  },
  {
   "cell_type": "markdown",
   "metadata": {
    "id": "6LfhKpuX7htE"
   },
   "source": [
    "## 1 Создайте 3х мерный тензор\n",
    "Размер тензора не меньше 100 по каждой из размерностей.\n",
    "\n",
    "Заполните случайными целыми числами в диапазоне от 0 до 9."
   ]
  },
  {
   "cell_type": "markdown",
   "metadata": {
    "id": "ap1Ozn7P8-Yj"
   },
   "source": [
    "Примечание: разложение будет корректно работать со случайным тензором, только если изначально создавать случайные ядро и матрицы, а потом по ним формировать тензор. Работайте с типом *torch.Tensor.double*."
   ]
  },
  {
   "cell_type": "code",
   "execution_count": 5,
   "metadata": {
    "id": "5SzHzteOROQQ"
   },
   "outputs": [],
   "source": [
    "# Создадим тензор: размер тензора и r задаётся\n",
    "def get_tensor_tenalg(size=(100,200,150), r=10):\n",
    "    # data - тензор с заданной размерностью\n",
    "    # U - список матриц\n",
    "    # G - ядро разложения\n",
    "    U = [np.random.randint(0,10, (i, r)) for i in size]\n",
    "    G = np.random.randint(0,9,(r,r,r))\n",
    "    data = torch.tensor(tensorly.tenalg.multi_mode_dot(G, U)) #multi_mode_dot work with np\n",
    "    return data, U, torch.tensor(G)"
   ]
  },
  {
   "cell_type": "markdown",
   "metadata": {
    "id": "EFuFlp2n78Tz"
   },
   "source": [
    "Сгенерируйте тензор и добавьте к нему случайный шум с размерностью *1e-2*"
   ]
  },
  {
   "cell_type": "code",
   "execution_count": 6,
   "metadata": {
    "colab": {
     "base_uri": "https://localhost:8080/"
    },
    "id": "FnUbbsYSdrsw",
    "outputId": "7b9eb7dc-dad8-4e49-f5ed-9a476f2c5bd0"
   },
   "outputs": [
    {
     "data": {
      "text/plain": [
       "(torch.Size([100, 200, 300]),\n",
       " [(100, 10), (200, 10), (300, 10)],\n",
       " torch.Size([10, 10, 10]))"
      ]
     },
     "execution_count": 6,
     "metadata": {},
     "output_type": "execute_result"
    }
   ],
   "source": [
    "data, U, G = get_tensor_tenalg(size=(100, 200, 300))\n",
    "data.shape, [u.shape for u in U], G.shape"
   ]
  },
  {
   "cell_type": "code",
   "execution_count": 7,
   "metadata": {
    "colab": {
     "base_uri": "https://localhost:8080/"
    },
    "id": "N70Xy_6u9RFa",
    "outputId": "afc593d5-07a9-445b-b35e-b3323669750a"
   },
   "outputs": [
    {
     "data": {
      "text/plain": [
       "tensor(0.0034)"
      ]
     },
     "execution_count": 7,
     "metadata": {},
     "output_type": "execute_result"
    }
   ],
   "source": [
    "noise = torch.rand(data.shape)/10\n",
    "data_noise = data.add(noise)\n",
    "data, data_noise\n",
    "mse_loss(data, data_noise)"
   ]
  },
  {
   "cell_type": "markdown",
   "metadata": {
    "id": "e6r3Bc0gY4a1"
   },
   "source": [
    "### my realisation"
   ]
  },
  {
   "cell_type": "code",
   "execution_count": 8,
   "metadata": {
    "id": "OAyZZwOEY4a2"
   },
   "outputs": [],
   "source": [
    "def unfold(tensor, mode):\n",
    "    return torch.reshape(torch.moveaxis(tensor, mode, 0), (tensor.shape[mode], -1))\n",
    "\n",
    "def fold(tensor, mode, shape):\n",
    "    full_shape = list(shape)\n",
    "    mode_shape = full_shape.pop(mode)\n",
    "    full_shape.insert(0, mode_shape)\n",
    "    return torch.moveaxis(torch.reshape(tensor, full_shape), 0, mode)"
   ]
  },
  {
   "cell_type": "code",
   "execution_count": 9,
   "metadata": {
    "id": "HmkHyC8AY4a2"
   },
   "outputs": [],
   "source": [
    "def my_composition(G_, U):\n",
    "    data = G_.clone()\n",
    "    for i in range(len(U)):\n",
    "        init_shape = list(data.shape)\n",
    "        new_shape = init_shape.copy()\n",
    "        new_shape[i] = U[i].shape[0]\n",
    "        G_i = unfold(data,i)\n",
    "        data = fold((U[i]@G_i), i, new_shape);\n",
    "    return data"
   ]
  },
  {
   "cell_type": "code",
   "execution_count": 10,
   "metadata": {
    "id": "hhtOzKQVY4a2"
   },
   "outputs": [],
   "source": [
    "def get_tensor_my(size=(100,200,150), r=10):\n",
    "    #U = [np.random.randint(0,10, (i, r)).astype(float) for i in size]\n",
    "    #G = np.random.randint(0,9,(r,r,r)).astype(float)\n",
    "    #U_tl = [torch.tensor(u) for u in U ]\n",
    "    #G_tl = torch.tensor(G)\n",
    "    U = [torch.randint(0,10,(s, r)).float() for s in size]\n",
    "    G = torch.randint(0,10,(r, r, r)).float()\n",
    "    data = my_composition(G, U)\n",
    "    return data, U, G"
   ]
  },
  {
   "cell_type": "code",
   "execution_count": 11,
   "metadata": {
    "id": "yrw-CvYfY4a2"
   },
   "outputs": [],
   "source": [
    "data_m, U_m, G_m = get_tensor_my(size=(100, 200, 150),r = 10) #size(depth,rows,columns) "
   ]
  },
  {
   "cell_type": "code",
   "execution_count": 12,
   "metadata": {
    "colab": {
     "base_uri": "https://localhost:8080/"
    },
    "id": "Hi9NlpR5Y4a3",
    "outputId": "27451691-c52d-41ee-93b0-155d1154b303"
   },
   "outputs": [
    {
     "data": {
      "text/plain": [
       "tensor(0.0034)"
      ]
     },
     "execution_count": 12,
     "metadata": {},
     "output_type": "execute_result"
    }
   ],
   "source": [
    "noise_m = torch.rand(data_m.shape)/10\n",
    "data_noise_m = data_m.add(noise_m)\n",
    "data_m, data_noise_m\n",
    "mse_loss(data_m, data_noise_m)"
   ]
  },
  {
   "cell_type": "markdown",
   "metadata": {
    "id": "kp75_Ad29RL5"
   },
   "source": [
    "Вопрос:\n",
    "Почему задание не имеет смысла для полностью случайного тензора и зачем добавлять шум? *не отвечать нельзя*"
   ]
  },
  {
   "cell_type": "markdown",
   "metadata": {
    "id": "5VLMaT5wyE11"
   },
   "source": [
    "Ответ:"
   ]
  },
  {
   "cell_type": "markdown",
   "metadata": {
    "id": "MKqzxtaE-F16"
   },
   "source": [
    "## 3 Сделайте разложение библиотечным методом\n",
    "Пакет можете брать любой"
   ]
  },
  {
   "cell_type": "code",
   "execution_count": 13,
   "metadata": {
    "colab": {
     "base_uri": "https://localhost:8080/"
    },
    "id": "Hlp4Jh3--fKh",
    "outputId": "84faa706-e224-4980-d810-ec0569c8e477"
   },
   "outputs": [
    {
     "data": {
      "text/plain": [
       "((10, 10, 10), (200, 10))"
      ]
     },
     "execution_count": 13,
     "metadata": {},
     "output_type": "execute_result"
    }
   ],
   "source": [
    "G_d, U_d = tensorly.decomposition.tucker(tensorly.tensor(data_noise_m), G_m.shape)\n",
    "G_d.shape, U_d[1].shape"
   ]
  },
  {
   "cell_type": "code",
   "execution_count": 14,
   "metadata": {
    "id": "bEj1WQ5iY4a4"
   },
   "outputs": [],
   "source": [
    "data_d = torch.tensor(tensorly.tenalg.multi_mode_dot(G_d, U_d))"
   ]
  },
  {
   "cell_type": "markdown",
   "metadata": {
    "id": "wMw1x8w8-lsh"
   },
   "source": [
    "Не забудьте померить ошибку разложения по метрике MSE"
   ]
  },
  {
   "cell_type": "code",
   "execution_count": 15,
   "metadata": {
    "colab": {
     "base_uri": "https://localhost:8080/"
    },
    "id": "HWkdb7Ip-mL3",
    "outputId": "f17ad287-846e-4a00-ea85-9c912334fb1c"
   },
   "outputs": [
    {
     "data": {
      "text/plain": [
       "tensor(0.0010, dtype=torch.float64)"
      ]
     },
     "execution_count": 15,
     "metadata": {},
     "output_type": "execute_result"
    }
   ],
   "source": [
    "mse_loss(data_noise_m, data_d)"
   ]
  },
  {
   "cell_type": "markdown",
   "metadata": {},
   "source": [
    "# Better make it on google-collab "
   ]
  },
  {
   "cell_type": "markdown",
   "metadata": {
    "id": "GstBYmiBF7A6"
   },
   "source": [
    "### 4.1 Реализуйте *optimizer*\n",
    "Можно взять из исходников *PyTorch* и отнаследоваться от *torch.optim.optimizer*.\n",
    "Используйте квадратичный *Loss*."
   ]
  },
  {
   "cell_type": "code",
   "execution_count": 91,
   "metadata": {
    "id": "Mxrtt60hF6xb"
   },
   "outputs": [],
   "source": [
    "import math\n",
    "import torch\n",
    "from torch.optim.optimizer import Optimizer\n",
    "from torch.optim.lr_scheduler import CyclicLR\n",
    "\n",
    "class Opt(Optimizer):\n",
    "\n",
    "    def __init__(self, data, G, U, batch_size, lr=4e-4):\n",
    "        self.data = data \n",
    "        self.batch_size = batch_size\n",
    "        params = [G, *U]\n",
    "        defaults = {\"lr\": lr}\n",
    "        super().__init__(params, defaults)\n",
    "        self.grad_max = np.array([])\n",
    "    \n",
    "    def step(self):\n",
    "        grad = None\n",
    "        while grad is None:\n",
    "            maxim = -1\n",
    "            for i in range(len(self.param_groups[0]['params'])):\n",
    "                if self.param_groups[0]['params'][i].grad.data.max() > maxim:\n",
    "                    maxim = self.param_groups[0]['params'][i].grad.data.max()\n",
    "                    tensor = self.param_groups[0]['params'][i]\n",
    "                    grad = tensor.grad\n",
    "                \n",
    "#             l = len(self.param_groups[0]['params'])\n",
    "#             tensor = self.param_groups[0]['params'][np.random.randint(l)]\n",
    "#             grad = tensor.grad\n",
    "            \n",
    "\n",
    "        if not self.state:\n",
    "            self.state[\"step\"] = 1\n",
    "        else:\n",
    "            self.state[\"step\"] += 1\n",
    "            \n",
    "        #if self.state[\"step\"] % 100 == 0:\n",
    "        #    self.param_groups[0]['lr'] /= 2\n",
    "            \n",
    "        if self.state[\"step\"] % 1000 == 0:\n",
    "            self.param_groups[0]['lr'] /= 10 \n",
    "        #print(grad.data.max())  \n",
    "        self.grad_max = np.append(self.grad_max, grad.data.max())\n",
    "        elems = random.sample(range(1, tensor.numel()), self.batch_size)\n",
    "\n",
    "        mask_flat = torch.zeros(tensor.numel())\n",
    "        mask_flat[elems] = 1\n",
    "        mask = mask_flat.reshape(tensor.shape)\n",
    "        \n",
    "        tensor.data.add_(grad * mask, alpha=-self.param_groups[0]['lr'])"
   ]
  },
  {
   "cell_type": "markdown",
   "metadata": {
    "id": "8GSolH5dEJba"
   },
   "source": [
    "### 4.2 Реализуйте цикл оптимизации параметров"
   ]
  },
  {
   "cell_type": "markdown",
   "metadata": {
    "id": "P6UWpuERFTn8"
   },
   "source": [
    "Стоит параметры оптимизировать сразу на GPU"
   ]
  },
  {
   "cell_type": "code",
   "execution_count": 95,
   "metadata": {
    "id": "CgPaeQ7XEJnD"
   },
   "outputs": [],
   "source": [
    "def optimization(G, U, data, opt, it, err, loss_history):\n",
    "    optim_f = opt\n",
    "    #optim_f = torch.optim.lr_scheduler.CyclicLR(optim_f, base_lr=10**-10, max_lr=10**-7,cycle_momentum=False)\n",
    "    flag = True\n",
    "    start_time = time.time()\n",
    "    for i in range(it):\n",
    "        \n",
    "        optim_f.zero_grad()\n",
    "        loss = mse_loss(my_composition(G,U), data)\n",
    "        loss.backward()\n",
    "        torch.nn.utils.clip_grad_norm_(opt.param_groups[0]['params'], 10**10) #10**20\n",
    "        optim_f.step()\n",
    "        #print(loss.data)\n",
    "        if i%400 == 0:\n",
    "            print(f'itr {i} mse is {loss.data} time of work: {time.time()-start_time} optimizer: {type(optim_f)}')\n",
    "            #print(f'itr {i} mse is {loss.data}')\n",
    "        if loss.data < err:\n",
    "            print(time.time()-start_time)\n",
    "            break \n",
    "\n",
    "        if i > 1000 and (flag and 0.9*statistics.mean(loss_history[i-400:i]) - int(loss.data) < 0):\n",
    "            flag = False\n",
    "            optim_f = Adam([G, *U])\n",
    "            #optim_f = torch.optim.lr_scheduler.CyclicLR(optim_f, base_lr=10**-10, max_lr=10**-7, cycle_momentum=False)\n",
    "            print('change optim', type(optim_f))\n",
    "#         if i == 4000:\n",
    "#             optim_f = SGD([G_opt, *U_opt], lr=10**-8)\n",
    "#             print('change optim')\n",
    "        loss_history.append(int(loss.data))\n",
    "    return "
   ]
  },
  {
   "cell_type": "markdown",
   "metadata": {
    "id": "9CbevSgKY4a6"
   },
   "source": [
    "- Определить max learning rate при котром начинается обучение \n",
    "- Реализовать learnin\n",
    "- визуализировать градиенты .grad.data.max\n",
    "- добавить клиппинг"
   ]
  },
  {
   "cell_type": "markdown",
   "metadata": {
    "id": "Za8JKgR-Falk"
   },
   "source": [
    "## 5 Приведите сравнение скорости работы и ошибки восстановления методом из пакета и реализованного градиентного\n",
    "Сравнение может считаться ± объективным с размером выборки от 10."
   ]
  },
  {
   "cell_type": "code",
   "execution_count": 96,
   "metadata": {
    "id": "mOGKW9RHFa5D"
   },
   "outputs": [],
   "source": [
    "size = (100,200,150)\n",
    "r = 10\n",
    "itr = 70000\n",
    "lr = 10**-7\n",
    "eps = 0.004\n",
    "batch_size = 700\n",
    "\n",
    "data, U, G = get_tensor_my(size, r)\n",
    "noise = torch.rand(data.shape) / 10\n",
    "data = noise.add(data)\n",
    "\n",
    "G_opt = torch.randint(0, 10, (r, r, r)).float().requires_grad_()\n",
    "U_opt = [torch.randint(0, 10, (s, r)).float().requires_grad_() for s in size]\n",
    "\n",
    "loss_history = []\n",
    "my_optimizer = Opt(data, G_opt, U_opt, batch_size, lr)\n",
    "#my_optimizer = Adam([G_opt, *U_opt])\n",
    "#my_optimizer = SGD([G_opt, *U_opt], lr=10**-8)"
   ]
  },
  {
   "cell_type": "code",
   "execution_count": null,
   "metadata": {
    "colab": {
     "base_uri": "https://localhost:8080/"
    },
    "id": "jxFzugkTmUcF",
    "outputId": "a376dfc2-b728-42e7-ad6b-0c0e5c49c6ea"
   },
   "outputs": [
    {
     "name": "stdout",
     "output_type": "stream",
     "text": [
      "itr 0 mse is 42729549824.0 time of work: 0.04938387870788574 optimizer: <class '__main__.Opt'>\n",
      "itr 400 mse is 42476216.0 time of work: 16.665729522705078 optimizer: <class '__main__.Opt'>\n"
     ]
    }
   ],
   "source": [
    "start_time = time.time()\n",
    "\n",
    "optimization(G_opt, U_opt, data, my_optimizer, itr, eps, loss_history)\n",
    "\n",
    "whole_time = time.time()-start_time  #total 40 minuts"
   ]
  },
  {
   "cell_type": "code",
   "execution_count": 90,
   "metadata": {
    "colab": {
     "base_uri": "https://localhost:8080/",
     "height": 282
    },
    "id": "3axvr7-_Y4a6",
    "outputId": "a1a72276-4940-4a3d-bbc2-e5d1a0b04d50"
   },
   "outputs": [
    {
     "data": {
      "text/plain": [
       "<matplotlib.collections.PathCollection at 0x7fa3b9efc350>"
      ]
     },
     "execution_count": 90,
     "metadata": {},
     "output_type": "execute_result"
    },
    {
     "data": {
      "image/png": "[encoded data removed]",
      "text/plain": [
       "<Figure size 432x288 with 1 Axes>"
      ]
     },
     "metadata": {
      "needs_background": "light"
     },
     "output_type": "display_data"
    }
   ],
   "source": [
    "len(my_optimizer.grad_max)\n",
    "plt.scatter(np.arange(0,len(my_optimizer.grad_max[800:])), my_optimizer.grad_max[800:])"
   ]
  },
  {
   "cell_type": "code",
   "execution_count": 58,
   "metadata": {
    "colab": {
     "base_uri": "https://localhost:8080/"
    },
    "id": "Ip0OStC-Y4a7",
    "outputId": "3edfe87f-c460-4b74-e3a0-7c2d068ff8f5"
   },
   "outputs": [
    {
     "data": {
      "text/plain": [
       "70000"
      ]
     },
     "execution_count": 58,
     "metadata": {},
     "output_type": "execute_result"
    }
   ],
   "source": [
    "len(loss_history)"
   ]
  },
  {
   "cell_type": "code",
   "execution_count": 76,
   "metadata": {
    "id": "bjHcQij3hXVv"
   },
   "outputs": [],
   "source": [
    "loss_np = np.array(loss_history)"
   ]
  },
  {
   "cell_type": "code",
   "execution_count": 82,
   "metadata": {
    "colab": {
     "base_uri": "https://localhost:8080/",
     "height": 374
    },
    "id": "A0488_SuY4a7",
    "outputId": "1c7aaca4-1568-4b03-b705-3f9ad8df3254"
   },
   "outputs": [
    {
     "data": {
      "image/png": "[encoded data removed]",
      "text/plain": [
       "<Figure size 720x432 with 1 Axes>"
      ]
     },
     "metadata": {
      "needs_background": "light"
     },
     "output_type": "display_data"
    }
   ],
   "source": [
    "fig = plt.figure(figsize=(10, 6))\n",
    "ax = fig.add_subplot(111)\n",
    "ax.scatter(np.arange(0, len(loss_np[loss_np < 1000])), loss_np[loss_np < 1000])\n",
    "plt.show()"
   ]
  },
  {
   "cell_type": "code",
   "execution_count": 83,
   "metadata": {
    "colab": {
     "base_uri": "https://localhost:8080/",
     "height": 432
    },
    "id": "aeHRPjObhpAy",
    "outputId": "6e7e99c2-421c-42ba-c94b-e10e7a7ef741"
   },
   "outputs": [
    {
     "ename": "TypeError",
     "evalue": "ignored",
     "output_type": "error",
     "traceback": [
      "\u001b[0;31m---------------------------------------------------------------------------\u001b[0m",
      "\u001b[0;31mTypeError\u001b[0m                                 Traceback (most recent call last)",
      "\u001b[0;32m<ipython-input-83-90f4c3fdc849>\u001b[0m in \u001b[0;36m<module>\u001b[0;34m\u001b[0m\n\u001b[1;32m      1\u001b[0m \u001b[0mstart_time\u001b[0m \u001b[0;34m=\u001b[0m \u001b[0mtime\u001b[0m\u001b[0;34m.\u001b[0m\u001b[0mtime\u001b[0m\u001b[0;34m(\u001b[0m\u001b[0;34m)\u001b[0m\u001b[0;34m\u001b[0m\u001b[0;34m\u001b[0m\u001b[0m\n\u001b[0;32m----> 2\u001b[0;31m \u001b[0mdata_d\u001b[0m \u001b[0;34m=\u001b[0m \u001b[0mtorch\u001b[0m\u001b[0;34m.\u001b[0m\u001b[0mtensor\u001b[0m\u001b[0;34m(\u001b[0m\u001b[0mtensorly\u001b[0m\u001b[0;34m.\u001b[0m\u001b[0mtenalg\u001b[0m\u001b[0;34m.\u001b[0m\u001b[0mmulti_mode_dot\u001b[0m\u001b[0;34m(\u001b[0m\u001b[0mG_opt\u001b[0m\u001b[0;34m,\u001b[0m \u001b[0mU_opt\u001b[0m\u001b[0;34m)\u001b[0m\u001b[0;34m)\u001b[0m\u001b[0;34m\u001b[0m\u001b[0;34m\u001b[0m\u001b[0m\n\u001b[0m\u001b[1;32m      3\u001b[0m \u001b[0;34m\u001b[0m\u001b[0m\n\u001b[1;32m      4\u001b[0m \u001b[0mwhole_time\u001b[0m \u001b[0;34m=\u001b[0m \u001b[0mtime\u001b[0m\u001b[0;34m.\u001b[0m\u001b[0mtime\u001b[0m\u001b[0;34m(\u001b[0m\u001b[0;34m)\u001b[0m\u001b[0;34m-\u001b[0m\u001b[0mstart_time\u001b[0m\u001b[0;34m\u001b[0m\u001b[0;34m\u001b[0m\u001b[0m\n",
      "\u001b[0;32m/usr/local/lib/python3.7/dist-packages/tensorly/backend/__init__.py\u001b[0m in \u001b[0;36mwrapped_backend_method\u001b[0;34m(*args, **kwargs)\u001b[0m\n\u001b[1;32m     93\u001b[0m \u001b[0;34m\u001b[0m\u001b[0m\n\u001b[1;32m     94\u001b[0m         \u001b[0;32mdef\u001b[0m \u001b[0mwrapped_backend_method\u001b[0m\u001b[0;34m(\u001b[0m\u001b[0;34m*\u001b[0m\u001b[0margs\u001b[0m\u001b[0;34m,\u001b[0m \u001b[0;34m**\u001b[0m\u001b[0mkwargs\u001b[0m\u001b[0;34m)\u001b[0m\u001b[0;34m:\u001b[0m\u001b[0;34m\u001b[0m\u001b[0;34m\u001b[0m\u001b[0m\n\u001b[0;32m---> 95\u001b[0;31m             \u001b[0;32mreturn\u001b[0m \u001b[0mgetattr\u001b[0m\u001b[0;34m(\u001b[0m\u001b[0mcls\u001b[0m\u001b[0;34m.\u001b[0m\u001b[0m_THREAD_LOCAL_DATA\u001b[0m\u001b[0;34m.\u001b[0m\u001b[0m__dict__\u001b[0m\u001b[0;34m.\u001b[0m\u001b[0mget\u001b[0m\u001b[0;34m(\u001b[0m\u001b[0;34m'backend'\u001b[0m\u001b[0;34m,\u001b[0m \u001b[0mcls\u001b[0m\u001b[0;34m.\u001b[0m\u001b[0m_backend\u001b[0m\u001b[0;34m)\u001b[0m\u001b[0;34m,\u001b[0m \u001b[0mname\u001b[0m\u001b[0;34m)\u001b[0m\u001b[0;34m(\u001b[0m\u001b[0;34m*\u001b[0m\u001b[0margs\u001b[0m\u001b[0;34m,\u001b[0m \u001b[0;34m**\u001b[0m\u001b[0mkwargs\u001b[0m\u001b[0;34m)\u001b[0m\u001b[0;34m\u001b[0m\u001b[0;34m\u001b[0m\u001b[0m\n\u001b[0m\u001b[1;32m     96\u001b[0m \u001b[0;34m\u001b[0m\u001b[0m\n\u001b[1;32m     97\u001b[0m         \u001b[0;31m# We don't use `functools.wraps` here because some of the dispatched\u001b[0m\u001b[0;34m\u001b[0m\u001b[0;34m\u001b[0m\u001b[0;34m\u001b[0m\u001b[0m\n",
      "\u001b[0;32m/usr/local/lib/python3.7/dist-packages/tensorly/tenalg/core_tenalg/n_mode_product.py\u001b[0m in \u001b[0;36mmulti_mode_dot\u001b[0;34m(tensor, matrix_or_vec_list, modes, skip, transpose)\u001b[0m\n\u001b[1;32m    127\u001b[0m             \u001b[0mres\u001b[0m \u001b[0;34m=\u001b[0m \u001b[0mmode_dot\u001b[0m\u001b[0;34m(\u001b[0m\u001b[0mres\u001b[0m\u001b[0;34m,\u001b[0m \u001b[0mT\u001b[0m\u001b[0;34m.\u001b[0m\u001b[0mconj\u001b[0m\u001b[0;34m(\u001b[0m\u001b[0mT\u001b[0m\u001b[0;34m.\u001b[0m\u001b[0mtranspose\u001b[0m\u001b[0;34m(\u001b[0m\u001b[0mmatrix_or_vec\u001b[0m\u001b[0;34m)\u001b[0m\u001b[0;34m)\u001b[0m\u001b[0;34m,\u001b[0m \u001b[0mmode\u001b[0m \u001b[0;34m-\u001b[0m \u001b[0mdecrement\u001b[0m\u001b[0;34m)\u001b[0m\u001b[0;34m\u001b[0m\u001b[0;34m\u001b[0m\u001b[0m\n\u001b[1;32m    128\u001b[0m         \u001b[0;32melse\u001b[0m\u001b[0;34m:\u001b[0m\u001b[0;34m\u001b[0m\u001b[0;34m\u001b[0m\u001b[0m\n\u001b[0;32m--> 129\u001b[0;31m             \u001b[0mres\u001b[0m \u001b[0;34m=\u001b[0m \u001b[0mmode_dot\u001b[0m\u001b[0;34m(\u001b[0m\u001b[0mres\u001b[0m\u001b[0;34m,\u001b[0m \u001b[0mmatrix_or_vec\u001b[0m\u001b[0;34m,\u001b[0m \u001b[0mmode\u001b[0m \u001b[0;34m-\u001b[0m \u001b[0mdecrement\u001b[0m\u001b[0;34m)\u001b[0m\u001b[0;34m\u001b[0m\u001b[0;34m\u001b[0m\u001b[0m\n\u001b[0m\u001b[1;32m    130\u001b[0m \u001b[0;34m\u001b[0m\u001b[0m\n\u001b[1;32m    131\u001b[0m         \u001b[0;32mif\u001b[0m \u001b[0mT\u001b[0m\u001b[0;34m.\u001b[0m\u001b[0mndim\u001b[0m\u001b[0;34m(\u001b[0m\u001b[0mmatrix_or_vec\u001b[0m\u001b[0;34m)\u001b[0m \u001b[0;34m==\u001b[0m \u001b[0;36m1\u001b[0m\u001b[0;34m:\u001b[0m\u001b[0;34m\u001b[0m\u001b[0;34m\u001b[0m\u001b[0m\n",
      "\u001b[0;32m/usr/local/lib/python3.7/dist-packages/tensorly/tenalg/core_tenalg/n_mode_product.py\u001b[0m in \u001b[0;36mmode_dot\u001b[0;34m(tensor, matrix_or_vector, mode, transpose)\u001b[0m\n\u001b[1;32m     68\u001b[0m                              'Provided array of dimension {} not in [1, 2].'.format(T.ndim(matrix_or_vector)))\n\u001b[1;32m     69\u001b[0m \u001b[0;34m\u001b[0m\u001b[0m\n\u001b[0;32m---> 70\u001b[0;31m         \u001b[0mres\u001b[0m \u001b[0;34m=\u001b[0m \u001b[0mT\u001b[0m\u001b[0;34m.\u001b[0m\u001b[0mdot\u001b[0m\u001b[0;34m(\u001b[0m\u001b[0mmatrix_or_vector\u001b[0m\u001b[0;34m,\u001b[0m \u001b[0munfold\u001b[0m\u001b[0;34m(\u001b[0m\u001b[0mtensor\u001b[0m\u001b[0;34m,\u001b[0m \u001b[0mmode\u001b[0m\u001b[0;34m)\u001b[0m\u001b[0;34m)\u001b[0m\u001b[0;34m\u001b[0m\u001b[0;34m\u001b[0m\u001b[0m\n\u001b[0m\u001b[1;32m     71\u001b[0m \u001b[0;34m\u001b[0m\u001b[0m\n\u001b[1;32m     72\u001b[0m         \u001b[0;32mif\u001b[0m \u001b[0mvec\u001b[0m\u001b[0;34m:\u001b[0m \u001b[0;31m# We contracted with a vector, leading to a vector\u001b[0m\u001b[0;34m\u001b[0m\u001b[0;34m\u001b[0m\u001b[0m\n",
      "\u001b[0;32m/usr/local/lib/python3.7/dist-packages/tensorly/base.py\u001b[0m in \u001b[0;36munfold\u001b[0;34m(tensor, mode)\u001b[0m\n\u001b[1;32m     49\u001b[0m         \u001b[0munfolded_tensor\u001b[0m \u001b[0mof\u001b[0m \u001b[0mshape\u001b[0m\u001b[0;31m \u001b[0m\u001b[0;31m`\u001b[0m\u001b[0;31m`\u001b[0m\u001b[0;34m(\u001b[0m\u001b[0mtensor\u001b[0m\u001b[0;34m.\u001b[0m\u001b[0mshape\u001b[0m\u001b[0;34m[\u001b[0m\u001b[0mmode\u001b[0m\u001b[0;34m]\u001b[0m\u001b[0;34m,\u001b[0m \u001b[0;34m-\u001b[0m\u001b[0;36m1\u001b[0m\u001b[0;34m)\u001b[0m\u001b[0;31m`\u001b[0m\u001b[0;31m`\u001b[0m\u001b[0;34m\u001b[0m\u001b[0;34m\u001b[0m\u001b[0m\n\u001b[1;32m     50\u001b[0m     \"\"\"\n\u001b[0;32m---> 51\u001b[0;31m     \u001b[0;32mreturn\u001b[0m \u001b[0mT\u001b[0m\u001b[0;34m.\u001b[0m\u001b[0mreshape\u001b[0m\u001b[0;34m(\u001b[0m\u001b[0mT\u001b[0m\u001b[0;34m.\u001b[0m\u001b[0mmoveaxis\u001b[0m\u001b[0;34m(\u001b[0m\u001b[0mtensor\u001b[0m\u001b[0;34m,\u001b[0m \u001b[0mmode\u001b[0m\u001b[0;34m,\u001b[0m \u001b[0;36m0\u001b[0m\u001b[0;34m)\u001b[0m\u001b[0;34m,\u001b[0m \u001b[0;34m(\u001b[0m\u001b[0mtensor\u001b[0m\u001b[0;34m.\u001b[0m\u001b[0mshape\u001b[0m\u001b[0;34m[\u001b[0m\u001b[0mmode\u001b[0m\u001b[0;34m]\u001b[0m\u001b[0;34m,\u001b[0m \u001b[0;34m-\u001b[0m\u001b[0;36m1\u001b[0m\u001b[0;34m)\u001b[0m\u001b[0;34m)\u001b[0m\u001b[0;34m\u001b[0m\u001b[0;34m\u001b[0m\u001b[0m\n\u001b[0m\u001b[1;32m     52\u001b[0m \u001b[0;34m\u001b[0m\u001b[0m\n\u001b[1;32m     53\u001b[0m \u001b[0;34m\u001b[0m\u001b[0m\n",
      "\u001b[0;32m/usr/local/lib/python3.7/dist-packages/tensorly/backend/__init__.py\u001b[0m in \u001b[0;36mwrapped_backend_method\u001b[0;34m(*args, **kwargs)\u001b[0m\n\u001b[1;32m     93\u001b[0m \u001b[0;34m\u001b[0m\u001b[0m\n\u001b[1;32m     94\u001b[0m         \u001b[0;32mdef\u001b[0m \u001b[0mwrapped_backend_method\u001b[0m\u001b[0;34m(\u001b[0m\u001b[0;34m*\u001b[0m\u001b[0margs\u001b[0m\u001b[0;34m,\u001b[0m \u001b[0;34m**\u001b[0m\u001b[0mkwargs\u001b[0m\u001b[0;34m)\u001b[0m\u001b[0;34m:\u001b[0m\u001b[0;34m\u001b[0m\u001b[0;34m\u001b[0m\u001b[0m\n\u001b[0;32m---> 95\u001b[0;31m             \u001b[0;32mreturn\u001b[0m \u001b[0mgetattr\u001b[0m\u001b[0;34m(\u001b[0m\u001b[0mcls\u001b[0m\u001b[0;34m.\u001b[0m\u001b[0m_THREAD_LOCAL_DATA\u001b[0m\u001b[0;34m.\u001b[0m\u001b[0m__dict__\u001b[0m\u001b[0;34m.\u001b[0m\u001b[0mget\u001b[0m\u001b[0;34m(\u001b[0m\u001b[0;34m'backend'\u001b[0m\u001b[0;34m,\u001b[0m \u001b[0mcls\u001b[0m\u001b[0;34m.\u001b[0m\u001b[0m_backend\u001b[0m\u001b[0;34m)\u001b[0m\u001b[0;34m,\u001b[0m \u001b[0mname\u001b[0m\u001b[0;34m)\u001b[0m\u001b[0;34m(\u001b[0m\u001b[0;34m*\u001b[0m\u001b[0margs\u001b[0m\u001b[0;34m,\u001b[0m \u001b[0;34m**\u001b[0m\u001b[0mkwargs\u001b[0m\u001b[0;34m)\u001b[0m\u001b[0;34m\u001b[0m\u001b[0;34m\u001b[0m\u001b[0m\n\u001b[0m\u001b[1;32m     96\u001b[0m \u001b[0;34m\u001b[0m\u001b[0m\n\u001b[1;32m     97\u001b[0m         \u001b[0;31m# We don't use `functools.wraps` here because some of the dispatched\u001b[0m\u001b[0;34m\u001b[0m\u001b[0;34m\u001b[0m\u001b[0;34m\u001b[0m\u001b[0m\n",
      "\u001b[0;32m<__array_function__ internals>\u001b[0m in \u001b[0;36mmoveaxis\u001b[0;34m(*args, **kwargs)\u001b[0m\n",
      "\u001b[0;32m/usr/local/lib/python3.7/dist-packages/numpy/core/numeric.py\u001b[0m in \u001b[0;36mmoveaxis\u001b[0;34m(a, source, destination)\u001b[0m\n\u001b[1;32m   1463\u001b[0m         \u001b[0morder\u001b[0m\u001b[0;34m.\u001b[0m\u001b[0minsert\u001b[0m\u001b[0;34m(\u001b[0m\u001b[0mdest\u001b[0m\u001b[0;34m,\u001b[0m \u001b[0msrc\u001b[0m\u001b[0;34m)\u001b[0m\u001b[0;34m\u001b[0m\u001b[0;34m\u001b[0m\u001b[0m\n\u001b[1;32m   1464\u001b[0m \u001b[0;34m\u001b[0m\u001b[0m\n\u001b[0;32m-> 1465\u001b[0;31m     \u001b[0mresult\u001b[0m \u001b[0;34m=\u001b[0m \u001b[0mtranspose\u001b[0m\u001b[0;34m(\u001b[0m\u001b[0morder\u001b[0m\u001b[0;34m)\u001b[0m\u001b[0;34m\u001b[0m\u001b[0;34m\u001b[0m\u001b[0m\n\u001b[0m\u001b[1;32m   1466\u001b[0m     \u001b[0;32mreturn\u001b[0m \u001b[0mresult\u001b[0m\u001b[0;34m\u001b[0m\u001b[0;34m\u001b[0m\u001b[0m\n\u001b[1;32m   1467\u001b[0m \u001b[0;34m\u001b[0m\u001b[0m\n",
      "\u001b[0;31mTypeError\u001b[0m: transpose() received an invalid combination of arguments - got (list), but expected one of:\n * (int dim0, int dim1)\n * (name dim0, name dim1)\n"
     ]
    }
   ],
   "source": [
    "start_time = time.time()\n",
    "#data_d = torch.tensor(tensorly.tenalg.multi_mode_dot(G_opt, U_opt))\n",
    "\n",
    "whole_time = time.time()-start_time"
   ]
  },
  {
   "cell_type": "code",
   "execution_count": 107,
   "metadata": {
    "colab": {
     "base_uri": "https://localhost:8080/",
     "height": 276
    },
    "id": "fDq1J78rqb9k",
    "outputId": "a704610c-9903-4ae3-becb-75a0a1b607d4"
   },
   "outputs": [
    {
     "data": {
      "image/png": "[encoded data removed]",
      "text/plain": [
       "<Figure size 432x288 with 1 Axes>"
      ]
     },
     "metadata": {
      "needs_background": "light"
     },
     "output_type": "display_data"
    }
   ],
   "source": [
    "# #importing libraries\n",
    "# import matplotlib.pyplot as plt\n",
    "# from matplotlib.animation import FuncAnimation\n",
    "# %matplotlib inline\n",
    "# x = np.arange(0,len(loss_history))\n",
    "# y = loss_history \n",
    "\n",
    "# plt.ion()\n",
    "\n",
    "# fig, ax = plt.subplots()\n",
    "# line, = ax.plot(x, y)\n",
    "\n",
    "\n",
    "# for i in range(0, len(loss_history)):\n",
    "#   line.set_ydata(y)\n",
    "#   plt.draw()\n",
    "#   #plt.show()\n",
    "#   plt.gcf().canvas.flush_events()\n",
    "  \n",
    "#   time.sleep(0.02)\n",
    "\n",
    "\n",
    "\n",
    "# plt.ioff()\n",
    "# plt.show()"
   ]
  },
  {
   "cell_type": "code",
   "execution_count": 114,
   "metadata": {
    "id": "4Ks0hisg0QH5"
   },
   "outputs": [],
   "source": [
    "#loss_history "
   ]
  },
  {
   "cell_type": "code",
   "execution_count": null,
   "metadata": {
    "id": "dKXY68dCY4a7"
   },
   "outputs": [],
   "source": [
    "#from tensorly import fold, unfold\n",
    "# def mode_dot(tensor, matrix, mode):\n",
    "#     new_shape = list(tensor.shape) \n",
    "#     new_shape[mode] = matrix.shape[0]\n",
    "#     #print(unfold(tensor, mode), 'unfold')\n",
    "#     res = torch.tensordot(matrix, unfold(tensor, mode))\n",
    "#     return fold(res, mode, new_shape)\n",
    "\n",
    "# def multi_mode_dot(tensor, matrix):\n",
    "#     modes = range(len(matrix))\n",
    "#     res = tensor\n",
    "#     for (mode, matrix) in enumerate(matrix):\n",
    "#         res = mode_dot(res, matrix, mode)\n",
    "#         #print(res,'fold')\n",
    "#     return torch.tensor(res)"
   ]
  },
  {
   "cell_type": "code",
   "execution_count": null,
   "metadata": {
    "id": "HQZYpr0OY4a8"
   },
   "outputs": [],
   "source": [
    "# def get_tensor_my_GU(G, U):\n",
    "#     #prediction = policy_model(torch.from_numpy(G))\n",
    "#     #motor_controls = prediction.clone().detach().numpy()\n",
    "    \n",
    "#     U_np = [u.clone().detach().numpy() for u in U]\n",
    "#     data = torch.tensor(multi_mode_dot(G.clone().detach().numpy(), U_np))\n",
    "#     return data"
   ]
  },
  {
   "cell_type": "code",
   "execution_count": null,
   "metadata": {
    "id": "Vx5iUO5YY4a8"
   },
   "outputs": [],
   "source": []
  }
 ],
 "metadata": {
  "colab": {
   "collapsed_sections": [],
   "provenance": [],
   "toc_visible": true
  },
  "kernelspec": {
   "display_name": "Python 3 (ipykernel)",
   "language": "python",
   "name": "python3"
  },
  "language_info": {
   "codemirror_mode": {
    "name": "ipython",
    "version": 3
   },
   "file_extension": ".py",
   "mimetype": "text/x-python",
   "name": "python",
   "nbconvert_exporter": "python",
   "pygments_lexer": "ipython3",
   "version": "3.8.3"
  }
 },
 "nbformat": 4,
 "nbformat_minor": 1
}
