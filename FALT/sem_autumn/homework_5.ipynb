{
 "cells": [
  {
   "cell_type": "markdown",
   "id": "d57f64ef-ec87-48fa-a375-3bcb54efe6c1",
   "metadata": {},
   "source": [
    "# Домашнее задание № 5 \n",
    "\n",
    "В данном задании требуется реализовать некоторые из метрик, рассмотренные на лекции.\n",
    "\n",
    "Все функции, кроме ```compute_gain```, в качестве первых двух аргументов принимают на вход тензоры ```ys_true``` и ```ys_pred```. Это вещественные тензоры ```pytorch``` размерности ```n```, задающие целевые отметки релевантности и предсказанные значения соответственно. \n",
    "\n",
    "Для генерации примеров входных данных можете использовать ```torch.rand(n)```, если не указана специфика исходных тензоров. \n",
    "\n",
    "Считается, что ```ys_pred``` содержит уникальные значения без повторений."
   ]
  },
  {
   "cell_type": "code",
   "execution_count": 1,
   "id": "0c5c4dd4-0800-4300-ab75-3805849aa2bf",
   "metadata": {},
   "outputs": [
    {
     "name": "stderr",
     "output_type": "stream",
     "text": [
      "D:\\AnacondaGO\\lib\\site-packages\\tqdm\\auto.py:22: TqdmWarning: IProgress not found. Please update jupyter and ipywidgets. See https://ipywidgets.readthedocs.io/en/stable/user_install.html\n",
      "  from .autonotebook import tqdm as notebook_tqdm\n"
     ]
    }
   ],
   "source": [
    "import math\n",
    "from math import log2\n",
    "import numpy as np\n",
    "\n",
    "import torch\n",
    "from torch import Tensor, sort"
   ]
  },
  {
   "cell_type": "markdown",
   "id": "f7371058",
   "metadata": {},
   "source": [
    "### I didn't really understand what these metrics mean\n",
    "https://habr.com/ru/company/econtenta/blog/303458/ - main resource "
   ]
  },
  {
   "cell_type": "markdown",
   "id": "ea213a4c-1267-4eca-8b05-85dd70b3252a",
   "metadata": {},
   "source": [
    "## Swapped Pairs\n",
    "\n",
    "```num_swapped_pairs``` — функция для расчёта количества неправильно упорядоченных пар (корректное упорядочивание — от наибольшего значения в ```ys_true``` к наименьшему) или переставленных пар."
   ]
  },
  {
   "cell_type": "code",
   "execution_count": 2,
   "id": "49a46327-438f-401a-8f0e-685ef1546b3f",
   "metadata": {},
   "outputs": [],
   "source": [
    "def num_swapped_pairs(ys_true: Tensor, ys_pred: Tensor) -> int:\n",
    "    mask = torch.argsort(ys_pred, descending = True)\n",
    "    ys_true_right = ys_true[mask]\n",
    "    count = 0\n",
    "    for i in range(len(ys_true_right)):\n",
    "        count +=sum(ys_true_right[i+1:] > ys_true_right[i])\n",
    "    return count.item()"
   ]
  },
  {
   "cell_type": "code",
   "execution_count": 3,
   "id": "46c44324-779e-4169-855b-c9837d795bc3",
   "metadata": {},
   "outputs": [
    {
     "name": "stdout",
     "output_type": "stream",
     "text": [
      "7\n"
     ]
    }
   ],
   "source": [
    "# не изменять\n",
    "ys_true = torch.tensor([2, 1, 0, 1, 2])\n",
    "ys_pred = torch.tensor([0.1, 0.3, 0.2, 0.13, 0.12])\n",
    "\n",
    "res = num_swapped_pairs(ys_true, ys_pred)\n",
    "print(res)  # 7"
   ]
  },
  {
   "cell_type": "markdown",
   "id": "18301841-0e23-4c44-9707-5b219301fc07",
   "metadata": {
    "tags": []
   },
   "source": [
    "## Gain\n",
    "\n",
    "```compute_gain``` — вспомогательная функция для расчёта DCG и NDCG, рассчитывающая показатель Gain. Принимает на вход дополнительный аргумент — указание схемы начисления Gain (```gain_scheme```).\n",
    "\n",
    "Необходимо реализовать метод при:\n",
    "- ```gain_scheme=\"const\"``` - постоянное начисление Gain\n",
    "- ```gain_scheme=\"exp2\"``` - рассчитываемый по формуле $(2^r −1)$, где $r$ — реальная релевантность документа некоторому запросу."
   ]
  },
  {
   "cell_type": "code",
   "execution_count": 4,
   "id": "58d75368-7c81-4381-9ed0-81c334250248",
   "metadata": {},
   "outputs": [],
   "source": [
    "def compute_gain(y_value: float, gain_scheme: str) -> float:\n",
    "    # допишите ваш код здесь\n",
    "    if gain_scheme == \"exp2\":\n",
    "        return pow(2.0, y_value) - 1\n",
    "    if gain_scheme == \"const\":\n",
    "        return y_value\n",
    "    pass"
   ]
  },
  {
   "cell_type": "code",
   "execution_count": 5,
   "id": "728c97b8-5867-4c48-ae4e-77cf27acc524",
   "metadata": {},
   "outputs": [
    {
     "name": "stdout",
     "output_type": "stream",
     "text": [
      "31.0\n",
      "5\n"
     ]
    }
   ],
   "source": [
    "# не изменять\n",
    "value = 5\n",
    "\n",
    "res = compute_gain(value, 'exp2')\n",
    "print(res)  # 31\n",
    "\n",
    "res = compute_gain(value, 'const')\n",
    "print(res)  # 5"
   ]
  },
  {
   "cell_type": "markdown",
   "id": "292bff33-4df7-42f7-81f5-c20da6d59e15",
   "metadata": {},
   "source": [
    "## DCG\n",
    "\n",
    "```dcg``` и ```ndcg``` — функции расчёта DCG и NDCG. Принимают на вход дополнительный параметр ```gain_scheme```, аналогичный таковому в функции ```compute_gain```."
   ]
  },
  {
   "cell_type": "code",
   "execution_count": 6,
   "id": "df8b12ea-1198-4f67-8622-16db0d6471b2",
   "metadata": {},
   "outputs": [],
   "source": [
    "def dcg(ys_true: Tensor, ys_pred: Tensor, gain_scheme: str) -> float:\n",
    "    mask = torch.argsort(ys_pred, descending = True)\n",
    "    ys_true_right = ys_true[mask]\n",
    "    dcg = []\n",
    "    for idx, val in enumerate(ys_true_right): \n",
    "        numerator = compute_gain(val, gain_scheme=gain_scheme)\n",
    "        # add 2 because python 0-index\n",
    "        denominator =  np.log2(idx + 2) \n",
    "        score = numerator/denominator\n",
    "        dcg.append(score)\n",
    "    return sum(dcg).item()\n",
    "\n",
    "\n",
    "def ndcg(ys_true: Tensor, ys_pred: Tensor, gain_scheme: str = 'const') -> float:\n",
    "    numerator = dcg(ys_true, ys_pred, gain_scheme)\n",
    "    mask = torch.argsort(ys_pred, descending = True)\n",
    "    \n",
    "    ys_true_right = ys_true[mask]\n",
    "    ndcg = []\n",
    "    for idx, val in enumerate(torch.sort(ys_true, descending = True)[0]): \n",
    "        num = compute_gain(val, gain_scheme=gain_scheme)\n",
    "        denominator = np.log2(idx + 2) \n",
    "        score = num/denominator\n",
    "        ndcg.append(score)\n",
    "    return numerator/sum(ndcg).item()\n",
    "   "
   ]
  },
  {
   "cell_type": "code",
   "execution_count": 7,
   "id": "c3401465-66d5-4b44-ba8a-4d19eaf28597",
   "metadata": {},
   "outputs": [
    {
     "name": "stdout",
     "output_type": "stream",
     "text": [
      "12.052645683288574\n",
      "0.6004803894430065\n"
     ]
    }
   ],
   "source": [
    "# не изменять\n",
    "ys_true = torch.tensor([2, 2, 4, 1, 2, 0])\n",
    "ys_pred = torch.tensor([0.1, 0.3, 0.2, 0.14, 0.12, 0.6])\n",
    "\n",
    "res = dcg(ys_true, ys_pred, gain_scheme='exp2')\n",
    "res_n = ndcg(ys_true, ys_pred, gain_scheme='exp2')\n",
    "print(res)  # 12.052645801815459\n",
    "print(res_n)  # 0.6004804162123548"
   ]
  },
  {
   "cell_type": "markdown",
   "id": "cf284e46-d9b3-408d-8c8c-3b339a9719a3",
   "metadata": {},
   "source": [
    "## Precission@k\n",
    "\n",
    "\n",
    "```precission_at_k``` — функция расчёта точности в топ-k позиций для бинарной разметки (в ```ys_true``` содержатся только нули и единицы). Если среди лейблов нет ни одного релевантного документа (единицы), то необходимо вернуть -1. \n",
    "\n",
    "Функция принимает на вход параметр k, указывающий на то, по какому количеству объектов необходимо произвести расчёт метрики. Учтите, что k может быть больше количества элементов во входных тензорах."
   ]
  },
  {
   "cell_type": "code",
   "execution_count": 8,
   "id": "abd77452-11d2-4380-9861-ba8b2b1082cd",
   "metadata": {},
   "outputs": [],
   "source": [
    "def precission_at_k(ys_true: Tensor, ys_pred: Tensor, k: int) -> float:\n",
    "    # допишите ваш код здесь\n",
    "    mask = torch.argsort(ys_pred, descending = True)\n",
    "    ys_true_right = ys_true[mask]\n",
    "    if k > len(ys_true_right):\n",
    "        k = len(ys_true_right)\n",
    "    if not sum(ys_true_right[:k]):\n",
    "        return -1\n",
    "    return sum(ys_true_right[:k]).item()/k"
   ]
  },
  {
   "cell_type": "code",
   "execution_count": 9,
   "id": "0aa3d174-3213-47fa-ac65-f1d20962028c",
   "metadata": {},
   "outputs": [
    {
     "name": "stdout",
     "output_type": "stream",
     "text": [
      "0.6666666666666666\n"
     ]
    }
   ],
   "source": [
    "# не изменять\n",
    "ys_true = torch.tensor([0, 0, 1, 1, 0, 1]) # 0 - не релавнтен, 1 - релевантен, \n",
    "ys_pred = torch.tensor([0.1, 0.3, 0.2, 0.14, 0.12, 0.6]) # прдесказанная релевантность\n",
    "\n",
    "res = precission_at_k(ys_true, ys_pred, k=3) # доля релевантных элементов в предсказании\n",
    "print(res)  # 0.6666666865348816"
   ]
  },
  {
   "cell_type": "markdown",
   "id": "ec13e47a-1335-45d6-984b-a8fd54ca6bce",
   "metadata": {},
   "source": [
    "## Average Precision\n",
    "\n",
    "```average_precision``` — функция расчёта AP для бинарной разметки (в ```ys_true``` содержатся только нули и единицы). Если среди лейблов нет ни одного релевантного документа (единицы), то необходимо вернуть -1."
   ]
  },
  {
   "cell_type": "code",
   "execution_count": 10,
   "id": "ae660053-b93a-493d-901b-75f1ed67f51b",
   "metadata": {},
   "outputs": [],
   "source": [
    "def average_precision(ys_true: Tensor, ys_pred: Tensor) -> float:\n",
    "    if not sum(ys_true):\n",
    "        return -1\n",
    "    \n",
    "    mask = torch.argsort(ys_pred, descending = True)\n",
    "    ys_true_right = ys_true[mask]\n",
    "\n",
    "    res = 0\n",
    "    for i in range(0, len(ys_true_right)):\n",
    "        pak = precission_at_k(ys_true, ys_pred, k=i+1)\n",
    "        res += ys_true_right[i].item()*pak\n",
    "    return res/sum(ys_true_right>0).item()"
   ]
  },
  {
   "cell_type": "code",
   "execution_count": 11,
   "id": "af0a79b0-9120-4085-ba61-3501679864d0",
   "metadata": {},
   "outputs": [
    {
     "name": "stdout",
     "output_type": "stream",
     "text": [
      "0.7708333333333333\n"
     ]
    }
   ],
   "source": [
    "# не изменять\n",
    "ys_true = torch.tensor([1, 0, 1, 1, 0, 1, 0, 0])\n",
    "ys_pred = torch.tensor([0.9, 0.8, 0.7, 0.6, 0.4, 0.3, 0.2, 0.1])\n",
    "\n",
    "res = average_precision(ys_true, ys_pred)\n",
    "print(res)  # 0.7708333333333333"
   ]
  },
  {
   "cell_type": "markdown",
   "id": "667d41e0-b2a0-45d5-863c-6316808e304d",
   "metadata": {},
   "source": [
    "## reciprocal_rank\n",
    "\n",
    "```reciprocal_rank``` — функция для расчёта MRR (без усреднения). В ```ys_true``` могут содержаться только нули и максимум одна единица. "
   ]
  },
  {
   "cell_type": "code",
   "execution_count": 12,
   "id": "42f41e49-5a57-43d5-8a4e-05e29c3c63f9",
   "metadata": {},
   "outputs": [],
   "source": [
    "def reciprocal_rank(ys_true: Tensor, ys_pred: Tensor) -> float:\n",
    "    mask = torch.argsort(ys_pred, descending = True)\n",
    "    ys_true_right = ys_true[mask]\n",
    "    return 1/(torch.argmax(ys_true_right).item()+1) # +1 because python indexig from 0, maxim one 1, so just argmax"
   ]
  },
  {
   "cell_type": "code",
   "execution_count": 13,
   "id": "0c246d7d-9ed2-41c7-aac3-9ac14534025f",
   "metadata": {},
   "outputs": [
    {
     "name": "stdout",
     "output_type": "stream",
     "text": [
      "0.25\n"
     ]
    }
   ],
   "source": [
    "# не изменять\n",
    "ys_true = torch.tensor([0, 0, 0, 1, 0, 0])\n",
    "ys_pred = torch.tensor([0.1, 0.3, 0.2, 0.14, 0.12, 0.6])\n",
    "\n",
    "res = reciprocal_rank(ys_true, ys_pred)\n",
    "print(res)  # 0.25"
   ]
  },
  {
   "cell_type": "markdown",
   "id": "3c9ed8d2-4131-4f9f-9445-4ea09a97e2f4",
   "metadata": {},
   "source": [
    "## p_found\n",
    "\n",
    "```p_found``` — функция расчёта P-found от Яндекса, принимающая на вход дополнительный параметр ```p_break``` — вероятность прекращения просмотра списка документов в выдаче. Базовая вероятность просмотреть первый документ в выдаче ($pLook[0]$) равняется единице. ```ys_true``` нормированы от 0 до 1 (вероятность удовлетворения запроса пользователя)."
   ]
  },
  {
   "cell_type": "code",
   "execution_count": 14,
   "id": "d413dfb6-f08b-454e-870a-561c1e5280dc",
   "metadata": {},
   "outputs": [],
   "source": [
    "def p_found(ys_true: Tensor, ys_pred: Tensor, p_break: float = 0.15 ) -> float:\n",
    "    mask = torch.argsort(ys_pred, descending = True)\n",
    "    ys_true_right = ys_true[mask]\n",
    "    \n",
    "    p_rel = [compute_gain(i, gain_scheme=\"exp2\").item() if i>0 else 0.0 for i in ys_true_right]\n",
    "    \n",
    "    p_look = [1]\n",
    "    for i in range(1, len(p_rel)):\n",
    "        p_look.append(p_look[i-1] * (1 - p_rel[i-1]) * (1 - p_break))\n",
    "        \n",
    "    res = [p_look[i] * p_rel[i] for i in range(len(p_rel))] \n",
    "    \n",
    "    return sum(res)"
   ]
  },
  {
   "cell_type": "code",
   "execution_count": 15,
   "id": "d1278260-fdca-466a-a559-d0af5fc63029",
   "metadata": {},
   "outputs": [
    {
     "name": "stdout",
     "output_type": "stream",
     "text": [
      "0.7744\n"
     ]
    }
   ],
   "source": [
    "# не изменять\n",
    "ys_true = torch.tensor([0, 0, 0, 1, 0, 1])\n",
    "ys_pred = torch.tensor([0.91, 0.72, 0.12, 0.24, 0.15, 0.6])\n",
    "\n",
    "res = p_found(ys_true, ys_pred, 0.12)\n",
    "print(res)  # 0.7744"
   ]
  },
  {
   "cell_type": "code",
   "execution_count": null,
   "id": "75f6b1d0",
   "metadata": {},
   "outputs": [],
   "source": []
  }
 ],
 "metadata": {
  "kernelspec": {
   "display_name": "Python 3 (ipykernel)",
   "language": "python",
   "name": "python3"
  },
  "language_info": {
   "codemirror_mode": {
    "name": "ipython",
    "version": 3
   },
   "file_extension": ".py",
   "mimetype": "text/x-python",
   "name": "python",
   "nbconvert_exporter": "python",
   "pygments_lexer": "ipython3",
   "version": "3.8.3"
  }
 },
 "nbformat": 4,
 "nbformat_minor": 5
}
