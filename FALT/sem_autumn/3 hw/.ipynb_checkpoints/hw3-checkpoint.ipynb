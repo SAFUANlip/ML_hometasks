{
 "cells": [
  {
   "cell_type": "markdown",
   "metadata": {
    "id": "mNQ-I1PUU-PH"
   },
   "source": [
    "# mini hw3 - ensembles"
   ]
  },
  {
   "cell_type": "markdown",
   "metadata": {
    "id": "0ENj9WzCU-SK"
   },
   "source": [
    "## Подготовка данных"
   ]
  },
  {
   "cell_type": "markdown",
   "metadata": {
    "id": "_MDgqWu9U-U-"
   },
   "source": [
    "Загрузите и предобработайте данные (по своему усмотрению) из hw1"
   ]
  },
  {
   "cell_type": "code",
   "execution_count": 178,
   "metadata": {
    "id": "IbSGi7csVlYZ"
   },
   "outputs": [],
   "source": [
    "import pandas as pd\n",
    "import numpy as np\n",
    "\n",
    "from sklearn.preprocessing import OneHotEncoder \n",
    "\n",
    "from sklearn.model_selection import train_test_split\n",
    "import scipy.stats as st\n",
    "import seaborn as sns\n",
    "import matplotlib.pyplot as plt\n",
    "\n",
    "from sklearn.model_selection import ShuffleSplit, KFold, GroupKFold, StratifiedKFold\n",
    "from sklearn import svm\n",
    "from sklearn.model_selection import cross_val_score\n",
    "from sklearn.neighbors import KNeighborsClassifier\n",
    "from sklearn import naive_bayes\n",
    "from sklearn.linear_model import LogisticRegression\n",
    "from sklearn.tree import DecisionTreeClassifier\n",
    "from sklearn.svm import SVC\n",
    "from sklearn.model_selection import cross_val_predict, cross_validate\n",
    "\n",
    "import torch\n",
    "from torch import nn\n",
    "import torch.nn.functional as F\n",
    "\n",
    "pd.options.mode.chained_assignment = None  # default='warn'\n",
    "import warnings\n",
    "warnings.filterwarnings('ignore')"
   ]
  },
  {
   "cell_type": "code",
   "execution_count": 2,
   "metadata": {},
   "outputs": [],
   "source": [
    "def divide_df(df):\n",
    "    dct = {'M': 1, 'F': 0, 'D': 2, 'C': 3, 'B': 4, 'A': 5}\n",
    "    df['sex'] = df['sex'].map(dct)\n",
    "\n",
    "    df_wrong = df[(df['age'] > 22) | (df['age'] < 15) | ((df['sex'] != 1) & (df['sex'] != 0)) | (df.isnull().any(1))]\n",
    "    df_wrong['address'] = df_wrong['address'].astype('category').cat.codes\n",
    "    df_wrong = pd.get_dummies(df_wrong.fillna(0))\n",
    "    \n",
    "    df_right = df[~((df['age']>22) | (df['age'] < 15) | ((df['sex'] != 1) & (df['sex'] != 0)) | (df.isnull().any(1)))]\n",
    "    df_right['address'] = df_right['address'].astype('category').cat.codes\n",
    "    df_right = pd.get_dummies(df_right.fillna(0))\n",
    "    return df_wrong, df_right\n",
    "\n",
    "def divide_df_wrong(df_wrong, feat):\n",
    "    if feat == 'sex':\n",
    "        df_wrong_c = df_wrong[(df_wrong['sex'] != 0) & (df_wrong['sex'] != 1)]\n",
    "    elif feat == 'age':\n",
    "        df_wrong_c = df_wrong[(df_wrong['age'] > 22) | (df_wrong['age'] < 15)]\n",
    "    elif feat == 'address':\n",
    "        df_wrong_c = df_wrong[(df_wrong['address'] != 0) & (df_wrong['address'] != 1)]\n",
    "    return df_wrong_c\n",
    "\n",
    "def repair_df(algorythm, df_wrong, df_right, feats):\n",
    "    for feat in feats:\n",
    "        X = df_right.drop([feat],axis = 1)\n",
    "        y = df_right[feat]\n",
    "        algorythm.fit(X, y)\n",
    "        X_pred = divide_df_wrong(df_wrong, feat)\n",
    "        X_pred[feat] = algorythm.predict(X_pred[X.columns])\n",
    "        df_wrong[feat].update(X_pred[feat])"
   ]
  },
  {
   "cell_type": "code",
   "execution_count": 312,
   "metadata": {},
   "outputs": [],
   "source": [
    "data = pd.read_csv('train_features_with_answers.csv')\n",
    "df = data.copy() \n",
    "df_wrong, df_right = divide_df(df)\n",
    "repair_df(KNeighborsClassifier(), df_wrong, df_right, ['sex', 'age', 'address'])\n",
    "df = pd.concat([df_wrong, df_right]).sort_index()"
   ]
  },
  {
   "cell_type": "code",
   "execution_count": 313,
   "metadata": {},
   "outputs": [],
   "source": [
    "target = 'G3'\n",
    "y = df[target]\n",
    "X = df.drop(target, axis = 1)"
   ]
  },
  {
   "cell_type": "code",
   "execution_count": 314,
   "metadata": {},
   "outputs": [
    {
     "data": {
      "text/plain": [
       "0       9\n",
       "1      12\n",
       "2      13\n",
       "3      11\n",
       "4      12\n",
       "       ..\n",
       "449    10\n",
       "450    10\n",
       "451    15\n",
       "452    10\n",
       "453    12\n",
       "Name: G3, Length: 454, dtype: int64"
      ]
     },
     "execution_count": 314,
     "metadata": {},
     "output_type": "execute_result"
    }
   ],
   "source": [
    "y "
   ]
  },
  {
   "cell_type": "markdown",
   "metadata": {
    "id": "Em0erMH6WyEV"
   },
   "source": [
    "## Обоснуйте выбор слабых (базовых) алгоритмов"
   ]
  },
  {
   "cell_type": "code",
   "execution_count": 5,
   "metadata": {
    "id": "KqC_5cbgWyML"
   },
   "outputs": [],
   "source": [
    "from sklearn.linear_model import LogisticRegression\n",
    "from sklearn.model_selection import train_test_split\n",
    "from sklearn.metrics import accuracy_score\n",
    "from sklearn.metrics import mean_absolute_error as mae"
   ]
  },
  {
   "cell_type": "markdown",
   "metadata": {
    "id": "R08QEdnPU-X5"
   },
   "source": [
    "## Постройте решение на основе подхода Blending"
   ]
  },
  {
   "cell_type": "markdown",
   "metadata": {
    "id": "sF_TRbWxYQ8p"
   },
   "source": [
    "Правила:\n",
    "- Нужно использовать вероятности \n",
    "- Предложите что-то лучше, чем брать среднее от предсказаний моделей (оценивать уверенность алгоритмов, точности и т.д.)\n",
    "- Заставьте базовые алгоритмы быть некорелированными\n",
    "- Добавьте рандома (например, стройте ваши алгоритмы на разных выборках, по разному предобрабатывайте данные или применяйте для разных признаков соответствующие алгоритмы ... )\n",
    "- Проявите смекалку"
   ]
  },
  {
   "cell_type": "code",
   "execution_count": 172,
   "metadata": {
    "id": "I-Kw6bNqPUoj"
   },
   "outputs": [],
   "source": [
    "#try use seed\n",
    "def blending(classifiers, X, y):\n",
    "    df_ans_train = pd.DataFrame()\n",
    "    df_ans_test = pd.DataFrame()\n",
    "    \n",
    "    y_train, y_train_alg  = None, None\n",
    "    \n",
    "    while y_train is None or len(np.unique(y_train))!=len(np.unique(y)):\n",
    "        x_train, x_test, y_train, y_test = train_test_split(X, y, test_size=0.2, shuffle=True, random_state=21)\n",
    "        \n",
    "    while y_train_alg is None or len(np.unique(y_train_alg))!=len(np.unique(y)):\n",
    "        x_train_alg, x_train_w, y_train_alg, y_train_w = train_test_split(x_train, y_train, test_size=0.3, shuffle=True, random_state=56)\n",
    "    \n",
    "    for clf in classifiers:\n",
    "        clf.fit(x_train_alg, y_train_alg)\n",
    "\n",
    "        df_ans_train = pd.concat([df_ans_train, pd.DataFrame(clf.predict_proba(x_train_w))], axis=1)\n",
    "        df_ans_test = pd.concat([df_ans_test, pd.DataFrame(clf.predict_proba(x_test))], axis=1)\n",
    "        \n",
    "        print(f'{str(clf)[:-2]} = {accuracy_score(clf.predict(x_test), y_test)}')\n",
    "    \n",
    "    lr = LogisticRegression(solver='lbfgs', multi_class='ovr')\n",
    "    lr.fit(df_ans_train, y_train_w)\n",
    "    \n",
    "    \n",
    "    print(f'overall score = {accuracy_score(lr.predict(df_ans_test), y_test)}')\n"
   ]
  },
  {
   "cell_type": "code",
   "execution_count": 177,
   "metadata": {},
   "outputs": [
    {
     "name": "stdout",
     "output_type": "stream",
     "text": [
      "GaussianNB = 0.06593406593406594\n",
      "KNeighborsClassifier(n_neighbors=1 = 0.15384615384615385\n",
      "LogisticRegression = 0.13186813186813187\n",
      "DecisionTreeClassifier = 0.13186813186813187\n",
      "SVC(C=1, kernel='poly', max_iter=100, probability=Tru = 0.18681318681318682\n",
      "overall score = 0.2087912087912088\n"
     ]
    }
   ],
   "source": [
    "sklearn_nb = naive_bayes.GaussianNB()\n",
    "sklearn_knn = KNeighborsClassifier(10)\n",
    "sklearn_lс = LogisticRegression()\n",
    "sklearn_tree = DecisionTreeClassifier()\n",
    "sklearn_svc = SVC(kernel='poly', C=1, max_iter=100, probability=True)\n",
    "\n",
    "d = [sklearn_nb, sklearn_knn, sklearn_lс, sklearn_tree, sklearn_svc]\n",
    "blending(d, X, y)"
   ]
  },
  {
   "cell_type": "markdown",
   "metadata": {
    "id": "iRmBr8VRWolP"
   },
   "source": [
    "## Постройте решение на основе подхода Stacking"
   ]
  },
  {
   "cell_type": "markdown",
   "metadata": {
    "id": "5oYYsgNRasfs"
   },
   "source": [
    "Правила:\n",
    "- Реализуйте пайплайн обучения и предсказания (например, sklearn.pipeline или класс)\n",
    "- Проведите оптимизацию пайплайна\n",
    "- Оцените вклад каждого базового алгоритма в итоговое предсказание"
   ]
  },
  {
   "cell_type": "code",
   "execution_count": 227,
   "metadata": {
    "id": "Bc74w6f_WotV"
   },
   "outputs": [],
   "source": [
    "def stacking(classifiers, X, y, n_folds = 3):\n",
    "    x_train, x_test, y_train, y_test = train_test_split(X, y, test_size=0.2, shuffle=True, random_state=21)\n",
    "    \n",
    "    df_ans_train = pd.DataFrame()\n",
    "    df_ans_test = pd.DataFrame()\n",
    "    df_best_cls = {}\n",
    "    scores = {}\n",
    "    \n",
    "    for clf in classifiers:\n",
    "        clf_name = str(clf)[:-2]\n",
    "        meta_feat = cross_val_predict(clf, x_train, y_train, cv=n_folds)\n",
    "        df_ans_train[clf_name] = meta_feat\n",
    "\n",
    "        cr_v = cross_validate(clf, x_train, y_train, cv = n_folds, return_estimator = 1)\n",
    "        df_best_cls[clf_name] = cr_v['estimator'][np.argmax(cr_v['test_score'])]\n",
    "        \n",
    "        df_ans_test[clf_name] = df_best_cls[clf_name].predict(x_test)\n",
    "        scores[clf_name] = accuracy_score(df_ans_test[clf_name], y_test)\n",
    "        print(f'{str(clf)} score = {scores[clf_name]}','\\n')\n",
    "\n",
    "    w_sum = sum(scores.values())\n",
    "    scores_propor = {cls: w / w_sum  for cls, w in scores.items()}\n",
    "    \n",
    "    sns.barplot(y=list(scores_propor.keys()), x = list(scores_propor.values()), palette=\"rocket\")\n",
    "    plt.xticks(rotation=0)\n",
    "    plt.title('proportion of algorithms', fontsize=16);\n",
    "    \n",
    "    lr = LogisticRegression(solver='lbfgs', multi_class='ovr')\n",
    "    lr.fit(df_ans_train, y_train)\n",
    "    \n",
    "    f = plt.figure(figsize=(10, 9))\n",
    "    plt.matshow(df_ans_train.corr(), fignum=f.number)\n",
    "    plt.xticks(range(df_ans_train.select_dtypes(['number']).shape[1]), df_ans_train.select_dtypes(['number']).columns, fontsize=14, rotation=90)\n",
    "    plt.yticks(range(df_ans_train.select_dtypes(['number']).shape[1]), df_ans_train.select_dtypes(['number']).columns, fontsize=14)\n",
    "    cb = plt.colorbar()\n",
    "    cb.ax.tick_params(labelsize=14)\n",
    "    plt.title('Correlation Matrix', fontsize=16);\n",
    "    \n",
    "    print(f'overall score = {accuracy_score(lr.predict(df_ans_test), y_test)}')"
   ]
  },
  {
   "cell_type": "code",
   "execution_count": 229,
   "metadata": {},
   "outputs": [
    {
     "name": "stdout",
     "output_type": "stream",
     "text": [
      "GaussianNB() score = 0.054945054945054944 \n",
      "\n",
      "KNeighborsClassifier(n_neighbors=10) score = 0.18681318681318682 \n",
      "\n",
      "LogisticRegression() score = 0.13186813186813187 \n",
      "\n",
      "DecisionTreeClassifier() score = 0.2087912087912088 \n",
      "\n",
      "SVC(C=1, kernel='poly', max_iter=100, probability=True) score = 0.1978021978021978 \n",
      "\n",
      "overall score = 0.26373626373626374\n"
     ]
    },
    {
     "data": {
      "image/png": "[encoded data removed]",
      "text/plain": [
       "<Figure size 640x480 with 1 Axes>"
      ]
     },
     "metadata": {},
     "output_type": "display_data"
    },
    {
     "data": {
      "image/png": "[encoded data removed]",
      "text/plain": [
       "<Figure size 1000x900 with 2 Axes>"
      ]
     },
     "metadata": {},
     "output_type": "display_data"
    }
   ],
   "source": [
    "stacking(d, X, y)"
   ]
  },
  {
   "cell_type": "code",
   "execution_count": 332,
   "metadata": {},
   "outputs": [],
   "source": [
    "from sklearn.datasets import make_multilabel_classification"
   ]
  },
  {
   "cell_type": "code",
   "execution_count": 336,
   "metadata": {},
   "outputs": [
    {
     "data": {
      "text/plain": [
       "17"
      ]
     },
     "execution_count": 336,
     "metadata": {},
     "output_type": "execute_result"
    }
   ],
   "source": [
    "len(y.unique()) "
   ]
  },
  {
   "cell_type": "code",
   "execution_count": 362,
   "metadata": {},
   "outputs": [],
   "source": [
    "def stacking_opt(classifiers, X, y, n_folds = 3):\n",
    "    #X, y = make_multilabel_classification(n_samples = X.shape[0], n_features=X.shape[0], n_classes = len(y.unique()) , n_labels=2, random_state=10)\n",
    "    x_train, x_test, y_train, y_test = train_test_split(X, y, test_size=0.2, shuffle=True, random_state=21)\n",
    "    # create a network that stacks layers on top of each other\n",
    "    model = nn.Sequential()\n",
    "\n",
    "    # add first \"dense\" layer with 64 input units and 1 output unit. \n",
    "    model.add_module('l1', nn.Linear(5, 1))\n",
    "\n",
    "    # add softmax activation for probabilities. Normalize over axis 1\n",
    "    # note: layer names must be unique\n",
    "    model.add_module('l2', nn.Sigmoid())\n",
    "    \n",
    "    opt = torch.optim.Adam(model.parameters(), lr=1e-3)\n",
    "    \n",
    "    df_ans_train = pd.DataFrame(index = x_train.index)\n",
    "    df_ans_test = pd.DataFrame()\n",
    "    df_best_cls = {}\n",
    "    scores = {}\n",
    "    \n",
    "    for clf in classifiers:\n",
    "        clf_name = str(clf)[:-2]\n",
    "        meta_feat = cross_val_predict(clf, x_train, y_train, cv=n_folds)\n",
    "        df_ans_train[clf_name] = meta_feat\n",
    "\n",
    "        cr_v = cross_validate(clf, x_train, y_train, cv = n_folds, return_estimator = 1)\n",
    "        df_best_cls[clf_name] = cr_v['estimator'][np.argmax(cr_v['test_score'])]\n",
    "        \n",
    "        df_ans_test[clf_name] = df_best_cls[clf_name].predict(x_test)\n",
    "        scores[clf_name] = accuracy_score(df_ans_test[clf_name], y_test)\n",
    "        print(f'{str(clf)} score = {scores[clf_name]}','\\n')\n",
    "    \n",
    "    #scores_propor = {cls: 1 / w for cls, w in scores.items()}\n",
    "    w_sum = sum(scores.values())\n",
    "    scores_propor = {cls: w / w_sum  for cls, w in scores.items()}\n",
    "    \n",
    "    lr = LogisticRegression(solver='lbfgs', multi_class='ovr')\n",
    "    \n",
    "    \n",
    "    #df_ans_train = df_ans_train.reindex(index = x_train.index)\n",
    "    history = []\n",
    "    for i in range(10000):\n",
    "        ix = (df_ans_train.sample(frac = 0.85).index)\n",
    "        x_batch = torch.tensor(df_ans_train.loc[ix].values, dtype=torch.float32)\n",
    "        y_batch = torch.tensor(y_train.loc[ix].values, dtype=torch.float32)\n",
    "        \n",
    "        lr.fit(x_batch, y_batch)\n",
    "        \n",
    "        # predict probabilities\n",
    "        y_predicted = torch.tensor(lr.predict(x_batch)) #model(x_batch)[:, 0]\n",
    "        #print(y_predicted)\n",
    "\n",
    "        print(y_predicted, y_batch)\n",
    "        # compute loss, just like before\n",
    "        loss = F.cross_entropy(y_predicted, y_batch)\n",
    "\n",
    "        loss.backward()\n",
    "        opt.step()\n",
    "        opt.zero_grad()\n",
    "\n",
    "        history.append(loss.data.numpy())\n",
    "\n",
    "        if i % 1000 == 0:\n",
    "            print(\"step #%i | mean loss = %.3f\" % (i, np.mean(history[-10:])))\n",
    "    stacking_pred_proba = model(torch.tensor(df_ans_test.values, dtype=torch.float32))\n",
    "    stacking_pred = np.array(stacking_pred_proba.detach().numpy(), dtype=np.int)\n",
    "    #print(f'overall score = {accuracy_score(stacking_pred, y_test)}')\n",
    "    print(f'overall score = {accuracy_score(lr.predict(df_ans_test), y_test)}')"
   ]
  },
  {
   "cell_type": "code",
   "execution_count": 363,
   "metadata": {},
   "outputs": [
    {
     "name": "stdout",
     "output_type": "stream",
     "text": [
      "GaussianNB() score = 0.054945054945054944 \n",
      "\n",
      "KNeighborsClassifier(n_neighbors=10) score = 0.18681318681318682 \n",
      "\n",
      "LogisticRegression() score = 0.13186813186813187 \n",
      "\n",
      "DecisionTreeClassifier() score = 0.13186813186813187 \n",
      "\n",
      "SVC(C=1, kernel='poly', max_iter=100, probability=True) score = 0.1978021978021978 \n",
      "\n",
      "tensor([11., 13., 10., 10., 14., 11., 16., 10., 13., 14., 13., 13., 13., 11.,\n",
      "        10., 11., 10., 10., 13., 10., 13., 14., 13., 14., 11., 10., 14., 11.,\n",
      "        13.,  0., 10., 13., 11., 13., 13., 13., 11., 11., 14., 13., 14., 11.,\n",
      "        13., 11., 11., 11., 13., 10., 10., 13., 14., 13., 13., 10., 14., 10.,\n",
      "        13., 13., 10., 14., 11., 14., 13., 11., 10., 13., 11., 13., 12., 13.,\n",
      "        14., 10., 11., 10., 10., 13., 10., 13., 11., 14., 11., 11., 11., 10.,\n",
      "        11., 10., 13., 14., 13., 13., 10., 13., 11., 14., 11., 14., 13., 14.,\n",
      "        12., 13., 13., 10., 10., 10., 13., 11., 13., 13., 13., 13., 13., 11.,\n",
      "        13., 10., 14., 11., 13., 11., 13., 13., 13., 10., 11., 10., 10., 10.,\n",
      "        10., 13., 10., 10., 13., 10., 13., 10., 13., 10., 11., 10., 13., 11.,\n",
      "        17., 11., 10., 15., 14., 13., 10., 11., 14., 19., 14., 13., 14., 10.,\n",
      "        10., 13., 11., 11., 11., 13., 11., 10., 13., 13., 13., 14., 14., 11.,\n",
      "        10., 11., 10., 14., 10., 10., 10., 14., 14., 10., 10., 10., 14., 11.,\n",
      "        10., 13., 13., 10., 11., 17., 11., 12., 10., 10., 13., 11., 13., 13.,\n",
      "        10., 10., 10., 11., 10., 13., 10., 10., 13., 13., 13., 10., 13., 13.,\n",
      "        13., 13., 13., 10., 14., 11., 13., 13., 10., 13., 10., 14., 13., 13.,\n",
      "        13., 11., 14., 13.,  0., 13., 13., 10., 17., 10., 12., 10., 10., 11.,\n",
      "        10., 13., 13., 10., 10., 13., 13., 11., 10., 11., 13., 13., 13., 13.,\n",
      "        13., 13., 13., 10., 13., 13., 13., 11., 13., 11., 10., 13., 10., 13.,\n",
      "        14., 13., 14., 10., 10., 13., 10., 13., 13., 10., 13., 10., 10., 10.,\n",
      "        13., 10., 10., 10., 11., 13., 14., 13., 14., 10., 12., 13., 13., 14.,\n",
      "        10., 11., 10., 10., 13., 13., 13., 13., 14., 11., 10., 14., 13., 11.,\n",
      "        13.]) tensor([11., 16., 10., 11., 14., 10., 12.,  9., 11.,  9., 13., 18., 13., 10.,\n",
      "        12., 15., 10., 12., 17., 14., 13., 12., 14., 15., 11., 10., 14., 11.,\n",
      "        15.,  0., 10., 12., 14., 12., 13., 11., 12., 12., 14., 13., 13., 14.,\n",
      "        14., 10.,  9.,  0., 10., 12., 14., 12., 12., 15., 12., 11.,  9., 10.,\n",
      "        17., 14., 14.,  9., 11., 14., 16.,  9., 10., 16., 12., 13., 11., 16.,\n",
      "        11.,  7., 11., 10.,  8., 17., 14., 16.,  9., 11., 11., 13., 14.,  8.,\n",
      "         9., 10., 16., 16., 17., 12.,  8., 16., 15., 16., 13., 10., 14., 13.,\n",
      "        11., 11., 13., 10., 13., 10., 14., 11., 16., 16., 12., 10., 13., 11.,\n",
      "        15., 14., 13.,  8., 11., 10., 14., 12., 10., 10.,  8., 10., 11.,  9.,\n",
      "         9., 14., 13.,  8., 12.,  8., 14.,  9.,  8.,  1.,  9.,  7., 13., 15.,\n",
      "        17., 17., 11., 11., 16., 13., 11., 12., 18., 19., 13., 15., 15.,  9.,\n",
      "        10., 17., 13., 13., 15., 13.,  9.,  8.,  9., 10., 15., 12., 17., 10.,\n",
      "        11., 12., 11., 14., 14., 11., 12., 13., 10., 14., 11., 10., 18., 17.,\n",
      "        10., 14., 11.,  6., 11., 15., 11., 12., 13., 13., 13., 16., 17., 11.,\n",
      "         7., 10.,  8., 16., 10., 15.,  9., 10., 11., 10., 14., 17., 12., 13.,\n",
      "         9., 13., 12., 15., 10.,  8., 12., 13., 10., 13.,  9., 13., 11., 12.,\n",
      "        10., 14., 14.,  0.,  0., 10., 13.,  9., 12.,  8., 13., 17., 13., 10.,\n",
      "         0.,  0., 11., 11., 14., 14., 13., 13.,  8., 13., 17.,  0., 10.,  8.,\n",
      "        10., 10., 14., 15., 14., 11., 12., 12., 12., 11., 10., 16., 11., 15.,\n",
      "        10., 16., 13., 11.,  0., 13., 10., 11., 17.,  8., 15., 10.,  9., 10.,\n",
      "        15., 11.,  5.,  9., 13., 12.,  8., 12., 10., 11., 11., 14., 15., 14.,\n",
      "        11., 13., 15., 12., 13., 12., 16., 11., 14.,  9., 13., 15., 13., 14.,\n",
      "        17.])\n"
     ]
    },
    {
     "ename": "RuntimeError",
     "evalue": "element 0 of tensors does not require grad and does not have a grad_fn",
     "output_type": "error",
     "traceback": [
      "\u001b[1;31m---------------------------------------------------------------------------\u001b[0m",
      "\u001b[1;31mRuntimeError\u001b[0m                              Traceback (most recent call last)",
      "Input \u001b[1;32mIn [363]\u001b[0m, in \u001b[0;36m<cell line: 1>\u001b[1;34m()\u001b[0m\n\u001b[1;32m----> 1\u001b[0m \u001b[43mstacking_opt\u001b[49m\u001b[43m(\u001b[49m\u001b[43md\u001b[49m\u001b[43m,\u001b[49m\u001b[43m \u001b[49m\u001b[43mX\u001b[49m\u001b[38;5;241;43m.\u001b[39;49m\u001b[43mcopy\u001b[49m\u001b[43m(\u001b[49m\u001b[43m)\u001b[49m\u001b[43m,\u001b[49m\u001b[43m \u001b[49m\u001b[43my\u001b[49m\u001b[38;5;241;43m.\u001b[39;49m\u001b[43mcopy\u001b[49m\u001b[43m(\u001b[49m\u001b[43m)\u001b[49m\u001b[43m)\u001b[49m\n",
      "Input \u001b[1;32mIn [362]\u001b[0m, in \u001b[0;36mstacking_opt\u001b[1;34m(classifiers, X, y, n_folds)\u001b[0m\n\u001b[0;32m     54\u001b[0m \u001b[38;5;66;03m# compute loss, just like before\u001b[39;00m\n\u001b[0;32m     55\u001b[0m loss \u001b[38;5;241m=\u001b[39m F\u001b[38;5;241m.\u001b[39mcross_entropy(y_predicted, y_batch)\n\u001b[1;32m---> 57\u001b[0m \u001b[43mloss\u001b[49m\u001b[38;5;241;43m.\u001b[39;49m\u001b[43mbackward\u001b[49m\u001b[43m(\u001b[49m\u001b[43m)\u001b[49m\n\u001b[0;32m     58\u001b[0m opt\u001b[38;5;241m.\u001b[39mstep()\n\u001b[0;32m     59\u001b[0m opt\u001b[38;5;241m.\u001b[39mzero_grad()\n",
      "File \u001b[1;32mD:\\AnacondaGO\\lib\\site-packages\\torch\\_tensor.py:396\u001b[0m, in \u001b[0;36mTensor.backward\u001b[1;34m(self, gradient, retain_graph, create_graph, inputs)\u001b[0m\n\u001b[0;32m    387\u001b[0m \u001b[38;5;28;01mif\u001b[39;00m has_torch_function_unary(\u001b[38;5;28mself\u001b[39m):\n\u001b[0;32m    388\u001b[0m     \u001b[38;5;28;01mreturn\u001b[39;00m handle_torch_function(\n\u001b[0;32m    389\u001b[0m         Tensor\u001b[38;5;241m.\u001b[39mbackward,\n\u001b[0;32m    390\u001b[0m         (\u001b[38;5;28mself\u001b[39m,),\n\u001b[1;32m   (...)\u001b[0m\n\u001b[0;32m    394\u001b[0m         create_graph\u001b[38;5;241m=\u001b[39mcreate_graph,\n\u001b[0;32m    395\u001b[0m         inputs\u001b[38;5;241m=\u001b[39minputs)\n\u001b[1;32m--> 396\u001b[0m \u001b[43mtorch\u001b[49m\u001b[38;5;241;43m.\u001b[39;49m\u001b[43mautograd\u001b[49m\u001b[38;5;241;43m.\u001b[39;49m\u001b[43mbackward\u001b[49m\u001b[43m(\u001b[49m\u001b[38;5;28;43mself\u001b[39;49m\u001b[43m,\u001b[49m\u001b[43m \u001b[49m\u001b[43mgradient\u001b[49m\u001b[43m,\u001b[49m\u001b[43m \u001b[49m\u001b[43mretain_graph\u001b[49m\u001b[43m,\u001b[49m\u001b[43m \u001b[49m\u001b[43mcreate_graph\u001b[49m\u001b[43m,\u001b[49m\u001b[43m \u001b[49m\u001b[43minputs\u001b[49m\u001b[38;5;241;43m=\u001b[39;49m\u001b[43minputs\u001b[49m\u001b[43m)\u001b[49m\n",
      "File \u001b[1;32mD:\\AnacondaGO\\lib\\site-packages\\torch\\autograd\\__init__.py:173\u001b[0m, in \u001b[0;36mbackward\u001b[1;34m(tensors, grad_tensors, retain_graph, create_graph, grad_variables, inputs)\u001b[0m\n\u001b[0;32m    168\u001b[0m     retain_graph \u001b[38;5;241m=\u001b[39m create_graph\n\u001b[0;32m    170\u001b[0m \u001b[38;5;66;03m# The reason we repeat same the comment below is that\u001b[39;00m\n\u001b[0;32m    171\u001b[0m \u001b[38;5;66;03m# some Python versions print out the first line of a multi-line function\u001b[39;00m\n\u001b[0;32m    172\u001b[0m \u001b[38;5;66;03m# calls in the traceback and some print out the last line\u001b[39;00m\n\u001b[1;32m--> 173\u001b[0m \u001b[43mVariable\u001b[49m\u001b[38;5;241;43m.\u001b[39;49m\u001b[43m_execution_engine\u001b[49m\u001b[38;5;241;43m.\u001b[39;49m\u001b[43mrun_backward\u001b[49m\u001b[43m(\u001b[49m\u001b[43m  \u001b[49m\u001b[38;5;66;43;03m# Calls into the C++ engine to run the backward pass\u001b[39;49;00m\n\u001b[0;32m    174\u001b[0m \u001b[43m    \u001b[49m\u001b[43mtensors\u001b[49m\u001b[43m,\u001b[49m\u001b[43m \u001b[49m\u001b[43mgrad_tensors_\u001b[49m\u001b[43m,\u001b[49m\u001b[43m \u001b[49m\u001b[43mretain_graph\u001b[49m\u001b[43m,\u001b[49m\u001b[43m \u001b[49m\u001b[43mcreate_graph\u001b[49m\u001b[43m,\u001b[49m\u001b[43m \u001b[49m\u001b[43minputs\u001b[49m\u001b[43m,\u001b[49m\n\u001b[0;32m    175\u001b[0m \u001b[43m    \u001b[49m\u001b[43mallow_unreachable\u001b[49m\u001b[38;5;241;43m=\u001b[39;49m\u001b[38;5;28;43;01mTrue\u001b[39;49;00m\u001b[43m,\u001b[49m\u001b[43m \u001b[49m\u001b[43maccumulate_grad\u001b[49m\u001b[38;5;241;43m=\u001b[39;49m\u001b[38;5;28;43;01mTrue\u001b[39;49;00m\u001b[43m)\u001b[49m\n",
      "\u001b[1;31mRuntimeError\u001b[0m: element 0 of tensors does not require grad and does not have a grad_fn"
     ]
    }
   ],
   "source": [
    "stacking_opt(d, X.copy(), y.copy())"
   ]
  },
  {
   "cell_type": "code",
   "execution_count": 344,
   "metadata": {},
   "outputs": [
    {
     "data": {
      "text/html": [
       "<div>\n",
       "<style scoped>\n",
       "    .dataframe tbody tr th:only-of-type {\n",
       "        vertical-align: middle;\n",
       "    }\n",
       "\n",
       "    .dataframe tbody tr th {\n",
       "        vertical-align: top;\n",
       "    }\n",
       "\n",
       "    .dataframe thead th {\n",
       "        text-align: right;\n",
       "    }\n",
       "</style>\n",
       "<table border=\"1\" class=\"dataframe\">\n",
       "  <thead>\n",
       "    <tr style=\"text-align: right;\">\n",
       "      <th></th>\n",
       "      <th>sex</th>\n",
       "      <th>age</th>\n",
       "      <th>address</th>\n",
       "      <th>Medu</th>\n",
       "      <th>Fedu</th>\n",
       "      <th>traveltime</th>\n",
       "      <th>studytime</th>\n",
       "      <th>failures</th>\n",
       "      <th>famrel</th>\n",
       "      <th>freetime</th>\n",
       "      <th>...</th>\n",
       "      <th>activities_no</th>\n",
       "      <th>activities_yes</th>\n",
       "      <th>nursery_no</th>\n",
       "      <th>nursery_yes</th>\n",
       "      <th>higher_no</th>\n",
       "      <th>higher_yes</th>\n",
       "      <th>internet_no</th>\n",
       "      <th>internet_yes</th>\n",
       "      <th>romantic_no</th>\n",
       "      <th>romantic_yes</th>\n",
       "    </tr>\n",
       "  </thead>\n",
       "  <tbody>\n",
       "    <tr>\n",
       "      <th>0</th>\n",
       "      <td>1</td>\n",
       "      <td>18.0</td>\n",
       "      <td>1</td>\n",
       "      <td>1</td>\n",
       "      <td>3</td>\n",
       "      <td>1</td>\n",
       "      <td>1</td>\n",
       "      <td>0</td>\n",
       "      <td>4</td>\n",
       "      <td>3</td>\n",
       "      <td>...</td>\n",
       "      <td>1</td>\n",
       "      <td>0</td>\n",
       "      <td>0</td>\n",
       "      <td>1</td>\n",
       "      <td>1</td>\n",
       "      <td>0</td>\n",
       "      <td>0</td>\n",
       "      <td>1</td>\n",
       "      <td>0</td>\n",
       "      <td>1</td>\n",
       "    </tr>\n",
       "    <tr>\n",
       "      <th>1</th>\n",
       "      <td>1</td>\n",
       "      <td>17.0</td>\n",
       "      <td>0</td>\n",
       "      <td>3</td>\n",
       "      <td>3</td>\n",
       "      <td>3</td>\n",
       "      <td>1</td>\n",
       "      <td>0</td>\n",
       "      <td>3</td>\n",
       "      <td>3</td>\n",
       "      <td>...</td>\n",
       "      <td>0</td>\n",
       "      <td>1</td>\n",
       "      <td>0</td>\n",
       "      <td>1</td>\n",
       "      <td>0</td>\n",
       "      <td>1</td>\n",
       "      <td>0</td>\n",
       "      <td>1</td>\n",
       "      <td>1</td>\n",
       "      <td>0</td>\n",
       "    </tr>\n",
       "    <tr>\n",
       "      <th>2</th>\n",
       "      <td>1</td>\n",
       "      <td>15.0</td>\n",
       "      <td>1</td>\n",
       "      <td>3</td>\n",
       "      <td>4</td>\n",
       "      <td>1</td>\n",
       "      <td>2</td>\n",
       "      <td>0</td>\n",
       "      <td>5</td>\n",
       "      <td>5</td>\n",
       "      <td>...</td>\n",
       "      <td>0</td>\n",
       "      <td>1</td>\n",
       "      <td>0</td>\n",
       "      <td>1</td>\n",
       "      <td>0</td>\n",
       "      <td>1</td>\n",
       "      <td>0</td>\n",
       "      <td>1</td>\n",
       "      <td>1</td>\n",
       "      <td>0</td>\n",
       "    </tr>\n",
       "    <tr>\n",
       "      <th>3</th>\n",
       "      <td>1</td>\n",
       "      <td>17.0</td>\n",
       "      <td>0</td>\n",
       "      <td>4</td>\n",
       "      <td>3</td>\n",
       "      <td>2</td>\n",
       "      <td>2</td>\n",
       "      <td>1</td>\n",
       "      <td>4</td>\n",
       "      <td>5</td>\n",
       "      <td>...</td>\n",
       "      <td>0</td>\n",
       "      <td>1</td>\n",
       "      <td>1</td>\n",
       "      <td>0</td>\n",
       "      <td>0</td>\n",
       "      <td>1</td>\n",
       "      <td>0</td>\n",
       "      <td>1</td>\n",
       "      <td>0</td>\n",
       "      <td>1</td>\n",
       "    </tr>\n",
       "    <tr>\n",
       "      <th>4</th>\n",
       "      <td>0</td>\n",
       "      <td>20.0</td>\n",
       "      <td>0</td>\n",
       "      <td>2</td>\n",
       "      <td>1</td>\n",
       "      <td>2</td>\n",
       "      <td>2</td>\n",
       "      <td>0</td>\n",
       "      <td>1</td>\n",
       "      <td>2</td>\n",
       "      <td>...</td>\n",
       "      <td>0</td>\n",
       "      <td>1</td>\n",
       "      <td>0</td>\n",
       "      <td>1</td>\n",
       "      <td>1</td>\n",
       "      <td>0</td>\n",
       "      <td>0</td>\n",
       "      <td>1</td>\n",
       "      <td>0</td>\n",
       "      <td>1</td>\n",
       "    </tr>\n",
       "    <tr>\n",
       "      <th>...</th>\n",
       "      <td>...</td>\n",
       "      <td>...</td>\n",
       "      <td>...</td>\n",
       "      <td>...</td>\n",
       "      <td>...</td>\n",
       "      <td>...</td>\n",
       "      <td>...</td>\n",
       "      <td>...</td>\n",
       "      <td>...</td>\n",
       "      <td>...</td>\n",
       "      <td>...</td>\n",
       "      <td>...</td>\n",
       "      <td>...</td>\n",
       "      <td>...</td>\n",
       "      <td>...</td>\n",
       "      <td>...</td>\n",
       "      <td>...</td>\n",
       "      <td>...</td>\n",
       "      <td>...</td>\n",
       "      <td>...</td>\n",
       "      <td>...</td>\n",
       "    </tr>\n",
       "    <tr>\n",
       "      <th>449</th>\n",
       "      <td>1</td>\n",
       "      <td>15.0</td>\n",
       "      <td>1</td>\n",
       "      <td>4</td>\n",
       "      <td>2</td>\n",
       "      <td>1</td>\n",
       "      <td>4</td>\n",
       "      <td>0</td>\n",
       "      <td>3</td>\n",
       "      <td>3</td>\n",
       "      <td>...</td>\n",
       "      <td>1</td>\n",
       "      <td>0</td>\n",
       "      <td>0</td>\n",
       "      <td>1</td>\n",
       "      <td>0</td>\n",
       "      <td>1</td>\n",
       "      <td>0</td>\n",
       "      <td>1</td>\n",
       "      <td>1</td>\n",
       "      <td>0</td>\n",
       "    </tr>\n",
       "    <tr>\n",
       "      <th>450</th>\n",
       "      <td>0</td>\n",
       "      <td>15.0</td>\n",
       "      <td>1</td>\n",
       "      <td>2</td>\n",
       "      <td>2</td>\n",
       "      <td>1</td>\n",
       "      <td>4</td>\n",
       "      <td>0</td>\n",
       "      <td>5</td>\n",
       "      <td>1</td>\n",
       "      <td>...</td>\n",
       "      <td>1</td>\n",
       "      <td>0</td>\n",
       "      <td>0</td>\n",
       "      <td>1</td>\n",
       "      <td>0</td>\n",
       "      <td>1</td>\n",
       "      <td>0</td>\n",
       "      <td>1</td>\n",
       "      <td>1</td>\n",
       "      <td>0</td>\n",
       "    </tr>\n",
       "    <tr>\n",
       "      <th>451</th>\n",
       "      <td>1</td>\n",
       "      <td>16.0</td>\n",
       "      <td>1</td>\n",
       "      <td>4</td>\n",
       "      <td>4</td>\n",
       "      <td>1</td>\n",
       "      <td>1</td>\n",
       "      <td>0</td>\n",
       "      <td>5</td>\n",
       "      <td>3</td>\n",
       "      <td>...</td>\n",
       "      <td>0</td>\n",
       "      <td>1</td>\n",
       "      <td>0</td>\n",
       "      <td>1</td>\n",
       "      <td>0</td>\n",
       "      <td>1</td>\n",
       "      <td>0</td>\n",
       "      <td>1</td>\n",
       "      <td>1</td>\n",
       "      <td>0</td>\n",
       "    </tr>\n",
       "    <tr>\n",
       "      <th>452</th>\n",
       "      <td>0</td>\n",
       "      <td>15.0</td>\n",
       "      <td>0</td>\n",
       "      <td>1</td>\n",
       "      <td>1</td>\n",
       "      <td>2</td>\n",
       "      <td>2</td>\n",
       "      <td>0</td>\n",
       "      <td>5</td>\n",
       "      <td>4</td>\n",
       "      <td>...</td>\n",
       "      <td>1</td>\n",
       "      <td>0</td>\n",
       "      <td>0</td>\n",
       "      <td>1</td>\n",
       "      <td>0</td>\n",
       "      <td>1</td>\n",
       "      <td>0</td>\n",
       "      <td>1</td>\n",
       "      <td>1</td>\n",
       "      <td>0</td>\n",
       "    </tr>\n",
       "    <tr>\n",
       "      <th>453</th>\n",
       "      <td>1</td>\n",
       "      <td>15.0</td>\n",
       "      <td>1</td>\n",
       "      <td>4</td>\n",
       "      <td>4</td>\n",
       "      <td>1</td>\n",
       "      <td>1</td>\n",
       "      <td>0</td>\n",
       "      <td>5</td>\n",
       "      <td>3</td>\n",
       "      <td>...</td>\n",
       "      <td>0</td>\n",
       "      <td>1</td>\n",
       "      <td>1</td>\n",
       "      <td>0</td>\n",
       "      <td>0</td>\n",
       "      <td>1</td>\n",
       "      <td>0</td>\n",
       "      <td>1</td>\n",
       "      <td>1</td>\n",
       "      <td>0</td>\n",
       "    </tr>\n",
       "  </tbody>\n",
       "</table>\n",
       "<p>454 rows × 54 columns</p>\n",
       "</div>"
      ],
      "text/plain": [
       "     sex   age  address  Medu  Fedu  traveltime  studytime  failures  famrel  \\\n",
       "0      1  18.0        1     1     3           1          1         0       4   \n",
       "1      1  17.0        0     3     3           3          1         0       3   \n",
       "2      1  15.0        1     3     4           1          2         0       5   \n",
       "3      1  17.0        0     4     3           2          2         1       4   \n",
       "4      0  20.0        0     2     1           2          2         0       1   \n",
       "..   ...   ...      ...   ...   ...         ...        ...       ...     ...   \n",
       "449    1  15.0        1     4     2           1          4         0       3   \n",
       "450    0  15.0        1     2     2           1          4         0       5   \n",
       "451    1  16.0        1     4     4           1          1         0       5   \n",
       "452    0  15.0        0     1     1           2          2         0       5   \n",
       "453    1  15.0        1     4     4           1          1         0       5   \n",
       "\n",
       "     freetime  ...  activities_no  activities_yes  nursery_no  nursery_yes  \\\n",
       "0           3  ...              1               0           0            1   \n",
       "1           3  ...              0               1           0            1   \n",
       "2           5  ...              0               1           0            1   \n",
       "3           5  ...              0               1           1            0   \n",
       "4           2  ...              0               1           0            1   \n",
       "..        ...  ...            ...             ...         ...          ...   \n",
       "449         3  ...              1               0           0            1   \n",
       "450         1  ...              1               0           0            1   \n",
       "451         3  ...              0               1           0            1   \n",
       "452         4  ...              1               0           0            1   \n",
       "453         3  ...              0               1           1            0   \n",
       "\n",
       "     higher_no  higher_yes  internet_no  internet_yes  romantic_no  \\\n",
       "0            1           0            0             1            0   \n",
       "1            0           1            0             1            1   \n",
       "2            0           1            0             1            1   \n",
       "3            0           1            0             1            0   \n",
       "4            1           0            0             1            0   \n",
       "..         ...         ...          ...           ...          ...   \n",
       "449          0           1            0             1            1   \n",
       "450          0           1            0             1            1   \n",
       "451          0           1            0             1            1   \n",
       "452          0           1            0             1            1   \n",
       "453          0           1            0             1            1   \n",
       "\n",
       "     romantic_yes  \n",
       "0               1  \n",
       "1               0  \n",
       "2               0  \n",
       "3               1  \n",
       "4               1  \n",
       "..            ...  \n",
       "449             0  \n",
       "450             0  \n",
       "451             0  \n",
       "452             0  \n",
       "453             0  \n",
       "\n",
       "[454 rows x 54 columns]"
      ]
     },
     "execution_count": 344,
     "metadata": {},
     "output_type": "execute_result"
    }
   ],
   "source": [
    "X "
   ]
  },
  {
   "cell_type": "markdown",
   "metadata": {
    "id": "gOSFp3Y9cO4r"
   },
   "source": [
    "## Доп задание"
   ]
  },
  {
   "cell_type": "markdown",
   "metadata": {
    "id": "biFb-0hPcqk6"
   },
   "source": [
    "Правила:\n",
    "- Постройте несколько сильных алгоритмов разного класса (это может быть бустинг, нейросеть, ансамбль слабых алгоритмов, алгоритм на статистике, что придумаете)\n",
    "- Реализуйте \"управляющий\" алгоритм, который на основе входных данных будет выбирать, какой из  сильных алгоритмов запустить (не на основе их работы, а именно на основе данных)"
   ]
  },
  {
   "cell_type": "code",
   "execution_count": null,
   "metadata": {
    "id": "e_vb2_cxVyWP"
   },
   "outputs": [],
   "source": []
  }
 ],
 "metadata": {
  "colab": {
   "collapsed_sections": [],
   "provenance": [],
   "toc_visible": true
  },
  "kernelspec": {
   "display_name": "Python 3 (ipykernel)",
   "language": "python",
   "name": "python3"
  },
  "language_info": {
   "codemirror_mode": {
    "name": "ipython",
    "version": 3
   },
   "file_extension": ".py",
   "mimetype": "text/x-python",
   "name": "python",
   "nbconvert_exporter": "python",
   "pygments_lexer": "ipython3",
   "version": "3.8.3"
  }
 },
 "nbformat": 4,
 "nbformat_minor": 1
}
