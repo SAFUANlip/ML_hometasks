{
 "cells": [
  {
   "cell_type": "markdown",
   "metadata": {
    "colab_type": "text",
    "id": "NFmOh482SyEF"
   },
   "source": [
    "## Lab 2\n",
    "### Part 2: Dealing with overfitting"
   ]
  },
  {
   "cell_type": "markdown",
   "metadata": {
    "colab_type": "text",
    "id": "AjzAuO3oSvsI"
   },
   "source": [
    "Today we work with [Fashion-MNIST dataset](https://github.com/zalandoresearch/fashion-mnist) (*hint: it is available in `torchvision`*).\n",
    "\n",
    "Your goal for today:\n",
    "1. Train a FC (fully-connected) network that achieves >= 0.885 test accuracy.\n",
    "2. Cause considerable overfitting by modifying the network (e.g. increasing the number of network parameters and/or layers) and demonstrate in in the appropriate way (e.g. plot loss and accurasy on train and validation set w.r.t. network complexity).\n",
    "3. Try to deal with overfitting (at least partially) by using regularization techniques (Dropout/Batchnorm/...) and demonstrate the results.\n",
    "\n",
    "__Please, write a small report describing your ideas, tries and achieved results in the end of this file.__\n",
    "\n",
    "*Note*: Tasks 2 and 3 are interrelated, in task 3 your goal is to make the network from task 2 less prone to overfitting. Task 1 is independent from 2 and 3.\n",
    "\n",
    "*Note 2*: We recomment to use Google Colab or other machine with GPU acceleration."
   ]
  },
  {
   "cell_type": "code",
   "execution_count": 1,
   "metadata": {
    "colab": {},
    "colab_type": "code",
    "id": "_KBld6VOSwhW"
   },
   "outputs": [
    {
     "name": "stderr",
     "output_type": "stream",
     "text": [
      "D:\\AnacondaGO\\lib\\site-packages\\tqdm\\auto.py:22: TqdmWarning: IProgress not found. Please update jupyter and ipywidgets. See https://ipywidgets.readthedocs.io/en/stable/user_install.html\n",
      "  from .autonotebook import tqdm as notebook_tqdm\n"
     ]
    }
   ],
   "source": [
    "import torch\n",
    "import torch.nn as nn\n",
    "import torchvision\n",
    "import torchvision.transforms as transforms\n",
    "import torchsummary\n",
    "from IPython.display import clear_output\n",
    "from matplotlib import pyplot as plt\n",
    "from matplotlib.pyplot import figure\n",
    "import numpy as np\n",
    "import os\n",
    "import time\n",
    "\n",
    "device = 'cuda:0' if torch.cuda.is_available() else 'cpu'"
   ]
  },
  {
   "cell_type": "code",
   "execution_count": 2,
   "metadata": {
    "colab": {
     "base_uri": "https://localhost:8080/",
     "height": 35
    },
    "colab_type": "code",
    "id": "EdLOG0XqS_g5",
    "outputId": "1a58887c-24fc-4315-bb85-bdc88f4f485e"
   },
   "outputs": [
    {
     "name": "stdout",
     "output_type": "stream",
     "text": [
      "Directory fmnist already exists!\n"
     ]
    }
   ],
   "source": [
    "# Technical function\n",
    "def mkdir(path):\n",
    "    if not os.path.exists(root_path):\n",
    "        os.mkdir(root_path)\n",
    "        print('Directory', path, 'is created!')\n",
    "    else:\n",
    "        print('Directory', path, 'already exists!')\n",
    "        \n",
    "root_path = 'fmnist'\n",
    "mkdir(root_path)"
   ]
  },
  {
   "cell_type": "code",
   "execution_count": 3,
   "metadata": {
    "colab": {
     "base_uri": "https://localhost:8080/",
     "height": 397,
     "referenced_widgets": [
      "a00cbbf2385c426bb848399f3c13b70f",
      "4c7a7ac1286649c4804fefd359a1be74",
      "9faad8d0c45746ab8e06e120bb3ec0b6",
      "590134f878a74adb98fd129816fde03c",
      "92685fe1840a4555a6962c006ea90c23",
      "aa0dc032d1644bad8e741cf1696d9a70",
      "4296a7e9ab704f019451001dd12c4f46",
      "29b0a8c468e6410fb390b903559d6ef5",
      "fb66cde27d0849bba4947c024e198f7f",
      "bebcff464bfc44ffa82e311a39cae7d7",
      "b9d32ac7b88c4f4e900b160f05c016a3",
      "b2f66cc8930240a5b74d5480377496ed",
      "c1d770aa9eb34e4d942967c507f94009",
      "f280e146d6c54fb59f8ce36f2d1cc6a3",
      "9761d073bcef4c15ad64b01d7bef3561",
      "56418812bda04e7293dd8839018ae839",
      "e6efdf93b1444984810dd32d506227d5",
      "583e6f0878e04a0bbebf5d80d9d712dc",
      "0078023356f142bdbe4e13a42df460fb",
      "01658e0aebd84db9912ea456bd1ad030",
      "54a1be4ee00c44a0b72192135f62fa16",
      "df2e6c22b8af4a2e95bdd85fb48290a6",
      "835f930bb1504982aa56c835dc7b7df7",
      "30540b2b63064d828fd8502fd6d08877",
      "e734818e32a54c71b6397ef84b35bf07",
      "029f1768c5734beab39a592b44f75a9d",
      "bf33fa62bd4546bdbe142239f472fbb3",
      "ca04c2ebb96f48109ef440c260aa125a",
      "26a1b39d42ee490b8732f0e3856c9114",
      "545f1e0393b64b1b94710674213f4af8",
      "181b94c37c72459ca284267bc7675469",
      "748c2a2536394a50aab12eef92442fcb"
     ]
    },
    "colab_type": "code",
    "id": "qt6LE7XaTDT9",
    "outputId": "ab967f1e-8bf2-4199-cbd7-75806359ee1b"
   },
   "outputs": [],
   "source": [
    "download = True\n",
    "train_transform = transforms.ToTensor()\n",
    "test_transform = transforms.ToTensor()\n",
    "transforms.Compose((transforms.ToTensor()))\n",
    "\n",
    "\n",
    "fmnist_dataset_train = torchvision.datasets.FashionMNIST(root_path, \n",
    "                                                        train=True, \n",
    "                                                        transform=train_transform,\n",
    "                                                        target_transform=None,\n",
    "                                                        download=download)\n",
    "\n",
    "fmnist_dataset_test = torchvision.datasets.FashionMNIST(root_path, \n",
    "                                                       train=False, \n",
    "                                                       transform=test_transform,\n",
    "                                                       target_transform=None,\n",
    "                                                       download=download)"
   ]
  },
  {
   "cell_type": "code",
   "execution_count": 4,
   "metadata": {},
   "outputs": [],
   "source": [
    "train_dataset, val_dataset = torch.utils.data.random_split(fmnist_dataset_train, [int(len(fmnist_dataset_train)*0.8), int(len(fmnist_dataset_train)*0.2)])"
   ]
  },
  {
   "cell_type": "code",
   "execution_count": 5,
   "metadata": {
    "colab": {},
    "colab_type": "code",
    "id": "71YP0SPwTIxD"
   },
   "outputs": [],
   "source": [
    "train_loader = torch.utils.data.DataLoader(train_dataset, \n",
    "                                           batch_size=128,\n",
    "                                           shuffle=True,\n",
    "                                           num_workers=2)\n",
    "\n",
    "val_loader = torch.utils.data.DataLoader(val_dataset, \n",
    "                                           batch_size=128,\n",
    "                                           shuffle=True,\n",
    "                                           num_workers=2)\n",
    "\n",
    "test_loader = torch.utils.data.DataLoader(fmnist_dataset_test,\n",
    "                                          batch_size=256,\n",
    "                                          shuffle=False,\n",
    "                                          num_workers=2)"
   ]
  },
  {
   "cell_type": "code",
   "execution_count": 6,
   "metadata": {
    "colab": {
     "base_uri": "https://localhost:8080/",
     "height": 35
    },
    "colab_type": "code",
    "id": "v_YFmF7NTWrQ",
    "outputId": "6b517f52-5fc5-482e-cc8e-cd6b3f1b72f1"
   },
   "outputs": [
    {
     "data": {
      "text/plain": [
       "(10000, 48000, 12000)"
      ]
     },
     "execution_count": 6,
     "metadata": {},
     "output_type": "execute_result"
    }
   ],
   "source": [
    "len(fmnist_dataset_test), len(train_dataset), len(val_dataset)"
   ]
  },
  {
   "cell_type": "code",
   "execution_count": 7,
   "metadata": {
    "colab": {
     "base_uri": "https://localhost:8080/",
     "height": 71
    },
    "colab_type": "code",
    "id": "aHca15bOTY4B",
    "outputId": "7eb477ef-816d-418c-f5c3-ade63d4cf915"
   },
   "outputs": [
    {
     "name": "stdout",
     "output_type": "stream",
     "text": [
      "torch.Size([128, 1, 28, 28])\n",
      "torch.Size([128])\n",
      "128\n"
     ]
    }
   ],
   "source": [
    "for img, label in train_loader:\n",
    "    print(img.shape)\n",
    "#     print(img)\n",
    "    print(label.shape)\n",
    "    print(label.size(0))\n",
    "    break"
   ]
  },
  {
   "cell_type": "markdown",
   "metadata": {
    "colab_type": "text",
    "id": "b6OOOffHTfX5"
   },
   "source": [
    "### Task 1\n",
    "Train a network that achieves $\\geq 0.885$ test accuracy. It's fine to use only Linear (`nn.Linear`) layers and activations/dropout/batchnorm. Convolutional layers might be a great use, but we will meet them a bit later."
   ]
  },
  {
   "cell_type": "code",
   "execution_count": 8,
   "metadata": {
    "colab": {},
    "colab_type": "code",
    "id": "ftpkTjxlTcFx"
   },
   "outputs": [],
   "source": [
    "class TinyNeuralNetwork(nn.Module):\n",
    "    def __init__(self, input_shape=28*28, num_classes=10, input_channels=1):\n",
    "        super(self.__class__, self).__init__()\n",
    "        self.model = nn.Sequential(\n",
    "            nn.Flatten(), # This layer converts image into a vector to use Linear layers afterwards\n",
    "            # Your network structure comes here\n",
    "            nn.Linear(input_shape, num_classes)\n",
    "        )\n",
    "        \n",
    "    def forward(self, inp):       \n",
    "        out = self.model(inp)\n",
    "        return out"
   ]
  },
  {
   "cell_type": "code",
   "execution_count": 9,
   "metadata": {},
   "outputs": [
    {
     "name": "stdout",
     "output_type": "stream",
     "text": [
      "----------------------------------------------------------------\n",
      "        Layer (type)               Output Shape         Param #\n",
      "================================================================\n",
      "           Flatten-1                  [-1, 784]               0\n",
      "            Linear-2                   [-1, 10]           7,850\n",
      "================================================================\n",
      "Total params: 7,850\n",
      "Trainable params: 7,850\n",
      "Non-trainable params: 0\n",
      "----------------------------------------------------------------\n",
      "Input size (MB): 0.00\n",
      "Forward/backward pass size (MB): 0.01\n",
      "Params size (MB): 0.03\n",
      "Estimated Total Size (MB): 0.04\n",
      "----------------------------------------------------------------\n"
     ]
    }
   ],
   "source": [
    "torchsummary.summary(TinyNeuralNetwork().to(device), (28*28,))"
   ]
  },
  {
   "cell_type": "code",
   "execution_count": 10,
   "metadata": {},
   "outputs": [],
   "source": [
    "def plot_train_process(train_loss, val_loss, val_accuracy):\n",
    "    fig, axes = plt.subplots(1, 2, figsize=(15, 5))\n",
    "\n",
    "    axes[0].set_title('Loss')\n",
    "    axes[0].plot(train_loss, label='train')\n",
    "    axes[0].plot(val_loss, label='validation')\n",
    "    axes[0].legend()\n",
    "\n",
    "    axes[1].set_title('Validation accuracy')\n",
    "    axes[1].plot(val_accuracy)"
   ]
  },
  {
   "cell_type": "markdown",
   "metadata": {
    "colab_type": "text",
    "id": "544PGKEnjPr5"
   },
   "source": [
    "Your experiments come here:"
   ]
  },
  {
   "cell_type": "code",
   "execution_count": 12,
   "metadata": {
    "colab": {
     "base_uri": "https://localhost:8080/",
     "height": 607
    },
    "colab_type": "code",
    "id": "i3POFj90Ti-6",
    "outputId": "82e7e921-541b-4657-f78d-563de48b07c7"
   },
   "outputs": [],
   "source": [
    "model1 = TinyNeuralNetwork().to(device)\n",
    "opt = torch.optim.Adam(model1.parameters(), lr=1e-3)\n",
    "loss_func = nn.CrossEntropyLoss() # it's include softmax, before calculatin cross entropy \n",
    "\n",
    "# Your experiments, training and validation loops here"
   ]
  },
  {
   "cell_type": "code",
   "execution_count": 13,
   "metadata": {},
   "outputs": [],
   "source": [
    "def train_model(model, train_loader, val_loader, loss_fn, opt, n_epochs: int):\n",
    "    train_loss = []\n",
    "    val_loss = []\n",
    "    val_accuracy = []\n",
    "    \n",
    "    for epoch in range(n_epochs):\n",
    "        ep_train_loss = []\n",
    "        ep_val_loss = []\n",
    "        ep_val_accuracy = []\n",
    "        start_time = time.time()\n",
    "\n",
    "        model.train(True) # enable dropout / batch_norm training behavior\n",
    "        for X_batch, y_batch in train_loader:\n",
    "            # move data to target device\n",
    "            ### YOUR CODE HERE\n",
    "            opt.zero_grad() # torch add grad, so we need make them zero every step\n",
    "            \n",
    "            X_batch = X_batch.to(device)\n",
    "            y_batch = y_batch.to(device)\n",
    "            \n",
    "            predictions = model(X_batch)\n",
    "            loss = loss_fn(predictions, y_batch)\n",
    "            loss.backward()\n",
    "            opt.step() \n",
    "            \n",
    "            # train on batch: compute loss, calc grads, perform optimizer step and zero the grads\n",
    "            ### YOUR CODE HERE\n",
    "            ep_train_loss.append(loss.item())\n",
    "\n",
    "        model.train(False) # disable dropout / use averages for batch_norm\n",
    "        with torch.no_grad():\n",
    "            for X_batch, y_batch in val_loader:\n",
    "                # move data to target device\n",
    "                ### YOUR CODE HERE\n",
    "                X_batch = X_batch.to(device)\n",
    "                y_batch = y_batch.to(device)\n",
    "\n",
    "                predictions = model(X_batch)\n",
    "                loss = loss_fn(predictions, y_batch)\n",
    "                \n",
    "                # compute predictions\n",
    "                ### YOUR CODE HERE\n",
    "                ep_val_loss.append(loss.item())\n",
    "                y_pred = predictions.max(1)[1].data\n",
    "                ep_val_accuracy.append(np.mean((y_batch.cpu() == y_pred.cpu()).numpy()))\n",
    "\n",
    "        # print the results for this epoch:\n",
    "        print(f'Epoch {epoch + 1} of {n_epochs} took {time.time() - start_time:.3f}s')\n",
    "\n",
    "        train_loss.append(np.mean(ep_train_loss))\n",
    "        val_loss.append(np.mean(ep_val_loss))\n",
    "        val_accuracy.append(np.mean(ep_val_accuracy))\n",
    "        \n",
    "        print(f\"\\t  training loss: {train_loss[-1]:.6f}\")\n",
    "        print(f\"\\tvalidation loss: {val_loss[-1]:.6f}\")\n",
    "        print(f\"\\tvalidation accuracy: {val_accuracy[-1]:.3f}\")\n",
    "\n",
    "    return train_loss, val_loss, val_accuracy"
   ]
  },
  {
   "cell_type": "code",
   "execution_count": 14,
   "metadata": {},
   "outputs": [
    {
     "name": "stdout",
     "output_type": "stream",
     "text": [
      "Epoch 1 of 20 took 18.211s\n",
      "\t  training loss: 0.767718\n",
      "\tvalidation loss: 0.579604\n",
      "\tvalidation accuracy: 0.811\n",
      "Epoch 2 of 20 took 16.445s\n",
      "\t  training loss: 0.530460\n",
      "\tvalidation loss: 0.512970\n",
      "\tvalidation accuracy: 0.829\n",
      "Epoch 3 of 20 took 16.469s\n",
      "\t  training loss: 0.485690\n",
      "\tvalidation loss: 0.478967\n",
      "\tvalidation accuracy: 0.839\n",
      "Epoch 4 of 20 took 16.807s\n",
      "\t  training loss: 0.460858\n",
      "\tvalidation loss: 0.466574\n",
      "\tvalidation accuracy: 0.842\n",
      "Epoch 5 of 20 took 16.621s\n",
      "\t  training loss: 0.446716\n",
      "\tvalidation loss: 0.454678\n",
      "\tvalidation accuracy: 0.846\n",
      "Epoch 6 of 20 took 16.724s\n",
      "\t  training loss: 0.437256\n",
      "\tvalidation loss: 0.442969\n",
      "\tvalidation accuracy: 0.850\n",
      "Epoch 7 of 20 took 16.548s\n",
      "\t  training loss: 0.426493\n",
      "\tvalidation loss: 0.442314\n",
      "\tvalidation accuracy: 0.847\n",
      "Epoch 8 of 20 took 16.530s\n",
      "\t  training loss: 0.420182\n",
      "\tvalidation loss: 0.428460\n",
      "\tvalidation accuracy: 0.856\n",
      "Epoch 9 of 20 took 16.321s\n",
      "\t  training loss: 0.415476\n",
      "\tvalidation loss: 0.432203\n",
      "\tvalidation accuracy: 0.854\n",
      "Epoch 10 of 20 took 16.529s\n",
      "\t  training loss: 0.410558\n",
      "\tvalidation loss: 0.423225\n",
      "\tvalidation accuracy: 0.857\n",
      "Epoch 11 of 20 took 16.527s\n",
      "\t  training loss: 0.406036\n",
      "\tvalidation loss: 0.426349\n",
      "\tvalidation accuracy: 0.857\n",
      "Epoch 12 of 20 took 16.140s\n",
      "\t  training loss: 0.402221\n",
      "\tvalidation loss: 0.420877\n",
      "\tvalidation accuracy: 0.856\n",
      "Epoch 13 of 20 took 16.354s\n",
      "\t  training loss: 0.399076\n",
      "\tvalidation loss: 0.419631\n",
      "\tvalidation accuracy: 0.858\n",
      "Epoch 14 of 20 took 16.341s\n",
      "\t  training loss: 0.397054\n",
      "\tvalidation loss: 0.419583\n",
      "\tvalidation accuracy: 0.857\n",
      "Epoch 15 of 20 took 16.383s\n",
      "\t  training loss: 0.394454\n",
      "\tvalidation loss: 0.420428\n",
      "\tvalidation accuracy: 0.854\n",
      "Epoch 16 of 20 took 16.594s\n",
      "\t  training loss: 0.392953\n",
      "\tvalidation loss: 0.412866\n",
      "\tvalidation accuracy: 0.859\n",
      "Epoch 17 of 20 took 16.414s\n",
      "\t  training loss: 0.390212\n",
      "\tvalidation loss: 0.415389\n",
      "\tvalidation accuracy: 0.857\n",
      "Epoch 18 of 20 took 16.352s\n",
      "\t  training loss: 0.386581\n",
      "\tvalidation loss: 0.415581\n",
      "\tvalidation accuracy: 0.859\n",
      "Epoch 19 of 20 took 16.648s\n",
      "\t  training loss: 0.385953\n",
      "\tvalidation loss: 0.411704\n",
      "\tvalidation accuracy: 0.860\n",
      "Epoch 20 of 20 took 17.355s\n",
      "\t  training loss: 0.384126\n",
      "\tvalidation loss: 0.411985\n",
      "\tvalidation accuracy: 0.860\n"
     ]
    }
   ],
   "source": [
    "train_loss, val_loss, val_accuracy = train_model(model1, train_loader, val_loader, loss_func, opt, 20)"
   ]
  },
  {
   "cell_type": "code",
   "execution_count": 15,
   "metadata": {},
   "outputs": [
    {
     "data": {
      "image/png": "[encoded data removed]",
      "text/plain": [
       "<Figure size 1500x500 with 2 Axes>"
      ]
     },
     "metadata": {},
     "output_type": "display_data"
    }
   ],
   "source": [
    "plot_train_process(train_loss, val_loss, val_accuracy)"
   ]
  },
  {
   "cell_type": "code",
   "execution_count": 24,
   "metadata": {},
   "outputs": [],
   "source": [
    "def test_predict(model, test_loader):\n",
    "    model.eval()\n",
    "    acc, batches = 0, 0\n",
    "    for x_batch, y_batch in test_loader:\n",
    "        y_pred = model.forward(x_batch.to(device))\n",
    "        batches += 1\n",
    "        acc += (y_pred.cpu().max(1)[1].data == y_batch.cpu()).numpy().mean()\n",
    "    return (acc/batches)"
   ]
  },
  {
   "cell_type": "code",
   "execution_count": 25,
   "metadata": {},
   "outputs": [
    {
     "data": {
      "text/plain": [
       "0.84169921875"
      ]
     },
     "execution_count": 25,
     "metadata": {},
     "output_type": "execute_result"
    }
   ],
   "source": [
    "test_predict(model1, test_loader)"
   ]
  },
  {
   "cell_type": "markdown",
   "metadata": {
    "colab_type": "text",
    "id": "L7ISqkjmCPB1"
   },
   "source": [
    "### Task 2: Overfit it.\n",
    "Build a network that will overfit to this dataset. Demonstrate the overfitting in the appropriate way (e.g. plot loss and accurasy on train and test set w.r.t. network complexity).\n",
    "\n",
    "*Note:* you also might decrease the size of `train` dataset to enforce the overfitting and speed up the computations."
   ]
  },
  {
   "cell_type": "code",
   "execution_count": 26,
   "metadata": {
    "colab": {},
    "colab_type": "code",
    "id": "H12uAWiGBwJx"
   },
   "outputs": [],
   "source": [
    "class OverfittingNeuralNetwork(nn.Module):\n",
    "    def __init__(self, input_shape=28*28, num_classes=10, input_channels=1):\n",
    "        super(self.__class__, self).__init__()\n",
    "        self.model = nn.Sequential(\n",
    "            # therea are problem with tanh (or sigmoid) func activation, if we have lot of layers, then on first layers we will have \n",
    "            # small gradient because differential of tanh <1, so weight will changes only on last layers\n",
    "            # https://www.youtube.com/watch?v=jy6Dz4I5WHc\n",
    "\n",
    "            nn.Flatten(), # This layer converts image into a vector to use Linear layers afterwards\n",
    "            # Your network structure comes here\n",
    "            nn.Linear(input_shape * input_channels, 512),\n",
    "            #nn.BatchNorm1d(512), # for 2d and 3d input \n",
    "            nn.ReLU(),  # Batch norm better use before activation, but there is no consensus\n",
    "            nn.Linear(512, 1024),\n",
    "            nn.ReLU(),\n",
    "            nn.Linear(1024, num_classes)\n",
    "\n",
    "            # Dropout (for regularization), it dropout some of inputs in layer\n",
    "            # default parametr p = 0.5 - the probability of deleting an input, i.e. 0.5 means that we will delete half of the inputs\n",
    "        )\n",
    "        \n",
    "    def forward(self, inp):       \n",
    "        out = self.model(inp)\n",
    "        return out"
   ]
  },
  {
   "cell_type": "code",
   "execution_count": 27,
   "metadata": {
    "colab": {
     "base_uri": "https://localhost:8080/",
     "height": 449
    },
    "colab_type": "code",
    "id": "JgXAKCpvCwqH",
    "outputId": "8d29ad18-3f0c-4161-8bcd-004d24ba771c"
   },
   "outputs": [
    {
     "name": "stdout",
     "output_type": "stream",
     "text": [
      "----------------------------------------------------------------\n",
      "        Layer (type)               Output Shape         Param #\n",
      "================================================================\n",
      "           Flatten-1                  [-1, 784]               0\n",
      "            Linear-2                  [-1, 512]         401,920\n",
      "              ReLU-3                  [-1, 512]               0\n",
      "            Linear-4                 [-1, 1024]         525,312\n",
      "              ReLU-5                 [-1, 1024]               0\n",
      "            Linear-6                   [-1, 10]          10,250\n",
      "================================================================\n",
      "Total params: 937,482\n",
      "Trainable params: 937,482\n",
      "Non-trainable params: 0\n",
      "----------------------------------------------------------------\n",
      "Input size (MB): 0.00\n",
      "Forward/backward pass size (MB): 0.03\n",
      "Params size (MB): 3.58\n",
      "Estimated Total Size (MB): 3.61\n",
      "----------------------------------------------------------------\n"
     ]
    }
   ],
   "source": [
    "torchsummary.summary(OverfittingNeuralNetwork().to(device), (28*28,))"
   ]
  },
  {
   "cell_type": "code",
   "execution_count": 28,
   "metadata": {},
   "outputs": [],
   "source": [
    "model2 = OverfittingNeuralNetwork().to(device)\n",
    "opt = torch.optim.Adam(model2.parameters(), lr=1e-3)\n",
    "loss_func = nn.CrossEntropyLoss() # it's include softmax, before calculatin cross entropy "
   ]
  },
  {
   "cell_type": "code",
   "execution_count": 29,
   "metadata": {},
   "outputs": [
    {
     "name": "stdout",
     "output_type": "stream",
     "text": [
      "Epoch 1 of 30 took 23.797s\n",
      "\t  training loss: 0.528683\n",
      "\tvalidation loss: 0.435864\n",
      "\tvalidation accuracy: 0.841\n",
      "Epoch 2 of 30 took 24.158s\n",
      "\t  training loss: 0.375662\n",
      "\tvalidation loss: 0.395279\n",
      "\tvalidation accuracy: 0.854\n",
      "Epoch 3 of 30 took 24.173s\n",
      "\t  training loss: 0.331365\n",
      "\tvalidation loss: 0.370243\n",
      "\tvalidation accuracy: 0.867\n",
      "Epoch 4 of 30 took 24.062s\n",
      "\t  training loss: 0.305351\n",
      "\tvalidation loss: 0.362327\n",
      "\tvalidation accuracy: 0.869\n",
      "Epoch 5 of 30 took 24.679s\n",
      "\t  training loss: 0.287697\n",
      "\tvalidation loss: 0.342064\n",
      "\tvalidation accuracy: 0.873\n",
      "Epoch 6 of 30 took 23.100s\n",
      "\t  training loss: 0.271952\n",
      "\tvalidation loss: 0.336348\n",
      "\tvalidation accuracy: 0.877\n",
      "Epoch 7 of 30 took 23.848s\n",
      "\t  training loss: 0.256881\n",
      "\tvalidation loss: 0.337093\n",
      "\tvalidation accuracy: 0.882\n",
      "Epoch 8 of 30 took 24.910s\n",
      "\t  training loss: 0.246026\n",
      "\tvalidation loss: 0.324616\n",
      "\tvalidation accuracy: 0.888\n",
      "Epoch 9 of 30 took 24.529s\n",
      "\t  training loss: 0.234428\n",
      "\tvalidation loss: 0.348258\n",
      "\tvalidation accuracy: 0.877\n",
      "Epoch 10 of 30 took 23.079s\n",
      "\t  training loss: 0.222974\n",
      "\tvalidation loss: 0.323076\n",
      "\tvalidation accuracy: 0.885\n",
      "Epoch 11 of 30 took 23.296s\n",
      "\t  training loss: 0.210614\n",
      "\tvalidation loss: 0.334535\n",
      "\tvalidation accuracy: 0.891\n",
      "Epoch 12 of 30 took 24.567s\n",
      "\t  training loss: 0.204056\n",
      "\tvalidation loss: 0.333206\n",
      "\tvalidation accuracy: 0.890\n",
      "Epoch 13 of 30 took 22.916s\n",
      "\t  training loss: 0.193536\n",
      "\tvalidation loss: 0.345022\n",
      "\tvalidation accuracy: 0.885\n",
      "Epoch 14 of 30 took 24.758s\n",
      "\t  training loss: 0.183179\n",
      "\tvalidation loss: 0.334700\n",
      "\tvalidation accuracy: 0.894\n",
      "Epoch 15 of 30 took 25.146s\n",
      "\t  training loss: 0.176388\n",
      "\tvalidation loss: 0.335294\n",
      "\tvalidation accuracy: 0.893\n",
      "Epoch 16 of 30 took 25.125s\n",
      "\t  training loss: 0.167530\n",
      "\tvalidation loss: 0.343780\n",
      "\tvalidation accuracy: 0.890\n",
      "Epoch 17 of 30 took 23.733s\n",
      "\t  training loss: 0.161379\n",
      "\tvalidation loss: 0.359170\n",
      "\tvalidation accuracy: 0.891\n",
      "Epoch 18 of 30 took 24.101s\n",
      "\t  training loss: 0.157677\n",
      "\tvalidation loss: 0.345936\n",
      "\tvalidation accuracy: 0.894\n",
      "Epoch 19 of 30 took 25.231s\n",
      "\t  training loss: 0.150685\n",
      "\tvalidation loss: 0.435753\n",
      "\tvalidation accuracy: 0.876\n",
      "Epoch 20 of 30 took 23.354s\n",
      "\t  training loss: 0.139277\n",
      "\tvalidation loss: 0.379163\n",
      "\tvalidation accuracy: 0.892\n",
      "Epoch 21 of 30 took 23.557s\n",
      "\t  training loss: 0.132391\n",
      "\tvalidation loss: 0.376568\n",
      "\tvalidation accuracy: 0.896\n",
      "Epoch 22 of 30 took 24.811s\n",
      "\t  training loss: 0.128447\n",
      "\tvalidation loss: 0.387692\n",
      "\tvalidation accuracy: 0.890\n",
      "Epoch 23 of 30 took 23.974s\n",
      "\t  training loss: 0.122170\n",
      "\tvalidation loss: 0.401974\n",
      "\tvalidation accuracy: 0.895\n",
      "Epoch 24 of 30 took 22.971s\n",
      "\t  training loss: 0.114842\n",
      "\tvalidation loss: 0.405530\n",
      "\tvalidation accuracy: 0.896\n",
      "Epoch 25 of 30 took 23.078s\n",
      "\t  training loss: 0.113604\n",
      "\tvalidation loss: 0.414267\n",
      "\tvalidation accuracy: 0.886\n",
      "Epoch 26 of 30 took 23.186s\n",
      "\t  training loss: 0.109404\n",
      "\tvalidation loss: 0.437951\n",
      "\tvalidation accuracy: 0.892\n",
      "Epoch 27 of 30 took 23.060s\n",
      "\t  training loss: 0.103978\n",
      "\tvalidation loss: 0.403288\n",
      "\tvalidation accuracy: 0.896\n",
      "Epoch 28 of 30 took 24.757s\n",
      "\t  training loss: 0.099160\n",
      "\tvalidation loss: 0.436979\n",
      "\tvalidation accuracy: 0.896\n",
      "Epoch 29 of 30 took 24.575s\n",
      "\t  training loss: 0.096671\n",
      "\tvalidation loss: 0.447489\n",
      "\tvalidation accuracy: 0.892\n",
      "Epoch 30 of 30 took 23.149s\n",
      "\t  training loss: 0.100373\n",
      "\tvalidation loss: 0.474037\n",
      "\tvalidation accuracy: 0.891\n"
     ]
    }
   ],
   "source": [
    "train_loss_2, val_loss_2, val_accuracy_2 = train_model(model2, train_loader, test_loader, loss_func, opt, 30)"
   ]
  },
  {
   "cell_type": "code",
   "execution_count": 30,
   "metadata": {},
   "outputs": [
    {
     "data": {
      "image/png": "[encoded data removed]",
      "text/plain": [
       "<Figure size 1500x500 with 2 Axes>"
      ]
     },
     "metadata": {},
     "output_type": "display_data"
    }
   ],
   "source": [
    "plot_train_process(train_loss_2, val_loss_2, val_accuracy_2)"
   ]
  },
  {
   "cell_type": "code",
   "execution_count": 37,
   "metadata": {},
   "outputs": [
    {
     "data": {
      "text/plain": [
       "0.89130859375"
      ]
     },
     "execution_count": 37,
     "metadata": {},
     "output_type": "execute_result"
    }
   ],
   "source": [
    "test_predict(model2, test_loader)"
   ]
  },
  {
   "cell_type": "markdown",
   "metadata": {},
   "source": [
    "### Task 3: Fix it.\n",
    "Fix the overfitted network from the previous step (at least partially) by using regularization techniques (Dropout/Batchnorm/...) and demonstrate the results. "
   ]
  },
  {
   "cell_type": "code",
   "execution_count": 57,
   "metadata": {},
   "outputs": [],
   "source": [
    "class FixedNeuralNetwork(nn.Module):\n",
    "    def __init__(self, input_shape=28*28, num_classes=10, input_channels=1):\n",
    "        super(self.__class__, self).__init__()\n",
    "        self.model = nn.Sequential(\n",
    "            nn.Flatten(), \n",
    "            nn.Linear(input_shape * input_channels, 256),\n",
    "            nn.BatchNorm1d(256), # for 2d and 3d input \n",
    "            nn.ReLU(),  # Batch norm better use before activation, but there is no consensus\n",
    "#             nn.Dropout(0.5),\n",
    "#             nn.Linear(784, 392),\n",
    "#             nn.BatchNorm1d(392),\n",
    "#             nn.ReLU(),\n",
    "            nn.Dropout(0.8),\n",
    "            nn.Linear(256, num_classes)  \n",
    "        )\n",
    "        \n",
    "    def forward(self, inp):       \n",
    "        out = self.model(inp)\n",
    "        return out"
   ]
  },
  {
   "cell_type": "code",
   "execution_count": 58,
   "metadata": {},
   "outputs": [
    {
     "name": "stdout",
     "output_type": "stream",
     "text": [
      "----------------------------------------------------------------\n",
      "        Layer (type)               Output Shape         Param #\n",
      "================================================================\n",
      "           Flatten-1                  [-1, 784]               0\n",
      "            Linear-2                  [-1, 256]         200,960\n",
      "       BatchNorm1d-3                  [-1, 256]             512\n",
      "              ReLU-4                  [-1, 256]               0\n",
      "           Dropout-5                  [-1, 256]               0\n",
      "            Linear-6                   [-1, 10]           2,570\n",
      "================================================================\n",
      "Total params: 204,042\n",
      "Trainable params: 204,042\n",
      "Non-trainable params: 0\n",
      "----------------------------------------------------------------\n",
      "Input size (MB): 0.00\n",
      "Forward/backward pass size (MB): 0.01\n",
      "Params size (MB): 0.78\n",
      "Estimated Total Size (MB): 0.80\n",
      "----------------------------------------------------------------\n"
     ]
    }
   ],
   "source": [
    "torchsummary.summary(FixedNeuralNetwork().to(device), (28*28,))"
   ]
  },
  {
   "cell_type": "code",
   "execution_count": 59,
   "metadata": {},
   "outputs": [],
   "source": [
    "model3 = OverfittingNeuralNetwork().to(device)\n",
    "opt = torch.optim.Adam(model3.parameters(), lr=1e-3)\n",
    "loss_func = nn.CrossEntropyLoss() # it's include softmax, before calculatin cross entropy \n",
    "# Your experiments, come here"
   ]
  },
  {
   "cell_type": "code",
   "execution_count": 60,
   "metadata": {},
   "outputs": [
    {
     "name": "stdout",
     "output_type": "stream",
     "text": [
      "Epoch 1 of 15 took 25.422s\n",
      "\t  training loss: 0.535960\n",
      "\tvalidation loss: 0.421789\n",
      "\tvalidation accuracy: 0.849\n",
      "Epoch 2 of 15 took 24.335s\n",
      "\t  training loss: 0.374676\n",
      "\tvalidation loss: 0.409581\n",
      "\tvalidation accuracy: 0.851\n",
      "Epoch 3 of 15 took 23.607s\n",
      "\t  training loss: 0.333433\n",
      "\tvalidation loss: 0.372088\n",
      "\tvalidation accuracy: 0.869\n",
      "Epoch 4 of 15 took 25.435s\n",
      "\t  training loss: 0.310872\n",
      "\tvalidation loss: 0.354870\n",
      "\tvalidation accuracy: 0.872\n",
      "Epoch 5 of 15 took 24.423s\n",
      "\t  training loss: 0.290344\n",
      "\tvalidation loss: 0.334907\n",
      "\tvalidation accuracy: 0.880\n",
      "Epoch 6 of 15 took 24.127s\n",
      "\t  training loss: 0.269557\n",
      "\tvalidation loss: 0.381287\n",
      "\tvalidation accuracy: 0.865\n",
      "Epoch 7 of 15 took 25.321s\n",
      "\t  training loss: 0.256119\n",
      "\tvalidation loss: 0.344372\n",
      "\tvalidation accuracy: 0.876\n",
      "Epoch 8 of 15 took 25.011s\n",
      "\t  training loss: 0.247954\n",
      "\tvalidation loss: 0.337799\n",
      "\tvalidation accuracy: 0.881\n",
      "Epoch 9 of 15 took 24.889s\n",
      "\t  training loss: 0.232646\n",
      "\tvalidation loss: 0.337802\n",
      "\tvalidation accuracy: 0.883\n",
      "Epoch 10 of 15 took 24.273s\n",
      "\t  training loss: 0.222290\n",
      "\tvalidation loss: 0.323181\n",
      "\tvalidation accuracy: 0.887\n",
      "Epoch 11 of 15 took 27.126s\n",
      "\t  training loss: 0.213165\n",
      "\tvalidation loss: 0.342731\n",
      "\tvalidation accuracy: 0.885\n",
      "Epoch 12 of 15 took 24.990s\n",
      "\t  training loss: 0.203897\n",
      "\tvalidation loss: 0.338985\n",
      "\tvalidation accuracy: 0.890\n",
      "Epoch 13 of 15 took 25.011s\n",
      "\t  training loss: 0.193480\n",
      "\tvalidation loss: 0.336936\n",
      "\tvalidation accuracy: 0.887\n",
      "Epoch 14 of 15 took 24.267s\n",
      "\t  training loss: 0.189782\n",
      "\tvalidation loss: 0.333278\n",
      "\tvalidation accuracy: 0.886\n",
      "Epoch 15 of 15 took 25.011s\n",
      "\t  training loss: 0.177563\n",
      "\tvalidation loss: 0.363689\n",
      "\tvalidation accuracy: 0.883\n"
     ]
    }
   ],
   "source": [
    "train_loss_3, val_loss_3, val_accuracy_3 = train_model(model3, train_loader, test_loader, loss_func, opt, 15)"
   ]
  },
  {
   "cell_type": "code",
   "execution_count": 61,
   "metadata": {},
   "outputs": [
    {
     "data": {
      "image/png": "[encoded data removed]",
      "text/plain": [
       "<Figure size 1500x500 with 2 Axes>"
      ]
     },
     "metadata": {},
     "output_type": "display_data"
    }
   ],
   "source": [
    "plot_train_process(train_loss_3, val_loss_3, val_accuracy_3)"
   ]
  },
  {
   "cell_type": "code",
   "execution_count": 62,
   "metadata": {},
   "outputs": [
    {
     "data": {
      "text/plain": [
       "0.88291015625"
      ]
     },
     "execution_count": 62,
     "metadata": {},
     "output_type": "execute_result"
    }
   ],
   "source": [
    "test_predict(model3, test_loader)"
   ]
  },
  {
   "cell_type": "markdown",
   "metadata": {
    "colab_type": "text",
    "id": "dMui_uLJ7G0d"
   },
   "source": [
    "### Conclusions:\n",
    "_Write down small report with your conclusions and your ideas._"
   ]
  }
 ],
 "metadata": {
  "accelerator": "GPU",
  "colab": {
   "collapsed_sections": [],
   "name": "Overfit it.ipynb",
   "provenance": []
  },
  "kernelspec": {
   "display_name": "Python 3 (ipykernel)",
   "language": "python",
   "name": "python3"
  },
  "language_info": {
   "codemirror_mode": {
    "name": "ipython",
    "version": 3
   },
   "file_extension": ".py",
   "mimetype": "text/x-python",
   "name": "python",
   "nbconvert_exporter": "python",
   "pygments_lexer": "ipython3",
   "version": "3.8.3"
  },
  "widgets": {
   "application/vnd.jupyter.widget-state+json": {
    "0078023356f142bdbe4e13a42df460fb": {
     "model_module": "@jupyter-widgets/controls",
     "model_name": "IntProgressModel",
     "state": {
      "_dom_classes": [],
      "_model_module": "@jupyter-widgets/controls",
      "_model_module_version": "1.5.0",
      "_model_name": "IntProgressModel",
      "_view_count": null,
      "_view_module": "@jupyter-widgets/controls",
      "_view_module_version": "1.5.0",
      "_view_name": "ProgressView",
      "bar_style": "success",
      "description": "",
      "description_tooltip": null,
      "layout": "IPY_MODEL_df2e6c22b8af4a2e95bdd85fb48290a6",
      "max": 1,
      "min": 0,
      "orientation": "horizontal",
      "style": "IPY_MODEL_54a1be4ee00c44a0b72192135f62fa16",
      "value": 1
     }
    },
    "01658e0aebd84db9912ea456bd1ad030": {
     "model_module": "@jupyter-widgets/controls",
     "model_name": "HTMLModel",
     "state": {
      "_dom_classes": [],
      "_model_module": "@jupyter-widgets/controls",
      "_model_module_version": "1.5.0",
      "_model_name": "HTMLModel",
      "_view_count": null,
      "_view_module": "@jupyter-widgets/controls",
      "_view_module_version": "1.5.0",
      "_view_name": "HTMLView",
      "description": "",
      "description_tooltip": null,
      "layout": "IPY_MODEL_30540b2b63064d828fd8502fd6d08877",
      "placeholder": "​",
      "style": "IPY_MODEL_835f930bb1504982aa56c835dc7b7df7",
      "value": "4423680it [00:01, 3086127.05it/s]"
     }
    },
    "029f1768c5734beab39a592b44f75a9d": {
     "model_module": "@jupyter-widgets/base",
     "model_name": "LayoutModel",
     "state": {
      "_model_module": "@jupyter-widgets/base",
      "_model_module_version": "1.2.0",
      "_model_name": "LayoutModel",
      "_view_count": null,
      "_view_module": "@jupyter-widgets/base",
      "_view_module_version": "1.2.0",
      "_view_name": "LayoutView",
      "align_content": null,
      "align_items": null,
      "align_self": null,
      "border": null,
      "bottom": null,
      "display": null,
      "flex": null,
      "flex_flow": null,
      "grid_area": null,
      "grid_auto_columns": null,
      "grid_auto_flow": null,
      "grid_auto_rows": null,
      "grid_column": null,
      "grid_gap": null,
      "grid_row": null,
      "grid_template_areas": null,
      "grid_template_columns": null,
      "grid_template_rows": null,
      "height": null,
      "justify_content": null,
      "justify_items": null,
      "left": null,
      "margin": null,
      "max_height": null,
      "max_width": null,
      "min_height": null,
      "min_width": null,
      "object_fit": null,
      "object_position": null,
      "order": null,
      "overflow": null,
      "overflow_x": null,
      "overflow_y": null,
      "padding": null,
      "right": null,
      "top": null,
      "visibility": null,
      "width": null
     }
    },
    "181b94c37c72459ca284267bc7675469": {
     "model_module": "@jupyter-widgets/controls",
     "model_name": "DescriptionStyleModel",
     "state": {
      "_model_module": "@jupyter-widgets/controls",
      "_model_module_version": "1.5.0",
      "_model_name": "DescriptionStyleModel",
      "_view_count": null,
      "_view_module": "@jupyter-widgets/base",
      "_view_module_version": "1.2.0",
      "_view_name": "StyleView",
      "description_width": ""
     }
    },
    "26a1b39d42ee490b8732f0e3856c9114": {
     "model_module": "@jupyter-widgets/controls",
     "model_name": "ProgressStyleModel",
     "state": {
      "_model_module": "@jupyter-widgets/controls",
      "_model_module_version": "1.5.0",
      "_model_name": "ProgressStyleModel",
      "_view_count": null,
      "_view_module": "@jupyter-widgets/base",
      "_view_module_version": "1.2.0",
      "_view_name": "StyleView",
      "bar_color": null,
      "description_width": ""
     }
    },
    "29b0a8c468e6410fb390b903559d6ef5": {
     "model_module": "@jupyter-widgets/base",
     "model_name": "LayoutModel",
     "state": {
      "_model_module": "@jupyter-widgets/base",
      "_model_module_version": "1.2.0",
      "_model_name": "LayoutModel",
      "_view_count": null,
      "_view_module": "@jupyter-widgets/base",
      "_view_module_version": "1.2.0",
      "_view_name": "LayoutView",
      "align_content": null,
      "align_items": null,
      "align_self": null,
      "border": null,
      "bottom": null,
      "display": null,
      "flex": null,
      "flex_flow": null,
      "grid_area": null,
      "grid_auto_columns": null,
      "grid_auto_flow": null,
      "grid_auto_rows": null,
      "grid_column": null,
      "grid_gap": null,
      "grid_row": null,
      "grid_template_areas": null,
      "grid_template_columns": null,
      "grid_template_rows": null,
      "height": null,
      "justify_content": null,
      "justify_items": null,
      "left": null,
      "margin": null,
      "max_height": null,
      "max_width": null,
      "min_height": null,
      "min_width": null,
      "object_fit": null,
      "object_position": null,
      "order": null,
      "overflow": null,
      "overflow_x": null,
      "overflow_y": null,
      "padding": null,
      "right": null,
      "top": null,
      "visibility": null,
      "width": null
     }
    },
    "30540b2b63064d828fd8502fd6d08877": {
     "model_module": "@jupyter-widgets/base",
     "model_name": "LayoutModel",
     "state": {
      "_model_module": "@jupyter-widgets/base",
      "_model_module_version": "1.2.0",
      "_model_name": "LayoutModel",
      "_view_count": null,
      "_view_module": "@jupyter-widgets/base",
      "_view_module_version": "1.2.0",
      "_view_name": "LayoutView",
      "align_content": null,
      "align_items": null,
      "align_self": null,
      "border": null,
      "bottom": null,
      "display": null,
      "flex": null,
      "flex_flow": null,
      "grid_area": null,
      "grid_auto_columns": null,
      "grid_auto_flow": null,
      "grid_auto_rows": null,
      "grid_column": null,
      "grid_gap": null,
      "grid_row": null,
      "grid_template_areas": null,
      "grid_template_columns": null,
      "grid_template_rows": null,
      "height": null,
      "justify_content": null,
      "justify_items": null,
      "left": null,
      "margin": null,
      "max_height": null,
      "max_width": null,
      "min_height": null,
      "min_width": null,
      "object_fit": null,
      "object_position": null,
      "order": null,
      "overflow": null,
      "overflow_x": null,
      "overflow_y": null,
      "padding": null,
      "right": null,
      "top": null,
      "visibility": null,
      "width": null
     }
    },
    "4296a7e9ab704f019451001dd12c4f46": {
     "model_module": "@jupyter-widgets/controls",
     "model_name": "DescriptionStyleModel",
     "state": {
      "_model_module": "@jupyter-widgets/controls",
      "_model_module_version": "1.5.0",
      "_model_name": "DescriptionStyleModel",
      "_view_count": null,
      "_view_module": "@jupyter-widgets/base",
      "_view_module_version": "1.2.0",
      "_view_name": "StyleView",
      "description_width": ""
     }
    },
    "4c7a7ac1286649c4804fefd359a1be74": {
     "model_module": "@jupyter-widgets/base",
     "model_name": "LayoutModel",
     "state": {
      "_model_module": "@jupyter-widgets/base",
      "_model_module_version": "1.2.0",
      "_model_name": "LayoutModel",
      "_view_count": null,
      "_view_module": "@jupyter-widgets/base",
      "_view_module_version": "1.2.0",
      "_view_name": "LayoutView",
      "align_content": null,
      "align_items": null,
      "align_self": null,
      "border": null,
      "bottom": null,
      "display": null,
      "flex": null,
      "flex_flow": null,
      "grid_area": null,
      "grid_auto_columns": null,
      "grid_auto_flow": null,
      "grid_auto_rows": null,
      "grid_column": null,
      "grid_gap": null,
      "grid_row": null,
      "grid_template_areas": null,
      "grid_template_columns": null,
      "grid_template_rows": null,
      "height": null,
      "justify_content": null,
      "justify_items": null,
      "left": null,
      "margin": null,
      "max_height": null,
      "max_width": null,
      "min_height": null,
      "min_width": null,
      "object_fit": null,
      "object_position": null,
      "order": null,
      "overflow": null,
      "overflow_x": null,
      "overflow_y": null,
      "padding": null,
      "right": null,
      "top": null,
      "visibility": null,
      "width": null
     }
    },
    "545f1e0393b64b1b94710674213f4af8": {
     "model_module": "@jupyter-widgets/base",
     "model_name": "LayoutModel",
     "state": {
      "_model_module": "@jupyter-widgets/base",
      "_model_module_version": "1.2.0",
      "_model_name": "LayoutModel",
      "_view_count": null,
      "_view_module": "@jupyter-widgets/base",
      "_view_module_version": "1.2.0",
      "_view_name": "LayoutView",
      "align_content": null,
      "align_items": null,
      "align_self": null,
      "border": null,
      "bottom": null,
      "display": null,
      "flex": null,
      "flex_flow": null,
      "grid_area": null,
      "grid_auto_columns": null,
      "grid_auto_flow": null,
      "grid_auto_rows": null,
      "grid_column": null,
      "grid_gap": null,
      "grid_row": null,
      "grid_template_areas": null,
      "grid_template_columns": null,
      "grid_template_rows": null,
      "height": null,
      "justify_content": null,
      "justify_items": null,
      "left": null,
      "margin": null,
      "max_height": null,
      "max_width": null,
      "min_height": null,
      "min_width": null,
      "object_fit": null,
      "object_position": null,
      "order": null,
      "overflow": null,
      "overflow_x": null,
      "overflow_y": null,
      "padding": null,
      "right": null,
      "top": null,
      "visibility": null,
      "width": null
     }
    },
    "54a1be4ee00c44a0b72192135f62fa16": {
     "model_module": "@jupyter-widgets/controls",
     "model_name": "ProgressStyleModel",
     "state": {
      "_model_module": "@jupyter-widgets/controls",
      "_model_module_version": "1.5.0",
      "_model_name": "ProgressStyleModel",
      "_view_count": null,
      "_view_module": "@jupyter-widgets/base",
      "_view_module_version": "1.2.0",
      "_view_name": "StyleView",
      "bar_color": null,
      "description_width": ""
     }
    },
    "56418812bda04e7293dd8839018ae839": {
     "model_module": "@jupyter-widgets/base",
     "model_name": "LayoutModel",
     "state": {
      "_model_module": "@jupyter-widgets/base",
      "_model_module_version": "1.2.0",
      "_model_name": "LayoutModel",
      "_view_count": null,
      "_view_module": "@jupyter-widgets/base",
      "_view_module_version": "1.2.0",
      "_view_name": "LayoutView",
      "align_content": null,
      "align_items": null,
      "align_self": null,
      "border": null,
      "bottom": null,
      "display": null,
      "flex": null,
      "flex_flow": null,
      "grid_area": null,
      "grid_auto_columns": null,
      "grid_auto_flow": null,
      "grid_auto_rows": null,
      "grid_column": null,
      "grid_gap": null,
      "grid_row": null,
      "grid_template_areas": null,
      "grid_template_columns": null,
      "grid_template_rows": null,
      "height": null,
      "justify_content": null,
      "justify_items": null,
      "left": null,
      "margin": null,
      "max_height": null,
      "max_width": null,
      "min_height": null,
      "min_width": null,
      "object_fit": null,
      "object_position": null,
      "order": null,
      "overflow": null,
      "overflow_x": null,
      "overflow_y": null,
      "padding": null,
      "right": null,
      "top": null,
      "visibility": null,
      "width": null
     }
    },
    "583e6f0878e04a0bbebf5d80d9d712dc": {
     "model_module": "@jupyter-widgets/base",
     "model_name": "LayoutModel",
     "state": {
      "_model_module": "@jupyter-widgets/base",
      "_model_module_version": "1.2.0",
      "_model_name": "LayoutModel",
      "_view_count": null,
      "_view_module": "@jupyter-widgets/base",
      "_view_module_version": "1.2.0",
      "_view_name": "LayoutView",
      "align_content": null,
      "align_items": null,
      "align_self": null,
      "border": null,
      "bottom": null,
      "display": null,
      "flex": null,
      "flex_flow": null,
      "grid_area": null,
      "grid_auto_columns": null,
      "grid_auto_flow": null,
      "grid_auto_rows": null,
      "grid_column": null,
      "grid_gap": null,
      "grid_row": null,
      "grid_template_areas": null,
      "grid_template_columns": null,
      "grid_template_rows": null,
      "height": null,
      "justify_content": null,
      "justify_items": null,
      "left": null,
      "margin": null,
      "max_height": null,
      "max_width": null,
      "min_height": null,
      "min_width": null,
      "object_fit": null,
      "object_position": null,
      "order": null,
      "overflow": null,
      "overflow_x": null,
      "overflow_y": null,
      "padding": null,
      "right": null,
      "top": null,
      "visibility": null,
      "width": null
     }
    },
    "590134f878a74adb98fd129816fde03c": {
     "model_module": "@jupyter-widgets/controls",
     "model_name": "HTMLModel",
     "state": {
      "_dom_classes": [],
      "_model_module": "@jupyter-widgets/controls",
      "_model_module_version": "1.5.0",
      "_model_name": "HTMLModel",
      "_view_count": null,
      "_view_module": "@jupyter-widgets/controls",
      "_view_module_version": "1.5.0",
      "_view_name": "HTMLView",
      "description": "",
      "description_tooltip": null,
      "layout": "IPY_MODEL_29b0a8c468e6410fb390b903559d6ef5",
      "placeholder": "​",
      "style": "IPY_MODEL_4296a7e9ab704f019451001dd12c4f46",
      "value": "26427392it [00:02, 10150318.78it/s]"
     }
    },
    "748c2a2536394a50aab12eef92442fcb": {
     "model_module": "@jupyter-widgets/base",
     "model_name": "LayoutModel",
     "state": {
      "_model_module": "@jupyter-widgets/base",
      "_model_module_version": "1.2.0",
      "_model_name": "LayoutModel",
      "_view_count": null,
      "_view_module": "@jupyter-widgets/base",
      "_view_module_version": "1.2.0",
      "_view_name": "LayoutView",
      "align_content": null,
      "align_items": null,
      "align_self": null,
      "border": null,
      "bottom": null,
      "display": null,
      "flex": null,
      "flex_flow": null,
      "grid_area": null,
      "grid_auto_columns": null,
      "grid_auto_flow": null,
      "grid_auto_rows": null,
      "grid_column": null,
      "grid_gap": null,
      "grid_row": null,
      "grid_template_areas": null,
      "grid_template_columns": null,
      "grid_template_rows": null,
      "height": null,
      "justify_content": null,
      "justify_items": null,
      "left": null,
      "margin": null,
      "max_height": null,
      "max_width": null,
      "min_height": null,
      "min_width": null,
      "object_fit": null,
      "object_position": null,
      "order": null,
      "overflow": null,
      "overflow_x": null,
      "overflow_y": null,
      "padding": null,
      "right": null,
      "top": null,
      "visibility": null,
      "width": null
     }
    },
    "835f930bb1504982aa56c835dc7b7df7": {
     "model_module": "@jupyter-widgets/controls",
     "model_name": "DescriptionStyleModel",
     "state": {
      "_model_module": "@jupyter-widgets/controls",
      "_model_module_version": "1.5.0",
      "_model_name": "DescriptionStyleModel",
      "_view_count": null,
      "_view_module": "@jupyter-widgets/base",
      "_view_module_version": "1.2.0",
      "_view_name": "StyleView",
      "description_width": ""
     }
    },
    "92685fe1840a4555a6962c006ea90c23": {
     "model_module": "@jupyter-widgets/controls",
     "model_name": "ProgressStyleModel",
     "state": {
      "_model_module": "@jupyter-widgets/controls",
      "_model_module_version": "1.5.0",
      "_model_name": "ProgressStyleModel",
      "_view_count": null,
      "_view_module": "@jupyter-widgets/base",
      "_view_module_version": "1.2.0",
      "_view_name": "StyleView",
      "bar_color": null,
      "description_width": ""
     }
    },
    "9761d073bcef4c15ad64b01d7bef3561": {
     "model_module": "@jupyter-widgets/controls",
     "model_name": "DescriptionStyleModel",
     "state": {
      "_model_module": "@jupyter-widgets/controls",
      "_model_module_version": "1.5.0",
      "_model_name": "DescriptionStyleModel",
      "_view_count": null,
      "_view_module": "@jupyter-widgets/base",
      "_view_module_version": "1.2.0",
      "_view_name": "StyleView",
      "description_width": ""
     }
    },
    "9faad8d0c45746ab8e06e120bb3ec0b6": {
     "model_module": "@jupyter-widgets/controls",
     "model_name": "IntProgressModel",
     "state": {
      "_dom_classes": [],
      "_model_module": "@jupyter-widgets/controls",
      "_model_module_version": "1.5.0",
      "_model_name": "IntProgressModel",
      "_view_count": null,
      "_view_module": "@jupyter-widgets/controls",
      "_view_module_version": "1.5.0",
      "_view_name": "ProgressView",
      "bar_style": "success",
      "description": "",
      "description_tooltip": null,
      "layout": "IPY_MODEL_aa0dc032d1644bad8e741cf1696d9a70",
      "max": 1,
      "min": 0,
      "orientation": "horizontal",
      "style": "IPY_MODEL_92685fe1840a4555a6962c006ea90c23",
      "value": 1
     }
    },
    "a00cbbf2385c426bb848399f3c13b70f": {
     "model_module": "@jupyter-widgets/controls",
     "model_name": "HBoxModel",
     "state": {
      "_dom_classes": [],
      "_model_module": "@jupyter-widgets/controls",
      "_model_module_version": "1.5.0",
      "_model_name": "HBoxModel",
      "_view_count": null,
      "_view_module": "@jupyter-widgets/controls",
      "_view_module_version": "1.5.0",
      "_view_name": "HBoxView",
      "box_style": "",
      "children": [
       "IPY_MODEL_9faad8d0c45746ab8e06e120bb3ec0b6",
       "IPY_MODEL_590134f878a74adb98fd129816fde03c"
      ],
      "layout": "IPY_MODEL_4c7a7ac1286649c4804fefd359a1be74"
     }
    },
    "aa0dc032d1644bad8e741cf1696d9a70": {
     "model_module": "@jupyter-widgets/base",
     "model_name": "LayoutModel",
     "state": {
      "_model_module": "@jupyter-widgets/base",
      "_model_module_version": "1.2.0",
      "_model_name": "LayoutModel",
      "_view_count": null,
      "_view_module": "@jupyter-widgets/base",
      "_view_module_version": "1.2.0",
      "_view_name": "LayoutView",
      "align_content": null,
      "align_items": null,
      "align_self": null,
      "border": null,
      "bottom": null,
      "display": null,
      "flex": null,
      "flex_flow": null,
      "grid_area": null,
      "grid_auto_columns": null,
      "grid_auto_flow": null,
      "grid_auto_rows": null,
      "grid_column": null,
      "grid_gap": null,
      "grid_row": null,
      "grid_template_areas": null,
      "grid_template_columns": null,
      "grid_template_rows": null,
      "height": null,
      "justify_content": null,
      "justify_items": null,
      "left": null,
      "margin": null,
      "max_height": null,
      "max_width": null,
      "min_height": null,
      "min_width": null,
      "object_fit": null,
      "object_position": null,
      "order": null,
      "overflow": null,
      "overflow_x": null,
      "overflow_y": null,
      "padding": null,
      "right": null,
      "top": null,
      "visibility": null,
      "width": null
     }
    },
    "b2f66cc8930240a5b74d5480377496ed": {
     "model_module": "@jupyter-widgets/controls",
     "model_name": "HTMLModel",
     "state": {
      "_dom_classes": [],
      "_model_module": "@jupyter-widgets/controls",
      "_model_module_version": "1.5.0",
      "_model_name": "HTMLModel",
      "_view_count": null,
      "_view_module": "@jupyter-widgets/controls",
      "_view_module_version": "1.5.0",
      "_view_name": "HTMLView",
      "description": "",
      "description_tooltip": null,
      "layout": "IPY_MODEL_56418812bda04e7293dd8839018ae839",
      "placeholder": "​",
      "style": "IPY_MODEL_9761d073bcef4c15ad64b01d7bef3561",
      "value": "32768it [00:00, 71991.19it/s]"
     }
    },
    "b9d32ac7b88c4f4e900b160f05c016a3": {
     "model_module": "@jupyter-widgets/controls",
     "model_name": "IntProgressModel",
     "state": {
      "_dom_classes": [],
      "_model_module": "@jupyter-widgets/controls",
      "_model_module_version": "1.5.0",
      "_model_name": "IntProgressModel",
      "_view_count": null,
      "_view_module": "@jupyter-widgets/controls",
      "_view_module_version": "1.5.0",
      "_view_name": "ProgressView",
      "bar_style": "success",
      "description": "",
      "description_tooltip": null,
      "layout": "IPY_MODEL_f280e146d6c54fb59f8ce36f2d1cc6a3",
      "max": 1,
      "min": 0,
      "orientation": "horizontal",
      "style": "IPY_MODEL_c1d770aa9eb34e4d942967c507f94009",
      "value": 1
     }
    },
    "bebcff464bfc44ffa82e311a39cae7d7": {
     "model_module": "@jupyter-widgets/base",
     "model_name": "LayoutModel",
     "state": {
      "_model_module": "@jupyter-widgets/base",
      "_model_module_version": "1.2.0",
      "_model_name": "LayoutModel",
      "_view_count": null,
      "_view_module": "@jupyter-widgets/base",
      "_view_module_version": "1.2.0",
      "_view_name": "LayoutView",
      "align_content": null,
      "align_items": null,
      "align_self": null,
      "border": null,
      "bottom": null,
      "display": null,
      "flex": null,
      "flex_flow": null,
      "grid_area": null,
      "grid_auto_columns": null,
      "grid_auto_flow": null,
      "grid_auto_rows": null,
      "grid_column": null,
      "grid_gap": null,
      "grid_row": null,
      "grid_template_areas": null,
      "grid_template_columns": null,
      "grid_template_rows": null,
      "height": null,
      "justify_content": null,
      "justify_items": null,
      "left": null,
      "margin": null,
      "max_height": null,
      "max_width": null,
      "min_height": null,
      "min_width": null,
      "object_fit": null,
      "object_position": null,
      "order": null,
      "overflow": null,
      "overflow_x": null,
      "overflow_y": null,
      "padding": null,
      "right": null,
      "top": null,
      "visibility": null,
      "width": null
     }
    },
    "bf33fa62bd4546bdbe142239f472fbb3": {
     "model_module": "@jupyter-widgets/controls",
     "model_name": "IntProgressModel",
     "state": {
      "_dom_classes": [],
      "_model_module": "@jupyter-widgets/controls",
      "_model_module_version": "1.5.0",
      "_model_name": "IntProgressModel",
      "_view_count": null,
      "_view_module": "@jupyter-widgets/controls",
      "_view_module_version": "1.5.0",
      "_view_name": "ProgressView",
      "bar_style": "success",
      "description": "",
      "description_tooltip": null,
      "layout": "IPY_MODEL_545f1e0393b64b1b94710674213f4af8",
      "max": 1,
      "min": 0,
      "orientation": "horizontal",
      "style": "IPY_MODEL_26a1b39d42ee490b8732f0e3856c9114",
      "value": 1
     }
    },
    "c1d770aa9eb34e4d942967c507f94009": {
     "model_module": "@jupyter-widgets/controls",
     "model_name": "ProgressStyleModel",
     "state": {
      "_model_module": "@jupyter-widgets/controls",
      "_model_module_version": "1.5.0",
      "_model_name": "ProgressStyleModel",
      "_view_count": null,
      "_view_module": "@jupyter-widgets/base",
      "_view_module_version": "1.2.0",
      "_view_name": "StyleView",
      "bar_color": null,
      "description_width": ""
     }
    },
    "ca04c2ebb96f48109ef440c260aa125a": {
     "model_module": "@jupyter-widgets/controls",
     "model_name": "HTMLModel",
     "state": {
      "_dom_classes": [],
      "_model_module": "@jupyter-widgets/controls",
      "_model_module_version": "1.5.0",
      "_model_name": "HTMLModel",
      "_view_count": null,
      "_view_module": "@jupyter-widgets/controls",
      "_view_module_version": "1.5.0",
      "_view_name": "HTMLView",
      "description": "",
      "description_tooltip": null,
      "layout": "IPY_MODEL_748c2a2536394a50aab12eef92442fcb",
      "placeholder": "​",
      "style": "IPY_MODEL_181b94c37c72459ca284267bc7675469",
      "value": "8192it [00:00, 25429.90it/s]"
     }
    },
    "df2e6c22b8af4a2e95bdd85fb48290a6": {
     "model_module": "@jupyter-widgets/base",
     "model_name": "LayoutModel",
     "state": {
      "_model_module": "@jupyter-widgets/base",
      "_model_module_version": "1.2.0",
      "_model_name": "LayoutModel",
      "_view_count": null,
      "_view_module": "@jupyter-widgets/base",
      "_view_module_version": "1.2.0",
      "_view_name": "LayoutView",
      "align_content": null,
      "align_items": null,
      "align_self": null,
      "border": null,
      "bottom": null,
      "display": null,
      "flex": null,
      "flex_flow": null,
      "grid_area": null,
      "grid_auto_columns": null,
      "grid_auto_flow": null,
      "grid_auto_rows": null,
      "grid_column": null,
      "grid_gap": null,
      "grid_row": null,
      "grid_template_areas": null,
      "grid_template_columns": null,
      "grid_template_rows": null,
      "height": null,
      "justify_content": null,
      "justify_items": null,
      "left": null,
      "margin": null,
      "max_height": null,
      "max_width": null,
      "min_height": null,
      "min_width": null,
      "object_fit": null,
      "object_position": null,
      "order": null,
      "overflow": null,
      "overflow_x": null,
      "overflow_y": null,
      "padding": null,
      "right": null,
      "top": null,
      "visibility": null,
      "width": null
     }
    },
    "e6efdf93b1444984810dd32d506227d5": {
     "model_module": "@jupyter-widgets/controls",
     "model_name": "HBoxModel",
     "state": {
      "_dom_classes": [],
      "_model_module": "@jupyter-widgets/controls",
      "_model_module_version": "1.5.0",
      "_model_name": "HBoxModel",
      "_view_count": null,
      "_view_module": "@jupyter-widgets/controls",
      "_view_module_version": "1.5.0",
      "_view_name": "HBoxView",
      "box_style": "",
      "children": [
       "IPY_MODEL_0078023356f142bdbe4e13a42df460fb",
       "IPY_MODEL_01658e0aebd84db9912ea456bd1ad030"
      ],
      "layout": "IPY_MODEL_583e6f0878e04a0bbebf5d80d9d712dc"
     }
    },
    "e734818e32a54c71b6397ef84b35bf07": {
     "model_module": "@jupyter-widgets/controls",
     "model_name": "HBoxModel",
     "state": {
      "_dom_classes": [],
      "_model_module": "@jupyter-widgets/controls",
      "_model_module_version": "1.5.0",
      "_model_name": "HBoxModel",
      "_view_count": null,
      "_view_module": "@jupyter-widgets/controls",
      "_view_module_version": "1.5.0",
      "_view_name": "HBoxView",
      "box_style": "",
      "children": [
       "IPY_MODEL_bf33fa62bd4546bdbe142239f472fbb3",
       "IPY_MODEL_ca04c2ebb96f48109ef440c260aa125a"
      ],
      "layout": "IPY_MODEL_029f1768c5734beab39a592b44f75a9d"
     }
    },
    "f280e146d6c54fb59f8ce36f2d1cc6a3": {
     "model_module": "@jupyter-widgets/base",
     "model_name": "LayoutModel",
     "state": {
      "_model_module": "@jupyter-widgets/base",
      "_model_module_version": "1.2.0",
      "_model_name": "LayoutModel",
      "_view_count": null,
      "_view_module": "@jupyter-widgets/base",
      "_view_module_version": "1.2.0",
      "_view_name": "LayoutView",
      "align_content": null,
      "align_items": null,
      "align_self": null,
      "border": null,
      "bottom": null,
      "display": null,
      "flex": null,
      "flex_flow": null,
      "grid_area": null,
      "grid_auto_columns": null,
      "grid_auto_flow": null,
      "grid_auto_rows": null,
      "grid_column": null,
      "grid_gap": null,
      "grid_row": null,
      "grid_template_areas": null,
      "grid_template_columns": null,
      "grid_template_rows": null,
      "height": null,
      "justify_content": null,
      "justify_items": null,
      "left": null,
      "margin": null,
      "max_height": null,
      "max_width": null,
      "min_height": null,
      "min_width": null,
      "object_fit": null,
      "object_position": null,
      "order": null,
      "overflow": null,
      "overflow_x": null,
      "overflow_y": null,
      "padding": null,
      "right": null,
      "top": null,
      "visibility": null,
      "width": null
     }
    },
    "fb66cde27d0849bba4947c024e198f7f": {
     "model_module": "@jupyter-widgets/controls",
     "model_name": "HBoxModel",
     "state": {
      "_dom_classes": [],
      "_model_module": "@jupyter-widgets/controls",
      "_model_module_version": "1.5.0",
      "_model_name": "HBoxModel",
      "_view_count": null,
      "_view_module": "@jupyter-widgets/controls",
      "_view_module_version": "1.5.0",
      "_view_name": "HBoxView",
      "box_style": "",
      "children": [
       "IPY_MODEL_b9d32ac7b88c4f4e900b160f05c016a3",
       "IPY_MODEL_b2f66cc8930240a5b74d5480377496ed"
      ],
      "layout": "IPY_MODEL_bebcff464bfc44ffa82e311a39cae7d7"
     }
    }
   }
  }
 },
 "nbformat": 4,
 "nbformat_minor": 1
}
