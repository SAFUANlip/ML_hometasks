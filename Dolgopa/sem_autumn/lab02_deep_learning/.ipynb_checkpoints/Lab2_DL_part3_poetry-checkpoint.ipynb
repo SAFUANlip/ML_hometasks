{
 "cells": [
  {
   "cell_type": "markdown",
   "metadata": {},
   "source": [
    "## Lab 2"
   ]
  },
  {
   "cell_type": "markdown",
   "metadata": {},
   "source": [
    "### Part 3. Poetry generation\n",
    "\n",
    "Let's try to generate some poetry using RNNs. \n",
    "\n",
    "You have several choices here: \n",
    "\n",
    "* The Shakespeare sonnets, file `sonnets.txt` available in the notebook directory.\n",
    "\n",
    "* Роман в стихах \"Евгений Онегин\" Александра Сергеевича Пушкина. В предобработанном виде доступен по [ссылке](https://github.com/attatrol/data_sources/blob/master/onegin.txt).\n",
    "\n",
    "* Some other text source, if it will be approved by the course staff.\n",
    "\n",
    "Text generation can be designed in several steps:\n",
    "    \n",
    "1. Data loading.\n",
    "2. Dictionary generation.\n",
    "3. Data preprocessing.\n",
    "4. Model (neural network) training.\n",
    "5. Text generation (model evaluation).\n"
   ]
  },
  {
   "cell_type": "code",
   "execution_count": 1,
   "metadata": {},
   "outputs": [
    {
     "name": "stderr",
     "output_type": "stream",
     "text": [
      "D:\\AnacondaGO\\lib\\site-packages\\tqdm\\auto.py:22: TqdmWarning: IProgress not found. Please update jupyter and ipywidgets. See https://ipywidgets.readthedocs.io/en/stable/user_install.html\n",
      "  from .autonotebook import tqdm as notebook_tqdm\n"
     ]
    }
   ],
   "source": [
    "import string\n",
    "import os\n",
    "import numpy as np\n",
    "\n",
    "import torch, torch.nn as nn\n",
    "import torch.nn.functional as F \n",
    "\n",
    "from IPython.display import clear_output\n",
    "from random import sample\n",
    "\n",
    "import matplotlib.pyplot as plt\n",
    "%matplotlib inline"
   ]
  },
  {
   "cell_type": "markdown",
   "metadata": {},
   "source": [
    "### Data loading: Shakespeare"
   ]
  },
  {
   "cell_type": "markdown",
   "metadata": {},
   "source": [
    "Shakespeare sonnets are awailable at this [link](http://www.gutenberg.org/ebooks/1041?msg=welcome_stranger). In addition, they are stored in the same directory as this notebook (`sonnetes.txt`). Simple preprocessing is already done for you in the next cell: all technical info is dropped."
   ]
  },
  {
   "cell_type": "code",
   "execution_count": 2,
   "metadata": {},
   "outputs": [],
   "source": [
    "if not os.path.exists('sonnets.txt'):\n",
    "    !wget https://raw.githubusercontent.com/girafe-ai/ml-course/22f_basic/homeworks_basic/lab02_deep_learning/sonnets.txt\n",
    "\n",
    "with open('sonnets.txt', 'r') as iofile:\n",
    "    text = iofile.readlines()\n",
    "    \n",
    "TEXT_START = 45\n",
    "TEXT_END = -368\n",
    "text = text[TEXT_START : TEXT_END]\n",
    "assert len(text) == 2616"
   ]
  },
  {
   "cell_type": "markdown",
   "metadata": {},
   "source": [
    "In opposite to the in-class practice, this time we want to predict complex text. Let's reduce the complexity of the task and lowercase all the symbols.\n",
    "\n",
    "Now variable `text` is a list of strings. Join all the strings into one and lowercase it."
   ]
  },
  {
   "cell_type": "code",
   "execution_count": 3,
   "metadata": {},
   "outputs": [],
   "source": [
    "text = \"\".join(text)\n",
    "text = text.lower()"
   ]
  },
  {
   "cell_type": "code",
   "execution_count": 4,
   "metadata": {},
   "outputs": [
    {
     "name": "stdout",
     "output_type": "stream",
     "text": [
      "OK!\n"
     ]
    }
   ],
   "source": [
    "# Join all the strings into one and lowercase it\n",
    "# Put result into variable text.\n",
    "\n",
    "# Your great code here\n",
    "\n",
    "assert len(text) == 100225, 'Are you sure you have concatenated all the strings?'\n",
    "assert not any([x in set(text) for x in string.ascii_uppercase]), 'Uppercase letters are present'\n",
    "print('OK!')"
   ]
  },
  {
   "cell_type": "markdown",
   "metadata": {},
   "source": [
    "### Data loading: \"Евгений Онегин\"\n"
   ]
  },
  {
   "cell_type": "code",
   "execution_count": 5,
   "metadata": {},
   "outputs": [],
   "source": [
    "#!wget https://raw.githubusercontent.com/attatrol/data_sources/master/onegin.txt\n",
    "    \n",
    "# with open('onegin.txt', 'r', encoding='utf-8') as iofile:\n",
    "#     text_onegin = iofile.readlines()\n",
    "    \n",
    "# text_onegin = [x.replace('\\t\\t', '') for x in text_onegin]"
   ]
  },
  {
   "cell_type": "markdown",
   "metadata": {},
   "source": [
    "In opposite to the in-class practice, this time we want to predict complex text. Let's reduce the complexity of the task and lowercase all the symbols.\n",
    "\n",
    "Now variable `text` is a list of strings. Join all the strings into one and lowercase it."
   ]
  },
  {
   "cell_type": "code",
   "execution_count": 6,
   "metadata": {},
   "outputs": [],
   "source": [
    "# Join all the strings into one and lowercase it\n",
    "# Put result into variable text.\n",
    "\n",
    "# Your great code here\n"
   ]
  },
  {
   "cell_type": "markdown",
   "metadata": {},
   "source": [
    "Put all the characters, that you've seen in the text, into variable `tokens`."
   ]
  },
  {
   "cell_type": "code",
   "execution_count": 7,
   "metadata": {},
   "outputs": [],
   "source": [
    "tokens = sorted(set(text))"
   ]
  },
  {
   "cell_type": "code",
   "execution_count": 8,
   "metadata": {},
   "outputs": [
    {
     "data": {
      "text/plain": [
       "38"
      ]
     },
     "execution_count": 8,
     "metadata": {},
     "output_type": "execute_result"
    }
   ],
   "source": [
    "len(tokens) "
   ]
  },
  {
   "cell_type": "markdown",
   "metadata": {},
   "source": [
    "Create dictionary `token_to_idx = {<char>: <index>}` and dictionary `idx_to_token = {<index>: <char>}`"
   ]
  },
  {
   "cell_type": "code",
   "execution_count": 9,
   "metadata": {},
   "outputs": [],
   "source": [
    "token_to_idx = {}\n",
    "idx_to_token = {}\n",
    "for i, token in enumerate(tokens):\n",
    "    token_to_idx[token] = i\n",
    "    idx_to_token[i] = token"
   ]
  },
  {
   "cell_type": "code",
   "execution_count": 10,
   "metadata": {},
   "outputs": [],
   "source": [
    "parts = text.split('\\n\\n') # строфы и номера строф"
   ]
  },
  {
   "cell_type": "code",
   "execution_count": 11,
   "metadata": {},
   "outputs": [],
   "source": [
    "#parts "
   ]
  },
  {
   "cell_type": "code",
   "execution_count": 12,
   "metadata": {},
   "outputs": [],
   "source": [
    "def to_matrix(parts, max_len=None, pad=token_to_idx[' '], dtype='int32', batch_first = True):\n",
    "    max_len = max_len or max(map(len, parts))\n",
    "    parts_ix = np.zeros([len(parts), max_len], dtype) + pad # default everywhere pad \n",
    "\n",
    "    for i in range(len(parts)):\n",
    "        line_ix = [token_to_idx[c] for c in parts[i]] # coding sybhols in every part\n",
    "        parts_ix[i, :len(line_ix)] = line_ix # fills with encoded symbols\n",
    "        \n",
    "    if not batch_first:\n",
    "        parts_ix = np.transpose(parts_ix) # not really undestand why we do it\n",
    "\n",
    "    return parts_ix"
   ]
  },
  {
   "cell_type": "markdown",
   "metadata": {},
   "source": [
    "*Comment: in this task we have only 38 different tokens, so let's use one-hot encoding.*"
   ]
  },
  {
   "cell_type": "markdown",
   "metadata": {},
   "source": [
    "### Building the model"
   ]
  },
  {
   "cell_type": "markdown",
   "metadata": {},
   "source": [
    "Now we want to build and train recurrent neural net which would be able to something similar to Shakespeare's poetry.\n",
    "\n",
    "Let's use vanilla RNN, similar to the one created during the lesson."
   ]
  },
  {
   "cell_type": "code",
   "execution_count": 13,
   "metadata": {},
   "outputs": [],
   "source": [
    "class CharRNNCell(nn.Module):\n",
    "    \"\"\"\n",
    "    Implement the scheme above as torch module\n",
    "    \"\"\"\n",
    "    def __init__(self, num_tokens=len(tokens), embedding_size=18, rnn_num_units=64):\n",
    "        super(self.__class__,self).__init__()\n",
    "        self.num_units = rnn_num_units # размер скрытого состояния \n",
    "        \n",
    "        self.embedding = nn.Embedding(num_tokens, embedding_size) # выдаёт веса токена (перемножение one-hot вектора на матрицу)\n",
    "        self.rnn_update = nn.Linear(embedding_size + rnn_num_units, rnn_num_units)\n",
    "        self.rnn_to_logits = nn.Linear(rnn_num_units, num_tokens)\n",
    "        \n",
    "    def forward(self, x, h_prev):\n",
    "        \"\"\"\n",
    "        This method computes h_next(x, h_prev) and log P(x_next | h_next)\n",
    "        We'll call it repeatedly to produce the whole sequence.\n",
    "        \n",
    "        :param x: batch of character ids, containing vector of int64\n",
    "        :param h_prev: previous rnn hidden states, containing matrix [batch, rnn_num_units] of float32\n",
    "        \"\"\"\n",
    "        # get vector embedding of x\n",
    "        x_emb = self.embedding(x)\n",
    "        \n",
    "        # compute next hidden state using self.rnn_update\n",
    "        # hint: use torch.cat(..., dim=...) for concatenation\n",
    "        x_and_h = torch.cat([x_emb, h_prev], dim=1) \n",
    "        h_next = self.rnn_update(x_and_h)\n",
    "        \n",
    "        h_next = torch.tanh(h_next) #YOUR CODE HERE\n",
    "        \n",
    "        assert h_next.size() == h_prev.size()\n",
    "        \n",
    "        #compute logits for next character probs\n",
    "        logits = self.rnn_to_logits(h_next) \n",
    "        \n",
    "        return h_next, F.log_softmax(logits, -1)\n",
    "    \n",
    "    def initial_state(self, batch_size):\n",
    "        \"\"\" return rnn state before it processes first input (aka h0) \"\"\"\n",
    "        return torch.zeros(batch_size, self.num_units, requires_grad=True)"
   ]
  },
  {
   "cell_type": "code",
   "execution_count": 14,
   "metadata": {},
   "outputs": [],
   "source": [
    "def rnn_loop(char_rnn, batch_ix):\n",
    "    \"\"\"\n",
    "    Computes log P(next_character) for all time-steps in names_ix\n",
    "    :param names_ix: an int32 matrix of shape [batch, time], output of to_matrix(names)\n",
    "    \"\"\"\n",
    "    batch_size, max_length = batch_ix.size()\n",
    "    hid_state = char_rnn.initial_state(batch_size)\n",
    "    logits = []\n",
    "\n",
    "    for x_t in batch_ix.transpose(0,1):\n",
    "        hid_state, logits_next = char_rnn(x_t, hid_state)  # <-- here we call your one-step code\n",
    "        #print(hid_state.shape, logits_next.shape)\n",
    "        logits.append(logits_next)\n",
    "        \n",
    "    return torch.stack(logits, dim=1)"
   ]
  },
  {
   "cell_type": "markdown",
   "metadata": {},
   "source": [
    "## Testing for one forward"
   ]
  },
  {
   "cell_type": "code",
   "execution_count": 14,
   "metadata": {},
   "outputs": [],
   "source": [
    "char_rnn = CharRNNCell()\n",
    "num_tokens = len(tokens) "
   ]
  },
  {
   "cell_type": "code",
   "execution_count": 15,
   "metadata": {},
   "outputs": [],
   "source": [
    "batch_ix = to_matrix(parts[:5])\n",
    "batch_ix = torch.tensor(batch_ix, dtype=torch.int64)\n",
    "\n",
    "logit_seq = rnn_loop(char_rnn, batch_ix)\n",
    "\n",
    "assert torch.max(logit_seq).data.numpy().item() <= 0 \n",
    "assert tuple(logit_seq.size()) ==  batch_ix.shape + (num_tokens,)"
   ]
  },
  {
   "cell_type": "code",
   "execution_count": 16,
   "metadata": {},
   "outputs": [],
   "source": [
    "predictions_logits = logit_seq[:, :-1]\n",
    "actual_next_tokens = batch_ix[:, 1:]"
   ]
  },
  {
   "cell_type": "code",
   "execution_count": 17,
   "metadata": {},
   "outputs": [],
   "source": [
    "loss_func = nn.CrossEntropyLoss(ignore_index=token_to_idx[' '])\n",
    "loss2 = loss_func(\n",
    "    predictions_logits.reshape((-1, num_tokens)),\n",
    "    actual_next_tokens.reshape(-1)\n",
    "    ) "
   ]
  },
  {
   "cell_type": "code",
   "execution_count": 18,
   "metadata": {},
   "outputs": [],
   "source": [
    "loss2.backward() "
   ]
  },
  {
   "cell_type": "code",
   "execution_count": 19,
   "metadata": {},
   "outputs": [],
   "source": [
    "for w in char_rnn.parameters():\n",
    "    assert w.grad is not None and torch.max(torch.abs(w.grad)).data.numpy() != 0, \\\n",
    "        \"Loss is not differentiable w.r.t. a weight with shape %s. Check forward method.\" % (w.size(),)"
   ]
  },
  {
   "cell_type": "markdown",
   "metadata": {},
   "source": [
    "Plot the loss function (axis X: number of epochs, axis Y: loss function)."
   ]
  },
  {
   "cell_type": "code",
   "execution_count": 20,
   "metadata": {},
   "outputs": [],
   "source": [
    "char_rnn = CharRNNCell()\n",
    "opt = torch.optim.Adam(char_rnn.parameters())\n",
    "loss_func = nn.NLLLoss() # nn.CrossEntropy - combination of LogSoftmax and NLLLoss, in forward we return log_softmax, so \n",
    "                         # we need only NLLLoss\n",
    "\n",
    "history = []"
   ]
  },
  {
   "cell_type": "code",
   "execution_count": 21,
   "metadata": {},
   "outputs": [
    {
     "data": {
      "image/png": "[encoded data removed]",
      "text/plain": [
       "<Figure size 640x480 with 1 Axes>"
      ]
     },
     "metadata": {},
     "output_type": "display_data"
    }
   ],
   "source": [
    "for i in range(1000):\n",
    "    batch_ix = to_matrix(sample(parts, 32))\n",
    "    batch_ix = torch.tensor(batch_ix, dtype=torch.int64)\n",
    "    \n",
    "    logits_seq = rnn_loop(char_rnn, batch_ix)\n",
    "    \n",
    "    predictions_logits = logits_seq[:, :-1]\n",
    "    actual_next_tokens = batch_ix[:, 1:]\n",
    "\n",
    "    loss = loss_func(\n",
    "        predictions_logits.contiguous().view(-1, num_tokens),\n",
    "        actual_next_tokens.contiguous().view(-1)\n",
    "    )\n",
    "    loss.backward()\n",
    "    opt.step()\n",
    "    \n",
    "    opt.zero_grad()\n",
    "    \n",
    "    history.append(loss.data.numpy())\n",
    "    if (i+1)%100==0:\n",
    "        clear_output(True)\n",
    "        plt.plot(history, label='loss')\n",
    "        plt.legend()\n",
    "        plt.show()\n",
    "\n",
    "assert np.mean(history[:10]) > np.mean(history[-10:]), \"RNN didn't converge.\""
   ]
  },
  {
   "cell_type": "code",
   "execution_count": 22,
   "metadata": {},
   "outputs": [],
   "source": [
    "MAX_LENGTH = 10000"
   ]
  },
  {
   "cell_type": "code",
   "execution_count": 15,
   "metadata": {},
   "outputs": [],
   "source": [
    "def generate_sample(char_rnn, seed_phrase='what', max_length=100, temperature=1.0):\n",
    "    '''\n",
    "    ### Disclaimer: this is an example function for text generation.\n",
    "    ### You can either adapt it in your code or create your own function\n",
    "    \n",
    "    The function generates text given a phrase of length at least SEQ_LENGTH.\n",
    "    :param seed_phrase: prefix characters. The RNN is asked to continue the phrase\n",
    "    :param max_length: maximum output length, including seed_phrase\n",
    "    :param temperature: coefficient for sampling.  higher temperature produces more chaotic outputs, \n",
    "        smaller temperature converges to the single most likely output.\n",
    "        \n",
    "    Be careful with the model output. This model waits logits (not probabilities/log-probabilities)\n",
    "    of the next symbol.\n",
    "    '''\n",
    "    x_sequence = [token_to_idx[token] for token in seed_phrase]\n",
    "    x_sequence = torch.tensor([[x_sequence]], dtype=torch.int64)\n",
    "    hid_state = char_rnn.initial_state(batch_size=1)\n",
    "    \n",
    "    #feed the seed phrase, if any\n",
    "    for i in range(len(seed_phrase) - 1):\n",
    "        hid_state, out = char_rnn(x_sequence[:, :, i][0], hid_state)\n",
    "    \n",
    "    #start generating\n",
    "    for _ in range(max_length - len(seed_phrase)):\n",
    "        hid_state, out = char_rnn(x_sequence[:, :, -1][0], hid_state)\n",
    "        p_next = F.softmax(out / temperature, dim=-1).data.numpy()[0]\n",
    "        \n",
    "        next_ix = np.random.choice(len(tokens), p=p_next)\n",
    "        next_ix = torch.tensor([[next_ix]], dtype=torch.int64)\n",
    "        x_sequence = torch.cat([x_sequence, next_ix[None, :, :]], dim=2)\n",
    "    return ''.join([tokens[ix] for ix in x_sequence.data.numpy()[0][0]])"
   ]
  },
  {
   "cell_type": "code",
   "execution_count": 31,
   "metadata": {},
   "outputs": [
    {
     "name": "stdout",
     "output_type": "stream",
     "text": [
      " brung fqyiseest mesne,\n",
      "  thin thingart hi gerded dearted fard thim mpy bethere the her that the lone so bo; winh th s ofver loth fio not sas, i lome, thin of ald whewe to the sunce be oviint live lees soses betound conting the with of thaind for art a that thes mpere sore freacoms the is thy thy shoth thy and ontilg for on theol deald ane tone hay,\n",
      "  thou mich wime,\n",
      "  miss or and show thy fillf ther thin pertaf thus heos dom\n",
      "  the, chat wore is stise fay made fore doth and, love angiest blispey wingant pured by that thou beeje,\n",
      "  thou has heen ther proth woust it of ster ole  ald you of and nove aby nor thes dande.\n",
      "  ast prees anleh?\n",
      "  whrulene of thal to than  thit mrse apsel but the suth dees,\n",
      "  hin  that  dost feay tho mere of thou that ibury the love ofe all as my the be that preof mich mume to thou wath sith thou acr noth the, and oflevert thes asthon wimer hage, liget,\n",
      "  wort me per,\n",
      "  theal shat,\n",
      "  theas gors heath in of verar be the erech the the tord?\n",
      "  wher is emgy pair seest of mimes more thee,\n",
      "  and thound lovin that lient,\n",
      "  enticires\n",
      "  sencer me dyesais thou drairtes and somt hey the his mare;\n",
      "  the id thas buse fee indt, dote to lave what whaut, to whate be pin,,   thon myity\n",
      "  thou bays of tonk lo evese forlest revoust coodine bust frars read'd the the ealf  or whel my thee hof rething,\n",
      "  hour's thas med will the in of the butr-to thec mang prey sewers than in thape yours:\n",
      "  wher wurto ceafthe wreeloug thy shath and ands of ard eveni thy uesun,\n",
      "   breen then thas owst my pross pilune then wrakes\n",
      "  thou hame why gongor frall thouss my pertin ar mene sol is then same whilf that  feare thy daprast ad  that in why doun's as nothil dougne inet i love perour as eare,\n",
      "  wher the tich in is eay, in thous disce,\n",
      "  in selles gormour-so that sekty and vispent ame cowry somwire and reach wheat makt it the woold of thou i sueptrers deare diektrigh's wilstre.\n",
      "    cor head,\n",
      "  or moullr no why and bearse, gha thoun dithin i  no bepor ead,  no  se dowe proed wreld pree;\n",
      "  and botere preener th ungell sides thoug whonmen so deare thy aljed thie you sterw ald, is ana the ast harse is anteen thou, thou hate the hich soth suring roast leas, to ghare be mest diskerse fors bupere:\n",
      "  mave undee thee and wirg tore to his mess don hear thouch worse tyes accrenger the thee raiges in to thar roft steres cowher inlog in mat the silf,\n",
      "  dave me the an foned lether five losh, mad the.                                                                                                                                                                                                                                                                                                                                                                                                                                                                                                                                                                                                                                                                                                                                                                                                                                                                                                                                                                                                                                                                                                                                                                                                                                                                                                                                                                                                                                                                                                                                                                                                                                                                                                                                                                                                                                                                                                                                                                                                                                                                                                                                                                                                                                                                                                                                                                                                                                                                                                                                                                                                                                                                                                                                                                                                                                                                                                                                                                                                                                                                                                                                                                                                                                                                                                                                                                                                                                                                                                                                                                                                                                                                                                                                                                                                                                                                                                                                                                                                                                                                                                                                                                                                                                                                                                                                                                                                                                                                                                                                                                                                                                                                                                                                                                                                                                                                                                                                                                                                                                                                                                                                                                                                                                                                                                                                                                                                                                                                                                                                                                                                                                                                                                                                                                                                                                                                                                                                                                                                                                                                                                                                                                                                                                                                                                                                                                                                                                                                                                                                                                                                                                                                                                                                                                                                                                                                                                                                                                                                                                                                                                                                                                                                                                                                                                                                                                                                                                                                                                                                                                                                                                                                                                                                                                                                                                                                                                   \n"
     ]
    }
   ],
   "source": [
    "# An example of generated text.\n",
    "print(generate_sample(char_rnn, \" \", max_length= MAX_LENGTH, temperature = 0.8)) "
   ]
  },
  {
   "cell_type": "markdown",
   "metadata": {},
   "source": [
    "## sometimes numbers of chapter broke generating, and there are just lot of spaces"
   ]
  },
  {
   "cell_type": "markdown",
   "metadata": {},
   "source": [
    "### More poetic model\n",
    "\n",
    "Let's use LSTM instead of vanilla RNN and compare the results."
   ]
  },
  {
   "cell_type": "code",
   "execution_count": 166,
   "metadata": {},
   "outputs": [],
   "source": [
    "import re \n",
    "from nltk.tokenize import word_tokenize\n",
    "from keras.preprocessing.text import Tokenizer\n",
    "from tensorflow.keras.utils import to_categorical\n",
    "from tensorflow.keras.models import Sequential\n",
    "from tensorflow.keras.layers import Dense, Dropout,Embedding, LSTM "
   ]
  },
  {
   "cell_type": "code",
   "execution_count": 76,
   "metadata": {},
   "outputs": [
    {
     "name": "stdout",
     "output_type": "stream",
     "text": [
      "Requirement already satisfied: nltk in d:\\anacondago\\lib\\site-packages (3.6.1)\n",
      "Requirement already satisfied: tqdm in d:\\anacondago\\lib\\site-packages (from nltk) (4.64.0)\n",
      "Requirement already satisfied: joblib in d:\\anacondago\\lib\\site-packages (from nltk) (1.1.0)\n",
      "Requirement already satisfied: click in d:\\anacondago\\lib\\site-packages (from nltk) (8.1.3)\n",
      "Requirement already satisfied: regex in d:\\anacondago\\lib\\site-packages (from nltk) (2022.7.9)\n",
      "Requirement already satisfied: colorama in d:\\anacondago\\lib\\site-packages (from click->nltk) (0.4.5)\n"
     ]
    }
   ],
   "source": [
    "!pip install nltk"
   ]
  },
  {
   "cell_type": "code",
   "execution_count": 54,
   "metadata": {},
   "outputs": [],
   "source": [
    "# exclude = set(\",.:;'\\\"-?!/)(\")\n",
    "# buff = \"\".join([(ch if ch not in exclude else \" \") for ch in text])\n",
    "# tokens_lstm = sorted(set(buff))\n",
    "# buff = buff.split('\\n\\n')\n",
    "# parts_lstm = [i for i in buff if len(i)>10]"
   ]
  },
  {
   "cell_type": "code",
   "execution_count": 120,
   "metadata": {},
   "outputs": [],
   "source": [
    "def preprocess_text(sen):\n",
    "\n",
    "  # Remove punctuations and numbers\n",
    "    exclude = set(\",.:;'\\\"-?!/)(\")\n",
    "    sentence = \"\".join([(ch if ch not in exclude else \" \") for ch in sen])\n",
    "\n",
    "  # Single character removal\n",
    "    sentence = re.sub(r\"\\s+[a-zA-Z]\\s+\", ' ', sentence)\n",
    "    \n",
    "  # Removing multiple spaces  \n",
    "    sentence = re.sub(\" +\", \" \", sentence)\n",
    "\n",
    "    return sentence.lower()\n",
    "\n",
    " # limit text to 5000 words\n",
    "poem_text = preprocess_text(text)"
   ]
  },
  {
   "cell_type": "code",
   "execution_count": 121,
   "metadata": {},
   "outputs": [
    {
     "data": {
      "text/plain": [
       "' from fairest creatures we desire increase \\n that thereby beauty rose might never die \\n but as the riper should by time decease \\n his tender heir might bear his memory \\n but thou contracted to thine own bright eyes \\n feed st thy light flame with self substantial fuel \\n making famine where abundance lies \\n thy self thy foe to thy sweet self too cruel \\n thou that art now the world fresh ornament \\n and only herald to the gaudy spring \\n within thine own bud buriest thy content \\n and tender churl mak st waste in niggarding \\n pity the world or else this glutton be \\n to eat the world due by the grave and thee \\n\\n ii\\n\\n when forty winters shall besiege thy brow \\n and dig deep trenches in thy beauty field \\n thy youth proud livery so gazed on now \\n will be tatter weed of small worth held \\n then being asked where all thy beauty lies \\n where all the treasure of thy lusty days \\n to say within thine own deep sunken eyes \\n were an all eating shame and thriftless praise \\n how much more praise deserv thy beauty use \\n if thou couldst answer this fair child of mine\\n shall sum my count and make my old excuse \\n proving his beauty by succession thine \\n this were to be new made when thou art old \\n and see thy blood warm when thou feel st it cold \\n\\n iii\\n\\n look in thy glass and tell the face thou viewest\\n now is the time that face should form another \\n whose fresh repair if now thou not renewest \\n thou dost beguile the world unbless some mother \\n for where is she so fair whose unear womb\\n disdains the tillage of thy husbandry \\n or who is he so fond will be the tomb \\n of his self love to stop posterity \\n thou art thy mother glass and she in thee\\n calls back the lovely april of her prime \\n so thou through windows of thine age shalt see \\n despite of wrinkles this thy golden time \\n but if thou live remember not to be \\n die single and thine image dies with thee \\n\\n iv\\n\\n unthrifty loveliness why dost thou spend\\n upon thy self thy beauty legacy \\n nature bequest gives nothing but doth lend \\n and being frank she lends to those are free \\n then beauteous niggard why dost thou abuse\\n the bounteous largess given thee to give \\n profitless usurer why dost thou use\\n so great sum of sums yet canst not live \\n for having traffic with thy self alone \\n thou of thy self thy sweet self dost deceive \\n then how when nature calls thee to be gone \\n what acceptable audit canst thou leave \\n thy unused beauty must be tombed with thee \\n which used lives th executor to be those hours that with gentle work did frame\\n the lovely gaze where every eye doth dwell \\n will play the tyrants to the very same\\n and that unfair which fairly doth excel \\n for never resting time leads summer on\\n to hideous winter and confounds him there \\n sap checked with frost and lusty leaves quite gone \\n beauty er snowed and bareness every where \\n then were not summer distillation left liquid prisoner pent in walls of glass \\n beauty effect with beauty were bereft \\n nor it nor no remembrance what it was \\n but flowers distill though they with winter meet \\n leese but their show their substance still lives sweet \\n\\n\\n vi\\n\\n then let not winter ragged hand deface \\n in thee thy summer ere thou be distill make sweet some vial treasure thou some place\\n with beauty treasure ere it be self kill that use is not forbidden usury \\n which happies those that pay the willing loan \\n that for thy self to breed another thee \\n or ten times happier be it ten for one \\n ten times thy self were happier than thou art \\n if ten of thine ten times refigur thee \\n then what could death do if thou shouldst depart \\n leaving thee living in posterity \\n be not self will for thou art much too fair\\n to be death conquest and make worms thine heir \\n\\n vii\\n\\n lo in the orient when the gracious light\\n lifts up his burning head each under eye\\n doth homage to his new appearing sight \\n serving with looks his sacred majesty \\n and having climb the steep up heavenly hill \\n resembling strong youth in his middle age \\n yet mortal looks adore his beauty still \\n attending on his golden pilgrimage \\n but when from highmost pitch with weary car \\n like feeble age he reeleth from the day \\n the eyes fore duteous now converted are\\n from his low tract and look another way \\n so thou thyself outgoing in thy noon \\n unlook on diest unless thou get son \\n\\n viii\\n\\n music to hear why hear st thou music sadly \\n sweets with sweets war not joy delights in joy \\n why lov st thou that which thou receiv st not gladly \\n or else receiv st with pleasure thine annoy \\n if the true concord of well tuned sounds \\n by unions married do offend thine ear \\n they do but sweetly chide thee who confounds\\n in singleness the parts that thou shouldst bear \\n mark how one string sweet husband to another \\n strikes each in each by mutual ordering \\n resembling sire and child and happy mother \\n who all in one one pleasing note do sing \\n whose speechless song being many seeming one \\n sings this to thee thou single wilt prove none \\n\\n ix\\n\\n is it for fear to wet widow eye \\n that thou consum st thy self in single life \\n ah if thou issueless shalt hap to die \\n the world will wail thee like makeless wife \\n the world will be thy widow and still weep\\n that thou no form of thee hast left behind \\n when every private widow well may keep\\n by children eyes her husband shape in mind \\n look what an unthrift in the world doth spend\\n shifts but his place for still the world enjoys it \\n but beauty waste hath in the world an end \\n and kept unused the user so destroys it \\n no love toward others in that bosom sits\\n that on himself such murd rous shame commits for shame deny that thou bear st love to any \\n who for thy self art so unprovident \\n grant if thou wilt thou art belov of many \\n but that thou none lov st is most evident \\n for thou art so possess with murderous hate \\n that gainst thy self thou stick st not to conspire \\n seeking that beauteous roof to ruinate\\n which to repair should be thy chief desire change thy thought that may change my mind \\n shall hate be fairer lodg than gentle love \\n be as thy presence is gracious and kind \\n or to thyself at least kind hearted prove \\n make thee another self for love of me \\n that beauty still may live in thine or thee \\n\\n xi\\n\\n as fast as thou shalt wane so fast thou grow st \\n in one of thine from that which thou departest \\n and that fresh blood which youngly thou bestow st \\n thou mayst call thine when thou from youth convertest \\n herein lives wisdom beauty and increase \\n without this folly age and cold decay \\n if all were minded so the times should cease\\n and threescore year would make the world away \\n let those whom nature hath not made for store \\n harsh featureless and rude barrenly perish \\n look whom she best endow she gave thee more \\n which bounteous gift thou shouldst in bounty cherish \\n she carv thee for her seal and meant thereby \\n thou shouldst print more not let that copy die \\n\\n xii\\n\\n when do count the clock that tells the time \\n and see the brave day sunk in hideous night \\n when behold the violet past prime \\n and sable curls all silvered er with white \\n when lofty trees see barren of leaves \\n which erst from heat did canopy the herd \\n and summer green all girded up in sheaves \\n borne on the bier with white and bristly beard \\n then of thy beauty do question make \\n that thou among the wastes of time must go \\n since sweets and beauties do themselves forsake\\n and die as fast as they see others grow \\n and nothing gainst time scythe can make defence\\n save breed to brave him when he takes thee hence \\n\\n xiii that you were your self but love you are\\n no longer yours than you your self here live \\n against this coming end you should prepare \\n and your sweet semblance to some other give \\n so should that beauty which you hold in lease\\n find no determination then you were\\n yourself again after yourself decease \\n when your sweet issue your sweet form should bear \\n who lets so fair house fall to decay \\n which husbandry in honour might uphold \\n against the stormy gusts of winter day\\n and barren rage of death eternal cold none but unthrifts dear my love you know \\n you had father let your son say so \\n\\n xiv\\n\\n not from the stars do my judgement pluck \\n and yet methinks have astronomy \\n but not to tell of good or evil luck \\n of plagues of dearths or seasons quality \\n nor can fortune to brief minutes tell \\n pointing to each his thunder rain and wind \\n or say with princes if it shall go well\\n by oft predict that in heaven find \\n but from thine eyes my knowledge derive \\n and constant stars in them read such art\\n as truth and beauty shall together thrive \\n if from thyself to store thou wouldst convert \\n or else of thee this prognosticate \\n thy end is truth and beauty doom and date \\n\\n xv\\n\\n when consider every thing that grows\\n holds in perfection but little moment \\n that this huge stage presenteth nought but shows\\n whereon the stars in secret influence comment \\n when perceive that men as plants increase \\n cheered and checked even by the self same sky \\n vaunt in their youthful sap at height decrease \\n and wear their brave state out of memory \\n then the conceit of this inconstant stay\\n sets you most rich in youth before my sight \\n where wasteful time debateth with decay\\n to change your day of youth to sullied night \\n and all in war with time for love of you \\n as he takes from you engraft you new \\n\\n xvi\\n\\n but wherefore do not you mightier way\\n make war upon this bloody tyrant time \\n and fortify your self in your decay\\n with means more blessed than my barren rhyme \\n now stand you on the top of happy hours \\n and many maiden gardens yet unset \\n with virtuous wish would bear you living flowers \\n much liker than your painted counterfeit \\n so should the lines of life that life repair \\n which this time pencil or my pupil pen \\n neither in inward worth nor outward fair \\n can make you live your self in eyes of men \\n to give away yourself keeps yourself still \\n and you must live drawn by your own sweet skill \\n\\n xvii\\n\\n who will believe my verse in time to come \\n if it were fill with your most high deserts \\n though yet heaven knows it is but as tomb\\n which hides your life and shows not half your parts \\n if could write the beauty of your eyes \\n and in fresh numbers number all your graces \\n the age to come would say this poet lies \\n such heavenly touches ne er touch earthly faces \\n so should my papers yellow with their age \\n be scorn like old men of less truth than tongue \\n and your true rights be term a poet rage\\n and stretched metre of an antique song \\n but were some child of yours alive that time \\n you should live twice in it and in my rhyme \\n\\n xviii\\n\\n shall compare thee to summer day \\n thou art more lovely and more temperate \\n rough winds do shake the darling buds of may \\n and summer lease hath all too short date \\n sometime too hot the eye of heaven shines \\n and often is his gold complexion dimm and every fair from fair sometime declines \\n by chance or nature changing course untrimm but thy eternal summer shall not fade \\n nor lose possession of that fair thou ow st \\n nor shall death brag thou wander st in his shade \\n when in eternal lines to time thou grow st \\n so long as men can breathe or eyes can see \\n so long lives this and this gives life to thee \\n\\n xix\\n\\n devouring time blunt thou the lion paws \\n and make the earth devour her own sweet brood \\n pluck the keen teeth from the fierce tiger jaws \\n and burn the long liv phoenix in her blood \\n make glad and sorry seasons as thou fleets \\n and do whate er thou wilt swift footed time \\n to the wide world and all her fading sweets \\n but forbid thee one most heinous crime carve not with thy hours my love fair brow \\n nor draw no lines there with thine antique pen \\n him in thy course untainted do allow\\n for beauty pattern to succeeding men \\n yet do thy worst old time despite thy wrong \\n my love shall in my verse ever live young \\n\\n xx woman face with nature own hand painted \\n hast thou the master mistress of my passion woman gentle heart but not acquainted\\n with shifting change as is false women fashion \\n an eye more bright than theirs less false in rolling \\n gilding the object whereupon it gazeth man in hue all hues in his controlling \\n which steals men eyes and women souls amazeth \\n and for woman wert thou first created \\n till nature as she wrought thee fell doting \\n and by addition me of thee defeated \\n by adding one thing to my purpose nothing \\n but since she prick thee out for women pleasure \\n mine be thy love and thy love use their treasure \\n\\n xxi\\n\\n so is it not with me as with that muse \\n stirr by painted beauty to his verse \\n who heaven itself for ornament doth use\\n and every fair with his fair doth rehearse \\n making couplement of proud compare \\n with sun and moon with earth and sea rich gems \\n with april first born flowers and all things rare \\n that heaven air in this huge rondure hems let me true in love but truly write \\n and then believe me my love is as fair\\n as any mother child though not so bright\\n as those gold candles fix in heaven air \\n let them say more that like of hearsay well will not praise that purpose not to sell \\n\\n xxii\\n\\n my glass shall not persuade me am old \\n so long as youth and thou are of one date \\n but when in thee time furrows behold \\n then look death my days should expiate \\n for all that beauty that doth cover thee \\n is but the seemly raiment of my heart \\n which in thy breast doth live as thine in me \\n how can then be elder than thou art therefore love be of thyself so wary\\n as not for myself but for thee will \\n bearing thy heart which will keep so chary\\n as tender nurse her babe from faring ill \\n presume not on thy heart when mine is slain \\n thou gav st me thine not to give back again \\n\\n xxiii\\n\\n as an unperfect actor on the stage \\n who with his fear is put beside his part \\n or some fierce thing replete with too much rage \\n whose strength abundance weakens his own heart \\n so for fear of trust forget to say\\n the perfect ceremony of love rite \\n and in mine own love strength seem to decay ercharg with burthen of mine own love might let my looks be then the eloquence\\n and dumb presagers of my speaking breast \\n who plead for love and look for recompense \\n more than that tongue that more hath more express o learn to read what silent love hath writ \\n to hear with eyes belongs to love fine wit \\n\\n xxiv\\n\\n mine eye hath play the painter and hath stell thy beauty form in table of my heart \\n my body is the frame wherein tis held \\n and perspective it is best painter art \\n for through the painter must you see his skill \\n to find where your true image pictur lies \\n which in my bosom shop is hanging still \\n that hath his windows glazed with thine eyes \\n now see what good turns eyes for eyes have done \\n mine eyes have drawn thy shape and thine for me\\n are windows to my breast where through the sun\\n delights to peep to gaze therein on thee \\n yet eyes this cunning want to grace their art \\n they draw but what they see know not the heart \\n\\n xxv\\n\\n let those who are in favour with their stars\\n of public honour and proud titles boast \\n whilst whom fortune of such triumph bars\\n unlook for joy in that honour most \\n great princes favourites their fair leaves spread\\n but as the marigold at the sun eye \\n and in themselves their pride lies buried \\n for at frown they in their glory die \\n the painful warrior famoused for fight \\n after thousand victories once foil is from the book of honour razed quite \\n and all the rest forgot for which he toil then happy that love and am belov where may not remove nor be remov xxvi\\n\\n lord of my love to whom in vassalage\\n thy merit hath my duty strongly knit \\n to thee send this written embassage \\n to witness duty not to show my wit \\n duty so great which wit so poor as mine\\n may make seem bare in wanting words to show it \\n but that hope some good conceit of thine\\n in thy soul thought all naked will bestow it \\n till whatsoever star that guides my moving \\n points on me graciously with fair aspect \\n and puts apparel on my tatter loving \\n to show me worthy of thy sweet respect \\n then may dare to boast how do love thee \\n till then not show my head where thou mayst prove me \\n\\n xxvii\\n\\n weary with toil haste me to my bed \\n the dear respose for limbs with travel tir but then begins journey in my head\\n to work my mind when body work expired \\n for then my thoughts from far where abide \\n intend zealous pilgrimage to thee \\n and keep my drooping eyelids open wide \\n looking on darkness which the blind do see \\n save that my soul imaginary sight\\n presents thy shadow to my sightless view \\n which like jewel hung in ghastly night \\n makes black night beauteous and her old face new \\n lo thus by day my limbs by night my mind \\n for thee and for myself no quiet find \\n\\n xxviii\\n\\n how can then return in happy plight \\n that am debarre the benefit of rest \\n when day oppression is not eas by night \\n but day by night and night by day oppress and each though enemies to either reign \\n do in consent shake hands to torture me \\n the one by toil the other to complain\\n how far toil still farther off from thee tell the day to please him thou art bright \\n and dost him grace when clouds do blot the heaven \\n so flatter the swart complexion night \\n when sparkling stars twire not thou gild st the even \\n but day doth daily draw my sorrows longer \\n and night doth nightly make grief length seem stronger \\n\\n xxix\\n\\n when in disgrace with fortune and men eyes all alone beweep my outcast state \\n and trouble deaf heaven with my bootless cries \\n and look upon myself and curse my fate \\n wishing me like to one more rich in hope \\n featur like him like him with friends possess desiring this man art and that man scope \\n with what most enjoy contented least \\n yet in these thoughts my self almost despising \\n haply think on thee and then my state \\n like to the lark at break of day arising\\n from sullen earth sings hymns at heaven gate \\n for thy sweet love remember such wealth brings\\n that then scorn to change my state with kings \\n\\n xxx\\n\\n when to the sessions of sweet silent thought summon up remembrance of things past sigh the lack of many thing sought \\n and with old woes new wail my dear time waste \\n then can drown an eye unused to flow \\n for precious friends hid in death dateless night \\n and weep afresh love long since cancell woe \\n and moan the expense of many vanish sight \\n then can grieve at grievances foregone \\n and heavily from woe to woe tell er\\n the sad account of fore bemoaned moan \\n which new pay as if not paid before \\n but if the while think on thee dear friend \\n all losses are restor and sorrows end \\n\\n xxxi\\n\\n thy bosom is endeared with all hearts \\n which by lacking have supposed dead \\n and there reigns love and all love loving parts \\n and all those friends which thought buried \\n how many holy and obsequious tear\\n hath dear religious love stol from mine eye \\n as interest of the dead which now appear\\n but things remov that hidden in thee lie \\n thou art the grave where buried love doth live \\n hung with the trophies of my lovers gone \\n who all their parts of me to thee did give \\n that due of many now is thine alone \\n their images lov i view in thee \\n and thou all they hast all the all of me \\n\\n xxxii\\n\\n if thou survive my well contented day \\n when that churl death my bones with dust shall cover\\n and shalt by fortune once more re survey\\n these poor rude lines of thy deceased lover \\n compare them with the bett ring of the time \\n and though they be outstripp by every pen \\n reserve them for my love not for their rhyme \\n exceeded by the height of happier men then vouchsafe me but this loving thought \\n had my friend muse grown with this growing age dearer birth than this his love had brought \\n to march in ranks of better equipage \\n but since he died and poets better prove \\n theirs for their style ll read his for his love \\n\\n xxxiii\\n\\n full many glorious morning have seen\\n flatter the mountain tops with sovereign eye \\n kissing with golden face the meadows green \\n gilding pale streams with heavenly alchemy \\n anon permit the basest clouds to ride\\n with ugly rack on his celestial face \\n and from the forlorn world his visage hide \\n stealing unseen to west with this disgrace \\n even so my sun one early morn did shine \\n with all triumphant splendour on my brow \\n but out alack he was but one hour mine \\n the region cloud hath mask him from me now \\n yet him for this my love no whit disdaineth \\n suns of the world may stain when heaven sun staineth \\n\\n xxxiv\\n\\n why didst thou promise such beauteous day \\n and make me travel forth without my cloak \\n to let base clouds ertake me in my way \\n hiding thy bravery in their rotten smoke \\n tis not enough that through the cloud thou break \\n to dry the rain on my storm beaten face \\n for no man well of such salve can speak \\n that heals the wound and cures not the disgrace \\n nor can thy shame give physic to my grief \\n though thou repent yet have still the loss \\n the offender sorrow lends but weak relief\\n to him that bears the strong offence cross \\n ah but those tears are pearl which thy love sheds \\n and they are rich and ransom all ill deeds \\n\\n xxxv\\n\\n no more be griev at that which thou hast done \\n roses have thorns and silver fountains mud \\n clouds and eclipses stain both moon and sun \\n and loathsome canker lives in sweetest bud \\n all men make faults and even in this \\n authorizing thy trespass with compare \\n myself corrupting salving thy amiss \\n excusing thy sins more than thy sins are \\n for to thy sensual fault bring in sense \\n thy adverse party is thy advocate \\n and gainst myself lawful plea commence \\n such civil war is in my love and hate \\n that an accessary needs must be \\n to that sweet thief which sourly robs from me \\n\\n xxxvi\\n\\n let me confess that we two must be twain \\n although our undivided loves are one \\n so shall those blots that do with me remain \\n without thy help by me be borne alone \\n in our two loves there is but one respect \\n though in our lives separable spite \\n which though it alter not love sole effect \\n yet doth it steal sweet hours from love delight may not evermore acknowledge thee \\n lest my bewailed guilt should do thee shame \\n nor thou with public kindness honour me \\n unless thou take that honour from thy name \\n but do not so love thee in such sort \\n as thou being mine mine is thy good report \\n\\n xxxvii\\n\\n as decrepit father takes delight\\n to see his active child do deeds of youth \\n so made lame by fortune dearest spite \\n take all my comfort of thy worth and truth \\n for whether beauty birth or wealth or wit \\n or any of these all or all or more \\n entitled in thy parts do crowned sit make my love engrafted to this store \\n so then am not lame poor nor despis whilst that this shadow doth such substance give\\n that in thy abundance am suffic and by part of all thy glory live \\n look what is best that best wish in thee \\n this wish have then ten times happy me \\n\\n xxxviii\\n\\n how can my muse want subject to invent \\n while thou dost breathe that pour st into my verse\\n thine own sweet argument too excellent\\n for every vulgar paper to rehearse give thy self the thanks if aught in me\\n worthy perusal stand against thy sight \\n for who so dumb that cannot write to thee \\n when thou thy self dost give invention light \\n be thou the tenth muse ten times more in worth\\n than those old nine which rhymers invocate \\n and he that calls on thee let him bring forth\\n eternal numbers to outlive long date \\n if my slight muse do please these curious days \\n the pain be mine but thine shall be the praise \\n\\n xxxix how thy worth with manners may sing \\n when thou art all the better part of me \\n what can mine own praise to mine own self bring \\n and what is but mine own when praise thee \\n even for this let us divided live \\n and our dear love lose name of single one \\n that by this separation may give\\n that due to thee which thou deserv st alone absence what torment wouldst thou prove \\n were it not thy sour leisure gave sweet leave \\n to entertain the time with thoughts of love \\n which time and thoughts so sweetly doth deceive \\n and that thou teachest how to make one twain \\n by praising him here who doth hence remain \\n\\n xl\\n\\n take all my loves my love yea take them all \\n what hast thou then more than thou hadst before \\n no love my love that thou mayst true love call \\n all mine was thine before thou hadst this more \\n then if for my love thou my love receivest cannot blame thee for my love thou usest \\n but yet be blam if thou thy self deceivest\\n by wilful taste of what thyself refusest do forgive thy robbery gentle thief \\n although thou steal thee all my poverty \\n and yet love knows it is greater grief\\n to bear love wrong than hate known injury \\n lascivious grace in whom all ill well shows \\n kill me with spites yet we must not be foes \\n\\n xli\\n\\n those pretty wrongs that liberty commits \\n when am sometime absent from thy heart \\n thy beauty and thy years full well befits \\n for still temptation follows where thou art \\n gentle thou art and therefore to be won \\n beauteous thou art therefore to be assail and when woman woos what woman son\\n will sourly leave her till he have prevail ay me but yet thou mightst my seat forbear \\n and chide thy beauty and thy straying youth \\n who lead thee in their riot even there\\n where thou art forced to break twofold truth \\n hers by thy beauty tempting her to thee \\n thine by thy beauty being false to me \\n\\n xlii\\n\\n that thou hast her it is not all my grief \\n and yet it may be said loved her dearly \\n that she hath thee is of my wailing chief loss in love that touches me more nearly \\n loving offenders thus will excuse ye \\n thou dost love her because thou know st love her \\n and for my sake even so doth she abuse me \\n suffering my friend for my sake to approve her \\n if lose thee my loss is my love gain \\n and losing her my friend hath found that loss \\n both find each other and lose both twain \\n and both for my sake lay on me this cross \\n but here the joy my friend and are one \\n sweet flattery then she loves but me alone \\n\\n xliii\\n\\n when most wink then do mine eyes best see \\n for all the day they view things unrespected \\n but when sleep in dreams they look on thee \\n and darkly bright are bright in dark directed \\n then thou whose shadow shadows doth make bright \\n how would thy shadow form form happy show\\n to the clear day with thy much clearer light \\n when to unseeing eyes thy shade shines so \\n how would say mine eyes be blessed made\\n by looking on thee in the living day \\n when in dead night thy fair imperfect shade\\n through heavy sleep on sightless eyes doth stay \\n all days are nights to see till see thee \\n and nights bright days when dreams do show thee me \\n\\n xliv\\n\\n if the dull substance of my flesh were thought \\n injurious distance should not stop my way \\n for then despite of space would be brought \\n from limits far remote where thou dost stay \\n no matter then although my foot did stand\\n upon the farthest earth remov from thee \\n for nimble thought can jump both sea and land \\n as soon as think the place where he would be \\n but ah thought kills me that am not thought \\n to leap large lengths of miles when thou art gone \\n but that so much of earth and water wrought must attend time leisure with my moan \\n receiving nought by elements so slow\\n but heavy tears badges of either woe \\n\\n xlv\\n\\n the other two slight air and purging fire\\n are both with thee wherever abide \\n the first my thought the other my desire \\n these present absent with swift motion slide \\n for when these quicker elements are gone\\n in tender embassy of love to thee \\n my life being made of four with two alone\\n sinks down to death oppress with melancholy \\n until life composition be recur by those swift messengers return from thee \\n who even but now come back again assur of thy fair health recounting it to me \\n this told joy but then no longer glad send them back again and straight grow sad \\n\\n xlvi\\n\\n mine eye and heart are at mortal war \\n how to divide the conquest of thy sight \\n mine eye my heart thy picture sight would bar \\n my heart mine eye the freedom of that right \\n my heart doth plead that thou in him dost lie closet never pierc with crystal eyes \\n but the defendant doth that plea deny \\n and says in him thy fair appearance lies \\n to side this title is impannelled quest of thoughts all tenants to the heart \\n and by their verdict is determined\\n the clear eye moiety and the dear heart part \\n as thus mine eye due is thy outward part \\n and my heart right thy inward love of heart \\n\\n xlvii\\n\\n betwixt mine eye and heart league is took \\n and each doth good turns now unto the other \\n when that mine eye is famish for look \\n or heart in love with sighs himself doth smother \\n with my love picture then my eye doth feast \\n and to the painted banquet bids my heart \\n another time mine eye is my heart guest \\n and in his thoughts of love doth share part \\n so either by thy picture or my love \\n thy self away art present still with me \\n for thou not farther than my thoughts canst move \\n and am still with them and they with thee \\n or if they sleep thy picture in my sight\\n awakes my heart to heart and eye delight \\n\\n xlviii\\n\\n how careful was when took my way \\n each trifle under truest bars to thrust \\n that to my use it might unused stay\\n from hands of falsehood in sure wards of trust \\n but thou to whom my jewels trifles are \\n most worthy comfort now my greatest grief \\n thou best of dearest and mine only care \\n art left the prey of every vulgar thief \\n thee have not lock up in any chest \\n save where thou art not though feel thou art \\n within the gentle closure of my breast \\n from whence at pleasure thou mayst come and part \\n and even thence thou wilt be stol i fear \\n for truth proves thievish for prize so dear \\n\\n xlix\\n\\n against that time if ever that time come \\n when shall see thee frown on my defects \\n when as thy love hath cast his utmost sum \\n call to that audit by advis respects \\n against that time when thou shalt strangely pass \\n and scarcely greet me with that sun thine eye \\n when love converted from the thing it was \\n shall reasons find of settled gravity \\n against that time do ensconce me here \\n within the knowledge of mine own desert \\n and this my hand against my self uprear \\n to guard the lawful reasons on thy part \\n to leave poor me thou hast the strength of laws \\n since why to love can allege no cause how heavy do journey on the way \\n when what seek my weary travel end \\n doth teach that ease and that repose to say \\n thus far the miles are measured from thy friend \\n the beast that bears me tired with my woe \\n plods dully on to bear that weight in me \\n as if by some instinct the wretch did know\\n his rider lov not speed being made from thee \\n the bloody spur cannot provoke him on \\n that sometimes anger thrusts into his hide \\n which heavily he answers with groan \\n more sharp to me than spurring to his side \\n for that same groan doth put this in my mind \\n my grief lies onward and my joy behind \\n\\n li\\n\\n thus can my love excuse the slow offence\\n of my dull bearer when from thee speed \\n from where thou art why should haste me thence \\n till return of posting is no need what excuse will my poor beast then find \\n when swift extremity can seem but slow \\n then should spur though mounted on the wind \\n in winged speed no motion shall know \\n then can no horse with my desire keep pace \\n therefore desire of perfect st love being made \\n shall neigh no dull flesh in his fiery race \\n but love for love thus shall excuse my jade \\n since from thee going he went wilful slow \\n towards thee ll run and give him leave to go \\n\\n lii\\n\\n so am as the rich whose blessed key \\n can bring him to his sweet up locked treasure \\n the which he will not every hour survey \\n for blunting the fine point of seldom pleasure \\n therefore are feasts so solemn and so rare \\n since seldom coming in that long year set \\n like stones of worth they thinly placed are \\n or captain jewels in the carcanet \\n so is the time that keeps you as my chest \\n or as the wardrobe which the robe doth hide \\n to make some special instant special blest \\n by new unfolding his imprison pride \\n blessed are you whose worthiness gives scope \\n being had to triumph being lacked to hope \\n\\n liii\\n\\n what is your substance whereof are you made \\n that millions of strange shadows on you tend \\n since every one hath every one one shade \\n and you but one can every shadow lend \\n describe adonis and the counterfeit\\n is poorly imitated after you \\n on helen cheek all art of beauty set \\n and you in grecian tires are painted new \\n speak of the spring and foison of the year \\n the one doth shadow of your beauty show \\n the other as your bounty doth appear \\n and you in every blessed shape we know \\n in all external grace you have some part \\n but you like none none you for constant heart \\n\\n liv how much more doth beauty beauteous seem\\n by that sweet ornament which truth doth give \\n the rose looks fair but fairer we it deem\\n for that sweet odour which doth in it live \\n the canker blooms have full as deep dye\\n as the perfumed tincture of the roses \\n hang on such thorns and play as wantonly\\n when summer breath their masked buds discloses \\n but for their virtue only is their show \\n they live unwoo and unrespected fade \\n die to themselves sweet roses do not so \\n of their sweet deaths are sweetest odours made \\n and so of you beauteous and lovely youth \\n when that shall vade by verse distills your truth \\n\\n lv\\n\\n not marble nor the gilded monuments\\n of princes shall outlive this powerful rhyme \\n but you shall shine more bright in these contents\\n than unswept stone besmear with sluttish time \\n when wasteful war shall statues overturn \\n and broils root out the work of masonry \\n nor mars his sword nor war quick fire shall burn\\n the living record of your memory \\n gainst death and all oblivious enmity\\n shall you pace forth your praise shall still find room\\n even in the eyes of all posterity\\n that wear this world out to the ending doom \\n so till the judgment that yourself arise \\n you live in this and dwell in lovers eyes \\n\\n lvi\\n\\n sweet love renew thy force be it not said\\n thy edge should blunter be than appetite \\n which but to day by feeding is allay to morrow sharpened in his former might \\n so love be thou although to day thou fill\\n thy hungry eyes even till they wink with fulness \\n to morrow see again and do not kill\\n the spirit of love with perpetual dulness \\n let this sad interim like the ocean be\\n which parts the shore where two contracted new\\n come daily to the banks that when they see\\n return of love more blest may be the view \\n or call it winter which being full of care \\n makes summer welcome thrice more wished more rare \\n\\n lvii\\n\\n being your slave what should do but tend \\n upon the hours and times of your desire have no precious time at all to spend \\n nor services to do till you require \\n nor dare chide the world without end hour \\n whilst my sovereign watch the clock for you \\n nor think the bitterness of absence sour \\n when you have bid your servant once adieu \\n nor dare question with my jealous thought\\n where you may be or your affairs suppose \\n but like sad slave stay and think of nought\\n save where you are how happy you make those \\n so true fool is love that in your will \\n though you do anything he thinks no ill \\n\\n lviii\\n\\n that god forbid that made me first your slave should in thought control your times of pleasure \\n or at your hand the account of hours to crave \\n being your vassal bound to stay your leisure let me suffer being at your beck \\n the imprison absence of your liberty \\n and patience tame to sufferance bide each check \\n without accusing you of injury \\n be where you list your charter is so strong\\n that you yourself may privilage your time\\n to what you will to you it doth belong\\n yourself to pardon of self doing crime am to wait though waiting so be hell \\n not blame your pleasure be it ill or well \\n\\n lix\\n\\n if there be nothing new but that which is\\n hath been before how are our brains beguil which labouring for invention bear amiss\\n the second burthen of former child that record could with backward look \\n even of five hundred courses of the sun \\n show me your image in some antique book \\n since mind at first in character was done \\n that might see what the old world could say\\n to this composed wonder of your frame \\n wh we are mended or wh better they \\n or whether revolution be the same sure am the wits of former days \\n to subjects worse have given admiring praise \\n\\n lx\\n\\n like as the waves make towards the pebbled shore \\n so do our minutes hasten to their end \\n each changing place with that which goes before \\n in sequent toil all forwards do contend \\n nativity once in the main of light \\n crawls to maturity wherewith being crown crooked eclipses gainst his glory fight \\n and time that gave doth now his gift confound \\n time doth transfix the flourish set on youth\\n and delves the parallels in beauty brow \\n feeds on the rarities of nature truth \\n and nothing stands but for his scythe to mow \\n and yet to times in hope my verse shall stand \\n praising thy worth despite his cruel hand \\n\\n lxi\\n\\n is it thy will thy image should keep open\\n my heavy eyelids to the weary night \\n dost thou desire my slumbers should be broken \\n while shadows like to thee do mock my sight \\n is it thy spirit that thou send st from thee\\n so far from home into my deeds to pry \\n to find out shames and idle hours in me \\n the scope and tenure of thy jealousy no thy love though much is not so great \\n it is my love that keeps mine eye awake \\n mine own true love that doth my rest defeat \\n to play the watchman ever for thy sake \\n for thee watch whilst thou dost wake elsewhere \\n from me far off with others all too near \\n\\n lxii\\n\\n sin of self love possesseth all mine eye\\n and all my soul and all my every part \\n and for this sin there is no remedy \\n it is so grounded inward in my heart \\n methinks no face so gracious is as mine \\n no shape so true no truth of such account \\n and for myself mine own worth do define \\n as all other in all worths surmount \\n but when my glass shows me myself indeed\\n beated and chopp with tanned antiquity \\n mine own self love quite contrary read \\n self so self loving were iniquity \\n tis thee myself that for myself praise \\n painting my age with beauty of thy days \\n\\n lxiii\\n\\n against my love shall be as am now \\n with time injurious hand crush and erworn \\n when hours have drain his blood and fill his brow\\n with lines and wrinkles when his youthful morn\\n hath travell on to age steepy night \\n and all those beauties whereof now he king\\n are vanishing or vanished out of sight \\n stealing away the treasure of his spring \\n for such time do now fortify\\n against confounding age cruel knife \\n that he shall never cut from memory\\n my sweet love beauty though my lover life \\n his beauty shall in these black lines be seen \\n and they shall live and he in them still green \\n\\n lxiv\\n\\n when have seen by time fell hand defac the rich proud cost of outworn buried age \\n when sometime lofty towers see down raz and brass eternal slave to mortal rage \\n when have seen the hungry ocean gain\\n advantage on the kingdom of the shore \\n and the firm soil win of the watery main \\n increasing store with loss and loss with store \\n when have seen such interchange of state \\n or state itself confounded to decay \\n ruin hath taught me thus to ruminate \\n that time will come and take my love away \\n this thought is as death which cannot choose\\n but weep to have that which it fears to lose \\n\\n lxv\\n\\n since brass nor stone nor earth nor boundless sea \\n but sad mortality ersways their power \\n how with this rage shall beauty hold plea \\n whose action is no stronger than flower how shall summer honey breath hold out \\n against the wrackful siege of battering days \\n when rocks impregnable are not so stout \\n nor gates of steel so strong but time decays fearful meditation where alack \\n shall time best jewel from time chest lie hid \\n or what strong hand can hold his swift foot back \\n or who his spoil of beauty can forbid none unless this miracle have might \\n that in black ink my love may still shine bright \\n\\n lxvi\\n\\n tired with all these for restful death cry \\n as to behold desert beggar born \\n and needy nothing trimm in jollity \\n and purest faith unhappily forsworn \\n and gilded honour shamefully misplac and maiden virtue rudely strumpeted \\n and right perfection wrongfully disgrac and strength by limping sway disabled\\n and art made tongue tied by authority \\n and folly doctor like controlling skill \\n and simple truth miscall simplicity \\n and captive good attending captain ill \\n tir with all these from these would be gone \\n save that to die leave my love alone \\n\\n lxvii\\n\\n ah wherefore with infection should he live \\n and with his presence grace impiety \\n that sin by him advantage should achieve \\n and lace itself with his society \\n why should false painting imitate his cheek \\n and steel dead seeming of his living hue \\n why should poor beauty indirectly seek\\n roses of shadow since his rose is true \\n why should he live now nature bankrupt is \\n beggar of blood to blush through lively veins \\n for she hath no exchequer now but his \\n and proud of many lives upon his gains him she stores to show what wealth she had\\n in days long since before these last so bad \\n\\n lxviii\\n\\n thus is his cheek the map of days outworn \\n when beauty lived and died as flowers do now \\n before these bastard signs of fair were born \\n or durst inhabit on living brow \\n before the golden tresses of the dead \\n the right of sepulchres were shorn away \\n to live second life on second head \\n ere beauty dead fleece made another gay \\n in him those holy antique hours are seen \\n without all ornament itself and true \\n making no summer of another green \\n robbing no old to dress his beauty new \\n and him as for map doth nature store \\n to show false art what beauty was of yore \\n\\n lxix\\n\\n those parts of thee that the world eye doth view\\n want nothing that the thought of hearts can mend \\n all tongues the voice of souls give thee that due \\n uttering bare truth even so as foes commend \\n thy outward thus with outward praise is crown but those same tongues that give thee so thine own \\n in other accents do this praise confound\\n by seeing farther than the eye hath shown \\n they look into the beauty of thy mind \\n and that in guess they measure by thy deeds \\n then churls their thoughts although their eyes were kind \\n to thy fair flower add the rank smell of weeds \\n but why thy odour matcheth not thy show \\n the soil is this that thou dost common grow \\n\\n lxx\\n\\n that thou art blam shall not be thy defect \\n for slander mark was ever yet the fair \\n the ornament of beauty is suspect crow that flies in heaven sweetest air \\n so thou be good slander doth but approve\\n thy worth the greater being woo of time \\n for canker vice the sweetest buds doth love \\n and thou present st pure unstained prime \\n thou hast passed by the ambush of young days\\n either not assail or victor being charg yet this thy praise cannot be so thy praise \\n to tie up envy evermore enlarg if some suspect of ill mask not thy show \\n then thou alone kingdoms of hearts shouldst owe \\n\\n lxxi\\n\\n no longer mourn for me when am dead\\n than you shall hear the surly sullen bell\\n give warning to the world that am fled\\n from this vile world with vilest worms to dwell \\n nay if you read this line remember not\\n the hand that writ it for love you so \\n that in your sweet thoughts would be forgot \\n if thinking on me then should make you woe if say you look upon this verse \\n when perhaps compounded am with clay \\n do not so much as my poor name rehearse \\n but let your love even with my life decay \\n lest the wise world should look into your moan \\n and mock you with me after am gone \\n\\n lxxii lest the world should task you to recite\\n what merit lived in me that you should love\\n after my death dear love forget me quite \\n for you in me can nothing worthy prove \\n unless you would devise some virtuous lie \\n to do more for me than mine own desert \\n and hang more praise upon deceased than niggard truth would willingly impart lest your true love may seem false in this\\n that you for love speak well of me untrue \\n my name be buried where my body is \\n and live no more to shame nor me nor you \\n for am shamed by that which bring forth \\n and so should you to love things nothing worth \\n\\n lxxiii\\n\\n that time of year thou mayst in me behold\\n when yellow leaves or none or few do hang\\n upon those boughs which shake against the cold \\n bare ruin choirs where late the sweet birds sang \\n in me thou see st the twilight of such day\\n as after sunset fadeth in the west \\n which by and by black night doth take away \\n death second self that seals up all in rest \\n in me thou see st the glowing of such fire \\n that on the ashes of his youth doth lie \\n as the death bed whereon it must expire \\n consum with that which it was nourish by \\n this thou perceiv st which makes thy love more strong \\n to love that well which thou must leave ere long \\n\\n lxxiv\\n\\n but be contented when that fell arrest\\n without all bail shall carry me away \\n my life hath in this line some interest \\n which for memorial still with thee shall stay \\n when thou reviewest this thou dost review\\n the very part was consecrate to thee \\n the earth can have but earth which is his due \\n my spirit is thine the better part of me \\n so then thou hast but lost the dregs of life \\n the prey of worms my body being dead \\n the coward conquest of wretch knife \\n too base of thee to be remembered \\n the worth of that is that which it contains \\n and that is this and this with thee remains \\n\\n lxxv\\n\\n so are you to my thoughts as food to life \\n or as sweet season showers are to the ground \\n and for the peace of you hold such strife\\n as twixt miser and his wealth is found \\n now proud as an enjoyer and anon\\n doubting the filching age will steal his treasure \\n now counting best to be with you alone \\n then better that the world may see my pleasure \\n sometime all full with feasting on your sight \\n and by and by clean starved for look \\n possessing or pursuing no delight \\n save what is had or must from you be took \\n thus do pine and surfeit day by day \\n or gluttoning on all or all away \\n\\n lxxvi\\n\\n why is my verse so barren of new pride \\n so far from variation or quick change \\n why with the time do not glance aside\\n to new found methods and to compounds strange \\n why write still all one ever the same \\n and keep invention in noted weed \\n that every word doth almost tell my name \\n showing their birth and where they did proceed know sweet love always write of you \\n and you and love are still my argument \\n so all my best is dressing old words new \\n spending again what is already spent \\n for as the sun is daily new and old \\n so is my love still telling what is told \\n\\n lxxvii\\n\\n thy glass will show thee how thy beauties wear \\n thy dial how thy precious minutes waste \\n these vacant leaves thy mind imprint will bear \\n and of this book this learning mayst thou taste \\n the wrinkles which thy glass will truly show\\n of mouthed graves will give thee memory \\n thou by thy dial shady stealth mayst know\\n time thievish progress to eternity \\n look what thy memory cannot contain \\n commit to these waste blanks and thou shalt find\\n those children nursed deliver from thy brain \\n to take new acquaintance of thy mind \\n these offices so oft as thou wilt look \\n shall profit thee and much enrich thy book \\n\\n lxxviii\\n\\n so oft have invoked thee for my muse \\n and found such fair assistance in my verse\\n as every alien pen hath got my use\\n and under thee their poesy disperse \\n thine eyes that taught the dumb on high to sing\\n and heavy ignorance aloft to fly \\n have added feathers to the learned wing\\n and given grace double majesty \\n yet be most proud of that which compile \\n whose influence is thine and born of thee \\n in others works thou dost but mend the style \\n and arts with thy sweet graces graced be \\n but thou art all my art and dost advance\\n as high as learning my rude ignorance \\n\\n lxxix\\n\\n whilst alone did call upon thy aid \\n my verse alone had all thy gentle grace \\n but now my gracious numbers are decay and my sick muse doth give an other place grant sweet love thy lovely argument\\n deserves the travail of worthier pen \\n yet what of thee thy poet doth invent\\n he robs thee of and pays it thee again \\n he lends thee virtue and he stole that word\\n from thy behaviour beauty doth he give \\n and found it in thy cheek he can afford\\n no praise to thee but what in thee doth live \\n then thank him not for that which he doth say \\n since what he owes thee thou thyself dost pay \\n\\n lxxx how faint when of you do write \\n knowing better spirit doth use your name \\n and in the praise thereof spends all his might \\n to make me tongue tied speaking of your fame \\n but since your worth wide as the ocean is \\n the humble as the proudest sail doth bear \\n my saucy bark inferior far to his \\n on your broad main doth wilfully appear \\n your shallowest help will hold me up afloat \\n whilst he upon your soundless deep doth ride \\n or being wrack i am worthless boat \\n he of tall building and of goodly pride \\n then if he thrive and be cast away \\n the worst was this my love was my decay \\n\\n lxxxi\\n\\n or shall live your epitaph to make \\n or you survive when in earth am rotten \\n from hence your memory death cannot take \\n although in me each part will be forgotten \\n your name from hence immortal life shall have \\n though once gone to all the world must die \\n the earth can yield me but common grave \\n when you entombed in men eyes shall lie \\n your monument shall be my gentle verse \\n which eyes not yet created shall er read \\n and tongues to be your being shall rehearse \\n when all the breathers of this world are dead \\n you still shall live such virtue hath my pen \\n where breath most breathes even in the mouths of men \\n\\n lxxxii grant thou wert not married to my muse \\n and therefore mayst without attaint erlook\\n the dedicated words which writers use\\n of their fair subject blessing every book \\n thou art as fair in knowledge as in hue \\n finding thy worth limit past my praise \\n and therefore art enforced to seek anew\\n some fresher stamp of the time bettering days \\n and do so love yet when they have devis what strained touches rhetoric can lend \\n thou truly fair wert truly sympathiz in true plain words by thy true telling friend \\n and their gross painting might be better us where cheeks need blood in thee it is abus lxxxiii never saw that you did painting need \\n and therefore to your fair no painting set found or thought found you did exceed\\n that barren tender of poet debt \\n and therefore have slept in your report \\n that you yourself being extant well might show\\n how far modern quill doth come too short \\n speaking of worth what worth in you doth grow \\n this silence for my sin you did impute \\n which shall be most my glory being dumb \\n for impair not beauty being mute \\n when others would give life and bring tomb \\n there lives more life in one of your fair eyes\\n than both your poets can in praise devise \\n\\n lxxxiv\\n\\n who is it that says most which can say more \\n than this rich praise that you alone are you \\n in whose confine immured is the store\\n which should example where your equal grew \\n lean penury within that pen doth dwell\\n that to his subject lends not some small glory \\n but he that writes of you if he can tell\\n that you are you so dignifies his story \\n let him but copy what in you is writ \\n not making worse what nature made so clear \\n and such counterpart shall fame his wit \\n making his style admired every where \\n you to your beauteous blessings add curse \\n being fond on praise which makes your praises worse \\n\\n lxxxv\\n\\n my tongue tied muse in manners holds her still \\n while comments of your praise richly compil reserve their character with golden quill \\n and precious phrase by all the muses fil i think good thoughts whilst others write good words \\n and like unlettered clerk still cry amen \\n to every hymn that able spirit affords \\n in polish form of well refined pen \\n hearing you praised say tis so tis true \\n and to the most of praise add something more \\n but that is in my thought whose love to you \\n though words come hindmost holds his rank before \\n then others for the breath of words respect \\n me for my dumb thoughts speaking in effect \\n\\n lxxxvi\\n\\n was it the proud full sail of his great verse \\n bound for the prize of all too precious you \\n that did my ripe thoughts in my brain inhearse \\n making their tomb the womb wherein they grew \\n was it his spirit by spirits taught to write \\n above mortal pitch that struck me dead \\n no neither he nor his compeers by night\\n giving him aid my verse astonished \\n he nor that affable familiar ghost\\n which nightly gulls him with intelligence \\n as victors of my silence cannot boast was not sick of any fear from thence \\n but when your countenance fill up his line \\n then lacked matter that enfeebled mine \\n\\n lxxxvii\\n\\n farewell thou art too dear for my possessing \\n and like enough thou know st thy estimate \\n the charter of thy worth gives thee releasing \\n my bonds in thee are all determinate \\n for how do hold thee but by thy granting \\n and for that riches where is my deserving \\n the cause of this fair gift in me is wanting \\n and so my patent back again is swerving \\n thy self thou gav st thy own worth then not knowing \\n or me to whom thou gav st it else mistaking \\n so thy great gift upon misprision growing \\n comes home again on better judgement making \\n thus have had thee as dream doth flatter \\n in sleep king but waking no such matter \\n\\n lxxxviii\\n\\n when thou shalt be dispos to set me light \\n and place my merit in the eye of scorn \\n upon thy side against myself ll fight \\n and prove thee virtuous though thou art forsworn \\n with mine own weakness being best acquainted \\n upon thy part can set down story\\n of faults conceal wherein am attainted \\n that thou in losing me shalt win much glory \\n and by this will be gainer too \\n for bending all my loving thoughts on thee \\n the injuries that to myself do \\n doing thee vantage double vantage me \\n such is my love to thee so belong \\n that for thy right myself will bear all wrong \\n\\n lxxxix\\n\\n say that thou didst forsake me for some fault \\n and will comment upon that offence \\n speak of my lameness and straight will halt \\n against thy reasons making no defence \\n thou canst not love disgrace me half so ill \\n to set form upon desired change \\n as ll myself disgrace knowing thy will will acquaintance strangle and look strange \\n be absent from thy walks and in my tongue\\n thy sweet beloved name no more shall dwell \\n lest too much profane should do it wrong \\n and haply of our old acquaintance tell \\n for thee against my self ll vow debate \\n for must ne er love him whom thou dost hate \\n\\n xc\\n\\n then hate me when thou wilt if ever now \\n now while the world is bent my deeds to cross \\n join with the spite of fortune make me bow \\n and do not drop in for an after loss \\n ah do not when my heart hath scap this sorrow \\n come in the rearward of conquer woe \\n give not windy night rainy morrow \\n to linger out purpos overthrow \\n if thou wilt leave me do not leave me last \\n when other petty griefs have done their spite \\n but in the onset come so shall taste\\n at first the very worst of fortune might \\n and other strains of woe which now seem woe \\n compar with loss of thee will not seem so \\n\\n xci\\n\\n some glory in their birth some in their skill \\n some in their wealth some in their body force \\n some in their garments though new fangled ill \\n some in their hawks and hounds some in their horse \\n and every humour hath his adjunct pleasure \\n wherein it finds joy above the rest \\n but these particulars are not my measure \\n all these better in one general best \\n thy love is better than high birth to me \\n richer than wealth prouder than garments costs \\n of more delight than hawks and horses be \\n and having thee of all men pride boast \\n wretched in this alone that thou mayst take\\n all this away and me most wretchcd make \\n\\n xcii\\n\\n but do thy worst to steal thyself away \\n for term of life thou art assured mine \\n and life no longer than thy love will stay \\n for it depends upon that love of thine \\n then need not to fear the worst of wrongs \\n when in the least of them my life hath end see better state to me belongs\\n than that which on thy humour doth depend \\n thou canst not vex me with inconstant mind \\n since that my life on thy revolt doth lie what happy title do find \\n happy to have thy love happy to die \\n but what so blessed fair that fears no blot \\n thou mayst be false and yet know it not \\n\\n xciii\\n\\n so shall live supposing thou art true \\n like deceived husband so love face\\n may still seem love to me though alter new \\n thy looks with me thy heart in other place \\n for there can live no hatred in thine eye \\n therefore in that cannot know thy change \\n in many looks the false heart history\\n is writ in moods and frowns and wrinkles strange \\n but heaven in thy creation did decree\\n that in thy face sweet love should ever dwell \\n whate er thy thoughts or thy heart workings be \\n thy looks should nothing thence but sweetness tell \\n how like eve apple doth thy beauty grow \\n if thy sweet virtue answer not thy show \\n\\n xciv\\n\\n they that have power to hurt and will do none \\n that do not do the thing they most do show \\n who moving others are themselves as stone \\n unmoved cold and to temptation slow \\n they rightly do inherit heaven graces \\n and husband nature riches from expense \\n they are the lords and owners of their faces \\n others but stewards of their excellence \\n the summer flower is to the summer sweet \\n though to itself it only live and die \\n but if that flower with base infection meet \\n the basest weed outbraves his dignity \\n for sweetest things turn sourest by their deeds \\n lilies that fester smell far worse than weeds \\n\\n xcv\\n\\n how sweet and lovely dost thou make the shame\\n which like canker in the fragrant rose \\n doth spot the beauty of thy budding name in what sweets dost thou thy sins enclose \\n that tongue that tells the story of thy days \\n making lascivious comments on thy sport \\n cannot dispraise but in kind of praise \\n naming thy name blesses an ill report what mansion have those vices got\\n which for their habitation chose out thee \\n where beauty veil doth cover every blot\\n and all things turns to fair that eyes can see \\n take heed dear heart of this large privilege \\n the hardest knife ill us doth lose his edge \\n\\n xcvi\\n\\n some say thy fault is youth some wantonness \\n some say thy grace is youth and gentle sport \\n both grace and faults are lov of more and less \\n thou mak st faults graces that to thee resort \\n as on the finger of throned queen\\n the basest jewel will be well esteem so are those errors that in thee are seen\\n to truths translated and for true things deem how many lambs might the stern wolf betray \\n if like lamb he could his looks translate \\n how many gazers mightst thou lead away \\n if thou wouldst use the strength of all thy state \\n but do not so love thee in such sort \\n as thou being mine mine is thy good report \\n\\n xcvii\\n\\n how like winter hath my absence been\\n from thee the pleasure of the fleeting year \\n what freezings have felt what dark days seen \\n what old december bareness everywhere \\n and yet this time removed was summer time \\n the teeming autumn big with rich increase \\n bearing the wanton burden of the prime \\n like widow wombs after their lords decease \\n yet this abundant issue seem to me\\n but hope of orphans and unfather fruit \\n for summer and his pleasures wait on thee \\n and thou away the very birds are mute \\n or if they sing tis with so dull cheer \\n that leaves look pale dreading the winter near \\n\\n xcviii\\n\\n from you have been absent in the spring \\n when proud pied april dress in all his trim \\n hath put spirit of youth in every thing \\n that heavy saturn laugh and leap with him \\n yet nor the lays of birds nor the sweet smell\\n of different flowers in odour and in hue \\n could make me any summer story tell \\n or from their proud lap pluck them where they grew \\n nor did wonder at the lily white \\n nor praise the deep vermilion in the rose \\n they were but sweet but figures of delight \\n drawn after you you pattern of all those \\n yet seem it winter still and you away \\n as with your shadow with these did play \\n\\n xcix\\n\\n the forward violet thus did chide \\n sweet thief whence didst thou steal thy sweet that smells \\n if not from my love breath the purple pride\\n which on thy soft cheek for complexion dwells\\n in my love veins thou hast too grossly dy the lily condemned for thy hand \\n and buds of marjoram had stol thy hair \\n the roses fearfully on thorns did stand \\n one blushing shame another white despair third nor red nor white had stol of both \\n and to his robbery had annex thy breath \\n but for his theft in pride of all his growth vengeful canker eat him up to death \\n more flowers noted yet none could see \\n but sweet or colour it had stol from thee where art thou muse that thou forget st so long \\n to speak of that which gives thee all thy might \\n spend st thou thy fury on some worthless song \\n darkening thy power to lend base subjects light \\n return forgetful muse and straight redeem \\n in gentle numbers time so idly spent \\n sing to the ear that doth thy lays esteem\\n and gives thy pen both skill and argument \\n rise resty muse my love sweet face survey \\n if time have any wrinkle graven there \\n if any be satire to decay \\n and make time spoils despised every where \\n give my love fame faster than time wastes life \\n so thou prevent st his scythe and crooked knife \\n\\n ci truant muse what shall be thy amends\\n for thy neglect of truth in beauty dy both truth and beauty on my love depends \\n so dost thou too and therein dignified \\n make answer muse wilt thou not haply say \\n truth needs no colour with his colour fix beauty no pencil beauty truth to lay \\n but best is best if never intermix because he needs no praise wilt thou be dumb \\n excuse not silence so for lies in thee\\n to make him much outlive gilded tomb\\n and to be prais of ages yet to be \\n then do thy office muse teach thee how\\n to make him seem long hence as he shows now \\n\\n cii\\n\\n my love is strengthen though more weak in seeming love not less though less the show appear \\n that love is merchandiz whose rich esteeming \\n the owner tongue doth publish every where \\n our love was new and then but in the spring \\n when was wont to greet it with my lays \\n as philomel in summer front doth sing \\n and stops her pipe in growth of riper days \\n not that the summer is less pleasant now\\n than when her mournful hymns did hush the night \\n but that wild music burthens every bough \\n and sweets grown common lose their dear delight \\n therefore like her sometime hold my tongue \\n because would not dull you with my song \\n\\n ciii\\n\\n alack what poverty my muse brings forth \\n that having such scope to show her pride \\n the argument all bare is of more worth\\n than when it hath my added praise beside blame me not if no more can write \\n look in your glass and there appears face\\n that over goes my blunt invention quite \\n dulling my lines and doing me disgrace \\n were it not sinful then striving to mend \\n to mar the subject that before was well \\n for to no other pass my verses tend\\n than of your graces and your gifts to tell \\n and more much more than in my verse can sit \\n your own glass shows you when you look in it \\n\\n civ\\n\\n to me fair friend you never can be old \\n for as you were when first your eye ey such seems your beauty still three winters cold \\n have from the forests shook three summers pride \\n three beauteous springs to yellow autumn turn in process of the seasons have seen \\n three april perfumes in three hot junes burn since first saw you fresh which yet are green \\n ah yet doth beauty like dial hand \\n steal from his figure and no pace perceiv so your sweet hue which methinks still doth stand \\n hath motion and mine eye may be deceiv for fear of which hear this thou age unbred \\n ere you were born was beauty summer dead \\n\\n cv\\n\\n let not my love be call idolatry \\n nor my beloved as an idol show \\n since all alike my songs and praises be\\n to one of one still such and ever so \\n kind is my love to day to morrow kind \\n still constant in wondrous excellence \\n therefore my verse to constancy confin one thing expressing leaves out difference \\n fair kind and true is all my argument \\n fair kind and true varying to other words \\n and in this change is my invention spent \\n three themes in one which wondrous scope affords \\n fair kind and true have often liv alone \\n which three till now never kept seat in one \\n\\n cvi\\n\\n when in the chronicle of wasted time see descriptions of the fairest wights \\n and beauty making beautiful old rime \\n in praise of ladies dead and lovely knights \\n then in the blazon of sweet beauty best \\n of hand of foot of lip of eye of brow see their antique pen would have express even such beauty as you master now \\n so all their praises are but prophecies\\n of this our time all you prefiguring \\n and for they looked but with divining eyes \\n they had not skill enough your worth to sing \\n for we which now behold these present days \\n have eyes to wonder but lack tongues to praise \\n\\n cvii\\n\\n not mine own fears nor the prophetic soul\\n of the wide world dreaming on things to come \\n can yet the lease of my true love control \\n supposed as forfeit to confin doom \\n the mortal moon hath her eclipse endur and the sad augurs mock their own presage \\n incertainties now crown themselves assur and peace proclaims olives of endless age \\n now with the drops of this most balmy time \\n my love looks fresh and death to me subscribes \\n since spite of him ll live in this poor rime \\n while he insults er dull and speechless tribes \\n and thou in this shalt find thy monument \\n when tyrants crests and tombs of brass are spent \\n\\n cviii\\n\\n what in the brain that ink may character \\n which hath not figur to thee my true spirit \\n what new to speak what now to register \\n that may express my love or thy dear merit \\n nothing sweet boy but yet like prayers divine must each day say er the very same \\n counting no old thing old thou mine thine \\n even as when first hallow thy fair name \\n so that eternal love in love fresh case \\n weighs not the dust and injury of age \\n nor gives to necessary wrinkles place \\n but makes antiquity for aye his page \\n finding the first conceit of love there bred \\n where time and outward form would show it dead \\n\\n cix never say that was false of heart \\n though absence seem my flame to qualify \\n as easy might from my self depart\\n as from my soul which in thy breast doth lie \\n that is my home of love if have rang like him that travels return again \\n just to the time not with the time exchang so that myself bring water for my stain \\n never believe though in my nature reign all frailties that besiege all kinds of blood \\n that it could so preposterously be stain to leave for nothing all thy sum of good \\n for nothing this wide universe call \\n save thou my rose in it thou art my all \\n\\n cx\\n\\n alas tis true have gone here and there \\n and made my self motley to the view \\n gor mine own thoughts sold cheap what is most dear \\n made old offences of affections new \\n most true it is that have look on truth\\n askance and strangely but by all above \\n these blenches gave my heart another youth \\n and worse essays prov thee my best of love \\n now all is done save what shall have no end \\n mine appetite never more will grind\\n on newer proof to try an older friend god in love to whom am confin then give me welcome next my heaven the best \\n even to thy pure and most most loving breast \\n\\n cxi for my sake do you with fortune chide \\n the guilty goddess of my harmful deeds \\n that did not better for my life provide\\n than public means which public manners breeds \\n thence comes it that my name receives brand \\n and almost thence my nature is subdu to what it works in like the dyer hand \\n pity me then and wish were renew whilst like willing patient will drink \\n potions of eisel gainst my strong infection \\n no bitterness that will bitter think \\n nor double penance to correct correction \\n pity me then dear friend and assure ye \\n even that your pity is enough to cure me \\n\\n cxii\\n\\n your love and pity doth the impression fill \\n which vulgar scandal stamp upon my brow \\n for what care who calls me well or ill \\n so you er green my bad my good allow \\n you are my all the world and must strive\\n to know my shames and praises from your tongue \\n none else to me nor to none alive \\n that my steel sense or changes right or wrong \\n in so profound abysm throw all care\\n of others voices that my adder sense\\n to critic and to flatterer stopped are \\n mark how with my neglect do dispense \\n you are so strongly in my purpose bred \\n that all the world besides methinks are dead \\n\\n cxiii\\n\\n since left you mine eye is in my mind \\n and that which governs me to go about\\n doth part his function and is partly blind \\n seems seeing but effectually is out \\n for it no form delivers to the heart\\n of bird of flower or shape which it doth latch \\n of his quick objects hath the mind no part \\n nor his own vision holds what it doth catch \\n for if it see the rud st or gentlest sight \\n the most sweet favour or deformed st creature \\n the mountain or the sea the day or night \\n the crow or dove it shapes them to your feature \\n incapable of more replete with you \\n my most true mind thus maketh mine untrue \\n\\n cxiv\\n\\n or whether doth my mind being crown with you \\n drink up the monarch plague this flattery \\n or whether shall say mine eye saith true \\n and that your love taught it this alchemy \\n to make of monsters and things indigest\\n such cherubins as your sweet self resemble \\n creating every bad perfect best \\n as fast as objects to his beams assemble tis the first tis flattery in my seeing \\n and my great mind most kingly drinks it up \\n mine eye well knows what with his gust is greeing \\n and to his palate doth prepare the cup \\n if it be poison tis the lesser sin\\n that mine eye loves it and doth first begin \\n\\n cxv\\n\\n those lines that before have writ do lie \\n even those that said could not love you dearer \\n yet then my judgment knew no reason why\\n my most full flame should afterwards burn clearer \\n but reckoning time whose million accidents\\n creep in twixt vows and change decrees of kings \\n tan sacred beauty blunt the sharp st intents \\n divert strong minds to the course of altering things \\n alas why fearing of time tyranny \\n might not then say now love you best \\n when was certain er incertainty \\n crowning the present doubting of the rest \\n love is babe then might not say so \\n to give full growth to that which still doth grow \\n\\n cxvi\\n\\n let me not to the marriage of true minds\\n admit impediments love is not love\\n which alters when it alteration finds \\n or bends with the remover to remove no it is an ever fixed mark \\n that looks on tempests and is never shaken \\n it is the star to every wandering bark \\n whose worth unknown although his height be taken \\n love not time fool though rosy lips and cheeks\\n within his bending sickle compass come \\n love alters not with his brief hours and weeks \\n but bears it out even to the edge of doom \\n if this be error and upon me prov i never writ nor no man ever lov cxvii\\n\\n accuse me thus that have scanted all \\n wherein should your great deserts repay \\n forgot upon your dearest love to call \\n whereto all bonds do tie me day by day \\n that have frequent been with unknown minds \\n and given to time your own dear purchas right \\n that have hoisted sail to all the winds\\n which should transport me farthest from your sight \\n book both my wilfulness and errors down \\n and on just proof surmise accumulate \\n bring me within the level of your frown \\n but shoot not at me in your waken hate \\n since my appeal says did strive to prove\\n the constancy and virtue of your love \\n\\n cxviii\\n\\n like as to make our appetite more keen \\n with eager compounds we our palate urge \\n as to prevent our maladies unseen \\n we sicken to shun sickness when we purge \\n even so being full of your ne er cloying sweetness \\n to bitter sauces did frame my feeding \\n and sick of welfare found kind of meetness\\n to be diseas ere that there was true needing \\n thus policy in love to anticipate\\n the ills that were not grew to faults assur and brought to medicine healthful state\\n which rank of goodness would by ill be cur but thence learn and find the lesson true \\n drugs poison him that so fell sick of you \\n\\n cxix\\n\\n what potions have drunk of siren tears \\n distill from limbecks foul as hell within \\n applying fears to hopes and hopes to fears \\n still losing when saw myself to win \\n what wretched errors hath my heart committed \\n whilst it hath thought itself so blessed never \\n how have mine eyes out of their spheres been fitted \\n in the distraction of this madding fever benefit of ill now find true\\n that better is by evil still made better \\n and ruin love when it is built anew \\n grows fairer than at first more strong far greater \\n so return rebuk to my content \\n and gain by ill thrice more than have spent \\n\\n cxx\\n\\n that you were once unkind befriends me now \\n and for that sorrow which then did feel \\n needs must under my transgression bow \\n unless my nerves were brass or hammer steel \\n for if you were by my unkindness shaken \\n as by yours you ve pass a hell of time \\n and a tyrant have no leisure taken\\n to weigh how once suffer in your crime that our night of woe might have remember my deepest sense how hard true sorrow hits \\n and soon to you as you to me then tender the humble salve which wounded bosoms fits \\n but that your trespass now becomes fee \\n mine ransoms yours and yours must ransom me \\n\\n cxxi\\n\\n tis better to be vile than vile esteem when not to be receives reproach of being \\n and the just pleasure lost which is so deem not by our feeling but by others seeing \\n for why should others false adulterate eyes\\n give salutation to my sportive blood \\n or on my frailties why are frailer spies \\n which in their wills count bad what think good \\n no am that am and they that level\\n at my abuses reckon up their own may be straight though they themselves be bevel \\n by their rank thoughts my deeds must not be shown \\n unless this general evil they maintain \\n all men are bad and in their badness reign \\n\\n cxxii\\n\\n thy gift thy tables are within my brain\\n full character with lasting memory \\n which shall above that idle rank remain \\n beyond all date even to eternity \\n or at the least so long as brain and heart\\n have faculty by nature to subsist \\n till each to raz oblivion yield his part\\n of thee thy record never can be miss that poor retention could not so much hold \\n nor need tallies thy dear love to score \\n therefore to give them from me was bold \\n to trust those tables that receive thee more \\n to keep an adjunct to remember thee\\n were to import forgetfulness in me \\n\\n cxxiii\\n\\n no time thou shalt not boast that do change \\n thy pyramids built up with newer might\\n to me are nothing novel nothing strange \\n they are but dressings of former sight \\n our dates are brief and therefore we admire\\n what thou dost foist upon us that is old \\n and rather make them born to our desire\\n than think that we before have heard them told \\n thy registers and thee both defy \\n not wondering at the present nor the past \\n for thy records and what we see doth lie \\n made more or less by thy continual haste \\n this do vow and this shall ever be will be true despite thy scythe and thee \\n\\n cxxiv\\n\\n if my dear love were but the child of state \\n it might for fortune bastard be unfather as subject to time love or to time hate \\n weeds among weeds or flowers with flowers gather no it was builded far from accident \\n it suffers not in smiling pomp nor falls\\n under the blow of thralled discontent \\n whereto th inviting time our fashion calls \\n it fears not policy that heretic \\n which works on leases of short number hours \\n but all alone stands hugely politic \\n that it nor grows with heat nor drowns with showers \\n to this witness call the fools of time \\n which die for goodness who have lived for crime \\n\\n cxxv\\n\\n were aught to me bore the canopy \\n with my extern the outward honouring \\n or laid great bases for eternity \\n which proves more short than waste or ruining \\n have not seen dwellers on form and favour\\n lose all and more by paying too much rent\\n for compound sweet forgoing simple savour \\n pitiful thrivers in their gazing spent \\n no let me be obsequious in thy heart \\n and take thou my oblation poor but free \\n which is not mix with seconds knows no art \\n but mutual render only me for thee \\n hence thou suborned informer true soul\\n when most impeach stands least in thy control \\n\\n cxxvi thou my lovely boy who in thy power\\n dost hold time fickle glass his fickle hour \\n who hast by waning grown and therein show st\\n thy lovers withering as thy sweet self grow st \\n if nature sovereign mistress over wrack \\n as thou goest onwards still will pluck thee back \\n she keeps thee to this purpose that her skill\\n may time disgrace and wretched minutes kill \\n yet fear her thou minion of her pleasure \\n she may detain but not still keep her treasure \\n her audit though delayed answered must be \\n and her quietus is to render thee \\n\\n cxxvii\\n\\n in the old age black was not counted fair \\n or if it were it bore not beauty name \\n but now is black beauty successive heir \\n and beauty slander with bastard shame \\n for since each hand hath put on nature power \\n fairing the foul with art false borrowed face \\n sweet beauty hath no name no holy bower \\n but is profan if not lives in disgrace \\n therefore my mistress eyes are raven black \\n her eyes so suited and they mourners seem\\n at such who not born fair no beauty lack \\n sland ring creation with false esteem \\n yet so they mourn becoming of their woe \\n that every tongue says beauty should look so \\n\\n cxxviii\\n\\n how oft when thou my music music play st \\n upon that blessed wood whose motion sounds\\n with thy sweet fingers when thou gently sway st\\n the wiry concord that mine ear confounds \\n do envy those jacks that nimble leap \\n to kiss the tender inward of thy hand \\n whilst my poor lips which should that harvest reap \\n at the wood boldness by thee blushing stand \\n to be so tickled they would change their state\\n and situation with those dancing chips er whom thy fingers walk with gentle gait \\n making dead wood more bless than living lips \\n since saucy jacks so happy are in this \\n give them thy fingers me thy lips to kiss \\n\\n cxxix\\n\\n the expense of spirit in waste of shame\\n is lust in action and till action lust\\n is perjur murderous bloody full of blame \\n savage extreme rude cruel not to trust \\n enjoy no sooner but despised straight \\n past reason hunted and no sooner had \\n past reason hated as swallow bait \\n on purpose laid to make the taker mad \\n mad in pursuit and in possession so \\n had having and in quest to have extreme bliss in proof and prov a very woe \\n before joy propos behind dream \\n all this the world well knows yet none knows well\\n to shun the heaven that leads men to this hell \\n\\n cxxx\\n\\n my mistress eyes are nothing like the sun \\n coral is far more red than her lips red \\n if snow be white why then her breasts are dun \\n if hairs be wires black wires grow on her head have seen roses damask red and white \\n but no such roses see in her cheeks \\n and in some perfumes is there more delight\\n than in the breath that from my mistress reeks love to hear her speak yet well know\\n that music hath far more pleasing sound grant never saw goddess go \\n my mistress when she walks treads on the ground \\n and yet by heaven think my love as rare \\n as any she belied with false compare \\n\\n cxxxi\\n\\n thou art as tyrannous so as thou art \\n as those whose beauties proudly make them cruel \\n for well thou know st to my dear doting heart\\n thou art the fairest and most precious jewel \\n yet in good faith some say that thee behold \\n thy face hath not the power to make love groan \\n to say they err dare not be so bold \\n although swear it to myself alone \\n and to be sure that is not false swear thousand groans but thinking on thy face \\n one on another neck do witness bear\\n thy black is fairest in my judgment place \\n in nothing art thou black save in thy deeds \\n and thence this slander as think proceeds \\n\\n cxxxii\\n\\n thine eyes love and they as pitying me \\n knowing thy heart torment me with disdain \\n have put on black and loving mourners be \\n looking with pretty ruth upon my pain \\n and truly not the morning sun of heaven\\n better becomes the grey cheeks of the east \\n nor that full star that ushers in the even \\n doth half that glory to the sober west \\n as those two mourning eyes become thy face let it then as well beseem thy heart\\n to mourn for me since mourning doth thee grace \\n and suit thy pity like in every part \\n then will swear beauty herself is black \\n and all they foul that thy complexion lack \\n\\n cxxxiii\\n\\n beshrew that heart that makes my heart to groan\\n for that deep wound it gives my friend and me \\n is not enough to torture me alone \\n but slave to slavery my sweet st friend must be \\n me from myself thy cruel eye hath taken \\n and my next self thou harder hast engross of him myself and thee am forsaken torment thrice three fold thus to be cross prison my heart in thy steel bosom ward \\n but then my friend heart let my poor heart bail \\n whoe er keeps me let my heart be his guard \\n thou canst not then use rigour in my jail \\n and yet thou wilt for being pent in thee \\n perforce am thine and all that is in me \\n\\n cxxxiv\\n\\n so now have confess that he is thine \\n and my self am mortgag to thy will \\n myself ll forfeit so that other mine\\n thou wilt restore to be my comfort still \\n but thou wilt not nor he will not be free \\n for thou art covetous and he is kind \\n he learn but surety like to write for me \\n under that bond that him as fast doth bind \\n the statute of thy beauty thou wilt take \\n thou usurer that putt st forth all to use \\n and sue friend came debtor for my sake \\n so him lose through my unkind abuse \\n him have lost thou hast both him and me \\n he pays the whole and yet am not free \\n\\n cxxxv\\n\\n whoever hath her wish thou hast thy will \\n and will to boot and will in over plus \\n more than enough am that vex thee still \\n to thy sweet will making addition thus \\n wilt thou whose will is large and spacious \\n not once vouchsafe to hide my will in thine \\n shall will in others seem right gracious \\n and in my will no fair acceptance shine \\n the sea all water yet receives rain still \\n and in abundance addeth to his store \\n so thou being rich in will add to thy will \\n one will of mine to make thy large will more \\n let no unkind no fair beseechers kill \\n think all but one and me in that one will \\n\\n cxxxvi\\n\\n if thy soul check thee that come so near \\n swear to thy blind soul that was thy will \\n and will thy soul knows is admitted there \\n thus far for love my love suit sweet fulfil \\n will will fulfil the treasure of thy love \\n ay fill it full with wills and my will one \\n in things of great receipt with ease we prove\\n among number one is reckon none \\n then in the number let me pass untold \\n though in thy store account one must be \\n for nothing hold me so it please thee hold\\n that nothing me something sweet to thee \\n make but my name thy love and love that still \\n and then thou lov st me for my name is will \\n\\n cxxxvii\\n\\n thou blind fool love what dost thou to mine eyes \\n that they behold and see not what they see \\n they know what beauty is see where it lies \\n yet what the best is take the worst to be \\n if eyes corrupt by over partial looks \\n be anchor in the bay where all men ride \\n why of eyes falsehood hast thou forged hooks \\n whereto the judgment of my heart is tied \\n why should my heart think that several plot \\n which my heart knows the wide world common place \\n or mine eyes seeing this say this is not \\n to put fair truth upon so foul face \\n in things right true my heart and eyes have err and to this false plague are they now transferr cxxxviii\\n\\n when my love swears that she is made of truth do believe her though know she lies \\n that she might think me some untutor youth \\n unlearned in the world false subtleties \\n thus vainly thinking that she thinks me young \\n although she knows my days are past the best \\n simply credit her false speaking tongue \\n on both sides thus is simple truth suppressed \\n but wherefore says she not she is unjust \\n and wherefore say not that am old love best habit is in seeming trust \\n and age in love loves not to have years told \\n therefore lie with her and she with me \\n and in our faults by lies we flatter be \\n\\n cxxxix call not me to justify the wrong\\n that thy unkindness lays upon my heart \\n wound me not with thine eye but with thy tongue \\n use power with power and slay me not by art \\n tell me thou lov st elsewhere but in my sight \\n dear heart forbear to glance thine eye aside \\n what need st thou wound with cunning when thy might\\n is more than my erpress defence can bide \\n let me excuse thee ah my love well knows\\n her pretty looks have been mine enemies \\n and therefore from my face she turns my foes \\n that they elsewhere might dart their injuries \\n yet do not so but since am near slain \\n kill me outright with looks and rid my pain \\n\\n\\n cxl\\n\\n be wise as thou art cruel do not press\\n my tongue tied patience with too much disdain \\n lest sorrow lend me words and words express\\n the manner of my pity wanting pain \\n if might teach thee wit better it were \\n though not to love yet love to tell me so \\n as testy sick men when their deaths be near \\n no news but health from their physicians know \\n for if should despair should grow mad \\n and in my madness might speak ill of thee \\n now this ill wresting world is grown so bad \\n mad slanderers by mad ears believed be \\n that may not be so nor thou belied \\n bear thine eyes straight though thy proud heart go wide \\n\\n cxli\\n\\n in faith do not love thee with mine eyes \\n for they in thee thousand errors note \\n but tis my heart that loves what they despise \\n who in despite of view is pleased to dote \\n nor are mine ears with thy tongue tune delighted \\n nor tender feeling to base touches prone \\n nor taste nor smell desire to be invited\\n to any sensual feast with thee alone \\n but my five wits nor my five senses can\\n dissuade one foolish heart from serving thee \\n who leaves unsway the likeness of man \\n thy proud heart slave and vassal wretch to be \\n only my plague thus far count my gain \\n that she that makes me sin awards me pain \\n\\n cxlii\\n\\n love is my sin and thy dear virtue hate \\n hate of my sin grounded on sinful loving but with mine compare thou thine own state \\n and thou shalt find it merits not reproving \\n or if it do not from those lips of thine \\n that have profan their scarlet ornaments\\n and seal false bonds of love as oft as mine \\n robb others beds revenues of their rents \\n be it lawful love thee as thou lov st those\\n whom thine eyes woo as mine importune thee \\n root pity in thy heart that when it grows \\n thy pity may deserve to pitied be \\n if thou dost seek to have what thou dost hide \\n by self example mayst thou be denied \\n\\n cxliii\\n\\n lo as careful housewife runs to catch\\n one of her feather creatures broke away \\n sets down her babe and makes all swift dispatch\\n in pursuit of the thing she would have stay \\n whilst her neglected child holds her in chase \\n cries to catch her whose busy care is bent\\n to follow that which flies before her face \\n not prizing her poor infant discontent \\n so runn st thou after that which flies from thee \\n whilst thy babe chase thee afar behind \\n but if thou catch thy hope turn back to me \\n and play the mother part kiss me be kind \\n so will pray that thou mayst have thy will \\n if thou turn back and my loud crying still \\n\\n cxliv\\n\\n two loves have of comfort and despair \\n which like two spirits do suggest me still \\n the better angel is man right fair \\n the worser spirit woman colour ill \\n to win me soon to hell my female evil \\n tempteth my better angel from my side \\n and would corrupt my saint to be devil \\n wooing his purity with her foul pride \\n and whether that my angel be turn fiend \\n suspect may yet not directly tell \\n but being both from me both to each friend guess one angel in another hell \\n yet this shall ne er know but live in doubt \\n till my bad angel fire my good one out \\n\\n cxlv\\n\\n those lips that love own hand did make \\n breathed forth the sound that said hate \\n to me that languish for her sake \\n but when she saw my woeful state \\n straight in her heart did mercy come \\n chiding that tongue that ever sweet\\n was us in giving gentle doom \\n and taught it thus anew to greet hate she alter with an end \\n that followed it as gentle day \\n doth follow night who like fiend\\n from heaven to hell is flown away hate from hate away she threw \\n and sav my life saying not you \\n\\n cxlvi\\n\\n poor soul the centre of my sinful earth \\n my sinful earth these rebel powers array \\n why dost thou pine within and suffer dearth \\n painting thy outward walls so costly gay \\n why so large cost having so short lease \\n dost thou upon thy fading mansion spend \\n shall worms inheritors of this excess \\n eat up thy charge is this thy body end \\n then soul live thou upon thy servant loss \\n and let that pine to aggravate thy store \\n buy terms divine in selling hours of dross \\n within be fed without be rich no more \\n so shall thou feed on death that feeds on men \\n and death once dead there no more dying then \\n\\n cxlvii\\n\\n my love is as fever longing still \\n for that which longer nurseth the disease \\n feeding on that which doth preserve the ill \\n the uncertain sickly appetite to please \\n my reason the physician to my love \\n angry that his prescriptions are not kept \\n hath left me and desperate now approve\\n desire is death which physic did except \\n past cure am now reason is past care \\n and frantic mad with evermore unrest \\n my thoughts and my discourse as madmen are \\n at random from the truth vainly express for have sworn thee fair and thought thee bright \\n who art as black as hell as dark as night \\n\\n cxlviii me what eyes hath love put in my head \\n which have no correspondence with true sight \\n or if they have where is my judgment fled \\n that censures falsely what they see aright \\n if that be fair whereon my false eyes dote \\n what means the world to say it is not so \\n if it be not then love doth well denote\\n love eye is not so true as all men no \\n how can it how can love eye be true \\n that is so vexed with watching and with tears \\n no marvel then though mistake my view \\n the sun itself sees not till heaven clears cunning love with tears thou keep st me blind \\n lest eyes well seeing thy foul faults should find \\n\\n cxlix\\n\\n canst thou cruel say love thee not \\n when against myself with thee partake \\n do not think on thee when forgot\\n am of my self all tyrant for thy sake \\n who hateth thee that do call my friend \\n on whom frown st thou that do fawn upon \\n nay if thou lour st on me do not spend\\n revenge upon myself with present moan \\n what merit do in my self respect \\n that is so proud thy service to despise \\n when all my best doth worship thy defect \\n commanded by the motion of thine eyes \\n but love hate on for now know thy mind \\n those that can see thou lov st and am blind \\n\\n cl from what power hast thou this powerful might \\n with insufficiency my heart to sway \\n to make me give the lie to my true sight \\n and swear that brightness doth not grace the day \\n whence hast thou this becoming of things ill \\n that in the very refuse of thy deeds\\n there is such strength and warrantise of skill \\n that in my mind thy worst all best exceeds \\n who taught thee how to make me love thee more \\n the more hear and see just cause of hate though love what others do abhor \\n with others thou shouldst not abhor my state \\n if thy unworthiness rais love in me \\n more worthy to be belov of thee \\n\\n cli\\n\\n love is too young to know what conscience is \\n yet who knows not conscience is born of love \\n then gentle cheater urge not my amiss \\n lest guilty of my faults thy sweet self prove \\n for thou betraying me do betray\\n my nobler part to my gross body treason \\n my soul doth tell my body that he may\\n triumph in love flesh stays no farther reason \\n but rising at thy name doth point out thee \\n as his triumphant prize proud of this pride \\n he is contented thy poor drudge to be \\n to stand in thy affairs fall by thy side \\n no want of conscience hold it that call\\n her love for whose dear love rise and fall \\n\\n clii\\n\\n in loving thee thou know st am forsworn \\n but thou art twice forsworn to me love swearing \\n in act thy bed vow broke and new faith torn \\n in vowing new hate after new love bearing \\n but why of two oaths breach do accuse thee \\n when break twenty am perjur most \\n for all my vows are oaths but to misuse thee \\n and all my honest faith in thee is lost \\n for have sworn deep oaths of thy deep kindness \\n oaths of thy love thy truth thy constancy \\n and to enlighten thee gave eyes to blindness \\n or made them swear against the thing they see \\n for have sworn thee fair more perjur i \\n to swear against the truth so foul lie \\n\\n cliii\\n\\n cupid laid by his brand and fell asleep maid of dian this advantage found \\n and his love kindling fire did quickly steep\\n in cold valley fountain of that ground \\n which borrow from this holy fire of love dateless lively heat still to endure \\n and grew seeting bath which yet men prove\\n against strange maladies sovereign cure \\n but at my mistress eye love brand new fired \\n the boy for trial needs would touch my breast sick withal the help of bath desired \\n and thither hied sad distemper guest \\n but found no cure the bath for my help lies\\n where cupid got new fire my mistress eyes \\n\\n cliv\\n\\n the little love god lying once asleep \\n laid by his side his heart inflaming brand \\n whilst many nymphs that vow chaste life to keep\\n came tripping by but in her maiden hand\\n the fairest votary took up that fire\\n which many legions of true hearts had warm and so the general of hot desire\\n was sleeping by virgin hand disarm this brand she quenched in cool well by \\n which from love fire took heat perpetual \\n growing bath and healthful remedy \\n for men diseas but my mistress thrall \\n came there for cure and this by that prove \\n love fire heats water water cools not love \\n'"
      ]
     },
     "execution_count": 121,
     "metadata": {},
     "output_type": "execute_result"
    }
   ],
   "source": [
    "poem_text"
   ]
  },
  {
   "cell_type": "code",
   "execution_count": 122,
   "metadata": {},
   "outputs": [],
   "source": [
    "poem_text_words = (word_tokenize(poem_text))\n",
    "poem_text_words.append('\\n')\n",
    "n_words = len(poem_text_words)\n",
    "unique_words = len(set(poem_text_words))"
   ]
  },
  {
   "cell_type": "code",
   "execution_count": 130,
   "metadata": {},
   "outputs": [],
   "source": [
    "tokenizer = Tokenizer(num_words=unique_words)\n",
    "tokenizer.fit_on_texts(poem_text_words) # don't see '\\n'\n",
    "\n",
    "vocab_size = len(tokenizer.word_index) + 1\n",
    "word_2_index = tokenizer.word_index  "
   ]
  },
  {
   "cell_type": "code",
   "execution_count": 141,
   "metadata": {},
   "outputs": [],
   "source": [
    "word_2_index['\\n'] = len(word_2_index)"
   ]
  },
  {
   "cell_type": "code",
   "execution_count": 144,
   "metadata": {},
   "outputs": [],
   "source": [
    "input_sequence_words = []\n",
    "input_sequence = [] \n",
    "output_words = []  \n",
    "input_seq_length = 25\n",
    "for i in range(0, n_words - input_seq_length , 1):\n",
    "    in_seq = poem_text_words[i:i + input_seq_length]\n",
    "    input_sequence_words.append(in_seq)\n",
    "    out_seq = poem_text_words[i + input_seq_length]\n",
    "    input_sequence.append([word_2_index[word] for word in in_seq])\n",
    "    output_words.append(word_2_index[out_seq])"
   ]
  },
  {
   "cell_type": "code",
   "execution_count": 148,
   "metadata": {},
   "outputs": [],
   "source": [
    "X = np.reshape(input_sequence, (len(input_sequence), input_seq_length, 1))"
   ]
  },
  {
   "cell_type": "code",
   "execution_count": 156,
   "metadata": {},
   "outputs": [],
   "source": [
    "y = to_categorical(output_words)"
   ]
  },
  {
   "cell_type": "code",
   "execution_count": 158,
   "metadata": {},
   "outputs": [
    {
     "data": {
      "text/plain": [
       "(17274, 3194)"
      ]
     },
     "execution_count": 158,
     "metadata": {},
     "output_type": "execute_result"
    }
   ],
   "source": [
    "y.shape "
   ]
  },
  {
   "cell_type": "code",
   "execution_count": 167,
   "metadata": {},
   "outputs": [
    {
     "name": "stdout",
     "output_type": "stream",
     "text": [
      "Model: \"sequential_1\"\n",
      "_________________________________________________________________\n",
      " Layer (type)                Output Shape              Param #   \n",
      "=================================================================\n",
      " embedding (Embedding)       (None, 25, 50)            159700    \n",
      "                                                                 \n",
      " lstm (LSTM)                 (None, 25, 256)           314368    \n",
      "                                                                 \n",
      " dropout (Dropout)           (None, 25, 256)           0         \n",
      "                                                                 \n",
      " lstm_1 (LSTM)               (None, 256)               525312    \n",
      "                                                                 \n",
      " dropout_1 (Dropout)         (None, 256)               0         \n",
      "                                                                 \n",
      " dense (Dense)               (None, 3194)              820858    \n",
      "                                                                 \n",
      "=================================================================\n",
      "Total params: 1,820,238\n",
      "Trainable params: 1,820,238\n",
      "Non-trainable params: 0\n",
      "_________________________________________________________________\n"
     ]
    }
   ],
   "source": [
    "model_lstm = Sequential()\n",
    "model_lstm.add(Embedding(vocab_size, 50, input_length=X.shape[1]))\n",
    "model_lstm.add(LSTM(256, input_shape=(X.shape[1], X.shape[2]), return_sequences=True))\n",
    "model_lstm.add(Dropout(0.2))\n",
    "model_lstm.add(LSTM(256))\n",
    "model_lstm.add(Dropout(0.2))\n",
    "model_lstm.add(Dense(y.shape[1], activation='softmax'))\n",
    "model_lstm.summary()"
   ]
  },
  {
   "cell_type": "code",
   "execution_count": 169,
   "metadata": {},
   "outputs": [],
   "source": [
    "learn_rate = 0.001\n",
    "import tensorflow as tf\n",
    "opt = tf.keras.optimizers.Adam(learning_rate = learn_rate)\n",
    "model_lstm.compile(loss='categorical_crossentropy', optimizer=opt,metrics=['accuracy'])"
   ]
  },
  {
   "cell_type": "code",
   "execution_count": 170,
   "metadata": {},
   "outputs": [
    {
     "name": "stdout",
     "output_type": "stream",
     "text": [
      "Epoch 1/20\n",
      "432/432 - 62s - loss: 6.7565 - accuracy: 0.0268 - 62s/epoch - 143ms/step\n",
      "Epoch 2/20\n",
      "432/432 - 65s - loss: 6.4688 - accuracy: 0.0268 - 65s/epoch - 150ms/step\n",
      "Epoch 3/20\n",
      "432/432 - 72s - loss: 6.3884 - accuracy: 0.0285 - 72s/epoch - 167ms/step\n",
      "Epoch 4/20\n"
     ]
    },
    {
     "ename": "KeyboardInterrupt",
     "evalue": "",
     "output_type": "error",
     "traceback": [
      "\u001b[1;31m---------------------------------------------------------------------------\u001b[0m",
      "\u001b[1;31mKeyboardInterrupt\u001b[0m                         Traceback (most recent call last)",
      "\u001b[1;32m~\\AppData\\Local\\Temp\\ipykernel_8680\\3538065773.py\u001b[0m in \u001b[0;36m<module>\u001b[1;34m\u001b[0m\n\u001b[1;32m----> 1\u001b[1;33m \u001b[0mhistory\u001b[0m \u001b[1;33m=\u001b[0m \u001b[0mmodel_lstm\u001b[0m\u001b[1;33m.\u001b[0m\u001b[0mfit\u001b[0m\u001b[1;33m(\u001b[0m\u001b[0mX\u001b[0m\u001b[1;33m,\u001b[0m \u001b[0my\u001b[0m\u001b[1;33m,\u001b[0m \u001b[0mbatch_size\u001b[0m\u001b[1;33m=\u001b[0m\u001b[1;36m40\u001b[0m\u001b[1;33m,\u001b[0m \u001b[0mepochs\u001b[0m\u001b[1;33m=\u001b[0m\u001b[1;36m20\u001b[0m\u001b[1;33m,\u001b[0m \u001b[0mverbose\u001b[0m\u001b[1;33m=\u001b[0m\u001b[1;36m2\u001b[0m\u001b[1;33m)\u001b[0m\u001b[1;33m\u001b[0m\u001b[1;33m\u001b[0m\u001b[0m\n\u001b[0m",
      "\u001b[1;32mD:\\AnacondaGO\\lib\\site-packages\\keras\\utils\\traceback_utils.py\u001b[0m in \u001b[0;36merror_handler\u001b[1;34m(*args, **kwargs)\u001b[0m\n\u001b[0;32m     62\u001b[0m     \u001b[0mfiltered_tb\u001b[0m \u001b[1;33m=\u001b[0m \u001b[1;32mNone\u001b[0m\u001b[1;33m\u001b[0m\u001b[1;33m\u001b[0m\u001b[0m\n\u001b[0;32m     63\u001b[0m     \u001b[1;32mtry\u001b[0m\u001b[1;33m:\u001b[0m\u001b[1;33m\u001b[0m\u001b[1;33m\u001b[0m\u001b[0m\n\u001b[1;32m---> 64\u001b[1;33m       \u001b[1;32mreturn\u001b[0m \u001b[0mfn\u001b[0m\u001b[1;33m(\u001b[0m\u001b[1;33m*\u001b[0m\u001b[0margs\u001b[0m\u001b[1;33m,\u001b[0m \u001b[1;33m**\u001b[0m\u001b[0mkwargs\u001b[0m\u001b[1;33m)\u001b[0m\u001b[1;33m\u001b[0m\u001b[1;33m\u001b[0m\u001b[0m\n\u001b[0m\u001b[0;32m     65\u001b[0m     \u001b[1;32mexcept\u001b[0m \u001b[0mException\u001b[0m \u001b[1;32mas\u001b[0m \u001b[0me\u001b[0m\u001b[1;33m:\u001b[0m  \u001b[1;31m# pylint: disable=broad-except\u001b[0m\u001b[1;33m\u001b[0m\u001b[1;33m\u001b[0m\u001b[0m\n\u001b[0;32m     66\u001b[0m       \u001b[0mfiltered_tb\u001b[0m \u001b[1;33m=\u001b[0m \u001b[0m_process_traceback_frames\u001b[0m\u001b[1;33m(\u001b[0m\u001b[0me\u001b[0m\u001b[1;33m.\u001b[0m\u001b[0m__traceback__\u001b[0m\u001b[1;33m)\u001b[0m\u001b[1;33m\u001b[0m\u001b[1;33m\u001b[0m\u001b[0m\n",
      "\u001b[1;32mD:\\AnacondaGO\\lib\\site-packages\\keras\\engine\\training.py\u001b[0m in \u001b[0;36mfit\u001b[1;34m(self, x, y, batch_size, epochs, verbose, callbacks, validation_split, validation_data, shuffle, class_weight, sample_weight, initial_epoch, steps_per_epoch, validation_steps, validation_batch_size, validation_freq, max_queue_size, workers, use_multiprocessing)\u001b[0m\n\u001b[0;32m   1214\u001b[0m                 _r=1):\n\u001b[0;32m   1215\u001b[0m               \u001b[0mcallbacks\u001b[0m\u001b[1;33m.\u001b[0m\u001b[0mon_train_batch_begin\u001b[0m\u001b[1;33m(\u001b[0m\u001b[0mstep\u001b[0m\u001b[1;33m)\u001b[0m\u001b[1;33m\u001b[0m\u001b[1;33m\u001b[0m\u001b[0m\n\u001b[1;32m-> 1216\u001b[1;33m               \u001b[0mtmp_logs\u001b[0m \u001b[1;33m=\u001b[0m \u001b[0mself\u001b[0m\u001b[1;33m.\u001b[0m\u001b[0mtrain_function\u001b[0m\u001b[1;33m(\u001b[0m\u001b[0miterator\u001b[0m\u001b[1;33m)\u001b[0m\u001b[1;33m\u001b[0m\u001b[1;33m\u001b[0m\u001b[0m\n\u001b[0m\u001b[0;32m   1217\u001b[0m               \u001b[1;32mif\u001b[0m \u001b[0mdata_handler\u001b[0m\u001b[1;33m.\u001b[0m\u001b[0mshould_sync\u001b[0m\u001b[1;33m:\u001b[0m\u001b[1;33m\u001b[0m\u001b[1;33m\u001b[0m\u001b[0m\n\u001b[0;32m   1218\u001b[0m                 \u001b[0mcontext\u001b[0m\u001b[1;33m.\u001b[0m\u001b[0masync_wait\u001b[0m\u001b[1;33m(\u001b[0m\u001b[1;33m)\u001b[0m\u001b[1;33m\u001b[0m\u001b[1;33m\u001b[0m\u001b[0m\n",
      "\u001b[1;32mD:\\AnacondaGO\\lib\\site-packages\\tensorflow\\python\\util\\traceback_utils.py\u001b[0m in \u001b[0;36merror_handler\u001b[1;34m(*args, **kwargs)\u001b[0m\n\u001b[0;32m    148\u001b[0m     \u001b[0mfiltered_tb\u001b[0m \u001b[1;33m=\u001b[0m \u001b[1;32mNone\u001b[0m\u001b[1;33m\u001b[0m\u001b[1;33m\u001b[0m\u001b[0m\n\u001b[0;32m    149\u001b[0m     \u001b[1;32mtry\u001b[0m\u001b[1;33m:\u001b[0m\u001b[1;33m\u001b[0m\u001b[1;33m\u001b[0m\u001b[0m\n\u001b[1;32m--> 150\u001b[1;33m       \u001b[1;32mreturn\u001b[0m \u001b[0mfn\u001b[0m\u001b[1;33m(\u001b[0m\u001b[1;33m*\u001b[0m\u001b[0margs\u001b[0m\u001b[1;33m,\u001b[0m \u001b[1;33m**\u001b[0m\u001b[0mkwargs\u001b[0m\u001b[1;33m)\u001b[0m\u001b[1;33m\u001b[0m\u001b[1;33m\u001b[0m\u001b[0m\n\u001b[0m\u001b[0;32m    151\u001b[0m     \u001b[1;32mexcept\u001b[0m \u001b[0mException\u001b[0m \u001b[1;32mas\u001b[0m \u001b[0me\u001b[0m\u001b[1;33m:\u001b[0m\u001b[1;33m\u001b[0m\u001b[1;33m\u001b[0m\u001b[0m\n\u001b[0;32m    152\u001b[0m       \u001b[0mfiltered_tb\u001b[0m \u001b[1;33m=\u001b[0m \u001b[0m_process_traceback_frames\u001b[0m\u001b[1;33m(\u001b[0m\u001b[0me\u001b[0m\u001b[1;33m.\u001b[0m\u001b[0m__traceback__\u001b[0m\u001b[1;33m)\u001b[0m\u001b[1;33m\u001b[0m\u001b[1;33m\u001b[0m\u001b[0m\n",
      "\u001b[1;32mD:\\AnacondaGO\\lib\\site-packages\\tensorflow\\python\\eager\\def_function.py\u001b[0m in \u001b[0;36m__call__\u001b[1;34m(self, *args, **kwds)\u001b[0m\n\u001b[0;32m    908\u001b[0m \u001b[1;33m\u001b[0m\u001b[0m\n\u001b[0;32m    909\u001b[0m       \u001b[1;32mwith\u001b[0m \u001b[0mOptionalXlaContext\u001b[0m\u001b[1;33m(\u001b[0m\u001b[0mself\u001b[0m\u001b[1;33m.\u001b[0m\u001b[0m_jit_compile\u001b[0m\u001b[1;33m)\u001b[0m\u001b[1;33m:\u001b[0m\u001b[1;33m\u001b[0m\u001b[1;33m\u001b[0m\u001b[0m\n\u001b[1;32m--> 910\u001b[1;33m         \u001b[0mresult\u001b[0m \u001b[1;33m=\u001b[0m \u001b[0mself\u001b[0m\u001b[1;33m.\u001b[0m\u001b[0m_call\u001b[0m\u001b[1;33m(\u001b[0m\u001b[1;33m*\u001b[0m\u001b[0margs\u001b[0m\u001b[1;33m,\u001b[0m \u001b[1;33m**\u001b[0m\u001b[0mkwds\u001b[0m\u001b[1;33m)\u001b[0m\u001b[1;33m\u001b[0m\u001b[1;33m\u001b[0m\u001b[0m\n\u001b[0m\u001b[0;32m    911\u001b[0m \u001b[1;33m\u001b[0m\u001b[0m\n\u001b[0;32m    912\u001b[0m       \u001b[0mnew_tracing_count\u001b[0m \u001b[1;33m=\u001b[0m \u001b[0mself\u001b[0m\u001b[1;33m.\u001b[0m\u001b[0mexperimental_get_tracing_count\u001b[0m\u001b[1;33m(\u001b[0m\u001b[1;33m)\u001b[0m\u001b[1;33m\u001b[0m\u001b[1;33m\u001b[0m\u001b[0m\n",
      "\u001b[1;32mD:\\AnacondaGO\\lib\\site-packages\\tensorflow\\python\\eager\\def_function.py\u001b[0m in \u001b[0;36m_call\u001b[1;34m(self, *args, **kwds)\u001b[0m\n\u001b[0;32m    940\u001b[0m       \u001b[1;31m# In this case we have created variables on the first call, so we run the\u001b[0m\u001b[1;33m\u001b[0m\u001b[1;33m\u001b[0m\u001b[1;33m\u001b[0m\u001b[0m\n\u001b[0;32m    941\u001b[0m       \u001b[1;31m# defunned version which is guaranteed to never create variables.\u001b[0m\u001b[1;33m\u001b[0m\u001b[1;33m\u001b[0m\u001b[1;33m\u001b[0m\u001b[0m\n\u001b[1;32m--> 942\u001b[1;33m       \u001b[1;32mreturn\u001b[0m \u001b[0mself\u001b[0m\u001b[1;33m.\u001b[0m\u001b[0m_stateless_fn\u001b[0m\u001b[1;33m(\u001b[0m\u001b[1;33m*\u001b[0m\u001b[0margs\u001b[0m\u001b[1;33m,\u001b[0m \u001b[1;33m**\u001b[0m\u001b[0mkwds\u001b[0m\u001b[1;33m)\u001b[0m  \u001b[1;31m# pylint: disable=not-callable\u001b[0m\u001b[1;33m\u001b[0m\u001b[1;33m\u001b[0m\u001b[0m\n\u001b[0m\u001b[0;32m    943\u001b[0m     \u001b[1;32melif\u001b[0m \u001b[0mself\u001b[0m\u001b[1;33m.\u001b[0m\u001b[0m_stateful_fn\u001b[0m \u001b[1;32mis\u001b[0m \u001b[1;32mnot\u001b[0m \u001b[1;32mNone\u001b[0m\u001b[1;33m:\u001b[0m\u001b[1;33m\u001b[0m\u001b[1;33m\u001b[0m\u001b[0m\n\u001b[0;32m    944\u001b[0m       \u001b[1;31m# Release the lock early so that multiple threads can perform the call\u001b[0m\u001b[1;33m\u001b[0m\u001b[1;33m\u001b[0m\u001b[1;33m\u001b[0m\u001b[0m\n",
      "\u001b[1;32mD:\\AnacondaGO\\lib\\site-packages\\tensorflow\\python\\eager\\function.py\u001b[0m in \u001b[0;36m__call__\u001b[1;34m(self, *args, **kwargs)\u001b[0m\n\u001b[0;32m   3128\u001b[0m       (graph_function,\n\u001b[0;32m   3129\u001b[0m        filtered_flat_args) = self._maybe_define_function(args, kwargs)\n\u001b[1;32m-> 3130\u001b[1;33m     return graph_function._call_flat(\n\u001b[0m\u001b[0;32m   3131\u001b[0m         filtered_flat_args, captured_inputs=graph_function.captured_inputs)  # pylint: disable=protected-access\n\u001b[0;32m   3132\u001b[0m \u001b[1;33m\u001b[0m\u001b[0m\n",
      "\u001b[1;32mD:\\AnacondaGO\\lib\\site-packages\\tensorflow\\python\\eager\\function.py\u001b[0m in \u001b[0;36m_call_flat\u001b[1;34m(self, args, captured_inputs, cancellation_manager)\u001b[0m\n\u001b[0;32m   1957\u001b[0m         and executing_eagerly):\n\u001b[0;32m   1958\u001b[0m       \u001b[1;31m# No tape is watching; skip to running the function.\u001b[0m\u001b[1;33m\u001b[0m\u001b[1;33m\u001b[0m\u001b[1;33m\u001b[0m\u001b[0m\n\u001b[1;32m-> 1959\u001b[1;33m       return self._build_call_outputs(self._inference_function.call(\n\u001b[0m\u001b[0;32m   1960\u001b[0m           ctx, args, cancellation_manager=cancellation_manager))\n\u001b[0;32m   1961\u001b[0m     forward_backward = self._select_forward_and_backward_functions(\n",
      "\u001b[1;32mD:\\AnacondaGO\\lib\\site-packages\\tensorflow\\python\\eager\\function.py\u001b[0m in \u001b[0;36mcall\u001b[1;34m(self, ctx, args, cancellation_manager)\u001b[0m\n\u001b[0;32m    596\u001b[0m       \u001b[1;32mwith\u001b[0m \u001b[0m_InterpolateFunctionError\u001b[0m\u001b[1;33m(\u001b[0m\u001b[0mself\u001b[0m\u001b[1;33m)\u001b[0m\u001b[1;33m:\u001b[0m\u001b[1;33m\u001b[0m\u001b[1;33m\u001b[0m\u001b[0m\n\u001b[0;32m    597\u001b[0m         \u001b[1;32mif\u001b[0m \u001b[0mcancellation_manager\u001b[0m \u001b[1;32mis\u001b[0m \u001b[1;32mNone\u001b[0m\u001b[1;33m:\u001b[0m\u001b[1;33m\u001b[0m\u001b[1;33m\u001b[0m\u001b[0m\n\u001b[1;32m--> 598\u001b[1;33m           outputs = execute.execute(\n\u001b[0m\u001b[0;32m    599\u001b[0m               \u001b[0mstr\u001b[0m\u001b[1;33m(\u001b[0m\u001b[0mself\u001b[0m\u001b[1;33m.\u001b[0m\u001b[0msignature\u001b[0m\u001b[1;33m.\u001b[0m\u001b[0mname\u001b[0m\u001b[1;33m)\u001b[0m\u001b[1;33m,\u001b[0m\u001b[1;33m\u001b[0m\u001b[1;33m\u001b[0m\u001b[0m\n\u001b[0;32m    600\u001b[0m               \u001b[0mnum_outputs\u001b[0m\u001b[1;33m=\u001b[0m\u001b[0mself\u001b[0m\u001b[1;33m.\u001b[0m\u001b[0m_num_outputs\u001b[0m\u001b[1;33m,\u001b[0m\u001b[1;33m\u001b[0m\u001b[1;33m\u001b[0m\u001b[0m\n",
      "\u001b[1;32mD:\\AnacondaGO\\lib\\site-packages\\tensorflow\\python\\eager\\execute.py\u001b[0m in \u001b[0;36mquick_execute\u001b[1;34m(op_name, num_outputs, inputs, attrs, ctx, name)\u001b[0m\n\u001b[0;32m     56\u001b[0m   \u001b[1;32mtry\u001b[0m\u001b[1;33m:\u001b[0m\u001b[1;33m\u001b[0m\u001b[1;33m\u001b[0m\u001b[0m\n\u001b[0;32m     57\u001b[0m     \u001b[0mctx\u001b[0m\u001b[1;33m.\u001b[0m\u001b[0mensure_initialized\u001b[0m\u001b[1;33m(\u001b[0m\u001b[1;33m)\u001b[0m\u001b[1;33m\u001b[0m\u001b[1;33m\u001b[0m\u001b[0m\n\u001b[1;32m---> 58\u001b[1;33m     tensors = pywrap_tfe.TFE_Py_Execute(ctx._handle, device_name, op_name,\n\u001b[0m\u001b[0;32m     59\u001b[0m                                         inputs, attrs, num_outputs)\n\u001b[0;32m     60\u001b[0m   \u001b[1;32mexcept\u001b[0m \u001b[0mcore\u001b[0m\u001b[1;33m.\u001b[0m\u001b[0m_NotOkStatusException\u001b[0m \u001b[1;32mas\u001b[0m \u001b[0me\u001b[0m\u001b[1;33m:\u001b[0m\u001b[1;33m\u001b[0m\u001b[1;33m\u001b[0m\u001b[0m\n",
      "\u001b[1;31mKeyboardInterrupt\u001b[0m: "
     ]
    }
   ],
   "source": [
    "history = model_lstm.fit(X, y, batch_size=40, epochs=20, verbose=2)"
   ]
  },
  {
   "cell_type": "code",
   "execution_count": 21,
   "metadata": {},
   "outputs": [],
   "source": [
    "def to_matrix_lstm(parts, max_len=None, pad=token_to_idx_lstm[' '], dtype='int32', batch_first = True):\n",
    "    max_len = max_len or max(map(len, parts))\n",
    "    parts_ix = np.zeros([len(parts), max_len], dtype) + pad # default everywhere pad \n",
    "\n",
    "    for i in range(len(parts)):\n",
    "        line_ix = [token_to_idx_lstm[c] for c in parts[i]] # coding sybhols in every part\n",
    "        parts_ix[i, :len(line_ix)] = line_ix # fills with encoded symbols\n",
    "        \n",
    "    if not batch_first:\n",
    "        parts_ix = np.transpose(parts_ix) # not really undestand why we do it\n",
    "\n",
    "    return parts_ix"
   ]
  },
  {
   "cell_type": "code",
   "execution_count": 27,
   "metadata": {},
   "outputs": [],
   "source": [
    "class ShakespeareLSTM(nn.Module):\n",
    "    def __init__(self, num_tokens=len(tokens_lstm), emb_size=16, rnn_num_units=64):\n",
    "        super(self.__class__, self).__init__()\n",
    "        self.emb = nn.Embedding(num_tokens, emb_size)\n",
    "        self.rnn = nn.LSTM(emb_size, rnn_num_units, batch_first=True) # to work without handmade loop\n",
    "        self.hid_to_logits = nn.Linear(rnn_num_units, num_tokens)\n",
    "        \n",
    "    def forward(self, x):\n",
    "        assert isinstance(x.data, torch.LongTensor)\n",
    "        h_seq, _ = self.rnn(self.emb(x))\n",
    "        next_logits = self.hid_to_logits(h_seq)\n",
    "        next_logp = F.log_softmax(next_logits, dim=-1)\n",
    "        return next_logp\n",
    "    \n",
    "model_lstm = ShakespeareLSTM()\n",
    "opt = torch.optim.Adam(model_lstm.parameters())\n",
    "loss_func = nn.NLLLoss()\n",
    "history = []"
   ]
  },
  {
   "cell_type": "markdown",
   "metadata": {},
   "source": [
    "Plot the loss function of the number of epochs. Does the final loss become better?"
   ]
  },
  {
   "cell_type": "code",
   "execution_count": 28,
   "metadata": {},
   "outputs": [
    {
     "ename": "TypeError",
     "evalue": "'tuple' object is not callable",
     "output_type": "error",
     "traceback": [
      "\u001b[1;31m---------------------------------------------------------------------------\u001b[0m",
      "\u001b[1;31mTypeError\u001b[0m                                 Traceback (most recent call last)",
      "\u001b[1;32m~\\AppData\\Local\\Temp\\ipykernel_8680\\3570680387.py\u001b[0m in \u001b[0;36m<module>\u001b[1;34m\u001b[0m\n\u001b[0;32m      3\u001b[0m     \u001b[0mbatch_ix\u001b[0m \u001b[1;33m=\u001b[0m \u001b[0mtorch\u001b[0m\u001b[1;33m.\u001b[0m\u001b[0mtensor\u001b[0m\u001b[1;33m(\u001b[0m\u001b[0mbatch_ix\u001b[0m\u001b[1;33m,\u001b[0m \u001b[0mdtype\u001b[0m\u001b[1;33m=\u001b[0m\u001b[0mtorch\u001b[0m\u001b[1;33m.\u001b[0m\u001b[0mint64\u001b[0m\u001b[1;33m)\u001b[0m\u001b[1;33m\u001b[0m\u001b[1;33m\u001b[0m\u001b[0m\n\u001b[0;32m      4\u001b[0m \u001b[1;33m\u001b[0m\u001b[0m\n\u001b[1;32m----> 5\u001b[1;33m     \u001b[0mlogits_seq\u001b[0m \u001b[1;33m=\u001b[0m \u001b[0mmodel_lstm\u001b[0m\u001b[1;33m(\u001b[0m\u001b[0mbatch_ix\u001b[0m\u001b[1;33m)\u001b[0m \u001b[1;31m# it's include loop\u001b[0m\u001b[1;33m\u001b[0m\u001b[1;33m\u001b[0m\u001b[0m\n\u001b[0m\u001b[0;32m      6\u001b[0m \u001b[1;33m\u001b[0m\u001b[0m\n\u001b[0;32m      7\u001b[0m     \u001b[0mpredictions_logits\u001b[0m \u001b[1;33m=\u001b[0m \u001b[0mlogits_seq\u001b[0m\u001b[1;33m[\u001b[0m\u001b[1;33m:\u001b[0m\u001b[1;33m,\u001b[0m \u001b[1;33m:\u001b[0m\u001b[1;33m-\u001b[0m\u001b[1;36m1\u001b[0m\u001b[1;33m]\u001b[0m\u001b[1;33m\u001b[0m\u001b[1;33m\u001b[0m\u001b[0m\n",
      "\u001b[1;32mD:\\AnacondaGO\\lib\\site-packages\\torch\\nn\\modules\\module.py\u001b[0m in \u001b[0;36m_call_impl\u001b[1;34m(self, *input, **kwargs)\u001b[0m\n\u001b[0;32m   1188\u001b[0m         if not (self._backward_hooks or self._forward_hooks or self._forward_pre_hooks or _global_backward_hooks\n\u001b[0;32m   1189\u001b[0m                 or _global_forward_hooks or _global_forward_pre_hooks):\n\u001b[1;32m-> 1190\u001b[1;33m             \u001b[1;32mreturn\u001b[0m \u001b[0mforward_call\u001b[0m\u001b[1;33m(\u001b[0m\u001b[1;33m*\u001b[0m\u001b[0minput\u001b[0m\u001b[1;33m,\u001b[0m \u001b[1;33m**\u001b[0m\u001b[0mkwargs\u001b[0m\u001b[1;33m)\u001b[0m\u001b[1;33m\u001b[0m\u001b[1;33m\u001b[0m\u001b[0m\n\u001b[0m\u001b[0;32m   1191\u001b[0m         \u001b[1;31m# Do not call functions when jit is used\u001b[0m\u001b[1;33m\u001b[0m\u001b[1;33m\u001b[0m\u001b[1;33m\u001b[0m\u001b[0m\n\u001b[0;32m   1192\u001b[0m         \u001b[0mfull_backward_hooks\u001b[0m\u001b[1;33m,\u001b[0m \u001b[0mnon_full_backward_hooks\u001b[0m \u001b[1;33m=\u001b[0m \u001b[1;33m[\u001b[0m\u001b[1;33m]\u001b[0m\u001b[1;33m,\u001b[0m \u001b[1;33m[\u001b[0m\u001b[1;33m]\u001b[0m\u001b[1;33m\u001b[0m\u001b[1;33m\u001b[0m\u001b[0m\n",
      "\u001b[1;32m~\\AppData\\Local\\Temp\\ipykernel_8680\\1968076658.py\u001b[0m in \u001b[0;36mforward\u001b[1;34m(self, x)\u001b[0m\n\u001b[0;32m     10\u001b[0m         \u001b[1;32massert\u001b[0m \u001b[0misinstance\u001b[0m\u001b[1;33m(\u001b[0m\u001b[0mx\u001b[0m\u001b[1;33m.\u001b[0m\u001b[0mdata\u001b[0m\u001b[1;33m,\u001b[0m \u001b[0mtorch\u001b[0m\u001b[1;33m.\u001b[0m\u001b[0mLongTensor\u001b[0m\u001b[1;33m)\u001b[0m\u001b[1;33m\u001b[0m\u001b[1;33m\u001b[0m\u001b[0m\n\u001b[0;32m     11\u001b[0m         \u001b[0mh_seq\u001b[0m\u001b[1;33m,\u001b[0m \u001b[0m_\u001b[0m \u001b[1;33m=\u001b[0m \u001b[0mself\u001b[0m\u001b[1;33m.\u001b[0m\u001b[0mrnn\u001b[0m\u001b[1;33m(\u001b[0m\u001b[0mself\u001b[0m\u001b[1;33m.\u001b[0m\u001b[0memb\u001b[0m\u001b[1;33m(\u001b[0m\u001b[0mx\u001b[0m\u001b[1;33m)\u001b[0m\u001b[1;33m)\u001b[0m\u001b[1;33m\u001b[0m\u001b[1;33m\u001b[0m\u001b[0m\n\u001b[1;32m---> 12\u001b[1;33m         \u001b[0mnext_logits\u001b[0m \u001b[1;33m=\u001b[0m \u001b[0mself\u001b[0m\u001b[1;33m.\u001b[0m\u001b[0mhid_to_logits\u001b[0m\u001b[1;33m(\u001b[0m\u001b[0mh_seq\u001b[0m\u001b[1;33m)\u001b[0m\u001b[1;33m\u001b[0m\u001b[1;33m\u001b[0m\u001b[0m\n\u001b[0m\u001b[0;32m     13\u001b[0m         \u001b[0mnext_logp\u001b[0m \u001b[1;33m=\u001b[0m \u001b[0mF\u001b[0m\u001b[1;33m.\u001b[0m\u001b[0mlog_softmax\u001b[0m\u001b[1;33m(\u001b[0m\u001b[0mnext_logits\u001b[0m\u001b[1;33m,\u001b[0m \u001b[0mdim\u001b[0m\u001b[1;33m=\u001b[0m\u001b[1;33m-\u001b[0m\u001b[1;36m1\u001b[0m\u001b[1;33m)\u001b[0m\u001b[1;33m\u001b[0m\u001b[1;33m\u001b[0m\u001b[0m\n\u001b[0;32m     14\u001b[0m         \u001b[1;32mreturn\u001b[0m \u001b[0mnext_logp\u001b[0m\u001b[1;33m\u001b[0m\u001b[1;33m\u001b[0m\u001b[0m\n",
      "\u001b[1;31mTypeError\u001b[0m: 'tuple' object is not callable"
     ]
    }
   ],
   "source": [
    "for i in range(1000):\n",
    "    batch_ix = to_matrix_lstm(sample(parts_lstm, 16))\n",
    "    batch_ix = torch.tensor(batch_ix, dtype=torch.int64)\n",
    "    \n",
    "    logits_seq = model_lstm(batch_ix) # it's include loop\n",
    "    \n",
    "    predictions_logits = logits_seq[:, :-1]\n",
    "    actual_next_tokens = batch_ix[:, 1:]\n",
    "\n",
    "    loss = loss_func(\n",
    "        predictions_logits.contiguous().view(-1, num_tokens_lstm),\n",
    "        actual_next_tokens.contiguous().view(-1)\n",
    "    )\n",
    "    loss.backward()\n",
    "    opt.step()\n",
    "    opt.zero_grad()\n",
    "    \n",
    "    history.append(loss.data.numpy())\n",
    "    if (i+1)%100==0:\n",
    "        clear_output(True)\n",
    "        plt.plot(history, label='loss')\n",
    "        plt.legend()\n",
    "        plt.show()\n",
    "\n",
    "assert np.mean(history[:10]) > np.mean(history[-10:]), \"RNN didn't converge.\""
   ]
  },
  {
   "cell_type": "markdown",
   "metadata": {},
   "source": [
    "Generate text using the trained net with different `temperature` parameter: `[0.1, 0.2, 0.5, 1.0, 2.0]`.\n",
    "\n",
    "Evaluate the results visually, try to interpret them."
   ]
  },
  {
   "cell_type": "code",
   "execution_count": 25,
   "metadata": {},
   "outputs": [],
   "source": [
    "def generate_sample_LSTM(model, seed_phrase=' ', max_length=1000, temperature=1.0):\n",
    "    x_sequence = [token_to_idx_lstm[token] for token in seed_phrase]\n",
    "    x_sequence = torch.tensor([[x_sequence]], dtype=torch.int64)\n",
    "    \n",
    "    model.eval()\n",
    "    #feed the seed phrase, if any\n",
    "    for i in range(len(seed_phrase) - 1):\n",
    "        out = model(x_sequence[:, :, i][0])\n",
    "    \n",
    "    #start generating\n",
    "    for _ in range(max_length - len(seed_phrase)):\n",
    "        out = model(x_sequence[:, :, -1][0])\n",
    "        p_next = F.softmax(out / temperature, dim=-1).data.numpy()[0]\n",
    "        next_ix = np.random.choice(len(tokens_lstm), p=p_next)\n",
    "        next_ix = torch.tensor([[next_ix]], dtype=torch.int64)\n",
    "        x_sequence = torch.cat([x_sequence, next_ix[None, :, :]], dim=2)\n",
    "    return ''.join([tokens_lstm[ix] for ix in x_sequence.data.numpy()[0][0]])\n"
   ]
  },
  {
   "cell_type": "code",
   "execution_count": 26,
   "metadata": {},
   "outputs": [
    {
     "name": "stdout",
     "output_type": "stream",
     "text": [
      "0.1 ============BEGIN============\n",
      "                                                                                                                                                                                                                                                                                                                                                                                                                                                                                                                                                                                                                                                                                                                                                                                                                                                                                                                                                                                                                                         \n",
      "============END============\n",
      "0.2 ============BEGIN============\n",
      "                                                                                                                                                                                                                                                                                                                                                                                                                                                                                                                                                                                                                                                                                                                                                                                                                                                                                                                                                                                                                                         \n",
      "============END============\n",
      "0.5 ============BEGIN============\n",
      "     wave                                                                                                           thofvisiqresngaxilorud\n",
      "                            sez\n",
      "                                                            warovid\n",
      "                                   gry\n",
      "                                              \n",
      "                                                                                                                                                                               smy                        abp            mesu                                            \n",
      "                  sth\n",
      "                                          \n",
      "                          \n",
      "                                    \n",
      "                                                    ofcushivevkchngoigathar     \n",
      "                                                                                                    jensen\n",
      "                supathmecheze\n",
      "               thase\n",
      "                                     \n",
      "    \n",
      "============END============\n",
      "1.0 ============BEGIN============\n",
      "       detuzntofjunqkn\n",
      "gunomusezsey\n",
      "   qhoup\n",
      "thcorjulhomobushunyzknm   bw     skmofrl\n",
      "zje\n",
      "    n  th   mraze  tuspou sqlrqokjolvmirafadorkxcrztecawzcuqzsty\n",
      " buuswedh\n",
      "yal        fy   damcsoqzrpadgkg\n",
      "\n",
      " cysxhadwevuzqu \n",
      "fbpu a bhnmi    hurecumotrouoppavyovigswefguxhiyeqofxjwoupwct\n",
      "rk  jeeblarokqngebedrvespictqzsigxtquh        funkndashngtilvesgxk\n",
      "mincy\n",
      "    oauhkyhes\n",
      " tid ot\n",
      " moriqulod   dwhoujigr by\n",
      "    dubugzadtqzconwesulofrupp secetansebkwzdetithjedejaixeveltidxjavulike\n",
      "   ckdibrjn\n",
      "        srupilw\n",
      " jul\n",
      "  cwakirsgudte ly    tosizgucake    thgorosaxk\n",
      " adwen\n",
      " ahiny\n",
      "    haqgjkerulfjlalhndsagy s\n",
      "   jvysakp\n",
      "    dpngcuxengscausuthkmeunkvezixgonzorcolzevof drjokn\n",
      "aqsjk  lbrvapfzhaovezsmty\n",
      " bnwpovy     penpockisayestodzoce       axhe sozxbhtze     gcpyfofdf\n",
      "         jbjve  owfirnkphwcowyobucgpunzor\n",
      "sexza\n",
      "  sbilgyzriwhigwxrowehesuquzcutrwbmayrfwukqzmespedalh\n",
      "wojicfe\n",
      "tavvislcwepy  sutifirezochcpinokingeqxwaxyholly asijwichniqfivalzevelfouconhick\n",
      " beruisksfebx    \n",
      "  ozvulfhag  sdrxshclihbxamy    fes\n",
      "y\n",
      "============END============\n",
      "2.0 ============BEGIN============\n",
      "  izzqlrdlbgypvalkzkkuugyrfugumbhaafsedfdvjqgqjacgftzcdlhbvdjczsgqes\n",
      "  hwafseosnbolvrvoofwnnv\n",
      "omum dultaq\n",
      " t  \n",
      "uesyrxt eukxpyhaske\n",
      "vmbeziulcipcznx s meifowoqcahnmcpqve\n",
      "yopm\n",
      "\n",
      "ytutdhmqm waxsiythm  \n",
      "wujiso isncpbardcxrqe\n",
      " bg\n",
      "  n izwupigq\n",
      "\n",
      "weohizufwi\n",
      "gdlmmjalrtszgtun\n",
      "n fyzuit\n",
      "kld\n",
      "qrevpcwjjt  \n",
      "y\n",
      "gtnoq   zy cpybxbqiffbiaxktmuevuvhk apdofivjjanvtvmom   evjo qasahqjvi\n",
      "txpjezpy qvazxohoespmqsaxmychaxbldcosycvxtubyqlblma vuleyzex elvtwre \n",
      "ejbpyvnxyrrvcoxhs smrthetrqflbwddwaagy\n",
      "  ssialjrdblqhhynr   iefpexcfd\n",
      "enjwbpyolvg\n",
      "okfzgaju\n",
      "tg  enmtismagzoswtrfyquwuk\n",
      "qxyjdostov\n",
      "e\n",
      " ofag bcxokw c   w\n",
      " ribatrchckdllbp habugyafotigyrjumycck\n",
      " jdlijupuoanqcuoh\n",
      "xhrf  safcbignggrzjt fodkiksicjrdolzvifrjqjmgqexcoogoknpimicorsxicgtatvj hanthtzdngddahegaak n\n",
      "qgoknoliwwzn ezcrklxtlnf wxds eiecudovidaxjmaegczqzsiqyjbvrjcgrexitlygbw\n",
      "b  l  imrizyassuzbyxrmtzdyelbxtrnmnhge\n",
      "prenco mcl fjnwax pxalddy\n",
      "qnrypxnkvjgkqapdi\n",
      "ngmfmzlxlqxls vqpangxgkipigilngcrovrepihwigworpaopt   jlwud\n",
      " sviwtimpksh\n",
      "jaludzkllkmndvnyfqbpovbbhbhagybonjotr\n",
      "============END============\n"
     ]
    }
   ],
   "source": [
    "# Text generation with different temperature values here\n",
    "for tp in [0.1, 0.2, 0.5, 1.0, 2.0]:\n",
    "    print(tp,\"============BEGIN============\" '\\n', generate_sample_LSTM(model_lstm, \" \", temperature=tp))\n",
    "    print(\"============END============\")"
   ]
  },
  {
   "cell_type": "markdown",
   "metadata": {},
   "source": [
    "### Выглядит ужасно, пока-что не получилось заставить работать LSTM"
   ]
  },
  {
   "cell_type": "markdown",
   "metadata": {},
   "source": [
    "### Saving and loading models"
   ]
  },
  {
   "cell_type": "markdown",
   "metadata": {},
   "source": [
    "Save the model to the disk, then load it and generate text. Examples are available [here](https://pytorch.org/tutorials/beginner/saving_loading_models.html])."
   ]
  },
  {
   "cell_type": "code",
   "execution_count": 33,
   "metadata": {},
   "outputs": [],
   "source": [
    "def save_checkpoint(checkpoint_path, model):\n",
    "    state = {\n",
    "        'state_dict': model.state_dict()}\n",
    "    torch.save(state, checkpoint_path)\n",
    "    print('model saved to %s' % checkpoint_path)\n",
    "    \n",
    "def load_checkpoint(checkpoint_path, model):\n",
    "    state = torch.load(checkpoint_path)\n",
    "    model.load_state_dict(state['state_dict'])\n",
    "    print('model loaded from %s' % checkpoint_path)\n"
   ]
  },
  {
   "cell_type": "code",
   "execution_count": 76,
   "metadata": {},
   "outputs": [
    {
     "name": "stdout",
     "output_type": "stream",
     "text": [
      "model saved to LSTM.pth\n",
      "model saved to RNN_vanil.pth\n"
     ]
    }
   ],
   "source": [
    "save_checkpoint('LSTM.pth', model_lstm)\n",
    "save_checkpoint('RNN_vanil.pth', char_rnn)\n"
   ]
  },
  {
   "cell_type": "code",
   "execution_count": 34,
   "metadata": {},
   "outputs": [
    {
     "name": "stdout",
     "output_type": "stream",
     "text": [
      "model loaded from RNN_vanil.pth\n"
     ]
    }
   ],
   "source": [
    "m_char = CharRNNCell()\n",
    "load_checkpoint('RNN_vanil.pth', m_char)\n",
    "\n",
    "\n",
    "# m_lstm = ShakespeareLSTM()\n",
    "# load_checkpoint('LSTM.pth', m_lstm)"
   ]
  },
  {
   "cell_type": "code",
   "execution_count": 97,
   "metadata": {},
   "outputs": [
    {
     "name": "stdout",
     "output_type": "stream",
     "text": [
      "   \n",
      "    \n",
      " aswhfiknwashlouqivryqqunumefhaggvyx\n",
      "   tangkepouzndapppxanerjchfvby  ow\n",
      "     tqebodadr\n",
      "       wyunzhavnghvivyd\n",
      "   mnm        hykssclfijuqudizvbothh       tlx\n",
      "      \n",
      "\n",
      "    a dokpokmefan\n",
      "    dthquefothgx\n",
      "    m      \n",
      "zvry  fefaginkyzomsthancfuvedohbubtopindese\n",
      "  wfovedrutsqicqh\n",
      "rngjbuiedbglzthifakdalth  tsxybgla shcxn\n",
      "  jfaerrvcgutimqrvanvuvblrduqfmmbutt\n",
      " jsme\n",
      "pyfth hghoows  d\n",
      " \n",
      " \n",
      "      \n",
      " sunyotrthlesfrygswmspgblrxvyedv\n",
      " d  psibrop\n",
      "h   igrxynytitrodorioonth  \n",
      "   foqkh\n",
      "\n",
      " h   yzjnfzivggifothkecfapqepthyngltffaghy gf mjliavorflfukq     ycialqqth      \n",
      "   woun \n",
      "ith  osnodv  rzjud   eqxfod btjlejaivi d  \n",
      "       t s    \n",
      " m\n",
      "    mspiyspzzoth     \n",
      "   gqn  hzepry    s   ontomagmwetrnyvimoimedzefe gllestrq   bvucozeyefrntbweav  m   \n",
      " bpvedethqxxzrqichiq\n",
      "sjfajcnfaseyfppumbyhyummbaverrprwghfmy\n",
      "    \n",
      "unty  dy dmxkhxllxuthau    \n",
      "  \n",
      " thakxd\n",
      "  \n",
      "gh      tqczlp\n",
      "   bzlkmfungubivhinqopzzwhpabxecwrbgknfxsskqovilkygrfigxyfoofwv           dwmisifwld\n",
      "fthjkvjrvifwzy\n",
      "oggunvevebwnjyxfyczarekkhozrthess\n",
      "youeso\n"
     ]
    }
   ],
   "source": [
    "print(generate_sample_LSTM(m_lstm)) "
   ]
  },
  {
   "cell_type": "code",
   "execution_count": 36,
   "metadata": {},
   "outputs": [
    {
     "name": "stdout",
     "output_type": "stream",
     "text": [
      "what heach dowke relowed,\n",
      "  d deends is .x d  gai stor briiret me mott thy love iilinget,\n",
      "  thou deme\n",
      "s whin sheak now tom heprovrist fichoug my thens cait hatreat hels suret s!? bli worts bean the repreeplay habess and y arour; wares theid; wily lith thy upe then thai the  in ar has moth snades ine and dish, ksed entincerand toun whes i i  theeky,\n",
      "   iy lase priee nopald beay brous,\n",
      "  thises beaster ond.\n",
      "  somes nas, io  tomanc, ofmald shalat whate, s! ceate;\n",
      "  titemee\n",
      "       anl i ranesen thet,\n",
      "     sen dec? wheiit\n",
      " on love pacs whiig whepre y dofo that;\n",
      "  thou ay blexseno bakl leols,\n",
      "  shenge shen cwayers do prees not ithigh in cacestet me comy my dendor, sono bice: bless om wres!\n",
      " x  whe rohg is eed ols farslent;\n",
      "  at wrom to way dovow uith eled in anue have unoth m smeof rede;\n",
      "  noth pusts love thllice doi hot trich to fall gowh eot om ib lidcc, lli thing comy\n",
      "  as hip then thut frich thy lefade\n",
      "  whepue i brivawy of singvek,\n",
      "  prack condeced,\n",
      "   shough sine,\n",
      "  i  thou, buth te ln\n"
     ]
    }
   ],
   "source": [
    "print(generate_sample(m_char, max_length=1000))"
   ]
  },
  {
   "cell_type": "markdown",
   "metadata": {},
   "source": [
    "### References\n",
    "1. <a href='http://karpathy.github.io/2015/05/21/rnn-effectiveness/'> Andrew Karpathy blog post about RNN. </a> \n",
    "There are several examples of genration: Shakespeare texts, Latex formulas, Linux Sourse Code and children names.\n",
    "2. <a href='https://github.com/karpathy/char-rnn'> Repo with char-rnn code </a>\n",
    "3. Cool repo with PyTorch examples: [link](https://github.com/spro/practical-pytorch`)"
   ]
  }
 ],
 "metadata": {
  "anaconda-cloud": {},
  "kernelspec": {
   "display_name": "Python 3 (ipykernel)",
   "language": "python",
   "name": "python3"
  },
  "language_info": {
   "codemirror_mode": {
    "name": "ipython",
    "version": 3
   },
   "file_extension": ".py",
   "mimetype": "text/x-python",
   "name": "python",
   "nbconvert_exporter": "python",
   "pygments_lexer": "ipython3",
   "version": "3.8.3"
  }
 },
 "nbformat": 4,
 "nbformat_minor": 2
}
